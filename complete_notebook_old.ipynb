{
 "cells": [
  {
   "cell_type": "markdown",
   "id": "great-webmaster",
   "metadata": {},
   "source": [
    "# Data Exploration"
   ]
  },
  {
   "cell_type": "code",
   "execution_count": 1,
   "id": "entitled-matter",
   "metadata": {
    "ExecuteTime": {
     "end_time": "2021-04-14T14:09:19.718459Z",
     "start_time": "2021-04-14T14:09:17.793537Z"
    }
   },
   "outputs": [],
   "source": [
    "import matplotlib.pyplot as plt\n",
    "import seaborn as sns\n",
    "import pandas as pd\n",
    "import numpy as np\n",
    "import warnings\n",
    "%matplotlib inline\n",
    "warnings.filterwarnings(\"ignore\")"
   ]
  },
  {
   "cell_type": "markdown",
   "id": "fallen-arrest",
   "metadata": {},
   "source": [
    "load dataset"
   ]
  },
  {
   "cell_type": "code",
   "execution_count": 2,
   "id": "resident-charles",
   "metadata": {
    "ExecuteTime": {
     "end_time": "2021-04-14T14:09:19.745387Z",
     "start_time": "2021-04-14T14:09:19.731424Z"
    }
   },
   "outputs": [],
   "source": [
    "battles = pd.read_csv('dataset/battles.csv')"
   ]
  },
  {
   "cell_type": "markdown",
   "id": "opened-drive",
   "metadata": {},
   "source": [
    "## Preview Dataset\n",
    "melakukan preview dataset untuk melihat sekilas gambaran kolom dan baris data yang ada"
   ]
  },
  {
   "cell_type": "code",
   "execution_count": 3,
   "id": "enhanced-tractor",
   "metadata": {
    "ExecuteTime": {
     "end_time": "2021-04-14T14:09:19.995314Z",
     "start_time": "2021-04-14T14:09:19.748379Z"
    },
    "scrolled": true
   },
   "outputs": [
    {
     "data": {
      "text/html": [
       "<div>\n",
       "<style scoped>\n",
       "    .dataframe tbody tr th:only-of-type {\n",
       "        vertical-align: middle;\n",
       "    }\n",
       "\n",
       "    .dataframe tbody tr th {\n",
       "        vertical-align: top;\n",
       "    }\n",
       "\n",
       "    .dataframe thead th {\n",
       "        text-align: right;\n",
       "    }\n",
       "</style>\n",
       "<table border=\"1\" class=\"dataframe\">\n",
       "  <thead>\n",
       "    <tr style=\"text-align: right;\">\n",
       "      <th></th>\n",
       "      <th>name</th>\n",
       "      <th>year</th>\n",
       "      <th>battle_number</th>\n",
       "      <th>attacker_king</th>\n",
       "      <th>defender_king</th>\n",
       "      <th>attacker_1</th>\n",
       "      <th>attacker_2</th>\n",
       "      <th>attacker_3</th>\n",
       "      <th>attacker_4</th>\n",
       "      <th>defender_1</th>\n",
       "      <th>defender_2</th>\n",
       "      <th>defender_3</th>\n",
       "      <th>defender_4</th>\n",
       "      <th>attacker_outcome</th>\n",
       "      <th>battle_type</th>\n",
       "      <th>major_death</th>\n",
       "      <th>major_capture</th>\n",
       "      <th>attacker_size</th>\n",
       "      <th>defender_size</th>\n",
       "      <th>attacker_commander</th>\n",
       "      <th>defender_commander</th>\n",
       "      <th>summer</th>\n",
       "      <th>location</th>\n",
       "      <th>region</th>\n",
       "      <th>note</th>\n",
       "    </tr>\n",
       "  </thead>\n",
       "  <tbody>\n",
       "    <tr>\n",
       "      <th>0</th>\n",
       "      <td>Battle of the Golden Tooth</td>\n",
       "      <td>298</td>\n",
       "      <td>1</td>\n",
       "      <td>Joffrey/Tommen Baratheon</td>\n",
       "      <td>Robb Stark</td>\n",
       "      <td>Lannister</td>\n",
       "      <td>NaN</td>\n",
       "      <td>NaN</td>\n",
       "      <td>NaN</td>\n",
       "      <td>Tully</td>\n",
       "      <td>NaN</td>\n",
       "      <td>NaN</td>\n",
       "      <td>NaN</td>\n",
       "      <td>win</td>\n",
       "      <td>pitched battle</td>\n",
       "      <td>1.0</td>\n",
       "      <td>0.0</td>\n",
       "      <td>15000.0</td>\n",
       "      <td>4000.0</td>\n",
       "      <td>Jaime Lannister</td>\n",
       "      <td>Clement Piper, Vance</td>\n",
       "      <td>1.0</td>\n",
       "      <td>Golden Tooth</td>\n",
       "      <td>The Westerlands</td>\n",
       "      <td>NaN</td>\n",
       "    </tr>\n",
       "    <tr>\n",
       "      <th>1</th>\n",
       "      <td>Battle at the Mummer's Ford</td>\n",
       "      <td>298</td>\n",
       "      <td>2</td>\n",
       "      <td>Joffrey/Tommen Baratheon</td>\n",
       "      <td>Robb Stark</td>\n",
       "      <td>Lannister</td>\n",
       "      <td>NaN</td>\n",
       "      <td>NaN</td>\n",
       "      <td>NaN</td>\n",
       "      <td>Baratheon</td>\n",
       "      <td>NaN</td>\n",
       "      <td>NaN</td>\n",
       "      <td>NaN</td>\n",
       "      <td>win</td>\n",
       "      <td>ambush</td>\n",
       "      <td>1.0</td>\n",
       "      <td>0.0</td>\n",
       "      <td>NaN</td>\n",
       "      <td>120.0</td>\n",
       "      <td>Gregor Clegane</td>\n",
       "      <td>Beric Dondarrion</td>\n",
       "      <td>1.0</td>\n",
       "      <td>Mummer's Ford</td>\n",
       "      <td>The Riverlands</td>\n",
       "      <td>NaN</td>\n",
       "    </tr>\n",
       "    <tr>\n",
       "      <th>2</th>\n",
       "      <td>Battle of Riverrun</td>\n",
       "      <td>298</td>\n",
       "      <td>3</td>\n",
       "      <td>Joffrey/Tommen Baratheon</td>\n",
       "      <td>Robb Stark</td>\n",
       "      <td>Lannister</td>\n",
       "      <td>NaN</td>\n",
       "      <td>NaN</td>\n",
       "      <td>NaN</td>\n",
       "      <td>Tully</td>\n",
       "      <td>NaN</td>\n",
       "      <td>NaN</td>\n",
       "      <td>NaN</td>\n",
       "      <td>win</td>\n",
       "      <td>pitched battle</td>\n",
       "      <td>0.0</td>\n",
       "      <td>1.0</td>\n",
       "      <td>15000.0</td>\n",
       "      <td>10000.0</td>\n",
       "      <td>Jaime Lannister, Andros Brax</td>\n",
       "      <td>Edmure Tully, Tytos Blackwood</td>\n",
       "      <td>1.0</td>\n",
       "      <td>Riverrun</td>\n",
       "      <td>The Riverlands</td>\n",
       "      <td>NaN</td>\n",
       "    </tr>\n",
       "    <tr>\n",
       "      <th>3</th>\n",
       "      <td>Battle of the Green Fork</td>\n",
       "      <td>298</td>\n",
       "      <td>4</td>\n",
       "      <td>Robb Stark</td>\n",
       "      <td>Joffrey/Tommen Baratheon</td>\n",
       "      <td>Stark</td>\n",
       "      <td>NaN</td>\n",
       "      <td>NaN</td>\n",
       "      <td>NaN</td>\n",
       "      <td>Lannister</td>\n",
       "      <td>NaN</td>\n",
       "      <td>NaN</td>\n",
       "      <td>NaN</td>\n",
       "      <td>loss</td>\n",
       "      <td>pitched battle</td>\n",
       "      <td>1.0</td>\n",
       "      <td>1.0</td>\n",
       "      <td>18000.0</td>\n",
       "      <td>20000.0</td>\n",
       "      <td>Roose Bolton, Wylis Manderly, Medger Cerwyn, H...</td>\n",
       "      <td>Tywin Lannister, Gregor Clegane, Kevan Lannist...</td>\n",
       "      <td>1.0</td>\n",
       "      <td>Green Fork</td>\n",
       "      <td>The Riverlands</td>\n",
       "      <td>NaN</td>\n",
       "    </tr>\n",
       "    <tr>\n",
       "      <th>4</th>\n",
       "      <td>Battle of the Whispering Wood</td>\n",
       "      <td>298</td>\n",
       "      <td>5</td>\n",
       "      <td>Robb Stark</td>\n",
       "      <td>Joffrey/Tommen Baratheon</td>\n",
       "      <td>Stark</td>\n",
       "      <td>Tully</td>\n",
       "      <td>NaN</td>\n",
       "      <td>NaN</td>\n",
       "      <td>Lannister</td>\n",
       "      <td>NaN</td>\n",
       "      <td>NaN</td>\n",
       "      <td>NaN</td>\n",
       "      <td>win</td>\n",
       "      <td>ambush</td>\n",
       "      <td>1.0</td>\n",
       "      <td>1.0</td>\n",
       "      <td>1875.0</td>\n",
       "      <td>6000.0</td>\n",
       "      <td>Robb Stark, Brynden Tully</td>\n",
       "      <td>Jaime Lannister</td>\n",
       "      <td>1.0</td>\n",
       "      <td>Whispering Wood</td>\n",
       "      <td>The Riverlands</td>\n",
       "      <td>NaN</td>\n",
       "    </tr>\n",
       "    <tr>\n",
       "      <th>5</th>\n",
       "      <td>Battle of the Camps</td>\n",
       "      <td>298</td>\n",
       "      <td>6</td>\n",
       "      <td>Robb Stark</td>\n",
       "      <td>Joffrey/Tommen Baratheon</td>\n",
       "      <td>Stark</td>\n",
       "      <td>Tully</td>\n",
       "      <td>NaN</td>\n",
       "      <td>NaN</td>\n",
       "      <td>Lannister</td>\n",
       "      <td>NaN</td>\n",
       "      <td>NaN</td>\n",
       "      <td>NaN</td>\n",
       "      <td>win</td>\n",
       "      <td>ambush</td>\n",
       "      <td>0.0</td>\n",
       "      <td>0.0</td>\n",
       "      <td>6000.0</td>\n",
       "      <td>12625.0</td>\n",
       "      <td>Robb Stark, Tytos Blackwood, Brynden Tully</td>\n",
       "      <td>Lord Andros Brax, Forley Prester</td>\n",
       "      <td>1.0</td>\n",
       "      <td>Riverrun</td>\n",
       "      <td>The Riverlands</td>\n",
       "      <td>NaN</td>\n",
       "    </tr>\n",
       "    <tr>\n",
       "      <th>6</th>\n",
       "      <td>Sack of Darry</td>\n",
       "      <td>298</td>\n",
       "      <td>7</td>\n",
       "      <td>Joffrey/Tommen Baratheon</td>\n",
       "      <td>Robb Stark</td>\n",
       "      <td>Lannister</td>\n",
       "      <td>NaN</td>\n",
       "      <td>NaN</td>\n",
       "      <td>NaN</td>\n",
       "      <td>Darry</td>\n",
       "      <td>NaN</td>\n",
       "      <td>NaN</td>\n",
       "      <td>NaN</td>\n",
       "      <td>win</td>\n",
       "      <td>pitched battle</td>\n",
       "      <td>0.0</td>\n",
       "      <td>0.0</td>\n",
       "      <td>NaN</td>\n",
       "      <td>NaN</td>\n",
       "      <td>Gregor Clegane</td>\n",
       "      <td>Lyman Darry</td>\n",
       "      <td>1.0</td>\n",
       "      <td>Darry</td>\n",
       "      <td>The Riverlands</td>\n",
       "      <td>NaN</td>\n",
       "    </tr>\n",
       "    <tr>\n",
       "      <th>7</th>\n",
       "      <td>Battle of Moat Cailin</td>\n",
       "      <td>299</td>\n",
       "      <td>8</td>\n",
       "      <td>Balon/Euron Greyjoy</td>\n",
       "      <td>Robb Stark</td>\n",
       "      <td>Greyjoy</td>\n",
       "      <td>NaN</td>\n",
       "      <td>NaN</td>\n",
       "      <td>NaN</td>\n",
       "      <td>Stark</td>\n",
       "      <td>NaN</td>\n",
       "      <td>NaN</td>\n",
       "      <td>NaN</td>\n",
       "      <td>win</td>\n",
       "      <td>pitched battle</td>\n",
       "      <td>0.0</td>\n",
       "      <td>0.0</td>\n",
       "      <td>NaN</td>\n",
       "      <td>NaN</td>\n",
       "      <td>Victarion Greyjoy</td>\n",
       "      <td>NaN</td>\n",
       "      <td>1.0</td>\n",
       "      <td>Moat Cailin</td>\n",
       "      <td>The North</td>\n",
       "      <td>NaN</td>\n",
       "    </tr>\n",
       "    <tr>\n",
       "      <th>8</th>\n",
       "      <td>Battle of Deepwood Motte</td>\n",
       "      <td>299</td>\n",
       "      <td>9</td>\n",
       "      <td>Balon/Euron Greyjoy</td>\n",
       "      <td>Robb Stark</td>\n",
       "      <td>Greyjoy</td>\n",
       "      <td>NaN</td>\n",
       "      <td>NaN</td>\n",
       "      <td>NaN</td>\n",
       "      <td>Stark</td>\n",
       "      <td>NaN</td>\n",
       "      <td>NaN</td>\n",
       "      <td>NaN</td>\n",
       "      <td>win</td>\n",
       "      <td>siege</td>\n",
       "      <td>0.0</td>\n",
       "      <td>0.0</td>\n",
       "      <td>1000.0</td>\n",
       "      <td>NaN</td>\n",
       "      <td>Asha Greyjoy</td>\n",
       "      <td>NaN</td>\n",
       "      <td>1.0</td>\n",
       "      <td>Deepwood Motte</td>\n",
       "      <td>The North</td>\n",
       "      <td>NaN</td>\n",
       "    </tr>\n",
       "    <tr>\n",
       "      <th>9</th>\n",
       "      <td>Battle of the Stony Shore</td>\n",
       "      <td>299</td>\n",
       "      <td>10</td>\n",
       "      <td>Balon/Euron Greyjoy</td>\n",
       "      <td>Robb Stark</td>\n",
       "      <td>Greyjoy</td>\n",
       "      <td>NaN</td>\n",
       "      <td>NaN</td>\n",
       "      <td>NaN</td>\n",
       "      <td>Stark</td>\n",
       "      <td>NaN</td>\n",
       "      <td>NaN</td>\n",
       "      <td>NaN</td>\n",
       "      <td>win</td>\n",
       "      <td>ambush</td>\n",
       "      <td>0.0</td>\n",
       "      <td>0.0</td>\n",
       "      <td>264.0</td>\n",
       "      <td>NaN</td>\n",
       "      <td>Theon Greyjoy</td>\n",
       "      <td>NaN</td>\n",
       "      <td>1.0</td>\n",
       "      <td>Stony Shore</td>\n",
       "      <td>The North</td>\n",
       "      <td>Greyjoy's troop number based on the Battle of ...</td>\n",
       "    </tr>\n",
       "    <tr>\n",
       "      <th>10</th>\n",
       "      <td>Battle of Torrhen's Square</td>\n",
       "      <td>299</td>\n",
       "      <td>11</td>\n",
       "      <td>Robb Stark</td>\n",
       "      <td>Balon/Euron Greyjoy</td>\n",
       "      <td>Stark</td>\n",
       "      <td>NaN</td>\n",
       "      <td>NaN</td>\n",
       "      <td>NaN</td>\n",
       "      <td>Greyjoy</td>\n",
       "      <td>NaN</td>\n",
       "      <td>NaN</td>\n",
       "      <td>NaN</td>\n",
       "      <td>win</td>\n",
       "      <td>pitched battle</td>\n",
       "      <td>0.0</td>\n",
       "      <td>0.0</td>\n",
       "      <td>244.0</td>\n",
       "      <td>900.0</td>\n",
       "      <td>Rodrik Cassel, Cley Cerwyn</td>\n",
       "      <td>Dagmer Cleftjaw</td>\n",
       "      <td>1.0</td>\n",
       "      <td>Torrhen's Square</td>\n",
       "      <td>The North</td>\n",
       "      <td>Greyjoy's troop number comes from the 264 esti...</td>\n",
       "    </tr>\n",
       "    <tr>\n",
       "      <th>11</th>\n",
       "      <td>Battle of Winterfell</td>\n",
       "      <td>299</td>\n",
       "      <td>12</td>\n",
       "      <td>Balon/Euron Greyjoy</td>\n",
       "      <td>Robb Stark</td>\n",
       "      <td>Greyjoy</td>\n",
       "      <td>NaN</td>\n",
       "      <td>NaN</td>\n",
       "      <td>NaN</td>\n",
       "      <td>Stark</td>\n",
       "      <td>NaN</td>\n",
       "      <td>NaN</td>\n",
       "      <td>NaN</td>\n",
       "      <td>win</td>\n",
       "      <td>ambush</td>\n",
       "      <td>0.0</td>\n",
       "      <td>1.0</td>\n",
       "      <td>20.0</td>\n",
       "      <td>NaN</td>\n",
       "      <td>Theon Greyjoy</td>\n",
       "      <td>Bran Stark</td>\n",
       "      <td>1.0</td>\n",
       "      <td>Winterfell</td>\n",
       "      <td>The North</td>\n",
       "      <td>It isn't mentioned how many Stark men are left...</td>\n",
       "    </tr>\n",
       "    <tr>\n",
       "      <th>12</th>\n",
       "      <td>Sack of Torrhen's Square</td>\n",
       "      <td>299</td>\n",
       "      <td>13</td>\n",
       "      <td>Balon/Euron Greyjoy</td>\n",
       "      <td>Balon/Euron Greyjoy</td>\n",
       "      <td>Greyjoy</td>\n",
       "      <td>NaN</td>\n",
       "      <td>NaN</td>\n",
       "      <td>NaN</td>\n",
       "      <td>Stark</td>\n",
       "      <td>NaN</td>\n",
       "      <td>NaN</td>\n",
       "      <td>NaN</td>\n",
       "      <td>win</td>\n",
       "      <td>siege</td>\n",
       "      <td>0.0</td>\n",
       "      <td>1.0</td>\n",
       "      <td>NaN</td>\n",
       "      <td>NaN</td>\n",
       "      <td>Dagmer Cleftjaw</td>\n",
       "      <td>NaN</td>\n",
       "      <td>1.0</td>\n",
       "      <td>Torrhen's Square</td>\n",
       "      <td>The North</td>\n",
       "      <td>NaN</td>\n",
       "    </tr>\n",
       "    <tr>\n",
       "      <th>13</th>\n",
       "      <td>Sack of Winterfell</td>\n",
       "      <td>299</td>\n",
       "      <td>14</td>\n",
       "      <td>Joffrey/Tommen Baratheon</td>\n",
       "      <td>Robb Stark</td>\n",
       "      <td>Bolton</td>\n",
       "      <td>Greyjoy</td>\n",
       "      <td>NaN</td>\n",
       "      <td>NaN</td>\n",
       "      <td>Stark</td>\n",
       "      <td>NaN</td>\n",
       "      <td>NaN</td>\n",
       "      <td>NaN</td>\n",
       "      <td>win</td>\n",
       "      <td>ambush</td>\n",
       "      <td>1.0</td>\n",
       "      <td>0.0</td>\n",
       "      <td>618.0</td>\n",
       "      <td>2000.0</td>\n",
       "      <td>Ramsay Snow, Theon Greyjoy</td>\n",
       "      <td>Rodrik Cassel, Cley Cerwyn, Leobald Tallhart</td>\n",
       "      <td>1.0</td>\n",
       "      <td>Winterfell</td>\n",
       "      <td>The North</td>\n",
       "      <td>Since House Bolton betrays the Starks for Hous...</td>\n",
       "    </tr>\n",
       "    <tr>\n",
       "      <th>14</th>\n",
       "      <td>Battle of Oxcross</td>\n",
       "      <td>299</td>\n",
       "      <td>15</td>\n",
       "      <td>Robb Stark</td>\n",
       "      <td>Joffrey/Tommen Baratheon</td>\n",
       "      <td>Stark</td>\n",
       "      <td>Tully</td>\n",
       "      <td>NaN</td>\n",
       "      <td>NaN</td>\n",
       "      <td>Lannister</td>\n",
       "      <td>NaN</td>\n",
       "      <td>NaN</td>\n",
       "      <td>NaN</td>\n",
       "      <td>win</td>\n",
       "      <td>ambush</td>\n",
       "      <td>1.0</td>\n",
       "      <td>1.0</td>\n",
       "      <td>6000.0</td>\n",
       "      <td>10000.0</td>\n",
       "      <td>Robb Stark, Brynden Tully</td>\n",
       "      <td>Stafford Lannister, Roland Crakehall, Antario ...</td>\n",
       "      <td>1.0</td>\n",
       "      <td>Oxcross</td>\n",
       "      <td>The Westerlands</td>\n",
       "      <td>NaN</td>\n",
       "    </tr>\n",
       "    <tr>\n",
       "      <th>15</th>\n",
       "      <td>Siege of Storm's End</td>\n",
       "      <td>299</td>\n",
       "      <td>16</td>\n",
       "      <td>Stannis Baratheon</td>\n",
       "      <td>Renly Baratheon</td>\n",
       "      <td>Baratheon</td>\n",
       "      <td>NaN</td>\n",
       "      <td>NaN</td>\n",
       "      <td>NaN</td>\n",
       "      <td>Baratheon</td>\n",
       "      <td>NaN</td>\n",
       "      <td>NaN</td>\n",
       "      <td>NaN</td>\n",
       "      <td>win</td>\n",
       "      <td>siege</td>\n",
       "      <td>1.0</td>\n",
       "      <td>0.0</td>\n",
       "      <td>5000.0</td>\n",
       "      <td>20000.0</td>\n",
       "      <td>Stannis Baratheon, Davos Seaworth</td>\n",
       "      <td>Renly Baratheon, Cortnay Penrose, Loras Tyrell...</td>\n",
       "      <td>1.0</td>\n",
       "      <td>Storm's End</td>\n",
       "      <td>The Stormlands</td>\n",
       "      <td>NaN</td>\n",
       "    </tr>\n",
       "    <tr>\n",
       "      <th>16</th>\n",
       "      <td>Battle of the Fords</td>\n",
       "      <td>299</td>\n",
       "      <td>17</td>\n",
       "      <td>Joffrey/Tommen Baratheon</td>\n",
       "      <td>Robb Stark</td>\n",
       "      <td>Lannister</td>\n",
       "      <td>NaN</td>\n",
       "      <td>NaN</td>\n",
       "      <td>NaN</td>\n",
       "      <td>Tully</td>\n",
       "      <td>NaN</td>\n",
       "      <td>NaN</td>\n",
       "      <td>NaN</td>\n",
       "      <td>loss</td>\n",
       "      <td>pitched battle</td>\n",
       "      <td>0.0</td>\n",
       "      <td>0.0</td>\n",
       "      <td>20000.0</td>\n",
       "      <td>10000.0</td>\n",
       "      <td>Tywin Lannister, Flement Brax, Gregor Clegane,...</td>\n",
       "      <td>Edmure Tully, Jason Mallister, Karyl Vance</td>\n",
       "      <td>1.0</td>\n",
       "      <td>Red Fork</td>\n",
       "      <td>The Riverlands</td>\n",
       "      <td>NaN</td>\n",
       "    </tr>\n",
       "    <tr>\n",
       "      <th>17</th>\n",
       "      <td>Sack of Harrenhal</td>\n",
       "      <td>299</td>\n",
       "      <td>18</td>\n",
       "      <td>Robb Stark</td>\n",
       "      <td>Joffrey/Tommen Baratheon</td>\n",
       "      <td>Stark</td>\n",
       "      <td>NaN</td>\n",
       "      <td>NaN</td>\n",
       "      <td>NaN</td>\n",
       "      <td>Lannister</td>\n",
       "      <td>NaN</td>\n",
       "      <td>NaN</td>\n",
       "      <td>NaN</td>\n",
       "      <td>win</td>\n",
       "      <td>ambush</td>\n",
       "      <td>1.0</td>\n",
       "      <td>0.0</td>\n",
       "      <td>100.0</td>\n",
       "      <td>100.0</td>\n",
       "      <td>Roose Bolton, Vargo Hoat, Robett Glover</td>\n",
       "      <td>Amory Lorch</td>\n",
       "      <td>1.0</td>\n",
       "      <td>Harrenhal</td>\n",
       "      <td>The Riverlands</td>\n",
       "      <td>NaN</td>\n",
       "    </tr>\n",
       "    <tr>\n",
       "      <th>18</th>\n",
       "      <td>Battle of the Crag</td>\n",
       "      <td>299</td>\n",
       "      <td>19</td>\n",
       "      <td>Robb Stark</td>\n",
       "      <td>Joffrey/Tommen Baratheon</td>\n",
       "      <td>Stark</td>\n",
       "      <td>NaN</td>\n",
       "      <td>NaN</td>\n",
       "      <td>NaN</td>\n",
       "      <td>Lannister</td>\n",
       "      <td>NaN</td>\n",
       "      <td>NaN</td>\n",
       "      <td>NaN</td>\n",
       "      <td>win</td>\n",
       "      <td>ambush</td>\n",
       "      <td>0.0</td>\n",
       "      <td>0.0</td>\n",
       "      <td>6000.0</td>\n",
       "      <td>NaN</td>\n",
       "      <td>Robb Stark, Smalljon Umber, Black Walder Frey</td>\n",
       "      <td>Rolph Spicer</td>\n",
       "      <td>1.0</td>\n",
       "      <td>Crag</td>\n",
       "      <td>The Westerlands</td>\n",
       "      <td>NaN</td>\n",
       "    </tr>\n",
       "    <tr>\n",
       "      <th>19</th>\n",
       "      <td>Battle of the Blackwater</td>\n",
       "      <td>299</td>\n",
       "      <td>20</td>\n",
       "      <td>Stannis Baratheon</td>\n",
       "      <td>Joffrey/Tommen Baratheon</td>\n",
       "      <td>Baratheon</td>\n",
       "      <td>NaN</td>\n",
       "      <td>NaN</td>\n",
       "      <td>NaN</td>\n",
       "      <td>Lannister</td>\n",
       "      <td>NaN</td>\n",
       "      <td>NaN</td>\n",
       "      <td>NaN</td>\n",
       "      <td>loss</td>\n",
       "      <td>pitched battle</td>\n",
       "      <td>1.0</td>\n",
       "      <td>1.0</td>\n",
       "      <td>21000.0</td>\n",
       "      <td>7250.0</td>\n",
       "      <td>Stannis Baratheon, Imry Florent, Guyard Morrig...</td>\n",
       "      <td>Tyrion Lannister, Jacelyn Bywater, Sandor Cleg...</td>\n",
       "      <td>1.0</td>\n",
       "      <td>King's Landing</td>\n",
       "      <td>The Crownlands</td>\n",
       "      <td>NaN</td>\n",
       "    </tr>\n",
       "    <tr>\n",
       "      <th>20</th>\n",
       "      <td>Siege of Darry</td>\n",
       "      <td>299</td>\n",
       "      <td>21</td>\n",
       "      <td>Robb Stark</td>\n",
       "      <td>Joffrey/Tommen Baratheon</td>\n",
       "      <td>Darry</td>\n",
       "      <td>NaN</td>\n",
       "      <td>NaN</td>\n",
       "      <td>NaN</td>\n",
       "      <td>Lannister</td>\n",
       "      <td>NaN</td>\n",
       "      <td>NaN</td>\n",
       "      <td>NaN</td>\n",
       "      <td>win</td>\n",
       "      <td>siege</td>\n",
       "      <td>0.0</td>\n",
       "      <td>0.0</td>\n",
       "      <td>NaN</td>\n",
       "      <td>NaN</td>\n",
       "      <td>Helman Tallhart</td>\n",
       "      <td>NaN</td>\n",
       "      <td>1.0</td>\n",
       "      <td>Darry</td>\n",
       "      <td>The Riverlands</td>\n",
       "      <td>NaN</td>\n",
       "    </tr>\n",
       "    <tr>\n",
       "      <th>21</th>\n",
       "      <td>Battle of Duskendale</td>\n",
       "      <td>299</td>\n",
       "      <td>22</td>\n",
       "      <td>Robb Stark</td>\n",
       "      <td>Joffrey/Tommen Baratheon</td>\n",
       "      <td>Stark</td>\n",
       "      <td>NaN</td>\n",
       "      <td>NaN</td>\n",
       "      <td>NaN</td>\n",
       "      <td>Lannister</td>\n",
       "      <td>NaN</td>\n",
       "      <td>NaN</td>\n",
       "      <td>NaN</td>\n",
       "      <td>loss</td>\n",
       "      <td>pitched battle</td>\n",
       "      <td>1.0</td>\n",
       "      <td>0.0</td>\n",
       "      <td>3000.0</td>\n",
       "      <td>NaN</td>\n",
       "      <td>Robertt Glover, Helman Tallhart</td>\n",
       "      <td>Randyll Tarly, Gregor Clegane</td>\n",
       "      <td>1.0</td>\n",
       "      <td>Duskendale</td>\n",
       "      <td>The Crownlands</td>\n",
       "      <td>NaN</td>\n",
       "    </tr>\n",
       "    <tr>\n",
       "      <th>22</th>\n",
       "      <td>Battle of the Burning Septry</td>\n",
       "      <td>299</td>\n",
       "      <td>23</td>\n",
       "      <td>NaN</td>\n",
       "      <td>NaN</td>\n",
       "      <td>Brotherhood without Banners</td>\n",
       "      <td>NaN</td>\n",
       "      <td>NaN</td>\n",
       "      <td>NaN</td>\n",
       "      <td>Brave Companions</td>\n",
       "      <td>NaN</td>\n",
       "      <td>NaN</td>\n",
       "      <td>NaN</td>\n",
       "      <td>win</td>\n",
       "      <td>pitched battle</td>\n",
       "      <td>0.0</td>\n",
       "      <td>0.0</td>\n",
       "      <td>NaN</td>\n",
       "      <td>NaN</td>\n",
       "      <td>NaN</td>\n",
       "      <td>NaN</td>\n",
       "      <td>1.0</td>\n",
       "      <td>NaN</td>\n",
       "      <td>The Riverlands</td>\n",
       "      <td>NaN</td>\n",
       "    </tr>\n",
       "    <tr>\n",
       "      <th>23</th>\n",
       "      <td>Battle of the Ruby Ford</td>\n",
       "      <td>299</td>\n",
       "      <td>24</td>\n",
       "      <td>Joffrey/Tommen Baratheon</td>\n",
       "      <td>Robb Stark</td>\n",
       "      <td>Lannister</td>\n",
       "      <td>NaN</td>\n",
       "      <td>NaN</td>\n",
       "      <td>NaN</td>\n",
       "      <td>Stark</td>\n",
       "      <td>NaN</td>\n",
       "      <td>NaN</td>\n",
       "      <td>NaN</td>\n",
       "      <td>win</td>\n",
       "      <td>pitched battle</td>\n",
       "      <td>0.0</td>\n",
       "      <td>0.0</td>\n",
       "      <td>NaN</td>\n",
       "      <td>6000.0</td>\n",
       "      <td>Gregor Clegane</td>\n",
       "      <td>Roose Bolton, Wylis Manderly</td>\n",
       "      <td>NaN</td>\n",
       "      <td>Ruby Ford</td>\n",
       "      <td>The Riverlands</td>\n",
       "      <td>NaN</td>\n",
       "    </tr>\n",
       "    <tr>\n",
       "      <th>24</th>\n",
       "      <td>Retaking of Harrenhal</td>\n",
       "      <td>299</td>\n",
       "      <td>25</td>\n",
       "      <td>Joffrey/Tommen Baratheon</td>\n",
       "      <td>NaN</td>\n",
       "      <td>Lannister</td>\n",
       "      <td>NaN</td>\n",
       "      <td>NaN</td>\n",
       "      <td>NaN</td>\n",
       "      <td>Brave Companions</td>\n",
       "      <td>NaN</td>\n",
       "      <td>NaN</td>\n",
       "      <td>NaN</td>\n",
       "      <td>win</td>\n",
       "      <td>pitched battle</td>\n",
       "      <td>1.0</td>\n",
       "      <td>0.0</td>\n",
       "      <td>NaN</td>\n",
       "      <td>NaN</td>\n",
       "      <td>Gregor Clegane</td>\n",
       "      <td>Vargo Hoat</td>\n",
       "      <td>1.0</td>\n",
       "      <td>Harrenhal</td>\n",
       "      <td>The Riverlands</td>\n",
       "      <td>NaN</td>\n",
       "    </tr>\n",
       "    <tr>\n",
       "      <th>25</th>\n",
       "      <td>The Red Wedding</td>\n",
       "      <td>299</td>\n",
       "      <td>26</td>\n",
       "      <td>Joffrey/Tommen Baratheon</td>\n",
       "      <td>Robb Stark</td>\n",
       "      <td>Frey</td>\n",
       "      <td>Bolton</td>\n",
       "      <td>NaN</td>\n",
       "      <td>NaN</td>\n",
       "      <td>Stark</td>\n",
       "      <td>NaN</td>\n",
       "      <td>NaN</td>\n",
       "      <td>NaN</td>\n",
       "      <td>win</td>\n",
       "      <td>ambush</td>\n",
       "      <td>1.0</td>\n",
       "      <td>1.0</td>\n",
       "      <td>3500.0</td>\n",
       "      <td>3500.0</td>\n",
       "      <td>Walder Frey, Roose Bolton, Walder Rivers</td>\n",
       "      <td>Robb Stark</td>\n",
       "      <td>1.0</td>\n",
       "      <td>The Twins</td>\n",
       "      <td>The Riverlands</td>\n",
       "      <td>This observation refers to the battle against ...</td>\n",
       "    </tr>\n",
       "    <tr>\n",
       "      <th>26</th>\n",
       "      <td>Siege of Seagard</td>\n",
       "      <td>299</td>\n",
       "      <td>27</td>\n",
       "      <td>Robb Stark</td>\n",
       "      <td>Joffrey/Tommen Baratheon</td>\n",
       "      <td>Frey</td>\n",
       "      <td>NaN</td>\n",
       "      <td>NaN</td>\n",
       "      <td>NaN</td>\n",
       "      <td>Mallister</td>\n",
       "      <td>NaN</td>\n",
       "      <td>NaN</td>\n",
       "      <td>NaN</td>\n",
       "      <td>win</td>\n",
       "      <td>siege</td>\n",
       "      <td>0.0</td>\n",
       "      <td>1.0</td>\n",
       "      <td>NaN</td>\n",
       "      <td>NaN</td>\n",
       "      <td>Walder Frey</td>\n",
       "      <td>Jason Mallister</td>\n",
       "      <td>1.0</td>\n",
       "      <td>Seagard</td>\n",
       "      <td>The Riverlands</td>\n",
       "      <td>NaN</td>\n",
       "    </tr>\n",
       "    <tr>\n",
       "      <th>27</th>\n",
       "      <td>Battle of Castle Black</td>\n",
       "      <td>300</td>\n",
       "      <td>28</td>\n",
       "      <td>Stannis Baratheon</td>\n",
       "      <td>Mance Rayder</td>\n",
       "      <td>Free folk</td>\n",
       "      <td>Thenns</td>\n",
       "      <td>Giants</td>\n",
       "      <td>NaN</td>\n",
       "      <td>Night's Watch</td>\n",
       "      <td>Baratheon</td>\n",
       "      <td>NaN</td>\n",
       "      <td>NaN</td>\n",
       "      <td>loss</td>\n",
       "      <td>siege</td>\n",
       "      <td>1.0</td>\n",
       "      <td>1.0</td>\n",
       "      <td>100000.0</td>\n",
       "      <td>1240.0</td>\n",
       "      <td>Mance Rayder, Tormund Giantsbane, Harma Dogshe...</td>\n",
       "      <td>Stannis Baratheon, Jon Snow, Donal Noye, Cotte...</td>\n",
       "      <td>0.0</td>\n",
       "      <td>Castle Black</td>\n",
       "      <td>Beyond the Wall</td>\n",
       "      <td>NaN</td>\n",
       "    </tr>\n",
       "    <tr>\n",
       "      <th>28</th>\n",
       "      <td>Fall of Moat Cailin</td>\n",
       "      <td>300</td>\n",
       "      <td>29</td>\n",
       "      <td>Joffrey/Tommen Baratheon</td>\n",
       "      <td>Balon/Euron Greyjoy</td>\n",
       "      <td>Bolton</td>\n",
       "      <td>NaN</td>\n",
       "      <td>NaN</td>\n",
       "      <td>NaN</td>\n",
       "      <td>Greyjoy</td>\n",
       "      <td>NaN</td>\n",
       "      <td>NaN</td>\n",
       "      <td>NaN</td>\n",
       "      <td>win</td>\n",
       "      <td>siege</td>\n",
       "      <td>0.0</td>\n",
       "      <td>0.0</td>\n",
       "      <td>NaN</td>\n",
       "      <td>NaN</td>\n",
       "      <td>Ramsey Bolton</td>\n",
       "      <td>NaN</td>\n",
       "      <td>0.0</td>\n",
       "      <td>Moat Cailin</td>\n",
       "      <td>The North</td>\n",
       "      <td>NaN</td>\n",
       "    </tr>\n",
       "    <tr>\n",
       "      <th>29</th>\n",
       "      <td>Sack of Saltpans</td>\n",
       "      <td>300</td>\n",
       "      <td>30</td>\n",
       "      <td>NaN</td>\n",
       "      <td>NaN</td>\n",
       "      <td>Brave Companions</td>\n",
       "      <td>NaN</td>\n",
       "      <td>NaN</td>\n",
       "      <td>NaN</td>\n",
       "      <td>NaN</td>\n",
       "      <td>NaN</td>\n",
       "      <td>NaN</td>\n",
       "      <td>NaN</td>\n",
       "      <td>win</td>\n",
       "      <td>razing</td>\n",
       "      <td>0.0</td>\n",
       "      <td>0.0</td>\n",
       "      <td>NaN</td>\n",
       "      <td>NaN</td>\n",
       "      <td>Rorge</td>\n",
       "      <td>NaN</td>\n",
       "      <td>0.0</td>\n",
       "      <td>Saltpans</td>\n",
       "      <td>The Riverlands</td>\n",
       "      <td>NaN</td>\n",
       "    </tr>\n",
       "    <tr>\n",
       "      <th>30</th>\n",
       "      <td>Retaking of Deepwood Motte</td>\n",
       "      <td>300</td>\n",
       "      <td>31</td>\n",
       "      <td>Stannis Baratheon</td>\n",
       "      <td>Balon/Euron Greyjoy</td>\n",
       "      <td>Baratheon</td>\n",
       "      <td>Karstark</td>\n",
       "      <td>Mormont</td>\n",
       "      <td>Glover</td>\n",
       "      <td>Greyjoy</td>\n",
       "      <td>NaN</td>\n",
       "      <td>NaN</td>\n",
       "      <td>NaN</td>\n",
       "      <td>win</td>\n",
       "      <td>pitched battle</td>\n",
       "      <td>0.0</td>\n",
       "      <td>0.0</td>\n",
       "      <td>4500.0</td>\n",
       "      <td>200.0</td>\n",
       "      <td>Stannis Baratheon, Alysane Mormot</td>\n",
       "      <td>Asha Greyjoy</td>\n",
       "      <td>0.0</td>\n",
       "      <td>Deepwood Motte</td>\n",
       "      <td>The North</td>\n",
       "      <td>NaN</td>\n",
       "    </tr>\n",
       "    <tr>\n",
       "      <th>31</th>\n",
       "      <td>Battle of the Shield Islands</td>\n",
       "      <td>300</td>\n",
       "      <td>32</td>\n",
       "      <td>Balon/Euron Greyjoy</td>\n",
       "      <td>Joffrey/Tommen Baratheon</td>\n",
       "      <td>Greyjoy</td>\n",
       "      <td>NaN</td>\n",
       "      <td>NaN</td>\n",
       "      <td>NaN</td>\n",
       "      <td>Tyrell</td>\n",
       "      <td>NaN</td>\n",
       "      <td>NaN</td>\n",
       "      <td>NaN</td>\n",
       "      <td>win</td>\n",
       "      <td>pitched battle</td>\n",
       "      <td>0.0</td>\n",
       "      <td>0.0</td>\n",
       "      <td>NaN</td>\n",
       "      <td>NaN</td>\n",
       "      <td>Euron Greyjoy, Victarion Greyjoy</td>\n",
       "      <td>NaN</td>\n",
       "      <td>0.0</td>\n",
       "      <td>Shield Islands</td>\n",
       "      <td>The Reach</td>\n",
       "      <td>NaN</td>\n",
       "    </tr>\n",
       "    <tr>\n",
       "      <th>32</th>\n",
       "      <td>Invasion of Ryamsport, Vinetown, and Starfish ...</td>\n",
       "      <td>300</td>\n",
       "      <td>33</td>\n",
       "      <td>Balon/Euron Greyjoy</td>\n",
       "      <td>Joffrey/Tommen Baratheon</td>\n",
       "      <td>Greyjoy</td>\n",
       "      <td>NaN</td>\n",
       "      <td>NaN</td>\n",
       "      <td>NaN</td>\n",
       "      <td>Tyrell</td>\n",
       "      <td>NaN</td>\n",
       "      <td>NaN</td>\n",
       "      <td>NaN</td>\n",
       "      <td>win</td>\n",
       "      <td>razing</td>\n",
       "      <td>0.0</td>\n",
       "      <td>0.0</td>\n",
       "      <td>NaN</td>\n",
       "      <td>NaN</td>\n",
       "      <td>Euron Greyjoy, Victarion Greyjoy</td>\n",
       "      <td>NaN</td>\n",
       "      <td>0.0</td>\n",
       "      <td>Ryamsport, Vinetown, Starfish Harbor</td>\n",
       "      <td>The Reach</td>\n",
       "      <td>NaN</td>\n",
       "    </tr>\n",
       "    <tr>\n",
       "      <th>33</th>\n",
       "      <td>Second Seige of Storm's End</td>\n",
       "      <td>300</td>\n",
       "      <td>34</td>\n",
       "      <td>Joffrey/Tommen Baratheon</td>\n",
       "      <td>Stannis Baratheon</td>\n",
       "      <td>Baratheon</td>\n",
       "      <td>NaN</td>\n",
       "      <td>NaN</td>\n",
       "      <td>NaN</td>\n",
       "      <td>Baratheon</td>\n",
       "      <td>NaN</td>\n",
       "      <td>NaN</td>\n",
       "      <td>NaN</td>\n",
       "      <td>win</td>\n",
       "      <td>siege</td>\n",
       "      <td>0.0</td>\n",
       "      <td>0.0</td>\n",
       "      <td>NaN</td>\n",
       "      <td>200.0</td>\n",
       "      <td>Mace Tyrell, Mathis Rowan</td>\n",
       "      <td>Gilbert Farring</td>\n",
       "      <td>0.0</td>\n",
       "      <td>Storm's End</td>\n",
       "      <td>The Stormlands</td>\n",
       "      <td>NaN</td>\n",
       "    </tr>\n",
       "    <tr>\n",
       "      <th>34</th>\n",
       "      <td>Siege of Dragonstone</td>\n",
       "      <td>300</td>\n",
       "      <td>35</td>\n",
       "      <td>Joffrey/Tommen Baratheon</td>\n",
       "      <td>Stannis Baratheon</td>\n",
       "      <td>Baratheon</td>\n",
       "      <td>NaN</td>\n",
       "      <td>NaN</td>\n",
       "      <td>NaN</td>\n",
       "      <td>Baratheon</td>\n",
       "      <td>NaN</td>\n",
       "      <td>NaN</td>\n",
       "      <td>NaN</td>\n",
       "      <td>win</td>\n",
       "      <td>siege</td>\n",
       "      <td>0.0</td>\n",
       "      <td>0.0</td>\n",
       "      <td>2000.0</td>\n",
       "      <td>NaN</td>\n",
       "      <td>Loras Tyrell, Raxter Redwyne</td>\n",
       "      <td>Rolland Storm</td>\n",
       "      <td>0.0</td>\n",
       "      <td>Dragonstone</td>\n",
       "      <td>The Stormlands</td>\n",
       "      <td>NaN</td>\n",
       "    </tr>\n",
       "    <tr>\n",
       "      <th>35</th>\n",
       "      <td>Siege of Riverrun</td>\n",
       "      <td>300</td>\n",
       "      <td>36</td>\n",
       "      <td>Joffrey/Tommen Baratheon</td>\n",
       "      <td>Robb Stark</td>\n",
       "      <td>Lannister</td>\n",
       "      <td>Frey</td>\n",
       "      <td>NaN</td>\n",
       "      <td>NaN</td>\n",
       "      <td>Tully</td>\n",
       "      <td>NaN</td>\n",
       "      <td>NaN</td>\n",
       "      <td>NaN</td>\n",
       "      <td>win</td>\n",
       "      <td>siege</td>\n",
       "      <td>0.0</td>\n",
       "      <td>0.0</td>\n",
       "      <td>3000.0</td>\n",
       "      <td>NaN</td>\n",
       "      <td>Daven Lannister, Ryman Fey, Jaime Lannister</td>\n",
       "      <td>Brynden Tully</td>\n",
       "      <td>0.0</td>\n",
       "      <td>Riverrun</td>\n",
       "      <td>The Riverlands</td>\n",
       "      <td>NaN</td>\n",
       "    </tr>\n",
       "    <tr>\n",
       "      <th>36</th>\n",
       "      <td>Siege of Raventree</td>\n",
       "      <td>300</td>\n",
       "      <td>37</td>\n",
       "      <td>Joffrey/Tommen Baratheon</td>\n",
       "      <td>Robb Stark</td>\n",
       "      <td>Bracken</td>\n",
       "      <td>Lannister</td>\n",
       "      <td>NaN</td>\n",
       "      <td>NaN</td>\n",
       "      <td>Blackwood</td>\n",
       "      <td>NaN</td>\n",
       "      <td>NaN</td>\n",
       "      <td>NaN</td>\n",
       "      <td>win</td>\n",
       "      <td>siege</td>\n",
       "      <td>0.0</td>\n",
       "      <td>1.0</td>\n",
       "      <td>1500.0</td>\n",
       "      <td>NaN</td>\n",
       "      <td>Jonos Bracken, Jaime Lannister</td>\n",
       "      <td>Tytos Blackwood</td>\n",
       "      <td>0.0</td>\n",
       "      <td>Raventree</td>\n",
       "      <td>The Riverlands</td>\n",
       "      <td>NaN</td>\n",
       "    </tr>\n",
       "    <tr>\n",
       "      <th>37</th>\n",
       "      <td>Siege of Winterfell</td>\n",
       "      <td>300</td>\n",
       "      <td>38</td>\n",
       "      <td>Stannis Baratheon</td>\n",
       "      <td>Joffrey/Tommen Baratheon</td>\n",
       "      <td>Baratheon</td>\n",
       "      <td>Karstark</td>\n",
       "      <td>Mormont</td>\n",
       "      <td>Glover</td>\n",
       "      <td>Bolton</td>\n",
       "      <td>Frey</td>\n",
       "      <td>NaN</td>\n",
       "      <td>NaN</td>\n",
       "      <td>NaN</td>\n",
       "      <td>NaN</td>\n",
       "      <td>NaN</td>\n",
       "      <td>NaN</td>\n",
       "      <td>5000.0</td>\n",
       "      <td>8000.0</td>\n",
       "      <td>Stannis Baratheon</td>\n",
       "      <td>Roose Bolton</td>\n",
       "      <td>0.0</td>\n",
       "      <td>Winterfell</td>\n",
       "      <td>The North</td>\n",
       "      <td>NaN</td>\n",
       "    </tr>\n",
       "  </tbody>\n",
       "</table>\n",
       "</div>"
      ],
      "text/plain": [
       "                                                 name  year  battle_number  \\\n",
       "0                          Battle of the Golden Tooth   298              1   \n",
       "1                         Battle at the Mummer's Ford   298              2   \n",
       "2                                  Battle of Riverrun   298              3   \n",
       "3                            Battle of the Green Fork   298              4   \n",
       "4                       Battle of the Whispering Wood   298              5   \n",
       "5                                 Battle of the Camps   298              6   \n",
       "6                                       Sack of Darry   298              7   \n",
       "7                               Battle of Moat Cailin   299              8   \n",
       "8                            Battle of Deepwood Motte   299              9   \n",
       "9                           Battle of the Stony Shore   299             10   \n",
       "10                         Battle of Torrhen's Square   299             11   \n",
       "11                               Battle of Winterfell   299             12   \n",
       "12                           Sack of Torrhen's Square   299             13   \n",
       "13                                 Sack of Winterfell   299             14   \n",
       "14                                  Battle of Oxcross   299             15   \n",
       "15                               Siege of Storm's End   299             16   \n",
       "16                                Battle of the Fords   299             17   \n",
       "17                                  Sack of Harrenhal   299             18   \n",
       "18                                 Battle of the Crag   299             19   \n",
       "19                           Battle of the Blackwater   299             20   \n",
       "20                                     Siege of Darry   299             21   \n",
       "21                               Battle of Duskendale   299             22   \n",
       "22                       Battle of the Burning Septry   299             23   \n",
       "23                            Battle of the Ruby Ford   299             24   \n",
       "24                              Retaking of Harrenhal   299             25   \n",
       "25                                    The Red Wedding   299             26   \n",
       "26                                   Siege of Seagard   299             27   \n",
       "27                             Battle of Castle Black   300             28   \n",
       "28                                Fall of Moat Cailin   300             29   \n",
       "29                                   Sack of Saltpans   300             30   \n",
       "30                         Retaking of Deepwood Motte   300             31   \n",
       "31                       Battle of the Shield Islands   300             32   \n",
       "32  Invasion of Ryamsport, Vinetown, and Starfish ...   300             33   \n",
       "33                        Second Seige of Storm's End   300             34   \n",
       "34                               Siege of Dragonstone   300             35   \n",
       "35                                  Siege of Riverrun   300             36   \n",
       "36                                 Siege of Raventree   300             37   \n",
       "37                                Siege of Winterfell   300             38   \n",
       "\n",
       "               attacker_king             defender_king  \\\n",
       "0   Joffrey/Tommen Baratheon                Robb Stark   \n",
       "1   Joffrey/Tommen Baratheon                Robb Stark   \n",
       "2   Joffrey/Tommen Baratheon                Robb Stark   \n",
       "3                 Robb Stark  Joffrey/Tommen Baratheon   \n",
       "4                 Robb Stark  Joffrey/Tommen Baratheon   \n",
       "5                 Robb Stark  Joffrey/Tommen Baratheon   \n",
       "6   Joffrey/Tommen Baratheon                Robb Stark   \n",
       "7        Balon/Euron Greyjoy                Robb Stark   \n",
       "8        Balon/Euron Greyjoy                Robb Stark   \n",
       "9        Balon/Euron Greyjoy                Robb Stark   \n",
       "10                Robb Stark       Balon/Euron Greyjoy   \n",
       "11       Balon/Euron Greyjoy                Robb Stark   \n",
       "12       Balon/Euron Greyjoy       Balon/Euron Greyjoy   \n",
       "13  Joffrey/Tommen Baratheon                Robb Stark   \n",
       "14                Robb Stark  Joffrey/Tommen Baratheon   \n",
       "15         Stannis Baratheon           Renly Baratheon   \n",
       "16  Joffrey/Tommen Baratheon                Robb Stark   \n",
       "17                Robb Stark  Joffrey/Tommen Baratheon   \n",
       "18                Robb Stark  Joffrey/Tommen Baratheon   \n",
       "19         Stannis Baratheon  Joffrey/Tommen Baratheon   \n",
       "20                Robb Stark  Joffrey/Tommen Baratheon   \n",
       "21                Robb Stark  Joffrey/Tommen Baratheon   \n",
       "22                       NaN                       NaN   \n",
       "23  Joffrey/Tommen Baratheon                Robb Stark   \n",
       "24  Joffrey/Tommen Baratheon                       NaN   \n",
       "25  Joffrey/Tommen Baratheon                Robb Stark   \n",
       "26                Robb Stark  Joffrey/Tommen Baratheon   \n",
       "27         Stannis Baratheon              Mance Rayder   \n",
       "28  Joffrey/Tommen Baratheon       Balon/Euron Greyjoy   \n",
       "29                       NaN                       NaN   \n",
       "30         Stannis Baratheon       Balon/Euron Greyjoy   \n",
       "31       Balon/Euron Greyjoy  Joffrey/Tommen Baratheon   \n",
       "32       Balon/Euron Greyjoy  Joffrey/Tommen Baratheon   \n",
       "33  Joffrey/Tommen Baratheon         Stannis Baratheon   \n",
       "34  Joffrey/Tommen Baratheon         Stannis Baratheon   \n",
       "35  Joffrey/Tommen Baratheon                Robb Stark   \n",
       "36  Joffrey/Tommen Baratheon                Robb Stark   \n",
       "37         Stannis Baratheon  Joffrey/Tommen Baratheon   \n",
       "\n",
       "                     attacker_1 attacker_2 attacker_3 attacker_4  \\\n",
       "0                     Lannister        NaN        NaN        NaN   \n",
       "1                     Lannister        NaN        NaN        NaN   \n",
       "2                     Lannister        NaN        NaN        NaN   \n",
       "3                         Stark        NaN        NaN        NaN   \n",
       "4                         Stark      Tully        NaN        NaN   \n",
       "5                         Stark      Tully        NaN        NaN   \n",
       "6                     Lannister        NaN        NaN        NaN   \n",
       "7                       Greyjoy        NaN        NaN        NaN   \n",
       "8                       Greyjoy        NaN        NaN        NaN   \n",
       "9                       Greyjoy        NaN        NaN        NaN   \n",
       "10                        Stark        NaN        NaN        NaN   \n",
       "11                      Greyjoy        NaN        NaN        NaN   \n",
       "12                      Greyjoy        NaN        NaN        NaN   \n",
       "13                       Bolton    Greyjoy        NaN        NaN   \n",
       "14                        Stark      Tully        NaN        NaN   \n",
       "15                    Baratheon        NaN        NaN        NaN   \n",
       "16                    Lannister        NaN        NaN        NaN   \n",
       "17                        Stark        NaN        NaN        NaN   \n",
       "18                        Stark        NaN        NaN        NaN   \n",
       "19                    Baratheon        NaN        NaN        NaN   \n",
       "20                        Darry        NaN        NaN        NaN   \n",
       "21                        Stark        NaN        NaN        NaN   \n",
       "22  Brotherhood without Banners        NaN        NaN        NaN   \n",
       "23                    Lannister        NaN        NaN        NaN   \n",
       "24                    Lannister        NaN        NaN        NaN   \n",
       "25                         Frey     Bolton        NaN        NaN   \n",
       "26                         Frey        NaN        NaN        NaN   \n",
       "27                    Free folk     Thenns     Giants        NaN   \n",
       "28                       Bolton        NaN        NaN        NaN   \n",
       "29             Brave Companions        NaN        NaN        NaN   \n",
       "30                    Baratheon   Karstark    Mormont     Glover   \n",
       "31                      Greyjoy        NaN        NaN        NaN   \n",
       "32                      Greyjoy        NaN        NaN        NaN   \n",
       "33                    Baratheon        NaN        NaN        NaN   \n",
       "34                    Baratheon        NaN        NaN        NaN   \n",
       "35                    Lannister       Frey        NaN        NaN   \n",
       "36                      Bracken  Lannister        NaN        NaN   \n",
       "37                    Baratheon   Karstark    Mormont     Glover   \n",
       "\n",
       "          defender_1 defender_2  defender_3  defender_4 attacker_outcome  \\\n",
       "0              Tully        NaN         NaN         NaN              win   \n",
       "1          Baratheon        NaN         NaN         NaN              win   \n",
       "2              Tully        NaN         NaN         NaN              win   \n",
       "3          Lannister        NaN         NaN         NaN             loss   \n",
       "4          Lannister        NaN         NaN         NaN              win   \n",
       "5          Lannister        NaN         NaN         NaN              win   \n",
       "6              Darry        NaN         NaN         NaN              win   \n",
       "7              Stark        NaN         NaN         NaN              win   \n",
       "8              Stark        NaN         NaN         NaN              win   \n",
       "9              Stark        NaN         NaN         NaN              win   \n",
       "10           Greyjoy        NaN         NaN         NaN              win   \n",
       "11             Stark        NaN         NaN         NaN              win   \n",
       "12             Stark        NaN         NaN         NaN              win   \n",
       "13             Stark        NaN         NaN         NaN              win   \n",
       "14         Lannister        NaN         NaN         NaN              win   \n",
       "15         Baratheon        NaN         NaN         NaN              win   \n",
       "16             Tully        NaN         NaN         NaN             loss   \n",
       "17         Lannister        NaN         NaN         NaN              win   \n",
       "18         Lannister        NaN         NaN         NaN              win   \n",
       "19         Lannister        NaN         NaN         NaN             loss   \n",
       "20         Lannister        NaN         NaN         NaN              win   \n",
       "21         Lannister        NaN         NaN         NaN             loss   \n",
       "22  Brave Companions        NaN         NaN         NaN              win   \n",
       "23             Stark        NaN         NaN         NaN              win   \n",
       "24  Brave Companions        NaN         NaN         NaN              win   \n",
       "25             Stark        NaN         NaN         NaN              win   \n",
       "26         Mallister        NaN         NaN         NaN              win   \n",
       "27     Night's Watch  Baratheon         NaN         NaN             loss   \n",
       "28           Greyjoy        NaN         NaN         NaN              win   \n",
       "29               NaN        NaN         NaN         NaN              win   \n",
       "30           Greyjoy        NaN         NaN         NaN              win   \n",
       "31            Tyrell        NaN         NaN         NaN              win   \n",
       "32            Tyrell        NaN         NaN         NaN              win   \n",
       "33         Baratheon        NaN         NaN         NaN              win   \n",
       "34         Baratheon        NaN         NaN         NaN              win   \n",
       "35             Tully        NaN         NaN         NaN              win   \n",
       "36         Blackwood        NaN         NaN         NaN              win   \n",
       "37            Bolton       Frey         NaN         NaN              NaN   \n",
       "\n",
       "       battle_type  major_death  major_capture  attacker_size  defender_size  \\\n",
       "0   pitched battle          1.0            0.0        15000.0         4000.0   \n",
       "1           ambush          1.0            0.0            NaN          120.0   \n",
       "2   pitched battle          0.0            1.0        15000.0        10000.0   \n",
       "3   pitched battle          1.0            1.0        18000.0        20000.0   \n",
       "4           ambush          1.0            1.0         1875.0         6000.0   \n",
       "5           ambush          0.0            0.0         6000.0        12625.0   \n",
       "6   pitched battle          0.0            0.0            NaN            NaN   \n",
       "7   pitched battle          0.0            0.0            NaN            NaN   \n",
       "8            siege          0.0            0.0         1000.0            NaN   \n",
       "9           ambush          0.0            0.0          264.0            NaN   \n",
       "10  pitched battle          0.0            0.0          244.0          900.0   \n",
       "11          ambush          0.0            1.0           20.0            NaN   \n",
       "12           siege          0.0            1.0            NaN            NaN   \n",
       "13          ambush          1.0            0.0          618.0         2000.0   \n",
       "14          ambush          1.0            1.0         6000.0        10000.0   \n",
       "15           siege          1.0            0.0         5000.0        20000.0   \n",
       "16  pitched battle          0.0            0.0        20000.0        10000.0   \n",
       "17          ambush          1.0            0.0          100.0          100.0   \n",
       "18          ambush          0.0            0.0         6000.0            NaN   \n",
       "19  pitched battle          1.0            1.0        21000.0         7250.0   \n",
       "20           siege          0.0            0.0            NaN            NaN   \n",
       "21  pitched battle          1.0            0.0         3000.0            NaN   \n",
       "22  pitched battle          0.0            0.0            NaN            NaN   \n",
       "23  pitched battle          0.0            0.0            NaN         6000.0   \n",
       "24  pitched battle          1.0            0.0            NaN            NaN   \n",
       "25          ambush          1.0            1.0         3500.0         3500.0   \n",
       "26           siege          0.0            1.0            NaN            NaN   \n",
       "27           siege          1.0            1.0       100000.0         1240.0   \n",
       "28           siege          0.0            0.0            NaN            NaN   \n",
       "29          razing          0.0            0.0            NaN            NaN   \n",
       "30  pitched battle          0.0            0.0         4500.0          200.0   \n",
       "31  pitched battle          0.0            0.0            NaN            NaN   \n",
       "32          razing          0.0            0.0            NaN            NaN   \n",
       "33           siege          0.0            0.0            NaN          200.0   \n",
       "34           siege          0.0            0.0         2000.0            NaN   \n",
       "35           siege          0.0            0.0         3000.0            NaN   \n",
       "36           siege          0.0            1.0         1500.0            NaN   \n",
       "37             NaN          NaN            NaN         5000.0         8000.0   \n",
       "\n",
       "                                   attacker_commander  \\\n",
       "0                                     Jaime Lannister   \n",
       "1                                      Gregor Clegane   \n",
       "2                        Jaime Lannister, Andros Brax   \n",
       "3   Roose Bolton, Wylis Manderly, Medger Cerwyn, H...   \n",
       "4                           Robb Stark, Brynden Tully   \n",
       "5          Robb Stark, Tytos Blackwood, Brynden Tully   \n",
       "6                                      Gregor Clegane   \n",
       "7                                   Victarion Greyjoy   \n",
       "8                                        Asha Greyjoy   \n",
       "9                                       Theon Greyjoy   \n",
       "10                         Rodrik Cassel, Cley Cerwyn   \n",
       "11                                      Theon Greyjoy   \n",
       "12                                    Dagmer Cleftjaw   \n",
       "13                        Ramsay Snow, Theon Greyjoy    \n",
       "14                          Robb Stark, Brynden Tully   \n",
       "15                  Stannis Baratheon, Davos Seaworth   \n",
       "16  Tywin Lannister, Flement Brax, Gregor Clegane,...   \n",
       "17            Roose Bolton, Vargo Hoat, Robett Glover   \n",
       "18      Robb Stark, Smalljon Umber, Black Walder Frey   \n",
       "19  Stannis Baratheon, Imry Florent, Guyard Morrig...   \n",
       "20                                    Helman Tallhart   \n",
       "21                    Robertt Glover, Helman Tallhart   \n",
       "22                                                NaN   \n",
       "23                                     Gregor Clegane   \n",
       "24                                     Gregor Clegane   \n",
       "25           Walder Frey, Roose Bolton, Walder Rivers   \n",
       "26                                        Walder Frey   \n",
       "27  Mance Rayder, Tormund Giantsbane, Harma Dogshe...   \n",
       "28                                      Ramsey Bolton   \n",
       "29                                              Rorge   \n",
       "30                  Stannis Baratheon, Alysane Mormot   \n",
       "31                   Euron Greyjoy, Victarion Greyjoy   \n",
       "32                   Euron Greyjoy, Victarion Greyjoy   \n",
       "33                          Mace Tyrell, Mathis Rowan   \n",
       "34                       Loras Tyrell, Raxter Redwyne   \n",
       "35        Daven Lannister, Ryman Fey, Jaime Lannister   \n",
       "36                     Jonos Bracken, Jaime Lannister   \n",
       "37                                  Stannis Baratheon   \n",
       "\n",
       "                                   defender_commander  summer  \\\n",
       "0                                Clement Piper, Vance     1.0   \n",
       "1                                    Beric Dondarrion     1.0   \n",
       "2                       Edmure Tully, Tytos Blackwood     1.0   \n",
       "3   Tywin Lannister, Gregor Clegane, Kevan Lannist...     1.0   \n",
       "4                                     Jaime Lannister     1.0   \n",
       "5                    Lord Andros Brax, Forley Prester     1.0   \n",
       "6                                         Lyman Darry     1.0   \n",
       "7                                                 NaN     1.0   \n",
       "8                                                 NaN     1.0   \n",
       "9                                                 NaN     1.0   \n",
       "10                                    Dagmer Cleftjaw     1.0   \n",
       "11                                         Bran Stark     1.0   \n",
       "12                                                NaN     1.0   \n",
       "13       Rodrik Cassel, Cley Cerwyn, Leobald Tallhart     1.0   \n",
       "14  Stafford Lannister, Roland Crakehall, Antario ...     1.0   \n",
       "15  Renly Baratheon, Cortnay Penrose, Loras Tyrell...     1.0   \n",
       "16         Edmure Tully, Jason Mallister, Karyl Vance     1.0   \n",
       "17                                        Amory Lorch     1.0   \n",
       "18                                       Rolph Spicer     1.0   \n",
       "19  Tyrion Lannister, Jacelyn Bywater, Sandor Cleg...     1.0   \n",
       "20                                                NaN     1.0   \n",
       "21                      Randyll Tarly, Gregor Clegane     1.0   \n",
       "22                                                NaN     1.0   \n",
       "23                       Roose Bolton, Wylis Manderly     NaN   \n",
       "24                                         Vargo Hoat     1.0   \n",
       "25                                         Robb Stark     1.0   \n",
       "26                                    Jason Mallister     1.0   \n",
       "27  Stannis Baratheon, Jon Snow, Donal Noye, Cotte...     0.0   \n",
       "28                                                NaN     0.0   \n",
       "29                                                NaN     0.0   \n",
       "30                                       Asha Greyjoy     0.0   \n",
       "31                                                NaN     0.0   \n",
       "32                                                NaN     0.0   \n",
       "33                                    Gilbert Farring     0.0   \n",
       "34                                      Rolland Storm     0.0   \n",
       "35                                      Brynden Tully     0.0   \n",
       "36                                    Tytos Blackwood     0.0   \n",
       "37                                       Roose Bolton     0.0   \n",
       "\n",
       "                                location           region  \\\n",
       "0                           Golden Tooth  The Westerlands   \n",
       "1                          Mummer's Ford   The Riverlands   \n",
       "2                               Riverrun   The Riverlands   \n",
       "3                             Green Fork   The Riverlands   \n",
       "4                        Whispering Wood   The Riverlands   \n",
       "5                               Riverrun   The Riverlands   \n",
       "6                                  Darry   The Riverlands   \n",
       "7                            Moat Cailin        The North   \n",
       "8                         Deepwood Motte        The North   \n",
       "9                            Stony Shore        The North   \n",
       "10                      Torrhen's Square        The North   \n",
       "11                            Winterfell        The North   \n",
       "12                      Torrhen's Square        The North   \n",
       "13                            Winterfell        The North   \n",
       "14                               Oxcross  The Westerlands   \n",
       "15                           Storm's End   The Stormlands   \n",
       "16                              Red Fork   The Riverlands   \n",
       "17                             Harrenhal   The Riverlands   \n",
       "18                                  Crag  The Westerlands   \n",
       "19                        King's Landing   The Crownlands   \n",
       "20                                 Darry   The Riverlands   \n",
       "21                            Duskendale   The Crownlands   \n",
       "22                                   NaN   The Riverlands   \n",
       "23                             Ruby Ford   The Riverlands   \n",
       "24                             Harrenhal   The Riverlands   \n",
       "25                             The Twins   The Riverlands   \n",
       "26                               Seagard   The Riverlands   \n",
       "27                          Castle Black  Beyond the Wall   \n",
       "28                           Moat Cailin        The North   \n",
       "29                              Saltpans   The Riverlands   \n",
       "30                        Deepwood Motte        The North   \n",
       "31                        Shield Islands        The Reach   \n",
       "32  Ryamsport, Vinetown, Starfish Harbor        The Reach   \n",
       "33                           Storm's End   The Stormlands   \n",
       "34                           Dragonstone   The Stormlands   \n",
       "35                              Riverrun   The Riverlands   \n",
       "36                             Raventree   The Riverlands   \n",
       "37                            Winterfell        The North   \n",
       "\n",
       "                                                 note  \n",
       "0                                                 NaN  \n",
       "1                                                 NaN  \n",
       "2                                                 NaN  \n",
       "3                                                 NaN  \n",
       "4                                                 NaN  \n",
       "5                                                 NaN  \n",
       "6                                                 NaN  \n",
       "7                                                 NaN  \n",
       "8                                                 NaN  \n",
       "9   Greyjoy's troop number based on the Battle of ...  \n",
       "10  Greyjoy's troop number comes from the 264 esti...  \n",
       "11  It isn't mentioned how many Stark men are left...  \n",
       "12                                                NaN  \n",
       "13  Since House Bolton betrays the Starks for Hous...  \n",
       "14                                                NaN  \n",
       "15                                                NaN  \n",
       "16                                                NaN  \n",
       "17                                                NaN  \n",
       "18                                                NaN  \n",
       "19                                                NaN  \n",
       "20                                                NaN  \n",
       "21                                                NaN  \n",
       "22                                                NaN  \n",
       "23                                                NaN  \n",
       "24                                                NaN  \n",
       "25  This observation refers to the battle against ...  \n",
       "26                                                NaN  \n",
       "27                                                NaN  \n",
       "28                                                NaN  \n",
       "29                                                NaN  \n",
       "30                                                NaN  \n",
       "31                                                NaN  \n",
       "32                                                NaN  \n",
       "33                                                NaN  \n",
       "34                                                NaN  \n",
       "35                                                NaN  \n",
       "36                                                NaN  \n",
       "37                                                NaN  "
      ]
     },
     "execution_count": 3,
     "metadata": {},
     "output_type": "execute_result"
    }
   ],
   "source": [
    "pd.set_option('display.max_columns', None)\n",
    "battles"
   ]
  },
  {
   "cell_type": "markdown",
   "id": "plastic-coaching",
   "metadata": {},
   "source": [
    "## Informasi Dataset\n",
    "\n",
    "terdiri dari **38 baris** dan **25 kolom** \\\n",
    "dengan tipe data _object_(16), _int64_(2), dan _float64_(7) \\\n",
    "beberapa kolom memiliki nilai Null\n",
    "\n"
   ]
  },
  {
   "cell_type": "code",
   "execution_count": 4,
   "id": "equipped-imperial",
   "metadata": {
    "ExecuteTime": {
     "end_time": "2021-04-14T14:09:20.057160Z",
     "start_time": "2021-04-14T14:09:19.998307Z"
    }
   },
   "outputs": [
    {
     "name": "stdout",
     "output_type": "stream",
     "text": [
      "<class 'pandas.core.frame.DataFrame'>\n",
      "RangeIndex: 38 entries, 0 to 37\n",
      "Data columns (total 25 columns):\n",
      " #   Column              Non-Null Count  Dtype  \n",
      "---  ------              --------------  -----  \n",
      " 0   name                38 non-null     object \n",
      " 1   year                38 non-null     int64  \n",
      " 2   battle_number       38 non-null     int64  \n",
      " 3   attacker_king       36 non-null     object \n",
      " 4   defender_king       35 non-null     object \n",
      " 5   attacker_1          38 non-null     object \n",
      " 6   attacker_2          10 non-null     object \n",
      " 7   attacker_3          3 non-null      object \n",
      " 8   attacker_4          2 non-null      object \n",
      " 9   defender_1          37 non-null     object \n",
      " 10  defender_2          2 non-null      object \n",
      " 11  defender_3          0 non-null      float64\n",
      " 12  defender_4          0 non-null      float64\n",
      " 13  attacker_outcome    37 non-null     object \n",
      " 14  battle_type         37 non-null     object \n",
      " 15  major_death         37 non-null     float64\n",
      " 16  major_capture       37 non-null     float64\n",
      " 17  attacker_size       24 non-null     float64\n",
      " 18  defender_size       19 non-null     float64\n",
      " 19  attacker_commander  37 non-null     object \n",
      " 20  defender_commander  28 non-null     object \n",
      " 21  summer              37 non-null     float64\n",
      " 22  location            37 non-null     object \n",
      " 23  region              38 non-null     object \n",
      " 24  note                5 non-null      object \n",
      "dtypes: float64(7), int64(2), object(16)\n",
      "memory usage: 7.5+ KB\n"
     ]
    }
   ],
   "source": [
    "battles.info()"
   ]
  },
  {
   "cell_type": "markdown",
   "id": "durable-karen",
   "metadata": {},
   "source": [
    "## Persentase Missing Values\n",
    "menghitung jumlah serta persentase nilai null yang terdapat pada setiap kolom"
   ]
  },
  {
   "cell_type": "code",
   "execution_count": 5,
   "id": "harmful-relevance",
   "metadata": {
    "ExecuteTime": {
     "end_time": "2021-04-14T14:09:20.177827Z",
     "start_time": "2021-04-14T14:09:20.064131Z"
    }
   },
   "outputs": [
    {
     "data": {
      "text/html": [
       "<div>\n",
       "<style scoped>\n",
       "    .dataframe tbody tr th:only-of-type {\n",
       "        vertical-align: middle;\n",
       "    }\n",
       "\n",
       "    .dataframe tbody tr th {\n",
       "        vertical-align: top;\n",
       "    }\n",
       "\n",
       "    .dataframe thead th {\n",
       "        text-align: right;\n",
       "    }\n",
       "</style>\n",
       "<table border=\"1\" class=\"dataframe\">\n",
       "  <thead>\n",
       "    <tr style=\"text-align: right;\">\n",
       "      <th></th>\n",
       "      <th>Total</th>\n",
       "      <th>Percentage</th>\n",
       "      <th>Dtype</th>\n",
       "    </tr>\n",
       "  </thead>\n",
       "  <tbody>\n",
       "    <tr>\n",
       "      <th>defender_4</th>\n",
       "      <td>38</td>\n",
       "      <td>100.000000</td>\n",
       "      <td>float64</td>\n",
       "    </tr>\n",
       "    <tr>\n",
       "      <th>defender_3</th>\n",
       "      <td>38</td>\n",
       "      <td>100.000000</td>\n",
       "      <td>float64</td>\n",
       "    </tr>\n",
       "    <tr>\n",
       "      <th>defender_2</th>\n",
       "      <td>36</td>\n",
       "      <td>94.736842</td>\n",
       "      <td>object</td>\n",
       "    </tr>\n",
       "    <tr>\n",
       "      <th>attacker_4</th>\n",
       "      <td>36</td>\n",
       "      <td>94.736842</td>\n",
       "      <td>object</td>\n",
       "    </tr>\n",
       "    <tr>\n",
       "      <th>attacker_3</th>\n",
       "      <td>35</td>\n",
       "      <td>92.105263</td>\n",
       "      <td>object</td>\n",
       "    </tr>\n",
       "    <tr>\n",
       "      <th>note</th>\n",
       "      <td>33</td>\n",
       "      <td>86.842105</td>\n",
       "      <td>object</td>\n",
       "    </tr>\n",
       "    <tr>\n",
       "      <th>attacker_2</th>\n",
       "      <td>28</td>\n",
       "      <td>73.684211</td>\n",
       "      <td>object</td>\n",
       "    </tr>\n",
       "    <tr>\n",
       "      <th>defender_size</th>\n",
       "      <td>19</td>\n",
       "      <td>50.000000</td>\n",
       "      <td>float64</td>\n",
       "    </tr>\n",
       "    <tr>\n",
       "      <th>attacker_size</th>\n",
       "      <td>14</td>\n",
       "      <td>36.842105</td>\n",
       "      <td>float64</td>\n",
       "    </tr>\n",
       "    <tr>\n",
       "      <th>defender_commander</th>\n",
       "      <td>10</td>\n",
       "      <td>26.315789</td>\n",
       "      <td>object</td>\n",
       "    </tr>\n",
       "    <tr>\n",
       "      <th>defender_king</th>\n",
       "      <td>3</td>\n",
       "      <td>7.894737</td>\n",
       "      <td>object</td>\n",
       "    </tr>\n",
       "    <tr>\n",
       "      <th>attacker_king</th>\n",
       "      <td>2</td>\n",
       "      <td>5.263158</td>\n",
       "      <td>object</td>\n",
       "    </tr>\n",
       "    <tr>\n",
       "      <th>major_capture</th>\n",
       "      <td>1</td>\n",
       "      <td>2.631579</td>\n",
       "      <td>float64</td>\n",
       "    </tr>\n",
       "    <tr>\n",
       "      <th>location</th>\n",
       "      <td>1</td>\n",
       "      <td>2.631579</td>\n",
       "      <td>object</td>\n",
       "    </tr>\n",
       "    <tr>\n",
       "      <th>summer</th>\n",
       "      <td>1</td>\n",
       "      <td>2.631579</td>\n",
       "      <td>float64</td>\n",
       "    </tr>\n",
       "  </tbody>\n",
       "</table>\n",
       "</div>"
      ],
      "text/plain": [
       "                    Total  Percentage    Dtype\n",
       "defender_4             38  100.000000  float64\n",
       "defender_3             38  100.000000  float64\n",
       "defender_2             36   94.736842   object\n",
       "attacker_4             36   94.736842   object\n",
       "attacker_3             35   92.105263   object\n",
       "note                   33   86.842105   object\n",
       "attacker_2             28   73.684211   object\n",
       "defender_size          19   50.000000  float64\n",
       "attacker_size          14   36.842105  float64\n",
       "defender_commander     10   26.315789   object\n",
       "defender_king           3    7.894737   object\n",
       "attacker_king           2    5.263158   object\n",
       "major_capture           1    2.631579  float64\n",
       "location                1    2.631579   object\n",
       "summer                  1    2.631579  float64"
      ]
     },
     "execution_count": 5,
     "metadata": {},
     "output_type": "execute_result"
    }
   ],
   "source": [
    "missing_values_total = battles.isnull().sum().sort_values(ascending=False)\n",
    "missing_values_pct = (battles.isnull().mean()*100).sort_values(ascending=False)\n",
    "\n",
    "missing_values = pd.concat([missing_values_total, missing_values_pct, battles.dtypes],\n",
    "                           keys=['Total','Percentage','Dtype'],\n",
    "                           axis=1)\n",
    "missing_values.head(15)"
   ]
  },
  {
   "cell_type": "markdown",
   "id": "senior-thanksgiving",
   "metadata": {},
   "source": [
    "## Pemeriksaan Dataset\n",
    "\n",
    "setelah melakukan eksplorasi awal berupa preview data dan menghitung jumlah persentase nilai null serta membaca dari berbagai sumber yang ada di website kaggle dan wiki, ditemukan beberapa baris data yang dapat diperbaiki maupun ditambahkan untuk melengkapi dataset"
   ]
  },
  {
   "cell_type": "markdown",
   "id": "floppy-carter",
   "metadata": {},
   "source": [
    "### Temuan 1\n",
    "pada baris 37 terdapat _battle_type_ dengan nilai NaN yang bisa diisi sesuai dengan battle _name_ yaitu **siege**"
   ]
  },
  {
   "cell_type": "code",
   "execution_count": 6,
   "id": "chief-natural",
   "metadata": {
    "ExecuteTime": {
     "end_time": "2021-04-14T14:09:20.281549Z",
     "start_time": "2021-04-14T14:09:20.179821Z"
    }
   },
   "outputs": [
    {
     "data": {
      "text/html": [
       "<div>\n",
       "<style scoped>\n",
       "    .dataframe tbody tr th:only-of-type {\n",
       "        vertical-align: middle;\n",
       "    }\n",
       "\n",
       "    .dataframe tbody tr th {\n",
       "        vertical-align: top;\n",
       "    }\n",
       "\n",
       "    .dataframe thead th {\n",
       "        text-align: right;\n",
       "    }\n",
       "</style>\n",
       "<table border=\"1\" class=\"dataframe\">\n",
       "  <thead>\n",
       "    <tr style=\"text-align: right;\">\n",
       "      <th></th>\n",
       "      <th>name</th>\n",
       "      <th>battle_type</th>\n",
       "    </tr>\n",
       "  </thead>\n",
       "  <tbody>\n",
       "    <tr>\n",
       "      <th>37</th>\n",
       "      <td>Siege of Winterfell</td>\n",
       "      <td>NaN</td>\n",
       "    </tr>\n",
       "  </tbody>\n",
       "</table>\n",
       "</div>"
      ],
      "text/plain": [
       "                   name battle_type\n",
       "37  Siege of Winterfell         NaN"
      ]
     },
     "execution_count": 6,
     "metadata": {},
     "output_type": "execute_result"
    }
   ],
   "source": [
    "battles[['name','battle_type']].loc[battles['battle_type'].isnull()]"
   ]
  },
  {
   "cell_type": "markdown",
   "id": "present-snake",
   "metadata": {},
   "source": [
    "### Temuan 2\n",
    "pada baris 37 terdapat *attacker_outcome* dengan nilai NaN. \n",
    "\n",
    "dikutip dari [wiki March on Winterfell](https://awoiaf.westeros.org/index.php/March_on_Winterfell) (*link Siege_of_Winterfell di-alihkan ke March_on_Winterfell*),\\\n",
    "pada Aftermath, Roose Bolton memulangkan pasukan dan Stannis Baratheon tetap tinggal disana bersama tuan rumah untuk selanjutnya bersiap perang melawan Bolton.\n",
    "\n",
    "dari kutipan Aftermath diatas,bisa disimpulkan *attacker_outcome* dapat di-isi dengan *win* "
   ]
  },
  {
   "cell_type": "code",
   "execution_count": 7,
   "id": "dressed-referral",
   "metadata": {
    "ExecuteTime": {
     "end_time": "2021-04-14T14:09:20.409721Z",
     "start_time": "2021-04-14T14:09:20.285539Z"
    }
   },
   "outputs": [
    {
     "data": {
      "text/html": [
       "<div>\n",
       "<style scoped>\n",
       "    .dataframe tbody tr th:only-of-type {\n",
       "        vertical-align: middle;\n",
       "    }\n",
       "\n",
       "    .dataframe tbody tr th {\n",
       "        vertical-align: top;\n",
       "    }\n",
       "\n",
       "    .dataframe thead th {\n",
       "        text-align: right;\n",
       "    }\n",
       "</style>\n",
       "<table border=\"1\" class=\"dataframe\">\n",
       "  <thead>\n",
       "    <tr style=\"text-align: right;\">\n",
       "      <th></th>\n",
       "      <th>name</th>\n",
       "      <th>attacker_outcome</th>\n",
       "    </tr>\n",
       "  </thead>\n",
       "  <tbody>\n",
       "    <tr>\n",
       "      <th>37</th>\n",
       "      <td>Siege of Winterfell</td>\n",
       "      <td>NaN</td>\n",
       "    </tr>\n",
       "  </tbody>\n",
       "</table>\n",
       "</div>"
      ],
      "text/plain": [
       "                   name attacker_outcome\n",
       "37  Siege of Winterfell              NaN"
      ]
     },
     "execution_count": 7,
     "metadata": {},
     "output_type": "execute_result"
    }
   ],
   "source": [
    "battles[['name','attacker_outcome']].loc[battles['attacker_outcome'].isnull()]"
   ]
  },
  {
   "cell_type": "markdown",
   "id": "personal-diabetes",
   "metadata": {},
   "source": [
    "### Temuan 3\n",
    "dikutip dari [notebook dianyuurl](https://www.kaggle.com/dianyuurl/game-of-thrones-battles-analysis), pada [wiki Game of Thrones](https://gameofthrones.fandom.com/wiki/Battle_of_Castle_Black) _attacker_king_ seharusnya Mance Rayder dan _defender_king_ seharusnya Stannis Baratheon"
   ]
  },
  {
   "cell_type": "code",
   "execution_count": 8,
   "id": "signed-briefs",
   "metadata": {
    "ExecuteTime": {
     "end_time": "2021-04-14T14:09:20.508980Z",
     "start_time": "2021-04-14T14:09:20.412711Z"
    }
   },
   "outputs": [
    {
     "data": {
      "text/plain": [
       "attacker_king    Stannis Baratheon\n",
       "defender_king         Mance Rayder\n",
       "attacker_size             100000.0\n",
       "defender_size               1240.0\n",
       "Name: 27, dtype: object"
      ]
     },
     "execution_count": 8,
     "metadata": {},
     "output_type": "execute_result"
    }
   ],
   "source": [
    "battles[['attacker_king','defender_king','attacker_size','defender_size']].loc[27]"
   ]
  },
  {
   "cell_type": "markdown",
   "id": "hourly-depth",
   "metadata": {},
   "source": [
    "### Temuan 4\n",
    "pada variabel *attacker_1* s/d *attacker_4* dan *defender_1* s/d defender_4** memiliki banyak nilai **NaN**, maka dari itu:\n",
    "- bisa diekstraksi menjadi fitur baru berupa jumlah attacker house dan defender house\n",
    "- setelah itu variabel dengan jumlah NaN >60% bisa di-drop"
   ]
  },
  {
   "cell_type": "code",
   "execution_count": 9,
   "id": "greater-senior",
   "metadata": {
    "ExecuteTime": {
     "end_time": "2021-04-14T14:09:20.627657Z",
     "start_time": "2021-04-14T14:09:20.511964Z"
    }
   },
   "outputs": [
    {
     "data": {
      "text/html": [
       "<div>\n",
       "<style scoped>\n",
       "    .dataframe tbody tr th:only-of-type {\n",
       "        vertical-align: middle;\n",
       "    }\n",
       "\n",
       "    .dataframe tbody tr th {\n",
       "        vertical-align: top;\n",
       "    }\n",
       "\n",
       "    .dataframe thead th {\n",
       "        text-align: right;\n",
       "    }\n",
       "</style>\n",
       "<table border=\"1\" class=\"dataframe\">\n",
       "  <thead>\n",
       "    <tr style=\"text-align: right;\">\n",
       "      <th></th>\n",
       "      <th>attacker_1</th>\n",
       "      <th>attacker_2</th>\n",
       "      <th>attacker_3</th>\n",
       "      <th>attacker_4</th>\n",
       "      <th>defender_1</th>\n",
       "      <th>defender_2</th>\n",
       "      <th>defender_3</th>\n",
       "      <th>defender_4</th>\n",
       "    </tr>\n",
       "  </thead>\n",
       "  <tbody>\n",
       "    <tr>\n",
       "      <th>0</th>\n",
       "      <td>Lannister</td>\n",
       "      <td>NaN</td>\n",
       "      <td>NaN</td>\n",
       "      <td>NaN</td>\n",
       "      <td>Tully</td>\n",
       "      <td>NaN</td>\n",
       "      <td>NaN</td>\n",
       "      <td>NaN</td>\n",
       "    </tr>\n",
       "    <tr>\n",
       "      <th>1</th>\n",
       "      <td>Lannister</td>\n",
       "      <td>NaN</td>\n",
       "      <td>NaN</td>\n",
       "      <td>NaN</td>\n",
       "      <td>Baratheon</td>\n",
       "      <td>NaN</td>\n",
       "      <td>NaN</td>\n",
       "      <td>NaN</td>\n",
       "    </tr>\n",
       "    <tr>\n",
       "      <th>2</th>\n",
       "      <td>Lannister</td>\n",
       "      <td>NaN</td>\n",
       "      <td>NaN</td>\n",
       "      <td>NaN</td>\n",
       "      <td>Tully</td>\n",
       "      <td>NaN</td>\n",
       "      <td>NaN</td>\n",
       "      <td>NaN</td>\n",
       "    </tr>\n",
       "    <tr>\n",
       "      <th>3</th>\n",
       "      <td>Stark</td>\n",
       "      <td>NaN</td>\n",
       "      <td>NaN</td>\n",
       "      <td>NaN</td>\n",
       "      <td>Lannister</td>\n",
       "      <td>NaN</td>\n",
       "      <td>NaN</td>\n",
       "      <td>NaN</td>\n",
       "    </tr>\n",
       "    <tr>\n",
       "      <th>4</th>\n",
       "      <td>Stark</td>\n",
       "      <td>Tully</td>\n",
       "      <td>NaN</td>\n",
       "      <td>NaN</td>\n",
       "      <td>Lannister</td>\n",
       "      <td>NaN</td>\n",
       "      <td>NaN</td>\n",
       "      <td>NaN</td>\n",
       "    </tr>\n",
       "  </tbody>\n",
       "</table>\n",
       "</div>"
      ],
      "text/plain": [
       "  attacker_1 attacker_2 attacker_3 attacker_4 defender_1 defender_2  \\\n",
       "0  Lannister        NaN        NaN        NaN      Tully        NaN   \n",
       "1  Lannister        NaN        NaN        NaN  Baratheon        NaN   \n",
       "2  Lannister        NaN        NaN        NaN      Tully        NaN   \n",
       "3      Stark        NaN        NaN        NaN  Lannister        NaN   \n",
       "4      Stark      Tully        NaN        NaN  Lannister        NaN   \n",
       "\n",
       "   defender_3  defender_4  \n",
       "0         NaN         NaN  \n",
       "1         NaN         NaN  \n",
       "2         NaN         NaN  \n",
       "3         NaN         NaN  \n",
       "4         NaN         NaN  "
      ]
     },
     "execution_count": 9,
     "metadata": {},
     "output_type": "execute_result"
    }
   ],
   "source": [
    "battles[['attacker_1','attacker_2','attacker_3','attacker_4','defender_1','defender_2','defender_3','defender_4']].head()"
   ]
  },
  {
   "cell_type": "markdown",
   "id": "affected-technician",
   "metadata": {},
   "source": [
    "### Temuan 5\n",
    "pada *attacker_commander* dan *defender_commander* berisi nama commander yang dipisahkan oleh koma :\n",
    "- bisa diekstraksi menjadi fitur baru berupa jumlah commander \n",
    "- setelah itu bisa dihapus pada saat training model"
   ]
  },
  {
   "cell_type": "code",
   "execution_count": 10,
   "id": "breeding-congo",
   "metadata": {
    "ExecuteTime": {
     "end_time": "2021-04-14T14:09:20.783239Z",
     "start_time": "2021-04-14T14:09:20.630647Z"
    }
   },
   "outputs": [
    {
     "data": {
      "text/html": [
       "<div>\n",
       "<style scoped>\n",
       "    .dataframe tbody tr th:only-of-type {\n",
       "        vertical-align: middle;\n",
       "    }\n",
       "\n",
       "    .dataframe tbody tr th {\n",
       "        vertical-align: top;\n",
       "    }\n",
       "\n",
       "    .dataframe thead th {\n",
       "        text-align: right;\n",
       "    }\n",
       "</style>\n",
       "<table border=\"1\" class=\"dataframe\">\n",
       "  <thead>\n",
       "    <tr style=\"text-align: right;\">\n",
       "      <th></th>\n",
       "      <th>attacker_commander</th>\n",
       "      <th>defender_commander</th>\n",
       "    </tr>\n",
       "  </thead>\n",
       "  <tbody>\n",
       "    <tr>\n",
       "      <th>0</th>\n",
       "      <td>Jaime Lannister</td>\n",
       "      <td>Clement Piper, Vance</td>\n",
       "    </tr>\n",
       "    <tr>\n",
       "      <th>1</th>\n",
       "      <td>Gregor Clegane</td>\n",
       "      <td>Beric Dondarrion</td>\n",
       "    </tr>\n",
       "    <tr>\n",
       "      <th>2</th>\n",
       "      <td>Jaime Lannister, Andros Brax</td>\n",
       "      <td>Edmure Tully, Tytos Blackwood</td>\n",
       "    </tr>\n",
       "    <tr>\n",
       "      <th>3</th>\n",
       "      <td>Roose Bolton, Wylis Manderly, Medger Cerwyn, H...</td>\n",
       "      <td>Tywin Lannister, Gregor Clegane, Kevan Lannist...</td>\n",
       "    </tr>\n",
       "    <tr>\n",
       "      <th>4</th>\n",
       "      <td>Robb Stark, Brynden Tully</td>\n",
       "      <td>Jaime Lannister</td>\n",
       "    </tr>\n",
       "  </tbody>\n",
       "</table>\n",
       "</div>"
      ],
      "text/plain": [
       "                                  attacker_commander  \\\n",
       "0                                    Jaime Lannister   \n",
       "1                                     Gregor Clegane   \n",
       "2                       Jaime Lannister, Andros Brax   \n",
       "3  Roose Bolton, Wylis Manderly, Medger Cerwyn, H...   \n",
       "4                          Robb Stark, Brynden Tully   \n",
       "\n",
       "                                  defender_commander  \n",
       "0                               Clement Piper, Vance  \n",
       "1                                   Beric Dondarrion  \n",
       "2                      Edmure Tully, Tytos Blackwood  \n",
       "3  Tywin Lannister, Gregor Clegane, Kevan Lannist...  \n",
       "4                                    Jaime Lannister  "
      ]
     },
     "execution_count": 10,
     "metadata": {},
     "output_type": "execute_result"
    }
   ],
   "source": [
    "battles[['attacker_commander','defender_commander']].head()"
   ]
  },
  {
   "cell_type": "markdown",
   "id": "norman-mapping",
   "metadata": {},
   "source": [
    "### Temuan 6\n",
    "Imbalanced Data, diperlukan teknik - teknik khusus pada saat membangun model, seperti :\n",
    "- Menggunakan metrik evaluasi yang sesuai\n",
    "- Melakukan resampling data\n",
    "- Menggunakan cross-validation"
   ]
  },
  {
   "cell_type": "code",
   "execution_count": 11,
   "id": "biblical-declaration",
   "metadata": {
    "ExecuteTime": {
     "end_time": "2021-04-14T14:09:21.176190Z",
     "start_time": "2021-04-14T14:09:20.787230Z"
    }
   },
   "outputs": [
    {
     "data": {
      "image/png": "[encoded data removed]",
      "text/plain": [
       "<Figure size 432x288 with 1 Axes>"
      ]
     },
     "metadata": {
      "needs_background": "light"
     },
     "output_type": "display_data"
    },
    {
     "data": {
      "text/plain": [
       "win     32\n",
       "loss     5\n",
       "Name: attacker_outcome, dtype: int64"
      ]
     },
     "execution_count": 11,
     "metadata": {},
     "output_type": "execute_result"
    }
   ],
   "source": [
    "battles['attacker_outcome'].value_counts().plot(kind='bar')\n",
    "plt.title(\"Attacker Outcome Distribution\") \n",
    "plt.ylabel(\"count\") \n",
    "plt.show()\n",
    "\n",
    "battles['attacker_outcome'].value_counts()"
   ]
  },
  {
   "cell_type": "markdown",
   "id": "returning-match",
   "metadata": {},
   "source": [
    "# Data Cleaning\n",
    "\n",
    "pada tahapan ini dilakukan pembersihan data yang telah didapatkan pada tahapan eksplorasi seperti memperbaiki baris data yang kurang tepat, mengisi baris data yang hilang, melakukan ekstraksi fitur/kolom baru serta melakukan penghapusan kolom yang memiliki nilai null diatas 60%"
   ]
  },
  {
   "cell_type": "code",
   "execution_count": 12,
   "id": "recent-liberia",
   "metadata": {
    "ExecuteTime": {
     "end_time": "2021-04-14T14:09:21.184168Z",
     "start_time": "2021-04-14T14:09:21.179183Z"
    }
   },
   "outputs": [],
   "source": [
    "df = battles.copy()"
   ]
  },
  {
   "cell_type": "markdown",
   "id": "differential-concept",
   "metadata": {
    "ExecuteTime": {
     "end_time": "2021-03-15T02:54:17.530075Z",
     "start_time": "2021-03-15T02:54:17.514454Z"
    }
   },
   "source": [
    "## *battle_type*  dan *attacker_outcome* pada baris ke-37\n",
    "\n",
    "melakukan input missing value pada kolom *battle_type* sesuai dengan battle *name* pada baris ke-37"
   ]
  },
  {
   "cell_type": "code",
   "execution_count": 13,
   "id": "separate-comparison",
   "metadata": {
    "ExecuteTime": {
     "end_time": "2021-04-14T14:09:21.309870Z",
     "start_time": "2021-04-14T14:09:21.188156Z"
    }
   },
   "outputs": [
    {
     "data": {
      "text/plain": [
       "name                Siege of Winterfell\n",
       "battle_type                         NaN\n",
       "attacker_outcome                    NaN\n",
       "Name: 37, dtype: object"
      ]
     },
     "execution_count": 13,
     "metadata": {},
     "output_type": "execute_result"
    }
   ],
   "source": [
    "df.loc[37,['name','battle_type','attacker_outcome']]"
   ]
  },
  {
   "cell_type": "code",
   "execution_count": 14,
   "id": "emerging-sacramento",
   "metadata": {
    "ExecuteTime": {
     "end_time": "2021-04-14T14:09:21.411564Z",
     "start_time": "2021-04-14T14:09:21.311826Z"
    }
   },
   "outputs": [],
   "source": [
    "df.loc[37, 'battle_type'] = 'siege'"
   ]
  },
  {
   "cell_type": "code",
   "execution_count": 15,
   "id": "acoustic-patrol",
   "metadata": {
    "ExecuteTime": {
     "end_time": "2021-04-14T14:09:21.516545Z",
     "start_time": "2021-04-14T14:09:21.414551Z"
    }
   },
   "outputs": [],
   "source": [
    "df.loc[37, 'attacker_outcome'] = 'win'"
   ]
  },
  {
   "cell_type": "code",
   "execution_count": 16,
   "id": "frequent-premises",
   "metadata": {
    "ExecuteTime": {
     "end_time": "2021-04-14T14:09:21.656911Z",
     "start_time": "2021-04-14T14:09:21.526254Z"
    }
   },
   "outputs": [
    {
     "data": {
      "text/plain": [
       "name                Siege of Winterfell\n",
       "battle_type                       siege\n",
       "attacker_outcome                    win\n",
       "Name: 37, dtype: object"
      ]
     },
     "execution_count": 16,
     "metadata": {},
     "output_type": "execute_result"
    }
   ],
   "source": [
    "df.loc[37,['name','battle_type','attacker_outcome']]"
   ]
  },
  {
   "cell_type": "markdown",
   "id": "binary-ecuador",
   "metadata": {},
   "source": [
    "## *attacker_king* dan *defender_king* baris ke-27\n",
    "melakukan penukaran nama *attacker_king* dan *defender_king* karena terjadi kesalahan pada dataset, hasil temuan dari eksplorasi dataset"
   ]
  },
  {
   "cell_type": "code",
   "execution_count": 17,
   "id": "together-characterization",
   "metadata": {
    "ExecuteTime": {
     "end_time": "2021-04-14T14:09:21.782567Z",
     "start_time": "2021-04-14T14:09:21.663885Z"
    }
   },
   "outputs": [
    {
     "data": {
      "text/plain": [
       "attacker_king    Stannis Baratheon\n",
       "defender_king         Mance Rayder\n",
       "Name: 27, dtype: object"
      ]
     },
     "execution_count": 17,
     "metadata": {},
     "output_type": "execute_result"
    }
   ],
   "source": [
    "df[['attacker_king','defender_king']].loc[27]"
   ]
  },
  {
   "cell_type": "code",
   "execution_count": 18,
   "id": "postal-country",
   "metadata": {
    "ExecuteTime": {
     "end_time": "2021-04-14T14:09:21.907233Z",
     "start_time": "2021-04-14T14:09:21.784563Z"
    }
   },
   "outputs": [],
   "source": [
    "df.loc[27, 'attacker_king'] = 'Mance Rayder'\n",
    "df.loc[27, 'defender_king'] = 'Stannis Baratheon'"
   ]
  },
  {
   "cell_type": "code",
   "execution_count": 19,
   "id": "premium-circuit",
   "metadata": {
    "ExecuteTime": {
     "end_time": "2021-04-14T14:09:22.031901Z",
     "start_time": "2021-04-14T14:09:21.909228Z"
    }
   },
   "outputs": [
    {
     "data": {
      "text/plain": [
       "attacker_king         Mance Rayder\n",
       "defender_king    Stannis Baratheon\n",
       "Name: 27, dtype: object"
      ]
     },
     "execution_count": 19,
     "metadata": {},
     "output_type": "execute_result"
    }
   ],
   "source": [
    "df[['attacker_king','defender_king']].loc[27]"
   ]
  },
  {
   "cell_type": "markdown",
   "id": "buried-isolation",
   "metadata": {},
   "source": [
    "## Feature Extraction"
   ]
  },
  {
   "cell_type": "markdown",
   "id": "continuous-miller",
   "metadata": {},
   "source": [
    "### *attacker_count* dan *defender_count*\n",
    "pada kolom *attacker_1* s/d *attacker_4* dan *defender_1* s/d *defender_4* terdapat banyak sekali nilai null (60%-100%), \\\n",
    "maka dari itu bisa dilakukan ekstraksi dengan cara menghitung jumlah attacker house dan defender house"
   ]
  },
  {
   "cell_type": "code",
   "execution_count": 20,
   "id": "hourly-relevance",
   "metadata": {
    "ExecuteTime": {
     "end_time": "2021-04-14T14:09:22.196462Z",
     "start_time": "2021-04-14T14:09:22.034892Z"
    }
   },
   "outputs": [],
   "source": [
    "df['attacker_count'] = np.nan\n",
    "df['defender_count'] = np.nan"
   ]
  },
  {
   "cell_type": "code",
   "execution_count": 21,
   "id": "amateur-youth",
   "metadata": {
    "ExecuteTime": {
     "end_time": "2021-04-14T14:09:22.312151Z",
     "start_time": "2021-04-14T14:09:22.199453Z"
    }
   },
   "outputs": [
    {
     "data": {
      "text/html": [
       "<div>\n",
       "<style scoped>\n",
       "    .dataframe tbody tr th:only-of-type {\n",
       "        vertical-align: middle;\n",
       "    }\n",
       "\n",
       "    .dataframe tbody tr th {\n",
       "        vertical-align: top;\n",
       "    }\n",
       "\n",
       "    .dataframe thead th {\n",
       "        text-align: right;\n",
       "    }\n",
       "</style>\n",
       "<table border=\"1\" class=\"dataframe\">\n",
       "  <thead>\n",
       "    <tr style=\"text-align: right;\">\n",
       "      <th></th>\n",
       "      <th>attacker_count</th>\n",
       "      <th>defender_count</th>\n",
       "    </tr>\n",
       "  </thead>\n",
       "  <tbody>\n",
       "    <tr>\n",
       "      <th>0</th>\n",
       "      <td>NaN</td>\n",
       "      <td>NaN</td>\n",
       "    </tr>\n",
       "    <tr>\n",
       "      <th>1</th>\n",
       "      <td>NaN</td>\n",
       "      <td>NaN</td>\n",
       "    </tr>\n",
       "    <tr>\n",
       "      <th>2</th>\n",
       "      <td>NaN</td>\n",
       "      <td>NaN</td>\n",
       "    </tr>\n",
       "    <tr>\n",
       "      <th>3</th>\n",
       "      <td>NaN</td>\n",
       "      <td>NaN</td>\n",
       "    </tr>\n",
       "    <tr>\n",
       "      <th>4</th>\n",
       "      <td>NaN</td>\n",
       "      <td>NaN</td>\n",
       "    </tr>\n",
       "  </tbody>\n",
       "</table>\n",
       "</div>"
      ],
      "text/plain": [
       "   attacker_count  defender_count\n",
       "0             NaN             NaN\n",
       "1             NaN             NaN\n",
       "2             NaN             NaN\n",
       "3             NaN             NaN\n",
       "4             NaN             NaN"
      ]
     },
     "execution_count": 21,
     "metadata": {},
     "output_type": "execute_result"
    }
   ],
   "source": [
    "df[['attacker_count','defender_count']].head()"
   ]
  },
  {
   "cell_type": "code",
   "execution_count": 22,
   "id": "exciting-circle",
   "metadata": {
    "ExecuteTime": {
     "end_time": "2021-04-14T14:09:22.580434Z",
     "start_time": "2021-04-14T14:09:22.314145Z"
    }
   },
   "outputs": [],
   "source": [
    "atk_count = []\n",
    "def_count = []\n",
    "for idx,row in df.iterrows():\n",
    "    atk_c = row[['attacker_1','attacker_2','attacker_3','attacker_4']].notnull().sum()\n",
    "    def_c = row[['defender_1','defender_2','defender_3','defender_4']].notnull().sum()\n",
    "    atk_count.append(atk_c)\n",
    "    def_count.append(def_c)\n",
    "df['attacker_count'] = atk_count\n",
    "df['defender_count'] = def_count"
   ]
  },
  {
   "cell_type": "code",
   "execution_count": 23,
   "id": "approximate-being",
   "metadata": {
    "ExecuteTime": {
     "end_time": "2021-04-14T14:09:22.678177Z",
     "start_time": "2021-04-14T14:09:22.582428Z"
    }
   },
   "outputs": [
    {
     "data": {
      "text/html": [
       "<div>\n",
       "<style scoped>\n",
       "    .dataframe tbody tr th:only-of-type {\n",
       "        vertical-align: middle;\n",
       "    }\n",
       "\n",
       "    .dataframe tbody tr th {\n",
       "        vertical-align: top;\n",
       "    }\n",
       "\n",
       "    .dataframe thead th {\n",
       "        text-align: right;\n",
       "    }\n",
       "</style>\n",
       "<table border=\"1\" class=\"dataframe\">\n",
       "  <thead>\n",
       "    <tr style=\"text-align: right;\">\n",
       "      <th></th>\n",
       "      <th>attacker_count</th>\n",
       "      <th>defender_count</th>\n",
       "    </tr>\n",
       "  </thead>\n",
       "  <tbody>\n",
       "    <tr>\n",
       "      <th>0</th>\n",
       "      <td>1</td>\n",
       "      <td>1</td>\n",
       "    </tr>\n",
       "    <tr>\n",
       "      <th>1</th>\n",
       "      <td>1</td>\n",
       "      <td>1</td>\n",
       "    </tr>\n",
       "    <tr>\n",
       "      <th>2</th>\n",
       "      <td>1</td>\n",
       "      <td>1</td>\n",
       "    </tr>\n",
       "    <tr>\n",
       "      <th>3</th>\n",
       "      <td>1</td>\n",
       "      <td>1</td>\n",
       "    </tr>\n",
       "    <tr>\n",
       "      <th>4</th>\n",
       "      <td>2</td>\n",
       "      <td>1</td>\n",
       "    </tr>\n",
       "  </tbody>\n",
       "</table>\n",
       "</div>"
      ],
      "text/plain": [
       "   attacker_count  defender_count\n",
       "0               1               1\n",
       "1               1               1\n",
       "2               1               1\n",
       "3               1               1\n",
       "4               2               1"
      ]
     },
     "execution_count": 23,
     "metadata": {},
     "output_type": "execute_result"
    }
   ],
   "source": [
    "df[['attacker_count','defender_count']].head()"
   ]
  },
  {
   "cell_type": "markdown",
   "id": "acknowledged-impression",
   "metadata": {},
   "source": [
    "### attacker_commander_count dan defender_commander_count\n",
    "menghitung jumlah attacker commander dan defender commander dengan melakukan ekstraksi nama - nama commander yang tersedia pada kolom *attacker_commander* dan *defender_commander*\n",
    "\n",
    "terdapat kolom dengan nilai null pada nama commander,sehingga disini bisa diisi dengan nilai 1 dengan anggapan raja yang menjadi commander dalam peperangan"
   ]
  },
  {
   "cell_type": "code",
   "execution_count": 24,
   "id": "radical-overview",
   "metadata": {
    "ExecuteTime": {
     "end_time": "2021-04-14T14:09:22.781914Z",
     "start_time": "2021-04-14T14:09:22.682162Z"
    }
   },
   "outputs": [],
   "source": [
    "df['attacker_commander_count'] = np.nan\n",
    "df['defender_commander_count'] = np.nan"
   ]
  },
  {
   "cell_type": "code",
   "execution_count": 25,
   "id": "italian-wealth",
   "metadata": {
    "ExecuteTime": {
     "end_time": "2021-04-14T14:09:22.902580Z",
     "start_time": "2021-04-14T14:09:22.783897Z"
    }
   },
   "outputs": [
    {
     "data": {
      "text/html": [
       "<div>\n",
       "<style scoped>\n",
       "    .dataframe tbody tr th:only-of-type {\n",
       "        vertical-align: middle;\n",
       "    }\n",
       "\n",
       "    .dataframe tbody tr th {\n",
       "        vertical-align: top;\n",
       "    }\n",
       "\n",
       "    .dataframe thead th {\n",
       "        text-align: right;\n",
       "    }\n",
       "</style>\n",
       "<table border=\"1\" class=\"dataframe\">\n",
       "  <thead>\n",
       "    <tr style=\"text-align: right;\">\n",
       "      <th></th>\n",
       "      <th>attacker_commander_count</th>\n",
       "      <th>defender_commander_count</th>\n",
       "    </tr>\n",
       "  </thead>\n",
       "  <tbody>\n",
       "    <tr>\n",
       "      <th>0</th>\n",
       "      <td>NaN</td>\n",
       "      <td>NaN</td>\n",
       "    </tr>\n",
       "    <tr>\n",
       "      <th>1</th>\n",
       "      <td>NaN</td>\n",
       "      <td>NaN</td>\n",
       "    </tr>\n",
       "    <tr>\n",
       "      <th>2</th>\n",
       "      <td>NaN</td>\n",
       "      <td>NaN</td>\n",
       "    </tr>\n",
       "    <tr>\n",
       "      <th>3</th>\n",
       "      <td>NaN</td>\n",
       "      <td>NaN</td>\n",
       "    </tr>\n",
       "    <tr>\n",
       "      <th>4</th>\n",
       "      <td>NaN</td>\n",
       "      <td>NaN</td>\n",
       "    </tr>\n",
       "  </tbody>\n",
       "</table>\n",
       "</div>"
      ],
      "text/plain": [
       "   attacker_commander_count  defender_commander_count\n",
       "0                       NaN                       NaN\n",
       "1                       NaN                       NaN\n",
       "2                       NaN                       NaN\n",
       "3                       NaN                       NaN\n",
       "4                       NaN                       NaN"
      ]
     },
     "execution_count": 25,
     "metadata": {},
     "output_type": "execute_result"
    }
   ],
   "source": [
    "df[['attacker_commander_count','defender_commander_count']].head()"
   ]
  },
  {
   "cell_type": "code",
   "execution_count": 26,
   "id": "legislative-bedroom",
   "metadata": {
    "ExecuteTime": {
     "end_time": "2021-04-14T14:09:23.015278Z",
     "start_time": "2021-04-14T14:09:22.906570Z"
    }
   },
   "outputs": [],
   "source": [
    "df['attacker_commander_count'] = df['attacker_commander'].str.split(',').str.len()\n",
    "df['defender_commander_count'] = df['defender_commander'].str.split(',').str.len()\n",
    "\n",
    "# mengubah nilai NaN menjadi 1, dengan anggapan raja menjadi commander \n",
    "df['attacker_commander_count'].fillna(value=1,inplace=True)\n",
    "df['defender_commander_count'].fillna(value=1,inplace=True)\n",
    "\n",
    "df['attacker_commander_count'] = df['attacker_commander_count'].astype('int64')\n",
    "df['defender_commander_count'] = df['defender_commander_count'].astype('int64')"
   ]
  },
  {
   "cell_type": "code",
   "execution_count": 27,
   "id": "appreciated-suite",
   "metadata": {
    "ExecuteTime": {
     "end_time": "2021-04-14T14:09:23.135955Z",
     "start_time": "2021-04-14T14:09:23.022261Z"
    }
   },
   "outputs": [
    {
     "data": {
      "text/html": [
       "<div>\n",
       "<style scoped>\n",
       "    .dataframe tbody tr th:only-of-type {\n",
       "        vertical-align: middle;\n",
       "    }\n",
       "\n",
       "    .dataframe tbody tr th {\n",
       "        vertical-align: top;\n",
       "    }\n",
       "\n",
       "    .dataframe thead th {\n",
       "        text-align: right;\n",
       "    }\n",
       "</style>\n",
       "<table border=\"1\" class=\"dataframe\">\n",
       "  <thead>\n",
       "    <tr style=\"text-align: right;\">\n",
       "      <th></th>\n",
       "      <th>attacker_commander_count</th>\n",
       "      <th>defender_commander_count</th>\n",
       "    </tr>\n",
       "  </thead>\n",
       "  <tbody>\n",
       "    <tr>\n",
       "      <th>33</th>\n",
       "      <td>2</td>\n",
       "      <td>1</td>\n",
       "    </tr>\n",
       "    <tr>\n",
       "      <th>34</th>\n",
       "      <td>2</td>\n",
       "      <td>1</td>\n",
       "    </tr>\n",
       "    <tr>\n",
       "      <th>35</th>\n",
       "      <td>3</td>\n",
       "      <td>1</td>\n",
       "    </tr>\n",
       "    <tr>\n",
       "      <th>36</th>\n",
       "      <td>2</td>\n",
       "      <td>1</td>\n",
       "    </tr>\n",
       "    <tr>\n",
       "      <th>37</th>\n",
       "      <td>1</td>\n",
       "      <td>1</td>\n",
       "    </tr>\n",
       "  </tbody>\n",
       "</table>\n",
       "</div>"
      ],
      "text/plain": [
       "    attacker_commander_count  defender_commander_count\n",
       "33                         2                         1\n",
       "34                         2                         1\n",
       "35                         3                         1\n",
       "36                         2                         1\n",
       "37                         1                         1"
      ]
     },
     "execution_count": 27,
     "metadata": {},
     "output_type": "execute_result"
    }
   ],
   "source": [
    "df[['attacker_commander_count','defender_commander_count']].tail()"
   ]
  },
  {
   "cell_type": "markdown",
   "id": "greatest-category",
   "metadata": {},
   "source": [
    "## Drop Column with Null Values\n",
    "pada saat melakukan eksplorasi terdapat kolom dengan persentase nilai null diatas 60% bahkan 100% khususnya pada kolom nama defender house dan attacker house. \\\n",
    "karena sudah dilakukan ekstraksi pada kolom - kolom yang diperlukan, maka kolom dengan nilai null diatas 60% akan dihapus"
   ]
  },
  {
   "cell_type": "code",
   "execution_count": 28,
   "id": "gross-governor",
   "metadata": {
    "ExecuteTime": {
     "end_time": "2021-04-14T14:09:23.256675Z",
     "start_time": "2021-04-14T14:09:23.140942Z"
    }
   },
   "outputs": [
    {
     "data": {
      "text/html": [
       "<div>\n",
       "<style scoped>\n",
       "    .dataframe tbody tr th:only-of-type {\n",
       "        vertical-align: middle;\n",
       "    }\n",
       "\n",
       "    .dataframe tbody tr th {\n",
       "        vertical-align: top;\n",
       "    }\n",
       "\n",
       "    .dataframe thead th {\n",
       "        text-align: right;\n",
       "    }\n",
       "</style>\n",
       "<table border=\"1\" class=\"dataframe\">\n",
       "  <thead>\n",
       "    <tr style=\"text-align: right;\">\n",
       "      <th></th>\n",
       "      <th>Total</th>\n",
       "      <th>Percentage</th>\n",
       "      <th>Dtype</th>\n",
       "    </tr>\n",
       "  </thead>\n",
       "  <tbody>\n",
       "    <tr>\n",
       "      <th>defender_4</th>\n",
       "      <td>38</td>\n",
       "      <td>100.000000</td>\n",
       "      <td>float64</td>\n",
       "    </tr>\n",
       "    <tr>\n",
       "      <th>defender_3</th>\n",
       "      <td>38</td>\n",
       "      <td>100.000000</td>\n",
       "      <td>float64</td>\n",
       "    </tr>\n",
       "    <tr>\n",
       "      <th>defender_2</th>\n",
       "      <td>36</td>\n",
       "      <td>94.736842</td>\n",
       "      <td>object</td>\n",
       "    </tr>\n",
       "    <tr>\n",
       "      <th>attacker_4</th>\n",
       "      <td>36</td>\n",
       "      <td>94.736842</td>\n",
       "      <td>object</td>\n",
       "    </tr>\n",
       "    <tr>\n",
       "      <th>attacker_3</th>\n",
       "      <td>35</td>\n",
       "      <td>92.105263</td>\n",
       "      <td>object</td>\n",
       "    </tr>\n",
       "    <tr>\n",
       "      <th>note</th>\n",
       "      <td>33</td>\n",
       "      <td>86.842105</td>\n",
       "      <td>object</td>\n",
       "    </tr>\n",
       "    <tr>\n",
       "      <th>attacker_2</th>\n",
       "      <td>28</td>\n",
       "      <td>73.684211</td>\n",
       "      <td>object</td>\n",
       "    </tr>\n",
       "    <tr>\n",
       "      <th>defender_size</th>\n",
       "      <td>19</td>\n",
       "      <td>50.000000</td>\n",
       "      <td>float64</td>\n",
       "    </tr>\n",
       "    <tr>\n",
       "      <th>attacker_size</th>\n",
       "      <td>14</td>\n",
       "      <td>36.842105</td>\n",
       "      <td>float64</td>\n",
       "    </tr>\n",
       "    <tr>\n",
       "      <th>defender_commander</th>\n",
       "      <td>10</td>\n",
       "      <td>26.315789</td>\n",
       "      <td>object</td>\n",
       "    </tr>\n",
       "  </tbody>\n",
       "</table>\n",
       "</div>"
      ],
      "text/plain": [
       "                    Total  Percentage    Dtype\n",
       "defender_4             38  100.000000  float64\n",
       "defender_3             38  100.000000  float64\n",
       "defender_2             36   94.736842   object\n",
       "attacker_4             36   94.736842   object\n",
       "attacker_3             35   92.105263   object\n",
       "note                   33   86.842105   object\n",
       "attacker_2             28   73.684211   object\n",
       "defender_size          19   50.000000  float64\n",
       "attacker_size          14   36.842105  float64\n",
       "defender_commander     10   26.315789   object"
      ]
     },
     "execution_count": 28,
     "metadata": {},
     "output_type": "execute_result"
    }
   ],
   "source": [
    "missing_values.head(10)"
   ]
  },
  {
   "cell_type": "code",
   "execution_count": 29,
   "id": "found-continent",
   "metadata": {
    "ExecuteTime": {
     "end_time": "2021-04-14T14:09:23.384335Z",
     "start_time": "2021-04-14T14:09:23.258627Z"
    }
   },
   "outputs": [],
   "source": [
    "df = df.loc[:, df.isnull().mean() <= .6]"
   ]
  },
  {
   "cell_type": "code",
   "execution_count": 30,
   "id": "recreational-regulation",
   "metadata": {
    "ExecuteTime": {
     "end_time": "2021-04-14T14:09:23.595258Z",
     "start_time": "2021-04-14T14:09:23.386288Z"
    }
   },
   "outputs": [
    {
     "name": "stdout",
     "output_type": "stream",
     "text": [
      "<class 'pandas.core.frame.DataFrame'>\n",
      "RangeIndex: 38 entries, 0 to 37\n",
      "Data columns (total 22 columns):\n",
      " #   Column                    Non-Null Count  Dtype  \n",
      "---  ------                    --------------  -----  \n",
      " 0   name                      38 non-null     object \n",
      " 1   year                      38 non-null     int64  \n",
      " 2   battle_number             38 non-null     int64  \n",
      " 3   attacker_king             36 non-null     object \n",
      " 4   defender_king             35 non-null     object \n",
      " 5   attacker_1                38 non-null     object \n",
      " 6   defender_1                37 non-null     object \n",
      " 7   attacker_outcome          38 non-null     object \n",
      " 8   battle_type               38 non-null     object \n",
      " 9   major_death               37 non-null     float64\n",
      " 10  major_capture             37 non-null     float64\n",
      " 11  attacker_size             24 non-null     float64\n",
      " 12  defender_size             19 non-null     float64\n",
      " 13  attacker_commander        37 non-null     object \n",
      " 14  defender_commander        28 non-null     object \n",
      " 15  summer                    37 non-null     float64\n",
      " 16  location                  37 non-null     object \n",
      " 17  region                    38 non-null     object \n",
      " 18  attacker_count            38 non-null     int64  \n",
      " 19  defender_count            38 non-null     int64  \n",
      " 20  attacker_commander_count  38 non-null     int64  \n",
      " 21  defender_commander_count  38 non-null     int64  \n",
      "dtypes: float64(5), int64(6), object(11)\n",
      "memory usage: 6.7+ KB\n"
     ]
    }
   ],
   "source": [
    "df.info()"
   ]
  },
  {
   "cell_type": "markdown",
   "id": "massive-shift",
   "metadata": {},
   "source": [
    "## Save Dataset\n",
    "menyimpan dataset yang sudah dibersihkan"
   ]
  },
  {
   "cell_type": "code",
   "execution_count": 31,
   "id": "configured-college",
   "metadata": {
    "ExecuteTime": {
     "end_time": "2021-04-14T14:09:23.743858Z",
     "start_time": "2021-04-14T14:09:23.598249Z"
    }
   },
   "outputs": [],
   "source": [
    "df.to_csv('dataset/battles_cleaned.csv',index=False)"
   ]
  },
  {
   "cell_type": "markdown",
   "id": "prescription-significance",
   "metadata": {},
   "source": [
    "# Data Visualization\n",
    "\n",
    "Visualisasi data dilakukan untuk menampilkan informasi - informasi yang terdapat dalam dataset agar mendapatkan pemahaman yang lebih jelas.\n",
    "\n",
    "Dilakukan setelah data dibersihkan untuk menampilkan informasi menarik dari data yang telah diolah."
   ]
  },
  {
   "cell_type": "code",
   "execution_count": 32,
   "id": "abandoned-south",
   "metadata": {
    "ExecuteTime": {
     "end_time": "2021-04-14T14:09:23.866491Z",
     "start_time": "2021-04-14T14:09:23.745853Z"
    }
   },
   "outputs": [],
   "source": [
    "df = pd.read_csv('dataset/battles_cleaned.csv')"
   ]
  },
  {
   "cell_type": "markdown",
   "id": "respected-cooler",
   "metadata": {},
   "source": [
    "## Most Aggresive King"
   ]
  },
  {
   "cell_type": "code",
   "execution_count": 33,
   "id": "streaming-piece",
   "metadata": {
    "ExecuteTime": {
     "end_time": "2021-04-14T14:09:24.439962Z",
     "start_time": "2021-04-14T14:09:23.868488Z"
    }
   },
   "outputs": [
    {
     "data": {
      "image/png": "[encoded data removed]",
      "text/plain": [
       "<Figure size 720x360 with 1 Axes>"
      ]
     },
     "metadata": {
      "needs_background": "light"
     },
     "output_type": "display_data"
    }
   ],
   "source": [
    "atk_king = sns.catplot(y='attacker_king',\n",
    "                       data=df,\n",
    "                       kind='count',\n",
    "                       height=5,\n",
    "                       aspect=2)\n",
    "atk_king.ax.set_xticks(range(0,16))\n",
    "plt.title(\"Most Aggressive King\") \n",
    "plt.show()"
   ]
  },
  {
   "cell_type": "markdown",
   "id": "written-westminster",
   "metadata": {},
   "source": [
    "## Most Defensive King"
   ]
  },
  {
   "cell_type": "code",
   "execution_count": 34,
   "id": "molecular-holmes",
   "metadata": {
    "ExecuteTime": {
     "end_time": "2021-04-14T14:09:24.817950Z",
     "start_time": "2021-04-14T14:09:24.448937Z"
    }
   },
   "outputs": [
    {
     "data": {
      "image/png": "[encoded data removed]",
      "text/plain": [
       "<Figure size 720x360 with 1 Axes>"
      ]
     },
     "metadata": {
      "needs_background": "light"
     },
     "output_type": "display_data"
    }
   ],
   "source": [
    "def_king = sns.catplot(y='defender_king',\n",
    "                       data=df,\n",
    "                       kind='count',\n",
    "                       height=5,\n",
    "                       aspect=2)\n",
    "def_king.ax.set_xticks(range(0,16))\n",
    "plt.title(\"Most Defensive King\") \n",
    "plt.show()"
   ]
  },
  {
   "cell_type": "markdown",
   "id": "legislative-proceeding",
   "metadata": {},
   "source": [
    "## Attacker Army Size"
   ]
  },
  {
   "cell_type": "code",
   "execution_count": 35,
   "id": "excessive-steam",
   "metadata": {
    "ExecuteTime": {
     "end_time": "2021-04-14T14:09:25.065940Z",
     "start_time": "2021-04-14T14:09:24.819945Z"
    }
   },
   "outputs": [
    {
     "data": {
      "image/png": "[encoded data removed]",
      "text/plain": [
       "<Figure size 432x288 with 1 Axes>"
      ]
     },
     "metadata": {
      "needs_background": "light"
     },
     "output_type": "display_data"
    }
   ],
   "source": [
    "attacker_army = df['attacker_size'].groupby(df['attacker_king']).sum().reset_index().sort_values(by='attacker_size',ascending=False)\n",
    "atk_size_plot = sns.barplot(y='attacker_king',\n",
    "                      x='attacker_size',\n",
    "                      data=attacker_army)\n",
    "plt.title(\"Attacker Army Size\") \n",
    "plt.show()"
   ]
  },
  {
   "cell_type": "markdown",
   "id": "considered-declaration",
   "metadata": {
    "ExecuteTime": {
     "end_time": "2021-03-29T10:33:38.655170Z",
     "start_time": "2021-03-29T10:33:38.651183Z"
    }
   },
   "source": [
    "## Defender Army Size"
   ]
  },
  {
   "cell_type": "code",
   "execution_count": 36,
   "id": "herbal-strap",
   "metadata": {
    "ExecuteTime": {
     "end_time": "2021-04-14T14:09:25.303313Z",
     "start_time": "2021-04-14T14:09:25.067935Z"
    }
   },
   "outputs": [
    {
     "data": {
      "image/png": "[encoded data removed]",
      "text/plain": [
       "<Figure size 432x288 with 1 Axes>"
      ]
     },
     "metadata": {
      "needs_background": "light"
     },
     "output_type": "display_data"
    }
   ],
   "source": [
    "defender_army = df['defender_size'].groupby(df['defender_king']).sum().reset_index().sort_values(by='defender_size',ascending=False)\n",
    "def_size_plot = sns.barplot(y='defender_king',\n",
    "                      x='defender_size',\n",
    "                      data=defender_army)\n",
    "plt.title(\"Defender Army Size\") \n",
    "plt.show()"
   ]
  },
  {
   "cell_type": "code",
   "execution_count": 37,
   "id": "sized-grave",
   "metadata": {
    "ExecuteTime": {
     "end_time": "2021-04-14T14:09:25.854468Z",
     "start_time": "2021-04-14T14:09:25.306304Z"
    }
   },
   "outputs": [
    {
     "data": {
      "image/png": "[encoded data removed]",
      "text/plain": [
       "<Figure size 864x720 with 2 Axes>"
      ]
     },
     "metadata": {},
     "output_type": "display_data"
    }
   ],
   "source": [
    "attacker_army = df['attacker_size'].groupby(df['attacker_king']).sum().reset_index().sort_values(by='attacker_size',ascending=False)\n",
    "defender_army = df['defender_size'].groupby(df['defender_king']).sum().reset_index().sort_values(by='defender_size',ascending=False)\n",
    "\n",
    "sns.set(rc={'figure.figsize':(12,10)})\n",
    "fig, ax =plt.subplots(1,2)\n",
    "\n",
    "atk_size_plot = sns.barplot(y='attacker_king',\n",
    "                      x='attacker_size',\n",
    "                      data=attacker_army, ax=ax[0])\n",
    "def_size_plot = sns.barplot(y='defender_king',\n",
    "                      x='defender_size',\n",
    "                      data=defender_army, ax=ax[1])\n",
    "fig.show()"
   ]
  },
  {
   "cell_type": "markdown",
   "id": "introductory-radio",
   "metadata": {},
   "source": [
    "## Total of Attacker Commander"
   ]
  },
  {
   "cell_type": "code",
   "execution_count": 38,
   "id": "static-memorabilia",
   "metadata": {
    "ExecuteTime": {
     "end_time": "2021-04-14T14:09:26.152675Z",
     "start_time": "2021-04-14T14:09:25.857460Z"
    }
   },
   "outputs": [
    {
     "data": {
      "image/png": "[encoded data removed]",
      "text/plain": [
       "<Figure size 864x720 with 1 Axes>"
      ]
     },
     "metadata": {},
     "output_type": "display_data"
    }
   ],
   "source": [
    "data = df['attacker_commander_count'].groupby(df['attacker_king']).sum().reset_index().sort_values(by='attacker_commander_count',ascending=False)\n",
    "atk_cmd = sns.barplot(y='attacker_king',\n",
    "                      x='attacker_commander_count',\n",
    "                      data=data)\n",
    "plt.title(\"Total of Attacker Commander\") \n",
    "plt.show()"
   ]
  },
  {
   "cell_type": "markdown",
   "id": "tamil-dollar",
   "metadata": {},
   "source": [
    "## Battle Outcome"
   ]
  },
  {
   "cell_type": "code",
   "execution_count": 39,
   "id": "short-shell",
   "metadata": {
    "ExecuteTime": {
     "end_time": "2021-04-14T14:09:26.886251Z",
     "start_time": "2021-04-14T14:09:26.156661Z"
    }
   },
   "outputs": [
    {
     "data": {
      "image/png": "[encoded data removed]",
      "text/plain": [
       "<Figure size 824.3x360 with 1 Axes>"
      ]
     },
     "metadata": {},
     "output_type": "display_data"
    }
   ],
   "source": [
    "battle_outcome = sns.catplot(y='attacker_king',\n",
    "                             hue='attacker_outcome',\n",
    "                             kind='count',\n",
    "                             data=df,\n",
    "                             height=5,\n",
    "                             aspect=2)\n",
    "battle_outcome.ax.set_xticks(range(0,16))\n",
    "plt.title(\"Battle Outcome\") \n",
    "plt.show()"
   ]
  },
  {
   "cell_type": "markdown",
   "id": "attended-locking",
   "metadata": {},
   "source": [
    "## The Type of War that Each King Won The Most"
   ]
  },
  {
   "cell_type": "code",
   "execution_count": 40,
   "id": "colonial-maximum",
   "metadata": {
    "ExecuteTime": {
     "end_time": "2021-04-14T14:09:27.607208Z",
     "start_time": "2021-04-14T14:09:26.888246Z"
    }
   },
   "outputs": [
    {
     "data": {
      "image/png": "[encoded data removed]",
      "text/plain": [
       "<Figure size 825.475x360 with 1 Axes>"
      ]
     },
     "metadata": {},
     "output_type": "display_data"
    }
   ],
   "source": [
    "win = df[df['attacker_outcome']=='win']\n",
    "xs = sns.catplot(y='attacker_king', \n",
    "            hue='battle_type', \n",
    "            kind='count',\n",
    "            data=win,\n",
    "            height=5,\n",
    "            aspect=2)\n",
    "xs.ax.set_xticks(range(0,7))\n",
    "plt.title(\"Battle Outcome\") \n",
    "plt.show()"
   ]
  },
  {
   "cell_type": "markdown",
   "id": "through-melissa",
   "metadata": {},
   "source": [
    "## Correlation of Army Size"
   ]
  },
  {
   "cell_type": "code",
   "execution_count": 41,
   "id": "foster-photography",
   "metadata": {
    "ExecuteTime": {
     "end_time": "2021-04-14T14:09:28.177753Z",
     "start_time": "2021-04-14T14:09:27.616186Z"
    },
    "scrolled": false
   },
   "outputs": [
    {
     "data": {
      "text/plain": [
       "<AxesSubplot:xlabel='defender_size', ylabel='attacker_size'>"
      ]
     },
     "execution_count": 41,
     "metadata": {},
     "output_type": "execute_result"
    },
    {
     "data": {
      "image/png": "[encoded data removed]",
      "text/plain": [
       "<Figure size 864x720 with 1 Axes>"
      ]
     },
     "metadata": {},
     "output_type": "display_data"
    }
   ],
   "source": [
    "sns.scatterplot(data=df, x=\"defender_size\", y=\"attacker_size\",hue=\"attacker_outcome\")"
   ]
  },
  {
   "cell_type": "code",
   "execution_count": 42,
   "id": "broad-accessory",
   "metadata": {
    "ExecuteTime": {
     "end_time": "2021-04-14T14:09:28.220637Z",
     "start_time": "2021-04-14T14:09:28.180744Z"
    }
   },
   "outputs": [
    {
     "data": {
      "text/html": [
       "<div>\n",
       "<style scoped>\n",
       "    .dataframe tbody tr th:only-of-type {\n",
       "        vertical-align: middle;\n",
       "    }\n",
       "\n",
       "    .dataframe tbody tr th {\n",
       "        vertical-align: top;\n",
       "    }\n",
       "\n",
       "    .dataframe thead th {\n",
       "        text-align: right;\n",
       "    }\n",
       "</style>\n",
       "<table border=\"1\" class=\"dataframe\">\n",
       "  <thead>\n",
       "    <tr style=\"text-align: right;\">\n",
       "      <th></th>\n",
       "      <th>attacker_king</th>\n",
       "      <th>attacker_size</th>\n",
       "      <th>defender_size</th>\n",
       "    </tr>\n",
       "  </thead>\n",
       "  <tbody>\n",
       "    <tr>\n",
       "      <th>0</th>\n",
       "      <td>Balon/Euron Greyjoy</td>\n",
       "      <td>1284.0</td>\n",
       "      <td>1100.0</td>\n",
       "    </tr>\n",
       "    <tr>\n",
       "      <th>1</th>\n",
       "      <td>Joffrey/Tommen Baratheon</td>\n",
       "      <td>60618.0</td>\n",
       "      <td>63975.0</td>\n",
       "    </tr>\n",
       "    <tr>\n",
       "      <th>2</th>\n",
       "      <td>Mance Rayder</td>\n",
       "      <td>100000.0</td>\n",
       "      <td>0.0</td>\n",
       "    </tr>\n",
       "    <tr>\n",
       "      <th>3</th>\n",
       "      <td>Robb Stark</td>\n",
       "      <td>41219.0</td>\n",
       "      <td>35620.0</td>\n",
       "    </tr>\n",
       "    <tr>\n",
       "      <th>4</th>\n",
       "      <td>Stannis Baratheon</td>\n",
       "      <td>35500.0</td>\n",
       "      <td>1440.0</td>\n",
       "    </tr>\n",
       "    <tr>\n",
       "      <th>5</th>\n",
       "      <td>Renly Baratheon</td>\n",
       "      <td>0.0</td>\n",
       "      <td>20000.0</td>\n",
       "    </tr>\n",
       "  </tbody>\n",
       "</table>\n",
       "</div>"
      ],
      "text/plain": [
       "              attacker_king  attacker_size  defender_size\n",
       "0       Balon/Euron Greyjoy         1284.0         1100.0\n",
       "1  Joffrey/Tommen Baratheon        60618.0        63975.0\n",
       "2              Mance Rayder       100000.0            0.0\n",
       "3                Robb Stark        41219.0        35620.0\n",
       "4         Stannis Baratheon        35500.0         1440.0\n",
       "5           Renly Baratheon            0.0        20000.0"
      ]
     },
     "execution_count": 42,
     "metadata": {},
     "output_type": "execute_result"
    }
   ],
   "source": [
    "atk = df[['attacker_king',\n",
    "    'attacker_size']\n",
    "  ].groupby(df['attacker_king']).sum()\n",
    "\n",
    "\n",
    "deff = df[['defender_king',\n",
    "    'defender_size']\n",
    "  ].groupby(df['defender_king']).sum()\n",
    "\n",
    "df2 = pd.merge(atk.reset_index(),deff.reset_index(),left_on='attacker_king',right_on='defender_king',how='outer')\n",
    "df2.loc[5,'attacker_king'] = 'Renly Baratheon'\n",
    "df2.drop(columns=['defender_king'],inplace=True)\n",
    "df2 = df2.replace(np.nan,0)\n",
    "df2"
   ]
  },
  {
   "cell_type": "markdown",
   "id": "present-costa",
   "metadata": {},
   "source": [
    "# Data Pre-processing"
   ]
  },
  {
   "cell_type": "code",
   "execution_count": 43,
   "id": "chemical-program",
   "metadata": {
    "ExecuteTime": {
     "end_time": "2021-04-14T14:09:28.307419Z",
     "start_time": "2021-04-14T14:09:28.222632Z"
    }
   },
   "outputs": [],
   "source": [
    "df = pd.read_csv('dataset/battles_cleaned.csv')"
   ]
  },
  {
   "cell_type": "markdown",
   "id": "reverse-spray",
   "metadata": {},
   "source": [
    "## Drop Unused Column\n",
    "\n",
    "\n",
    "`battle_number` hanya nomor baris \\\n",
    "`name` hanya nama pertempuran dan kurang informatif untuk model \\\n",
    "`year` berisi tahun peperangan yang kurang informatif untuk model \\\n",
    "`attacker_commander` dan `defender_commander` kurang informatif karena berisi nama komander dipisah dengan spasi"
   ]
  },
  {
   "cell_type": "code",
   "execution_count": 44,
   "id": "applied-humidity",
   "metadata": {
    "ExecuteTime": {
     "end_time": "2021-04-14T14:09:28.426097Z",
     "start_time": "2021-04-14T14:09:28.311404Z"
    }
   },
   "outputs": [],
   "source": [
    "df.drop(columns=['battle_number','name','year','attacker_commander','defender_commander'],inplace=True)"
   ]
  },
  {
   "cell_type": "code",
   "execution_count": 45,
   "id": "banner-pregnancy",
   "metadata": {
    "ExecuteTime": {
     "end_time": "2021-04-14T14:09:28.579692Z",
     "start_time": "2021-04-14T14:09:28.432095Z"
    }
   },
   "outputs": [
    {
     "name": "stdout",
     "output_type": "stream",
     "text": [
      "<class 'pandas.core.frame.DataFrame'>\n",
      "RangeIndex: 38 entries, 0 to 37\n",
      "Data columns (total 17 columns):\n",
      " #   Column                    Non-Null Count  Dtype  \n",
      "---  ------                    --------------  -----  \n",
      " 0   attacker_king             36 non-null     object \n",
      " 1   defender_king             35 non-null     object \n",
      " 2   attacker_1                38 non-null     object \n",
      " 3   defender_1                37 non-null     object \n",
      " 4   attacker_outcome          38 non-null     object \n",
      " 5   battle_type               38 non-null     object \n",
      " 6   major_death               37 non-null     float64\n",
      " 7   major_capture             37 non-null     float64\n",
      " 8   attacker_size             24 non-null     float64\n",
      " 9   defender_size             19 non-null     float64\n",
      " 10  summer                    37 non-null     float64\n",
      " 11  location                  37 non-null     object \n",
      " 12  region                    38 non-null     object \n",
      " 13  attacker_count            38 non-null     int64  \n",
      " 14  defender_count            38 non-null     int64  \n",
      " 15  attacker_commander_count  38 non-null     int64  \n",
      " 16  defender_commander_count  38 non-null     int64  \n",
      "dtypes: float64(5), int64(4), object(8)\n",
      "memory usage: 5.2+ KB\n"
     ]
    }
   ],
   "source": [
    "df.info()"
   ]
  },
  {
   "cell_type": "markdown",
   "id": "existing-booth",
   "metadata": {},
   "source": [
    "## Data Encoding\n",
    "\\\n",
    "menggunakan LabelEncoder untuk encode karena tidak berpengaruh pada nilai NaN sedangkan OrdinalEncoder tidak bisa menghandle nilai NaN\n",
    "diperlukan Encoding untuk dataset (khususnya data kategori) sebelum dilakukan Imputasi"
   ]
  },
  {
   "cell_type": "code",
   "execution_count": 46,
   "id": "rubber-throw",
   "metadata": {
    "ExecuteTime": {
     "end_time": "2021-04-14T14:09:28.971656Z",
     "start_time": "2021-04-14T14:09:28.581687Z"
    }
   },
   "outputs": [],
   "source": [
    "from sklearn.preprocessing import LabelEncoder\n",
    "\n",
    "le = LabelEncoder()\n",
    "np.random.seed(1772023)\n",
    "df[df.select_dtypes(['object']).columns] = df.select_dtypes(['object']).apply(lambda x: le.fit_transform(x.astype(str)))"
   ]
  },
  {
   "cell_type": "code",
   "execution_count": 47,
   "id": "nonprofit-suffering",
   "metadata": {
    "ExecuteTime": {
     "end_time": "2021-04-14T14:09:29.001565Z",
     "start_time": "2021-04-14T14:09:28.973639Z"
    }
   },
   "outputs": [
    {
     "data": {
      "text/html": [
       "<div>\n",
       "<style scoped>\n",
       "    .dataframe tbody tr th:only-of-type {\n",
       "        vertical-align: middle;\n",
       "    }\n",
       "\n",
       "    .dataframe tbody tr th {\n",
       "        vertical-align: top;\n",
       "    }\n",
       "\n",
       "    .dataframe thead th {\n",
       "        text-align: right;\n",
       "    }\n",
       "</style>\n",
       "<table border=\"1\" class=\"dataframe\">\n",
       "  <thead>\n",
       "    <tr style=\"text-align: right;\">\n",
       "      <th></th>\n",
       "      <th>attacker_king</th>\n",
       "      <th>defender_king</th>\n",
       "      <th>attacker_1</th>\n",
       "      <th>defender_1</th>\n",
       "      <th>attacker_outcome</th>\n",
       "      <th>battle_type</th>\n",
       "      <th>major_death</th>\n",
       "      <th>major_capture</th>\n",
       "      <th>attacker_size</th>\n",
       "      <th>defender_size</th>\n",
       "      <th>summer</th>\n",
       "      <th>location</th>\n",
       "      <th>region</th>\n",
       "      <th>attacker_count</th>\n",
       "      <th>defender_count</th>\n",
       "      <th>attacker_commander_count</th>\n",
       "      <th>defender_commander_count</th>\n",
       "    </tr>\n",
       "  </thead>\n",
       "  <tbody>\n",
       "    <tr>\n",
       "      <th>0</th>\n",
       "      <td>1</td>\n",
       "      <td>3</td>\n",
       "      <td>9</td>\n",
       "      <td>10</td>\n",
       "      <td>1</td>\n",
       "      <td>1</td>\n",
       "      <td>1.0</td>\n",
       "      <td>0.0</td>\n",
       "      <td>15000.0</td>\n",
       "      <td>4000.0</td>\n",
       "      <td>1.0</td>\n",
       "      <td>6</td>\n",
       "      <td>6</td>\n",
       "      <td>1</td>\n",
       "      <td>1</td>\n",
       "      <td>1</td>\n",
       "      <td>2</td>\n",
       "    </tr>\n",
       "    <tr>\n",
       "      <th>1</th>\n",
       "      <td>1</td>\n",
       "      <td>3</td>\n",
       "      <td>9</td>\n",
       "      <td>0</td>\n",
       "      <td>1</td>\n",
       "      <td>0</td>\n",
       "      <td>1.0</td>\n",
       "      <td>0.0</td>\n",
       "      <td>NaN</td>\n",
       "      <td>120.0</td>\n",
       "      <td>1.0</td>\n",
       "      <td>11</td>\n",
       "      <td>4</td>\n",
       "      <td>1</td>\n",
       "      <td>1</td>\n",
       "      <td>1</td>\n",
       "      <td>1</td>\n",
       "    </tr>\n",
       "    <tr>\n",
       "      <th>2</th>\n",
       "      <td>1</td>\n",
       "      <td>3</td>\n",
       "      <td>9</td>\n",
       "      <td>10</td>\n",
       "      <td>1</td>\n",
       "      <td>1</td>\n",
       "      <td>0.0</td>\n",
       "      <td>1.0</td>\n",
       "      <td>15000.0</td>\n",
       "      <td>10000.0</td>\n",
       "      <td>1.0</td>\n",
       "      <td>15</td>\n",
       "      <td>4</td>\n",
       "      <td>1</td>\n",
       "      <td>1</td>\n",
       "      <td>2</td>\n",
       "      <td>2</td>\n",
       "    </tr>\n",
       "    <tr>\n",
       "      <th>3</th>\n",
       "      <td>3</td>\n",
       "      <td>1</td>\n",
       "      <td>10</td>\n",
       "      <td>6</td>\n",
       "      <td>0</td>\n",
       "      <td>1</td>\n",
       "      <td>1.0</td>\n",
       "      <td>1.0</td>\n",
       "      <td>18000.0</td>\n",
       "      <td>20000.0</td>\n",
       "      <td>1.0</td>\n",
       "      <td>7</td>\n",
       "      <td>4</td>\n",
       "      <td>1</td>\n",
       "      <td>1</td>\n",
       "      <td>5</td>\n",
       "      <td>4</td>\n",
       "    </tr>\n",
       "    <tr>\n",
       "      <th>4</th>\n",
       "      <td>3</td>\n",
       "      <td>1</td>\n",
       "      <td>10</td>\n",
       "      <td>6</td>\n",
       "      <td>1</td>\n",
       "      <td>0</td>\n",
       "      <td>1.0</td>\n",
       "      <td>1.0</td>\n",
       "      <td>1875.0</td>\n",
       "      <td>6000.0</td>\n",
       "      <td>1.0</td>\n",
       "      <td>25</td>\n",
       "      <td>4</td>\n",
       "      <td>2</td>\n",
       "      <td>1</td>\n",
       "      <td>2</td>\n",
       "      <td>1</td>\n",
       "    </tr>\n",
       "  </tbody>\n",
       "</table>\n",
       "</div>"
      ],
      "text/plain": [
       "   attacker_king  defender_king  attacker_1  defender_1  attacker_outcome  \\\n",
       "0              1              3           9          10                 1   \n",
       "1              1              3           9           0                 1   \n",
       "2              1              3           9          10                 1   \n",
       "3              3              1          10           6                 0   \n",
       "4              3              1          10           6                 1   \n",
       "\n",
       "   battle_type  major_death  major_capture  attacker_size  defender_size  \\\n",
       "0            1          1.0            0.0        15000.0         4000.0   \n",
       "1            0          1.0            0.0            NaN          120.0   \n",
       "2            1          0.0            1.0        15000.0        10000.0   \n",
       "3            1          1.0            1.0        18000.0        20000.0   \n",
       "4            0          1.0            1.0         1875.0         6000.0   \n",
       "\n",
       "   summer  location  region  attacker_count  defender_count  \\\n",
       "0     1.0         6       6               1               1   \n",
       "1     1.0        11       4               1               1   \n",
       "2     1.0        15       4               1               1   \n",
       "3     1.0         7       4               1               1   \n",
       "4     1.0        25       4               2               1   \n",
       "\n",
       "   attacker_commander_count  defender_commander_count  \n",
       "0                         1                         2  \n",
       "1                         1                         1  \n",
       "2                         2                         2  \n",
       "3                         5                         4  \n",
       "4                         2                         1  "
      ]
     },
     "execution_count": 47,
     "metadata": {},
     "output_type": "execute_result"
    }
   ],
   "source": [
    "df.head()"
   ]
  },
  {
   "cell_type": "markdown",
   "id": "annoying-gnome",
   "metadata": {},
   "source": [
    "## Set Train Features and Target"
   ]
  },
  {
   "cell_type": "code",
   "execution_count": 48,
   "id": "norman-serbia",
   "metadata": {
    "ExecuteTime": {
     "end_time": "2021-04-14T14:09:29.128233Z",
     "start_time": "2021-04-14T14:09:29.005560Z"
    }
   },
   "outputs": [],
   "source": [
    "y = df['attacker_outcome']\n",
    "X = df.drop(columns='attacker_outcome')"
   ]
  },
  {
   "cell_type": "markdown",
   "id": "abroad-session",
   "metadata": {},
   "source": [
    "\n",
    "## Data Imputation"
   ]
  },
  {
   "cell_type": "markdown",
   "id": "honey-accused",
   "metadata": {},
   "source": [
    "### Finding The Right Method for Imputation\n",
    "\n",
    "menggunakan metode `iterativeImputer` dan `SimpleImputer` untuk mencari metode yang cocok (nilai error terkecil pada saat prediksi) untuk melakukan pengisian nilai null\n",
    "\n",
    "referensi: [imputing missing values with variants of iterativeimputer - scikit-learn](https://scikit-learn.org/stable/auto_examples/impute/plot_iterative_imputer_variants_comparison.html#imputing-missing-values-with-variants-of-iterativeimputer)"
   ]
  },
  {
   "cell_type": "code",
   "execution_count": 49,
   "id": "thirty-elements",
   "metadata": {
    "ExecuteTime": {
     "end_time": "2021-04-14T14:09:38.949809Z",
     "start_time": "2021-04-14T14:09:29.135211Z"
    }
   },
   "outputs": [
    {
     "data": {
      "image/png": "[encoded data removed]",
      "text/plain": [
       "<Figure size 936x432 with 1 Axes>"
      ]
     },
     "metadata": {},
     "output_type": "display_data"
    }
   ],
   "source": [
    "from sklearn.experimental import enable_iterative_imputer  \n",
    "from sklearn.impute import SimpleImputer, IterativeImputer\n",
    "\n",
    "from sklearn.pipeline import make_pipeline\n",
    "from sklearn.model_selection import cross_val_score\n",
    "from sklearn.preprocessing import StandardScaler\n",
    "\n",
    "from sklearn.linear_model import BayesianRidge\n",
    "from sklearn.tree import DecisionTreeRegressor\n",
    "from sklearn.ensemble import ExtraTreesRegressor\n",
    "from sklearn.neighbors import KNeighborsRegressor\n",
    "\n",
    "\n",
    "df_y = df['attacker_outcome']\n",
    "df_X = df.drop(columns='attacker_outcome')\n",
    "\n",
    "N_SPLITS = 5\n",
    "br_estimator = BayesianRidge()\n",
    "\n",
    "np.random.seed(1772023)\n",
    "\n",
    "# Estimate the score after imputation (mean and median strategies)\n",
    "score_simple_imputer = pd.DataFrame()\n",
    "for strategy in ('mean', 'median'):\n",
    "    estimator = make_pipeline(\n",
    "        StandardScaler(),\n",
    "        SimpleImputer(missing_values=np.nan, strategy=strategy),\n",
    "        br_estimator\n",
    "    )\n",
    "    score_simple_imputer[strategy] = cross_val_score(\n",
    "        estimator, df_X, df_y, scoring='neg_mean_squared_error',\n",
    "        cv=N_SPLITS\n",
    "    )\n",
    "    \n",
    "# Estimate the score after iterative imputation of the missing values\n",
    "# with different estimators\n",
    "estimators = [\n",
    "    BayesianRidge(),\n",
    "    DecisionTreeRegressor(max_features='sqrt', random_state=0),\n",
    "    ExtraTreesRegressor(n_estimators=10, random_state=0),\n",
    "    KNeighborsRegressor(n_neighbors=6)\n",
    "]\n",
    "\n",
    "score_iterative_imputer = pd.DataFrame()\n",
    "for impute_estimator in estimators:\n",
    "    estimator = make_pipeline(\n",
    "        StandardScaler(),\n",
    "        IterativeImputer(random_state=0, estimator=impute_estimator),\n",
    "        br_estimator\n",
    "    )\n",
    "    score_iterative_imputer[impute_estimator.__class__.__name__] = \\\n",
    "        cross_val_score(\n",
    "            estimator, df_X, df_y, scoring='neg_mean_squared_error',\n",
    "            cv=N_SPLITS\n",
    "    )\n",
    "\n",
    "scores = pd.concat(\n",
    "    [score_simple_imputer, score_iterative_imputer],\n",
    "    keys=['SimpleImputer', 'IterativeImputer'], axis=1\n",
    ")\n",
    "\n",
    "# plot results\n",
    "fig, ax = plt.subplots(figsize=(13, 6))\n",
    "means = -scores.mean().sort_values()\n",
    "errors = scores.std().sort_values()\n",
    "means.plot.barh(xerr=errors, ax=ax)\n",
    "ax.set_title('Perbandingan Imputasi Menggunakan berbagai Model')\n",
    "ax.set_xlabel('MSE (smaller is better)')\n",
    "ax.set_yticks(np.arange(means.shape[0]))\n",
    "ax.set_yticklabels([\" w/ \".join(label) for label in means.index.tolist()])\n",
    "plt.tight_layout(pad=1)\n",
    "plt.show()"
   ]
  },
  {
   "cell_type": "code",
   "execution_count": 50,
   "id": "photographic-questionnaire",
   "metadata": {
    "ExecuteTime": {
     "end_time": "2021-04-14T14:09:38.974755Z",
     "start_time": "2021-04-14T14:09:38.954805Z"
    }
   },
   "outputs": [
    {
     "data": {
      "text/plain": [
       "IterativeImputer  DecisionTreeRegressor    0.072222\n",
       "                  ExtraTreesRegressor      0.079369\n",
       "                  BayesianRidge            0.079461\n",
       "SimpleImputer     mean                     0.079595\n",
       "IterativeImputer  KNeighborsRegressor      0.080226\n",
       "SimpleImputer     median                   0.084144\n",
       "dtype: float64"
      ]
     },
     "execution_count": 50,
     "metadata": {},
     "output_type": "execute_result"
    }
   ],
   "source": [
    "-scores.mean().sort_values(ascending=False)"
   ]
  },
  {
   "cell_type": "markdown",
   "id": "accepted-specific",
   "metadata": {},
   "source": [
    "### Imputation"
   ]
  },
  {
   "cell_type": "code",
   "execution_count": 51,
   "id": "occasional-execution",
   "metadata": {
    "ExecuteTime": {
     "end_time": "2021-04-14T14:09:39.517922Z",
     "start_time": "2021-04-14T14:09:38.985714Z"
    }
   },
   "outputs": [],
   "source": [
    "from sklearn.tree import DecisionTreeRegressor\n",
    "from sklearn.experimental import enable_iterative_imputer  \n",
    "from sklearn.impute import IterativeImputer\n",
    "\n",
    "impute_estimator = DecisionTreeRegressor(max_features='sqrt')\n",
    "imputer = IterativeImputer(estimator=impute_estimator)\n",
    "\n",
    "np.random.seed(1772023)\n",
    "X_imp = imputer.fit_transform(X)"
   ]
  },
  {
   "cell_type": "code",
   "execution_count": 52,
   "id": "alert-retrieval",
   "metadata": {
    "ExecuteTime": {
     "end_time": "2021-04-14T14:09:39.546838Z",
     "start_time": "2021-04-14T14:09:39.533873Z"
    }
   },
   "outputs": [
    {
     "data": {
      "text/plain": [
       "array([[4.0e+00, 1.0e+00, 0.0e+00, 2.0e+00, 3.0e+00, 1.0e+00, 0.0e+00,\n",
       "        5.0e+03, 8.0e+03, 0.0e+00, 2.6e+01, 2.0e+00, 4.0e+00, 2.0e+00,\n",
       "        1.0e+00, 1.0e+00]])"
      ]
     },
     "execution_count": 52,
     "metadata": {},
     "output_type": "execute_result"
    }
   ],
   "source": [
    "X_imp[-1:]"
   ]
  },
  {
   "cell_type": "markdown",
   "id": "ambient-anchor",
   "metadata": {},
   "source": [
    "## Standarization"
   ]
  },
  {
   "cell_type": "code",
   "execution_count": 53,
   "id": "still-scottish",
   "metadata": {
    "ExecuteTime": {
     "end_time": "2021-04-14T14:09:39.662529Z",
     "start_time": "2021-04-14T14:09:39.548833Z"
    }
   },
   "outputs": [],
   "source": [
    "from sklearn.preprocessing import StandardScaler\n",
    "np.random.seed(1772023)\n",
    "scaler = StandardScaler()\n",
    "X_scaled = scaler.fit_transform(X_imp)"
   ]
  },
  {
   "cell_type": "code",
   "execution_count": 54,
   "id": "behind-medline",
   "metadata": {
    "ExecuteTime": {
     "end_time": "2021-04-14T14:09:39.822661Z",
     "start_time": "2021-04-14T14:09:39.665520Z"
    }
   },
   "outputs": [
    {
     "data": {
      "text/plain": [
       "array([[ 1.40286125, -0.83265591, -1.73701782, -1.30480696,  1.33366267,\n",
       "         1.30930734, -0.63828474, -0.12760986,  0.60453676, -1.5666989 ,\n",
       "         1.45893777, -0.97930097,  3.34299247,  3.48066721, -0.79065761,\n",
       "        -0.5318713 ]])"
      ]
     },
     "execution_count": 54,
     "metadata": {},
     "output_type": "execute_result"
    }
   ],
   "source": [
    "X_scaled[-1:]"
   ]
  },
  {
   "cell_type": "markdown",
   "id": "connected-devices",
   "metadata": {},
   "source": [
    "## Oversampling using SMOTE"
   ]
  },
  {
   "cell_type": "code",
   "execution_count": 55,
   "id": "exact-flavor",
   "metadata": {
    "ExecuteTime": {
     "end_time": "2021-04-14T14:09:40.159319Z",
     "start_time": "2021-04-14T14:09:39.827648Z"
    }
   },
   "outputs": [
    {
     "name": "stdout",
     "output_type": "stream",
     "text": [
      "Shape of X before SMOTE: (38, 16)\n",
      "Shape of X after SMOTE: (66, 16)\n",
      "\n",
      "Balance of positive and negative classes (before) (%):\n",
      "1    86.842105\n",
      "0    13.157895\n",
      "Name: attacker_outcome, dtype: float64\n",
      "\n",
      "Balance of positive and negative classes (%):\n"
     ]
    },
    {
     "data": {
      "text/plain": [
       "0    50.0\n",
       "1    50.0\n",
       "Name: attacker_outcome, dtype: float64"
      ]
     },
     "execution_count": 55,
     "metadata": {},
     "output_type": "execute_result"
    }
   ],
   "source": [
    "from imblearn.over_sampling import SMOTE \n",
    "\n",
    "\n",
    "smote = SMOTE(sampling_strategy=1,k_neighbors=2)\n",
    "np.random.seed(1772023)\n",
    "X_smote, y_smote = smote.fit_resample(X_imp, y)\n",
    "\n",
    "print(f'''Shape of X before SMOTE: {X_imp.shape}\n",
    "Shape of X after SMOTE: {X_smote.shape}''')\n",
    "\n",
    "print('\\nBalance of positive and negative classes (before) (%):')\n",
    "print(y.value_counts(normalize=True) * 100)\n",
    "print('\\nBalance of positive and negative classes (%):')\n",
    "y_smote.value_counts(normalize=True) * 100"
   ]
  },
  {
   "cell_type": "markdown",
   "id": "surrounded-proposition",
   "metadata": {},
   "source": [
    "## Split Dataset"
   ]
  },
  {
   "cell_type": "code",
   "execution_count": 56,
   "id": "separated-relevance",
   "metadata": {
    "ExecuteTime": {
     "end_time": "2021-04-14T14:09:40.182264Z",
     "start_time": "2021-04-14T14:09:40.165303Z"
    }
   },
   "outputs": [],
   "source": [
    "from sklearn.model_selection import train_test_split\n",
    "\n",
    "X_train, X_test, y_train, y_test = train_test_split(X_scaled, y, test_size=0.2, random_state=1772023)\n",
    "X_train_sm, X_test_sm, y_train_sm, y_test_sm = train_test_split(X_smote, y_smote, test_size=0.2, random_state=1772023)"
   ]
  },
  {
   "cell_type": "markdown",
   "id": "broadband-going",
   "metadata": {},
   "source": [
    "# Modelling"
   ]
  },
  {
   "cell_type": "code",
   "execution_count": 57,
   "id": "smoking-wealth",
   "metadata": {
    "ExecuteTime": {
     "end_time": "2021-04-14T14:09:40.307923Z",
     "start_time": "2021-04-14T14:09:40.192247Z"
    }
   },
   "outputs": [],
   "source": [
    "from sklearn.model_selection import StratifiedKFold\n",
    "from sklearn.ensemble import RandomForestClassifier\n",
    "from sklearn.model_selection import cross_val_score\n",
    "\n",
    "cv = StratifiedKFold(n_splits=5, random_state=1772023, shuffle=True)\n",
    "model = RandomForestClassifier()"
   ]
  },
  {
   "cell_type": "markdown",
   "id": "incorporate-integral",
   "metadata": {},
   "source": [
    "## Random Forest"
   ]
  },
  {
   "cell_type": "code",
   "execution_count": 58,
   "id": "union-distinction",
   "metadata": {
    "ExecuteTime": {
     "end_time": "2021-04-14T14:09:46.668849Z",
     "start_time": "2021-04-14T14:09:40.310913Z"
    }
   },
   "outputs": [
    {
     "data": {
      "text/plain": [
       "accuracy    0.933333\n",
       "f1          0.963636\n",
       "roc_auc     1.000000\n",
       "dtype: float64"
      ]
     },
     "execution_count": 58,
     "metadata": {},
     "output_type": "execute_result"
    }
   ],
   "source": [
    "scores = pd.DataFrame()\n",
    "np.random.seed(1772023)\n",
    "for scoring in ['accuracy','f1','roc_auc']:\n",
    "    scores[scoring] = cross_val_score(model, X_train, y_train, scoring=scoring, cv=cv, n_jobs=-1)\n",
    "scores.mean()"
   ]
  },
  {
   "cell_type": "markdown",
   "id": "interim-violence",
   "metadata": {},
   "source": [
    "## Random Forest with Oversampling"
   ]
  },
  {
   "cell_type": "code",
   "execution_count": 59,
   "id": "particular-nerve",
   "metadata": {
    "ExecuteTime": {
     "end_time": "2021-04-14T14:09:48.939401Z",
     "start_time": "2021-04-14T14:09:46.671840Z"
    }
   },
   "outputs": [
    {
     "data": {
      "text/plain": [
       "accuracy    0.980000\n",
       "f1          0.981818\n",
       "roc_auc     0.992000\n",
       "dtype: float64"
      ]
     },
     "execution_count": 59,
     "metadata": {},
     "output_type": "execute_result"
    }
   ],
   "source": [
    "scores = pd.DataFrame()\n",
    "np.random.seed(1772023)\n",
    "for scoring in ['accuracy','f1','roc_auc']:\n",
    "    scores[scoring] = cross_val_score(model, X_train_sm, y_train_sm, scoring=scoring, cv=cv, n_jobs=-1)\n",
    "scores.mean()"
   ]
  },
  {
   "cell_type": "markdown",
   "id": "active-greek",
   "metadata": {},
   "source": [
    "# Model Evaluation"
   ]
  },
  {
   "cell_type": "code",
   "execution_count": 60,
   "id": "lesser-puppy",
   "metadata": {
    "ExecuteTime": {
     "end_time": "2021-04-14T14:09:49.176758Z",
     "start_time": "2021-04-14T14:09:48.942386Z"
    }
   },
   "outputs": [
    {
     "name": "stdout",
     "output_type": "stream",
     "text": [
      "              precision    recall  f1-score   support\n",
      "\n",
      "           0       1.00      1.00      1.00         7\n",
      "           1       1.00      1.00      1.00         7\n",
      "\n",
      "    accuracy                           1.00        14\n",
      "   macro avg       1.00      1.00      1.00        14\n",
      "weighted avg       1.00      1.00      1.00        14\n",
      "\n"
     ]
    }
   ],
   "source": [
    "from sklearn.metrics import classification_report\n",
    "np.random.seed(1772023)\n",
    "model.fit(X_train_sm, y_train_sm)\n",
    "y_preds = model.predict(X_test_sm)\n",
    "report = classification_report(y_test_sm, y_preds)\n",
    "\n",
    "print(report)"
   ]
  },
  {
   "cell_type": "code",
   "execution_count": 61,
   "id": "scientific-writing",
   "metadata": {
    "ExecuteTime": {
     "end_time": "2021-04-14T14:09:49.573932Z",
     "start_time": "2021-04-14T14:09:49.180747Z"
    }
   },
   "outputs": [
    {
     "data": {
      "text/plain": [
       "<sklearn.metrics._plot.confusion_matrix.ConfusionMatrixDisplay at 0x1f4877bc970>"
      ]
     },
     "execution_count": 61,
     "metadata": {},
     "output_type": "execute_result"
    },
    {
     "data": {
      "image/png": "[encoded data removed]",
      "text/plain": [
       "<Figure size 864x720 with 2 Axes>"
      ]
     },
     "metadata": {},
     "output_type": "display_data"
    }
   ],
   "source": [
    "from sklearn.metrics import plot_confusion_matrix\n",
    "plot_confusion_matrix(model,X_test,y_test) "
   ]
  },
  {
   "cell_type": "code",
   "execution_count": 62,
   "id": "random-china",
   "metadata": {
    "ExecuteTime": {
     "end_time": "2021-04-14T14:09:49.825883Z",
     "start_time": "2021-04-14T14:09:49.584910Z"
    }
   },
   "outputs": [
    {
     "name": "stdout",
     "output_type": "stream",
     "text": [
      "              precision    recall  f1-score   support\n",
      "\n",
      "           0       1.00      1.00      1.00         1\n",
      "           1       1.00      1.00      1.00         7\n",
      "\n",
      "    accuracy                           1.00         8\n",
      "   macro avg       1.00      1.00      1.00         8\n",
      "weighted avg       1.00      1.00      1.00         8\n",
      "\n"
     ]
    }
   ],
   "source": [
    "from sklearn.metrics import classification_report\n",
    "np.random.seed(1772023)\n",
    "model.fit(X_train, y_train)\n",
    "y_preds = model.predict(X_test)\n",
    "report = classification_report(y_test, y_preds)\n",
    "\n",
    "print(report)"
   ]
  },
  {
   "cell_type": "code",
   "execution_count": null,
   "id": "surprised-break",
   "metadata": {},
   "outputs": [],
   "source": []
  }
 ],
 "metadata": {
  "kernelspec": {
   "display_name": "Python 3",
   "language": "python",
   "name": "python3"
  },
  "language_info": {
   "codemirror_mode": {
    "name": "ipython",
    "version": 3
   },
   "file_extension": ".py",
   "mimetype": "text/x-python",
   "name": "python",
   "nbconvert_exporter": "python",
   "pygments_lexer": "ipython3",
   "version": "3.8.5"
  },
  "toc": {
   "base_numbering": 1,
   "nav_menu": {},
   "number_sections": true,
   "sideBar": true,
   "skip_h1_title": false,
   "title_cell": "Table of Contents",
   "title_sidebar": "Contents",
   "toc_cell": false,
   "toc_position": {
    "height": "calc(100% - 180px)",
    "left": "10px",
    "top": "150px",
    "width": "273.2px"
   },
   "toc_section_display": true,
   "toc_window_display": true
  }
 },
 "nbformat": 4,
 "nbformat_minor": 5
}

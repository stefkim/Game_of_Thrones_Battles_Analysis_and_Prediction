{
 "cells": [
  {
   "cell_type": "code",
   "execution_count": 2,
   "id": "arctic-desire",
   "metadata": {
    "ExecuteTime": {
     "end_time": "2021-04-17T13:00:55.478101Z",
     "start_time": "2021-04-17T13:00:53.772420Z"
    }
   },
   "outputs": [],
   "source": [
    "import numpy as np\n",
    "import pandas as pd\n",
    "import matplotlib.pyplot as plt\n",
    "\n",
    "from sklearn.experimental import enable_iterative_imputer  \n",
    "from sklearn.impute import IterativeImputer\n",
    "\n",
    "from sklearn.pipeline import make_pipeline\n",
    "from sklearn.model_selection import train_test_split\n",
    "from sklearn.model_selection import cross_val_score\n",
    "from sklearn.model_selection import StratifiedKFold\n",
    "from sklearn.model_selection import train_test_split\n",
    "from sklearn.metrics import f1_score\n",
    "from sklearn.preprocessing import StandardScaler,LabelEncoder,OrdinalEncoder\n",
    "\n",
    "from sklearn.linear_model import BayesianRidge\n",
    "from sklearn.ensemble import RandomForestClassifier, RandomForestRegressor\n",
    "from sklearn.linear_model import LogisticRegression\n",
    "from sklearn.svm import SVC\n",
    "from xgboost import XGBClassifier\n",
    "from sklearn.neighbors import KNeighborsClassifier\n",
    "from sklearn.tree import DecisionTreeRegressor\n",
    "\n",
    "import warnings\n",
    "warnings.filterwarnings(\"ignore\")"
   ]
  },
  {
   "cell_type": "code",
   "execution_count": 3,
   "id": "modular-chart",
   "metadata": {
    "ExecuteTime": {
     "end_time": "2021-04-17T13:00:55.509314Z",
     "start_time": "2021-04-17T13:00:55.478101Z"
    }
   },
   "outputs": [],
   "source": [
    "df = pd.read_csv('dataset/battles_cleaned.csv')"
   ]
  },
  {
   "cell_type": "code",
   "execution_count": 4,
   "id": "earned-sound",
   "metadata": {
    "ExecuteTime": {
     "end_time": "2021-04-17T13:00:55.624815Z",
     "start_time": "2021-04-17T13:00:55.509314Z"
    }
   },
   "outputs": [],
   "source": [
    "np.random.seed(1772023)\n",
    "le = LabelEncoder()\n",
    "df[df.select_dtypes(['object']).columns] = df.select_dtypes(['object']).apply(lambda x: le.fit_transform(x.astype(str)))\n",
    "df.drop(columns=['year','battle_number','name','attacker_commander','defender_commander'],inplace=True)"
   ]
  },
  {
   "cell_type": "code",
   "execution_count": 5,
   "id": "operating-alloy",
   "metadata": {
    "ExecuteTime": {
     "end_time": "2021-04-17T13:00:55.761739Z",
     "start_time": "2021-04-17T13:00:55.624815Z"
    }
   },
   "outputs": [],
   "source": [
    "y = df['attacker_outcome']\n",
    "X = df.drop(columns='attacker_outcome')"
   ]
  },
  {
   "cell_type": "code",
   "execution_count": 10,
   "id": "acute-blackberry",
   "metadata": {
    "ExecuteTime": {
     "end_time": "2021-04-17T13:01:07.483935Z",
     "start_time": "2021-04-17T13:01:05.388880Z"
    }
   },
   "outputs": [
    {
     "data": {
      "text/html": [
       "<div>\n",
       "<style scoped>\n",
       "    .dataframe tbody tr th:only-of-type {\n",
       "        vertical-align: middle;\n",
       "    }\n",
       "\n",
       "    .dataframe tbody tr th {\n",
       "        vertical-align: top;\n",
       "    }\n",
       "\n",
       "    .dataframe thead th {\n",
       "        text-align: right;\n",
       "    }\n",
       "</style>\n",
       "<table border=\"1\" class=\"dataframe\">\n",
       "  <thead>\n",
       "    <tr style=\"text-align: right;\">\n",
       "      <th></th>\n",
       "      <th>Mean</th>\n",
       "      <th>STD</th>\n",
       "    </tr>\n",
       "  </thead>\n",
       "  <tbody>\n",
       "    <tr>\n",
       "      <th>RandomForestClassifier</th>\n",
       "      <td>0.946429</td>\n",
       "      <td>0.073627</td>\n",
       "    </tr>\n",
       "    <tr>\n",
       "      <th>LogisticRegression</th>\n",
       "      <td>0.946429</td>\n",
       "      <td>0.073627</td>\n",
       "    </tr>\n",
       "    <tr>\n",
       "      <th>XGBClassifier</th>\n",
       "      <td>0.921429</td>\n",
       "      <td>0.072095</td>\n",
       "    </tr>\n",
       "    <tr>\n",
       "      <th>KNeighborsClassifier</th>\n",
       "      <td>0.921429</td>\n",
       "      <td>0.072095</td>\n",
       "    </tr>\n",
       "    <tr>\n",
       "      <th>SVC</th>\n",
       "      <td>0.867857</td>\n",
       "      <td>0.009781</td>\n",
       "    </tr>\n",
       "  </tbody>\n",
       "</table>\n",
       "</div>"
      ],
      "text/plain": [
       "                            Mean       STD\n",
       "RandomForestClassifier  0.946429  0.073627\n",
       "LogisticRegression      0.946429  0.073627\n",
       "XGBClassifier           0.921429  0.072095\n",
       "KNeighborsClassifier    0.921429  0.072095\n",
       "SVC                     0.867857  0.009781"
      ]
     },
     "execution_count": 10,
     "metadata": {},
     "output_type": "execute_result"
    }
   ],
   "source": [
    "np.random.seed(1772023)\n",
    "scaler = StandardScaler()\n",
    "impute_estimator = DecisionTreeRegressor(max_features='sqrt')\n",
    "imputer = IterativeImputer(random_state=0, estimator=impute_estimator)\n",
    "cv = StratifiedKFold(n_splits=5, random_state=0, shuffle=True)\n",
    "\n",
    "classifier = [\n",
    "    RandomForestClassifier(),\n",
    "    LogisticRegression(),\n",
    "    SVC(),\n",
    "    XGBClassifier(),\n",
    "    KNeighborsClassifier()\n",
    "]\n",
    "\n",
    "scores = pd.DataFrame()\n",
    "for cf in classifier:\n",
    "    pipeline = make_pipeline(scaler,imputer,cf)\n",
    "    scores[cf.__class__.__name__] = cross_val_score(pipeline, X,y, scoring=\"accuracy\", cv=cv, n_jobs=-1)\n",
    "\n",
    "\n",
    "f1_scores = pd.concat([scores.mean(), scores.std()],\n",
    "                keys=['Mean', 'STD'], axis=1\n",
    "                )\n",
    "f1_scores.sort_values(by='Mean',ascending=False)"
   ]
  },
  {
   "cell_type": "code",
   "execution_count": null,
   "id": "adequate-verification",
   "metadata": {},
   "outputs": [],
   "source": []
  },
  {
   "cell_type": "markdown",
   "id": "compact-essex",
   "metadata": {},
   "source": [
    "## RF Model Confusion Matrix"
   ]
  },
  {
   "cell_type": "code",
   "execution_count": 7,
   "id": "senior-distinction",
   "metadata": {
    "ExecuteTime": {
     "end_time": "2021-04-17T13:01:02.072434Z",
     "start_time": "2021-04-17T13:01:01.508716Z"
    }
   },
   "outputs": [
    {
     "data": {
      "text/plain": [
       "<sklearn.metrics._plot.confusion_matrix.ConfusionMatrixDisplay at 0x29630700c70>"
      ]
     },
     "execution_count": 7,
     "metadata": {},
     "output_type": "execute_result"
    },
    {
     "data": {
      "image/png": "[encoded data removed]",
      "text/plain": [
       "<Figure size 432x288 with 2 Axes>"
      ]
     },
     "metadata": {
      "needs_background": "light"
     },
     "output_type": "display_data"
    }
   ],
   "source": [
    "from sklearn.metrics import plot_confusion_matrix\n",
    "np.random.seed(1772023)\n",
    "model = make_pipeline(scaler,imputer,RandomForestClassifier())\n",
    "model.fit(X,y)\n",
    "plot_confusion_matrix(model, X, y) "
   ]
  },
  {
   "cell_type": "code",
   "execution_count": 8,
   "id": "traditional-combining",
   "metadata": {
    "ExecuteTime": {
     "end_time": "2021-04-17T13:01:02.141434Z",
     "start_time": "2021-04-17T13:01:02.072434Z"
    }
   },
   "outputs": [
    {
     "name": "stdout",
     "output_type": "stream",
     "text": [
      "              precision    recall  f1-score   support\n",
      "\n",
      "           0       1.00      1.00      1.00         5\n",
      "           1       1.00      1.00      1.00        33\n",
      "\n",
      "    accuracy                           1.00        38\n",
      "   macro avg       1.00      1.00      1.00        38\n",
      "weighted avg       1.00      1.00      1.00        38\n",
      "\n"
     ]
    }
   ],
   "source": [
    "from sklearn.metrics import classification_report\n",
    "np.random.seed(1772023)\n",
    "y_preds = model.predict(X)\n",
    "report = classification_report(y, y_preds)\n",
    "\n",
    "print(report)"
   ]
  },
  {
   "cell_type": "markdown",
   "id": "covered-springer",
   "metadata": {},
   "source": [
    "## RF Model Feature Importances"
   ]
  },
  {
   "cell_type": "code",
   "execution_count": 9,
   "id": "ahead-period",
   "metadata": {
    "ExecuteTime": {
     "end_time": "2021-04-17T13:01:02.257298Z",
     "start_time": "2021-04-17T13:01:02.141434Z"
    }
   },
   "outputs": [
    {
     "data": {
      "text/html": [
       "<div>\n",
       "<style scoped>\n",
       "    .dataframe tbody tr th:only-of-type {\n",
       "        vertical-align: middle;\n",
       "    }\n",
       "\n",
       "    .dataframe tbody tr th {\n",
       "        vertical-align: top;\n",
       "    }\n",
       "\n",
       "    .dataframe thead th {\n",
       "        text-align: right;\n",
       "    }\n",
       "</style>\n",
       "<table border=\"1\" class=\"dataframe\">\n",
       "  <thead>\n",
       "    <tr style=\"text-align: right;\">\n",
       "      <th></th>\n",
       "      <th>feature</th>\n",
       "      <th>score</th>\n",
       "    </tr>\n",
       "  </thead>\n",
       "  <tbody>\n",
       "    <tr>\n",
       "      <th>7</th>\n",
       "      <td>attacker_size</td>\n",
       "      <td>0.301929</td>\n",
       "    </tr>\n",
       "    <tr>\n",
       "      <th>14</th>\n",
       "      <td>attacker_commander_count</td>\n",
       "      <td>0.274569</td>\n",
       "    </tr>\n",
       "    <tr>\n",
       "      <th>11</th>\n",
       "      <td>region</td>\n",
       "      <td>0.118162</td>\n",
       "    </tr>\n",
       "    <tr>\n",
       "      <th>15</th>\n",
       "      <td>defender_commander_count</td>\n",
       "      <td>0.101967</td>\n",
       "    </tr>\n",
       "    <tr>\n",
       "      <th>10</th>\n",
       "      <td>location</td>\n",
       "      <td>0.069289</td>\n",
       "    </tr>\n",
       "    <tr>\n",
       "      <th>2</th>\n",
       "      <td>attacker_1</td>\n",
       "      <td>0.030261</td>\n",
       "    </tr>\n",
       "    <tr>\n",
       "      <th>8</th>\n",
       "      <td>defender_size</td>\n",
       "      <td>0.027762</td>\n",
       "    </tr>\n",
       "    <tr>\n",
       "      <th>4</th>\n",
       "      <td>battle_type</td>\n",
       "      <td>0.013745</td>\n",
       "    </tr>\n",
       "    <tr>\n",
       "      <th>0</th>\n",
       "      <td>attacker_king</td>\n",
       "      <td>0.012023</td>\n",
       "    </tr>\n",
       "    <tr>\n",
       "      <th>5</th>\n",
       "      <td>major_death</td>\n",
       "      <td>0.011990</td>\n",
       "    </tr>\n",
       "    <tr>\n",
       "      <th>6</th>\n",
       "      <td>major_capture</td>\n",
       "      <td>0.011831</td>\n",
       "    </tr>\n",
       "    <tr>\n",
       "      <th>3</th>\n",
       "      <td>defender_1</td>\n",
       "      <td>0.011586</td>\n",
       "    </tr>\n",
       "    <tr>\n",
       "      <th>13</th>\n",
       "      <td>defender_count</td>\n",
       "      <td>0.006889</td>\n",
       "    </tr>\n",
       "    <tr>\n",
       "      <th>12</th>\n",
       "      <td>attacker_count</td>\n",
       "      <td>0.004703</td>\n",
       "    </tr>\n",
       "    <tr>\n",
       "      <th>1</th>\n",
       "      <td>defender_king</td>\n",
       "      <td>0.003256</td>\n",
       "    </tr>\n",
       "    <tr>\n",
       "      <th>9</th>\n",
       "      <td>summer</td>\n",
       "      <td>0.000039</td>\n",
       "    </tr>\n",
       "  </tbody>\n",
       "</table>\n",
       "</div>"
      ],
      "text/plain": [
       "                     feature     score\n",
       "7              attacker_size  0.301929\n",
       "14  attacker_commander_count  0.274569\n",
       "11                    region  0.118162\n",
       "15  defender_commander_count  0.101967\n",
       "10                  location  0.069289\n",
       "2                 attacker_1  0.030261\n",
       "8              defender_size  0.027762\n",
       "4                battle_type  0.013745\n",
       "0              attacker_king  0.012023\n",
       "5                major_death  0.011990\n",
       "6              major_capture  0.011831\n",
       "3                 defender_1  0.011586\n",
       "13            defender_count  0.006889\n",
       "12            attacker_count  0.004703\n",
       "1              defender_king  0.003256\n",
       "9                     summer  0.000039"
      ]
     },
     "execution_count": 9,
     "metadata": {},
     "output_type": "execute_result"
    }
   ],
   "source": [
    "\n",
    "importance = model.named_steps['randomforestclassifier'].feature_importances_\n",
    "np.random.seed(1772023)\n",
    "df_imp = pd.DataFrame()\n",
    "df_imp['feature'] = df.drop(columns='attacker_outcome').columns\n",
    "score = []\n",
    "for i,v in enumerate(importance):\n",
    "    score.append(v)\n",
    "df_imp['score'] = score\n",
    "df_imp.sort_values(by='score',ascending=False)"
   ]
  },
  {
   "cell_type": "code",
   "execution_count": null,
   "id": "floating-nomination",
   "metadata": {},
   "outputs": [],
   "source": []
  }
 ],
 "metadata": {
  "kernelspec": {
   "display_name": "Python 3",
   "language": "python",
   "name": "python3"
  },
  "language_info": {
   "codemirror_mode": {
    "name": "ipython",
    "version": 3
   },
   "file_extension": ".py",
   "mimetype": "text/x-python",
   "name": "python",
   "nbconvert_exporter": "python",
   "pygments_lexer": "ipython3",
   "version": "3.8.5"
  },
  "toc": {
   "base_numbering": 1,
   "nav_menu": {},
   "number_sections": true,
   "sideBar": true,
   "skip_h1_title": false,
   "title_cell": "Table of Contents",
   "title_sidebar": "Contents",
   "toc_cell": false,
   "toc_position": {},
   "toc_section_display": true,
   "toc_window_display": false
  }
 },
 "nbformat": 4,
 "nbformat_minor": 5
}

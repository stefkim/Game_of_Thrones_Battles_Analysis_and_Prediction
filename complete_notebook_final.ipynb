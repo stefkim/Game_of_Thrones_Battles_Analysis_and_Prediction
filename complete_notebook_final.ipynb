{
 "cells": [
  {
   "cell_type": "markdown",
   "id": "great-webmaster",
   "metadata": {},
   "source": [
    "# Data Exploration"
   ]
  },
  {
   "cell_type": "code",
   "execution_count": 391,
   "id": "entitled-matter",
   "metadata": {
    "ExecuteTime": {
     "end_time": "2021-04-22T09:25:49.983625Z",
     "start_time": "2021-04-22T09:25:49.968005Z"
    }
   },
   "outputs": [],
   "source": [
    "import matplotlib.pyplot as plt\n",
    "import seaborn as sns\n",
    "import pandas as pd\n",
    "import numpy as np\n",
    "import warnings\n",
    "%matplotlib inline\n",
    "warnings.filterwarnings(\"ignore\")"
   ]
  },
  {
   "cell_type": "markdown",
   "id": "fallen-arrest",
   "metadata": {},
   "source": [
    "load dataset"
   ]
  },
  {
   "cell_type": "code",
   "execution_count": 392,
   "id": "resident-charles",
   "metadata": {
    "ExecuteTime": {
     "end_time": "2021-04-22T09:25:50.115108Z",
     "start_time": "2021-04-22T09:25:49.983625Z"
    }
   },
   "outputs": [],
   "source": [
    "battles = pd.read_csv('dataset/battles.csv')"
   ]
  },
  {
   "cell_type": "markdown",
   "id": "opened-drive",
   "metadata": {},
   "source": [
    "## Preview Dataset\n",
    "melakukan preview dataset untuk melihat sekilas gambaran kolom dan baris data yang ada"
   ]
  },
  {
   "cell_type": "code",
   "execution_count": 393,
   "id": "enhanced-tractor",
   "metadata": {
    "ExecuteTime": {
     "end_time": "2021-04-22T09:25:50.237490Z",
     "start_time": "2021-04-22T09:25:50.115108Z"
    },
    "scrolled": false
   },
   "outputs": [
    {
     "data": {
      "text/html": [
       "<div>\n",
       "<style scoped>\n",
       "    .dataframe tbody tr th:only-of-type {\n",
       "        vertical-align: middle;\n",
       "    }\n",
       "\n",
       "    .dataframe tbody tr th {\n",
       "        vertical-align: top;\n",
       "    }\n",
       "\n",
       "    .dataframe thead th {\n",
       "        text-align: right;\n",
       "    }\n",
       "</style>\n",
       "<table border=\"1\" class=\"dataframe\">\n",
       "  <thead>\n",
       "    <tr style=\"text-align: right;\">\n",
       "      <th></th>\n",
       "      <th>name</th>\n",
       "      <th>year</th>\n",
       "      <th>battle_number</th>\n",
       "      <th>attacker_king</th>\n",
       "      <th>defender_king</th>\n",
       "      <th>attacker_1</th>\n",
       "      <th>attacker_2</th>\n",
       "      <th>attacker_3</th>\n",
       "      <th>attacker_4</th>\n",
       "      <th>defender_1</th>\n",
       "      <th>defender_2</th>\n",
       "      <th>defender_3</th>\n",
       "      <th>defender_4</th>\n",
       "      <th>attacker_outcome</th>\n",
       "      <th>battle_type</th>\n",
       "      <th>major_death</th>\n",
       "      <th>major_capture</th>\n",
       "      <th>attacker_size</th>\n",
       "      <th>defender_size</th>\n",
       "      <th>attacker_commander</th>\n",
       "      <th>defender_commander</th>\n",
       "      <th>summer</th>\n",
       "      <th>location</th>\n",
       "      <th>region</th>\n",
       "      <th>note</th>\n",
       "    </tr>\n",
       "  </thead>\n",
       "  <tbody>\n",
       "    <tr>\n",
       "      <th>0</th>\n",
       "      <td>Battle of the Golden Tooth</td>\n",
       "      <td>298</td>\n",
       "      <td>1</td>\n",
       "      <td>Joffrey/Tommen Baratheon</td>\n",
       "      <td>Robb Stark</td>\n",
       "      <td>Lannister</td>\n",
       "      <td>NaN</td>\n",
       "      <td>NaN</td>\n",
       "      <td>NaN</td>\n",
       "      <td>Tully</td>\n",
       "      <td>NaN</td>\n",
       "      <td>NaN</td>\n",
       "      <td>NaN</td>\n",
       "      <td>win</td>\n",
       "      <td>pitched battle</td>\n",
       "      <td>1.0</td>\n",
       "      <td>0.0</td>\n",
       "      <td>15000.0</td>\n",
       "      <td>4000.0</td>\n",
       "      <td>Jaime Lannister</td>\n",
       "      <td>Clement Piper, Vance</td>\n",
       "      <td>1.0</td>\n",
       "      <td>Golden Tooth</td>\n",
       "      <td>The Westerlands</td>\n",
       "      <td>NaN</td>\n",
       "    </tr>\n",
       "    <tr>\n",
       "      <th>1</th>\n",
       "      <td>Battle at the Mummer's Ford</td>\n",
       "      <td>298</td>\n",
       "      <td>2</td>\n",
       "      <td>Joffrey/Tommen Baratheon</td>\n",
       "      <td>Robb Stark</td>\n",
       "      <td>Lannister</td>\n",
       "      <td>NaN</td>\n",
       "      <td>NaN</td>\n",
       "      <td>NaN</td>\n",
       "      <td>Baratheon</td>\n",
       "      <td>NaN</td>\n",
       "      <td>NaN</td>\n",
       "      <td>NaN</td>\n",
       "      <td>win</td>\n",
       "      <td>ambush</td>\n",
       "      <td>1.0</td>\n",
       "      <td>0.0</td>\n",
       "      <td>NaN</td>\n",
       "      <td>120.0</td>\n",
       "      <td>Gregor Clegane</td>\n",
       "      <td>Beric Dondarrion</td>\n",
       "      <td>1.0</td>\n",
       "      <td>Mummer's Ford</td>\n",
       "      <td>The Riverlands</td>\n",
       "      <td>NaN</td>\n",
       "    </tr>\n",
       "    <tr>\n",
       "      <th>2</th>\n",
       "      <td>Battle of Riverrun</td>\n",
       "      <td>298</td>\n",
       "      <td>3</td>\n",
       "      <td>Joffrey/Tommen Baratheon</td>\n",
       "      <td>Robb Stark</td>\n",
       "      <td>Lannister</td>\n",
       "      <td>NaN</td>\n",
       "      <td>NaN</td>\n",
       "      <td>NaN</td>\n",
       "      <td>Tully</td>\n",
       "      <td>NaN</td>\n",
       "      <td>NaN</td>\n",
       "      <td>NaN</td>\n",
       "      <td>win</td>\n",
       "      <td>pitched battle</td>\n",
       "      <td>0.0</td>\n",
       "      <td>1.0</td>\n",
       "      <td>15000.0</td>\n",
       "      <td>10000.0</td>\n",
       "      <td>Jaime Lannister, Andros Brax</td>\n",
       "      <td>Edmure Tully, Tytos Blackwood</td>\n",
       "      <td>1.0</td>\n",
       "      <td>Riverrun</td>\n",
       "      <td>The Riverlands</td>\n",
       "      <td>NaN</td>\n",
       "    </tr>\n",
       "    <tr>\n",
       "      <th>3</th>\n",
       "      <td>Battle of the Green Fork</td>\n",
       "      <td>298</td>\n",
       "      <td>4</td>\n",
       "      <td>Robb Stark</td>\n",
       "      <td>Joffrey/Tommen Baratheon</td>\n",
       "      <td>Stark</td>\n",
       "      <td>NaN</td>\n",
       "      <td>NaN</td>\n",
       "      <td>NaN</td>\n",
       "      <td>Lannister</td>\n",
       "      <td>NaN</td>\n",
       "      <td>NaN</td>\n",
       "      <td>NaN</td>\n",
       "      <td>loss</td>\n",
       "      <td>pitched battle</td>\n",
       "      <td>1.0</td>\n",
       "      <td>1.0</td>\n",
       "      <td>18000.0</td>\n",
       "      <td>20000.0</td>\n",
       "      <td>Roose Bolton, Wylis Manderly, Medger Cerwyn, H...</td>\n",
       "      <td>Tywin Lannister, Gregor Clegane, Kevan Lannist...</td>\n",
       "      <td>1.0</td>\n",
       "      <td>Green Fork</td>\n",
       "      <td>The Riverlands</td>\n",
       "      <td>NaN</td>\n",
       "    </tr>\n",
       "    <tr>\n",
       "      <th>4</th>\n",
       "      <td>Battle of the Whispering Wood</td>\n",
       "      <td>298</td>\n",
       "      <td>5</td>\n",
       "      <td>Robb Stark</td>\n",
       "      <td>Joffrey/Tommen Baratheon</td>\n",
       "      <td>Stark</td>\n",
       "      <td>Tully</td>\n",
       "      <td>NaN</td>\n",
       "      <td>NaN</td>\n",
       "      <td>Lannister</td>\n",
       "      <td>NaN</td>\n",
       "      <td>NaN</td>\n",
       "      <td>NaN</td>\n",
       "      <td>win</td>\n",
       "      <td>ambush</td>\n",
       "      <td>1.0</td>\n",
       "      <td>1.0</td>\n",
       "      <td>1875.0</td>\n",
       "      <td>6000.0</td>\n",
       "      <td>Robb Stark, Brynden Tully</td>\n",
       "      <td>Jaime Lannister</td>\n",
       "      <td>1.0</td>\n",
       "      <td>Whispering Wood</td>\n",
       "      <td>The Riverlands</td>\n",
       "      <td>NaN</td>\n",
       "    </tr>\n",
       "  </tbody>\n",
       "</table>\n",
       "</div>"
      ],
      "text/plain": [
       "                            name  year  battle_number  \\\n",
       "0     Battle of the Golden Tooth   298              1   \n",
       "1    Battle at the Mummer's Ford   298              2   \n",
       "2             Battle of Riverrun   298              3   \n",
       "3       Battle of the Green Fork   298              4   \n",
       "4  Battle of the Whispering Wood   298              5   \n",
       "\n",
       "              attacker_king             defender_king attacker_1 attacker_2  \\\n",
       "0  Joffrey/Tommen Baratheon                Robb Stark  Lannister        NaN   \n",
       "1  Joffrey/Tommen Baratheon                Robb Stark  Lannister        NaN   \n",
       "2  Joffrey/Tommen Baratheon                Robb Stark  Lannister        NaN   \n",
       "3                Robb Stark  Joffrey/Tommen Baratheon      Stark        NaN   \n",
       "4                Robb Stark  Joffrey/Tommen Baratheon      Stark      Tully   \n",
       "\n",
       "  attacker_3 attacker_4 defender_1 defender_2  defender_3  defender_4  \\\n",
       "0        NaN        NaN      Tully        NaN         NaN         NaN   \n",
       "1        NaN        NaN  Baratheon        NaN         NaN         NaN   \n",
       "2        NaN        NaN      Tully        NaN         NaN         NaN   \n",
       "3        NaN        NaN  Lannister        NaN         NaN         NaN   \n",
       "4        NaN        NaN  Lannister        NaN         NaN         NaN   \n",
       "\n",
       "  attacker_outcome     battle_type  major_death  major_capture  attacker_size  \\\n",
       "0              win  pitched battle          1.0            0.0        15000.0   \n",
       "1              win          ambush          1.0            0.0            NaN   \n",
       "2              win  pitched battle          0.0            1.0        15000.0   \n",
       "3             loss  pitched battle          1.0            1.0        18000.0   \n",
       "4              win          ambush          1.0            1.0         1875.0   \n",
       "\n",
       "   defender_size                                 attacker_commander  \\\n",
       "0         4000.0                                    Jaime Lannister   \n",
       "1          120.0                                     Gregor Clegane   \n",
       "2        10000.0                       Jaime Lannister, Andros Brax   \n",
       "3        20000.0  Roose Bolton, Wylis Manderly, Medger Cerwyn, H...   \n",
       "4         6000.0                          Robb Stark, Brynden Tully   \n",
       "\n",
       "                                  defender_commander  summer         location  \\\n",
       "0                               Clement Piper, Vance     1.0     Golden Tooth   \n",
       "1                                   Beric Dondarrion     1.0    Mummer's Ford   \n",
       "2                      Edmure Tully, Tytos Blackwood     1.0         Riverrun   \n",
       "3  Tywin Lannister, Gregor Clegane, Kevan Lannist...     1.0       Green Fork   \n",
       "4                                    Jaime Lannister     1.0  Whispering Wood   \n",
       "\n",
       "            region note  \n",
       "0  The Westerlands  NaN  \n",
       "1   The Riverlands  NaN  \n",
       "2   The Riverlands  NaN  \n",
       "3   The Riverlands  NaN  \n",
       "4   The Riverlands  NaN  "
      ]
     },
     "execution_count": 393,
     "metadata": {},
     "output_type": "execute_result"
    }
   ],
   "source": [
    "pd.set_option('display.max_columns', None)\n",
    "battles.head()"
   ]
  },
  {
   "cell_type": "markdown",
   "id": "plastic-coaching",
   "metadata": {},
   "source": [
    "## Informasi Dataset\n",
    "\n",
    "terdiri dari **38 baris** dan **25 kolom** \\\n",
    "dengan tipe data _object_(16), _int64_(2), dan _float64_(7) \\\n",
    "beberapa kolom memiliki nilai Null\n",
    "\n"
   ]
  },
  {
   "cell_type": "code",
   "execution_count": 394,
   "id": "equipped-imperial",
   "metadata": {
    "ExecuteTime": {
     "end_time": "2021-04-22T09:25:50.353390Z",
     "start_time": "2021-04-22T09:25:50.237490Z"
    }
   },
   "outputs": [
    {
     "name": "stdout",
     "output_type": "stream",
     "text": [
      "<class 'pandas.core.frame.DataFrame'>\n",
      "RangeIndex: 38 entries, 0 to 37\n",
      "Data columns (total 25 columns):\n",
      " #   Column              Non-Null Count  Dtype  \n",
      "---  ------              --------------  -----  \n",
      " 0   name                38 non-null     object \n",
      " 1   year                38 non-null     int64  \n",
      " 2   battle_number       38 non-null     int64  \n",
      " 3   attacker_king       36 non-null     object \n",
      " 4   defender_king       35 non-null     object \n",
      " 5   attacker_1          38 non-null     object \n",
      " 6   attacker_2          10 non-null     object \n",
      " 7   attacker_3          3 non-null      object \n",
      " 8   attacker_4          2 non-null      object \n",
      " 9   defender_1          37 non-null     object \n",
      " 10  defender_2          2 non-null      object \n",
      " 11  defender_3          0 non-null      float64\n",
      " 12  defender_4          0 non-null      float64\n",
      " 13  attacker_outcome    37 non-null     object \n",
      " 14  battle_type         37 non-null     object \n",
      " 15  major_death         37 non-null     float64\n",
      " 16  major_capture       37 non-null     float64\n",
      " 17  attacker_size       24 non-null     float64\n",
      " 18  defender_size       19 non-null     float64\n",
      " 19  attacker_commander  37 non-null     object \n",
      " 20  defender_commander  28 non-null     object \n",
      " 21  summer              37 non-null     float64\n",
      " 22  location            37 non-null     object \n",
      " 23  region              38 non-null     object \n",
      " 24  note                5 non-null      object \n",
      "dtypes: float64(7), int64(2), object(16)\n",
      "memory usage: 7.5+ KB\n"
     ]
    }
   ],
   "source": [
    "battles.info()"
   ]
  },
  {
   "cell_type": "markdown",
   "id": "durable-karen",
   "metadata": {},
   "source": [
    "## Persentase Missing Values\n",
    "menghitung jumlah serta persentase nilai null yang terdapat pada setiap kolom"
   ]
  },
  {
   "cell_type": "code",
   "execution_count": 395,
   "id": "harmful-relevance",
   "metadata": {
    "ExecuteTime": {
     "end_time": "2021-04-22T09:25:50.469292Z",
     "start_time": "2021-04-22T09:25:50.353390Z"
    }
   },
   "outputs": [
    {
     "data": {
      "text/html": [
       "<div>\n",
       "<style scoped>\n",
       "    .dataframe tbody tr th:only-of-type {\n",
       "        vertical-align: middle;\n",
       "    }\n",
       "\n",
       "    .dataframe tbody tr th {\n",
       "        vertical-align: top;\n",
       "    }\n",
       "\n",
       "    .dataframe thead th {\n",
       "        text-align: right;\n",
       "    }\n",
       "</style>\n",
       "<table border=\"1\" class=\"dataframe\">\n",
       "  <thead>\n",
       "    <tr style=\"text-align: right;\">\n",
       "      <th></th>\n",
       "      <th>Total</th>\n",
       "      <th>Percentage</th>\n",
       "      <th>Dtype</th>\n",
       "    </tr>\n",
       "  </thead>\n",
       "  <tbody>\n",
       "    <tr>\n",
       "      <th>defender_4</th>\n",
       "      <td>38</td>\n",
       "      <td>100.000000</td>\n",
       "      <td>float64</td>\n",
       "    </tr>\n",
       "    <tr>\n",
       "      <th>defender_3</th>\n",
       "      <td>38</td>\n",
       "      <td>100.000000</td>\n",
       "      <td>float64</td>\n",
       "    </tr>\n",
       "    <tr>\n",
       "      <th>defender_2</th>\n",
       "      <td>36</td>\n",
       "      <td>94.736842</td>\n",
       "      <td>object</td>\n",
       "    </tr>\n",
       "    <tr>\n",
       "      <th>attacker_4</th>\n",
       "      <td>36</td>\n",
       "      <td>94.736842</td>\n",
       "      <td>object</td>\n",
       "    </tr>\n",
       "    <tr>\n",
       "      <th>attacker_3</th>\n",
       "      <td>35</td>\n",
       "      <td>92.105263</td>\n",
       "      <td>object</td>\n",
       "    </tr>\n",
       "    <tr>\n",
       "      <th>note</th>\n",
       "      <td>33</td>\n",
       "      <td>86.842105</td>\n",
       "      <td>object</td>\n",
       "    </tr>\n",
       "    <tr>\n",
       "      <th>attacker_2</th>\n",
       "      <td>28</td>\n",
       "      <td>73.684211</td>\n",
       "      <td>object</td>\n",
       "    </tr>\n",
       "    <tr>\n",
       "      <th>defender_size</th>\n",
       "      <td>19</td>\n",
       "      <td>50.000000</td>\n",
       "      <td>float64</td>\n",
       "    </tr>\n",
       "    <tr>\n",
       "      <th>attacker_size</th>\n",
       "      <td>14</td>\n",
       "      <td>36.842105</td>\n",
       "      <td>float64</td>\n",
       "    </tr>\n",
       "    <tr>\n",
       "      <th>defender_commander</th>\n",
       "      <td>10</td>\n",
       "      <td>26.315789</td>\n",
       "      <td>object</td>\n",
       "    </tr>\n",
       "  </tbody>\n",
       "</table>\n",
       "</div>"
      ],
      "text/plain": [
       "                    Total  Percentage    Dtype\n",
       "defender_4             38  100.000000  float64\n",
       "defender_3             38  100.000000  float64\n",
       "defender_2             36   94.736842   object\n",
       "attacker_4             36   94.736842   object\n",
       "attacker_3             35   92.105263   object\n",
       "note                   33   86.842105   object\n",
       "attacker_2             28   73.684211   object\n",
       "defender_size          19   50.000000  float64\n",
       "attacker_size          14   36.842105  float64\n",
       "defender_commander     10   26.315789   object"
      ]
     },
     "execution_count": 395,
     "metadata": {},
     "output_type": "execute_result"
    }
   ],
   "source": [
    "missing_values_total = battles.isnull().sum().sort_values(ascending=False)\n",
    "missing_values_pct = (battles.isnull().mean()*100).sort_values(ascending=False)\n",
    "\n",
    "missing_values = pd.concat([missing_values_total, missing_values_pct, battles.dtypes],\n",
    "                           keys=['Total','Percentage','Dtype'],\n",
    "                           axis=1)\n",
    "missing_values.head(10)"
   ]
  },
  {
   "cell_type": "markdown",
   "id": "senior-thanksgiving",
   "metadata": {},
   "source": [
    "## Pemeriksaan Dataset\n",
    "\n",
    "setelah melakukan eksplorasi awal berupa preview data dan menghitung jumlah persentase nilai null serta membaca dari berbagai sumber yang ada di website kaggle dan wiki, ditemukan beberapa baris data yang dapat diperbaiki maupun ditambahkan untuk melengkapi dataset"
   ]
  },
  {
   "cell_type": "markdown",
   "id": "floppy-carter",
   "metadata": {},
   "source": [
    "### Temuan 1\n",
    "pada baris 37 terdapat _battle_type_ dengan nilai NaN yang bisa diisi sesuai dengan battle _name_ yaitu **siege**"
   ]
  },
  {
   "cell_type": "code",
   "execution_count": 396,
   "id": "chief-natural",
   "metadata": {
    "ExecuteTime": {
     "end_time": "2021-04-22T09:25:50.585233Z",
     "start_time": "2021-04-22T09:25:50.469292Z"
    }
   },
   "outputs": [
    {
     "data": {
      "text/html": [
       "<div>\n",
       "<style scoped>\n",
       "    .dataframe tbody tr th:only-of-type {\n",
       "        vertical-align: middle;\n",
       "    }\n",
       "\n",
       "    .dataframe tbody tr th {\n",
       "        vertical-align: top;\n",
       "    }\n",
       "\n",
       "    .dataframe thead th {\n",
       "        text-align: right;\n",
       "    }\n",
       "</style>\n",
       "<table border=\"1\" class=\"dataframe\">\n",
       "  <thead>\n",
       "    <tr style=\"text-align: right;\">\n",
       "      <th></th>\n",
       "      <th>name</th>\n",
       "      <th>battle_type</th>\n",
       "    </tr>\n",
       "  </thead>\n",
       "  <tbody>\n",
       "    <tr>\n",
       "      <th>37</th>\n",
       "      <td>Siege of Winterfell</td>\n",
       "      <td>NaN</td>\n",
       "    </tr>\n",
       "  </tbody>\n",
       "</table>\n",
       "</div>"
      ],
      "text/plain": [
       "                   name battle_type\n",
       "37  Siege of Winterfell         NaN"
      ]
     },
     "execution_count": 396,
     "metadata": {},
     "output_type": "execute_result"
    }
   ],
   "source": [
    "battles[['name','battle_type']].loc[battles['battle_type'].isnull()]"
   ]
  },
  {
   "cell_type": "markdown",
   "id": "present-snake",
   "metadata": {},
   "source": [
    "### Temuan 2\n",
    "pada baris 37 terdapat *attacker_outcome* dengan nilai NaN. \n",
    "\n",
    "dikutip dari [wiki March on Winterfell](https://awoiaf.westeros.org/index.php/March_on_Winterfell) (*link Siege_of_Winterfell di-alihkan ke March_on_Winterfell*),\\\n",
    "pada Aftermath, Roose Bolton memulangkan pasukan dan Stannis Baratheon tetap tinggal disana bersama tuan rumah untuk selanjutnya bersiap perang melawan Bolton.\n",
    "\n",
    "dari kutipan Aftermath diatas,bisa disimpulkan *attacker_outcome* dapat di-isi dengan *win* "
   ]
  },
  {
   "cell_type": "code",
   "execution_count": 397,
   "id": "dressed-referral",
   "metadata": {
    "ExecuteTime": {
     "end_time": "2021-04-22T09:25:50.701132Z",
     "start_time": "2021-04-22T09:25:50.585233Z"
    }
   },
   "outputs": [
    {
     "data": {
      "text/html": [
       "<div>\n",
       "<style scoped>\n",
       "    .dataframe tbody tr th:only-of-type {\n",
       "        vertical-align: middle;\n",
       "    }\n",
       "\n",
       "    .dataframe tbody tr th {\n",
       "        vertical-align: top;\n",
       "    }\n",
       "\n",
       "    .dataframe thead th {\n",
       "        text-align: right;\n",
       "    }\n",
       "</style>\n",
       "<table border=\"1\" class=\"dataframe\">\n",
       "  <thead>\n",
       "    <tr style=\"text-align: right;\">\n",
       "      <th></th>\n",
       "      <th>name</th>\n",
       "      <th>attacker_outcome</th>\n",
       "    </tr>\n",
       "  </thead>\n",
       "  <tbody>\n",
       "    <tr>\n",
       "      <th>37</th>\n",
       "      <td>Siege of Winterfell</td>\n",
       "      <td>NaN</td>\n",
       "    </tr>\n",
       "  </tbody>\n",
       "</table>\n",
       "</div>"
      ],
      "text/plain": [
       "                   name attacker_outcome\n",
       "37  Siege of Winterfell              NaN"
      ]
     },
     "execution_count": 397,
     "metadata": {},
     "output_type": "execute_result"
    }
   ],
   "source": [
    "battles[['name','attacker_outcome']].loc[battles['attacker_outcome'].isnull()]"
   ]
  },
  {
   "cell_type": "markdown",
   "id": "personal-diabetes",
   "metadata": {},
   "source": [
    "### Temuan 3\n",
    "dikutip dari [notebook dianyuurl](https://www.kaggle.com/dianyuurl/game-of-thrones-battles-analysis), pada [wiki Game of Thrones](https://gameofthrones.fandom.com/wiki/Battle_of_Castle_Black) _attacker_king_ seharusnya Mance Rayder dan _defender_king_ seharusnya Stannis Baratheon"
   ]
  },
  {
   "cell_type": "code",
   "execution_count": 398,
   "id": "signed-briefs",
   "metadata": {
    "ExecuteTime": {
     "end_time": "2021-04-22T09:25:50.801431Z",
     "start_time": "2021-04-22T09:25:50.701132Z"
    }
   },
   "outputs": [
    {
     "data": {
      "text/plain": [
       "attacker_king    Stannis Baratheon\n",
       "defender_king         Mance Rayder\n",
       "attacker_size             100000.0\n",
       "defender_size               1240.0\n",
       "Name: 27, dtype: object"
      ]
     },
     "execution_count": 398,
     "metadata": {},
     "output_type": "execute_result"
    }
   ],
   "source": [
    "battles[['attacker_king','defender_king','attacker_size','defender_size']].loc[27]"
   ]
  },
  {
   "cell_type": "markdown",
   "id": "hourly-depth",
   "metadata": {},
   "source": [
    "### Temuan 4\n",
    "pada variabel *attacker_1* s/d *attacker_4* dan *defender_1* s/d *defender_4* memiliki banyak nilai **NaN**, maka dari itu:\n",
    "- bisa diekstraksi menjadi fitur baru berupa jumlah attacker house dan defender house\n",
    "- setelah itu variabel dengan jumlah NaN >60% bisa di-drop"
   ]
  },
  {
   "cell_type": "code",
   "execution_count": 399,
   "id": "greater-senior",
   "metadata": {
    "ExecuteTime": {
     "end_time": "2021-04-22T09:25:50.917250Z",
     "start_time": "2021-04-22T09:25:50.801431Z"
    }
   },
   "outputs": [
    {
     "data": {
      "text/html": [
       "<div>\n",
       "<style scoped>\n",
       "    .dataframe tbody tr th:only-of-type {\n",
       "        vertical-align: middle;\n",
       "    }\n",
       "\n",
       "    .dataframe tbody tr th {\n",
       "        vertical-align: top;\n",
       "    }\n",
       "\n",
       "    .dataframe thead th {\n",
       "        text-align: right;\n",
       "    }\n",
       "</style>\n",
       "<table border=\"1\" class=\"dataframe\">\n",
       "  <thead>\n",
       "    <tr style=\"text-align: right;\">\n",
       "      <th></th>\n",
       "      <th>attacker_1</th>\n",
       "      <th>attacker_2</th>\n",
       "      <th>attacker_3</th>\n",
       "      <th>attacker_4</th>\n",
       "      <th>defender_1</th>\n",
       "      <th>defender_2</th>\n",
       "      <th>defender_3</th>\n",
       "      <th>defender_4</th>\n",
       "    </tr>\n",
       "  </thead>\n",
       "  <tbody>\n",
       "    <tr>\n",
       "      <th>0</th>\n",
       "      <td>Lannister</td>\n",
       "      <td>NaN</td>\n",
       "      <td>NaN</td>\n",
       "      <td>NaN</td>\n",
       "      <td>Tully</td>\n",
       "      <td>NaN</td>\n",
       "      <td>NaN</td>\n",
       "      <td>NaN</td>\n",
       "    </tr>\n",
       "    <tr>\n",
       "      <th>1</th>\n",
       "      <td>Lannister</td>\n",
       "      <td>NaN</td>\n",
       "      <td>NaN</td>\n",
       "      <td>NaN</td>\n",
       "      <td>Baratheon</td>\n",
       "      <td>NaN</td>\n",
       "      <td>NaN</td>\n",
       "      <td>NaN</td>\n",
       "    </tr>\n",
       "    <tr>\n",
       "      <th>2</th>\n",
       "      <td>Lannister</td>\n",
       "      <td>NaN</td>\n",
       "      <td>NaN</td>\n",
       "      <td>NaN</td>\n",
       "      <td>Tully</td>\n",
       "      <td>NaN</td>\n",
       "      <td>NaN</td>\n",
       "      <td>NaN</td>\n",
       "    </tr>\n",
       "    <tr>\n",
       "      <th>3</th>\n",
       "      <td>Stark</td>\n",
       "      <td>NaN</td>\n",
       "      <td>NaN</td>\n",
       "      <td>NaN</td>\n",
       "      <td>Lannister</td>\n",
       "      <td>NaN</td>\n",
       "      <td>NaN</td>\n",
       "      <td>NaN</td>\n",
       "    </tr>\n",
       "    <tr>\n",
       "      <th>4</th>\n",
       "      <td>Stark</td>\n",
       "      <td>Tully</td>\n",
       "      <td>NaN</td>\n",
       "      <td>NaN</td>\n",
       "      <td>Lannister</td>\n",
       "      <td>NaN</td>\n",
       "      <td>NaN</td>\n",
       "      <td>NaN</td>\n",
       "    </tr>\n",
       "  </tbody>\n",
       "</table>\n",
       "</div>"
      ],
      "text/plain": [
       "  attacker_1 attacker_2 attacker_3 attacker_4 defender_1 defender_2  \\\n",
       "0  Lannister        NaN        NaN        NaN      Tully        NaN   \n",
       "1  Lannister        NaN        NaN        NaN  Baratheon        NaN   \n",
       "2  Lannister        NaN        NaN        NaN      Tully        NaN   \n",
       "3      Stark        NaN        NaN        NaN  Lannister        NaN   \n",
       "4      Stark      Tully        NaN        NaN  Lannister        NaN   \n",
       "\n",
       "   defender_3  defender_4  \n",
       "0         NaN         NaN  \n",
       "1         NaN         NaN  \n",
       "2         NaN         NaN  \n",
       "3         NaN         NaN  \n",
       "4         NaN         NaN  "
      ]
     },
     "execution_count": 399,
     "metadata": {},
     "output_type": "execute_result"
    }
   ],
   "source": [
    "battles[['attacker_1','attacker_2','attacker_3','attacker_4','defender_1','defender_2','defender_3','defender_4']].head()"
   ]
  },
  {
   "cell_type": "markdown",
   "id": "affected-technician",
   "metadata": {},
   "source": [
    "### Temuan 5\n",
    "pada *attacker_commander* dan *defender_commander* berisi nama commander yang dipisahkan oleh koma :\n",
    "- bisa diekstraksi menjadi fitur baru berupa jumlah commander \n",
    "- setelah itu bisa dihapus pada saat pemodelan"
   ]
  },
  {
   "cell_type": "code",
   "execution_count": 400,
   "id": "breeding-congo",
   "metadata": {
    "ExecuteTime": {
     "end_time": "2021-04-22T09:25:51.017495Z",
     "start_time": "2021-04-22T09:25:50.917250Z"
    }
   },
   "outputs": [
    {
     "data": {
      "text/html": [
       "<div>\n",
       "<style scoped>\n",
       "    .dataframe tbody tr th:only-of-type {\n",
       "        vertical-align: middle;\n",
       "    }\n",
       "\n",
       "    .dataframe tbody tr th {\n",
       "        vertical-align: top;\n",
       "    }\n",
       "\n",
       "    .dataframe thead th {\n",
       "        text-align: right;\n",
       "    }\n",
       "</style>\n",
       "<table border=\"1\" class=\"dataframe\">\n",
       "  <thead>\n",
       "    <tr style=\"text-align: right;\">\n",
       "      <th></th>\n",
       "      <th>attacker_commander</th>\n",
       "      <th>defender_commander</th>\n",
       "    </tr>\n",
       "  </thead>\n",
       "  <tbody>\n",
       "    <tr>\n",
       "      <th>0</th>\n",
       "      <td>Jaime Lannister</td>\n",
       "      <td>Clement Piper, Vance</td>\n",
       "    </tr>\n",
       "    <tr>\n",
       "      <th>1</th>\n",
       "      <td>Gregor Clegane</td>\n",
       "      <td>Beric Dondarrion</td>\n",
       "    </tr>\n",
       "    <tr>\n",
       "      <th>2</th>\n",
       "      <td>Jaime Lannister, Andros Brax</td>\n",
       "      <td>Edmure Tully, Tytos Blackwood</td>\n",
       "    </tr>\n",
       "    <tr>\n",
       "      <th>3</th>\n",
       "      <td>Roose Bolton, Wylis Manderly, Medger Cerwyn, H...</td>\n",
       "      <td>Tywin Lannister, Gregor Clegane, Kevan Lannist...</td>\n",
       "    </tr>\n",
       "    <tr>\n",
       "      <th>4</th>\n",
       "      <td>Robb Stark, Brynden Tully</td>\n",
       "      <td>Jaime Lannister</td>\n",
       "    </tr>\n",
       "  </tbody>\n",
       "</table>\n",
       "</div>"
      ],
      "text/plain": [
       "                                  attacker_commander  \\\n",
       "0                                    Jaime Lannister   \n",
       "1                                     Gregor Clegane   \n",
       "2                       Jaime Lannister, Andros Brax   \n",
       "3  Roose Bolton, Wylis Manderly, Medger Cerwyn, H...   \n",
       "4                          Robb Stark, Brynden Tully   \n",
       "\n",
       "                                  defender_commander  \n",
       "0                               Clement Piper, Vance  \n",
       "1                                   Beric Dondarrion  \n",
       "2                      Edmure Tully, Tytos Blackwood  \n",
       "3  Tywin Lannister, Gregor Clegane, Kevan Lannist...  \n",
       "4                                    Jaime Lannister  "
      ]
     },
     "execution_count": 400,
     "metadata": {},
     "output_type": "execute_result"
    }
   ],
   "source": [
    "battles[['attacker_commander','defender_commander']].head()"
   ]
  },
  {
   "cell_type": "markdown",
   "id": "brutal-paste",
   "metadata": {},
   "source": [
    "### Temuan 6\n",
    "interval nilai dari jumlah pasukan sangat bervariasi, diperlukan standarisasi nilai agar interval nilai lebih ramping"
   ]
  },
  {
   "cell_type": "code",
   "execution_count": 401,
   "id": "numeric-option",
   "metadata": {
    "ExecuteTime": {
     "end_time": "2021-04-22T09:25:51.139878Z",
     "start_time": "2021-04-22T09:25:51.017495Z"
    },
    "scrolled": true
   },
   "outputs": [
    {
     "data": {
      "text/html": [
       "<div>\n",
       "<style scoped>\n",
       "    .dataframe tbody tr th:only-of-type {\n",
       "        vertical-align: middle;\n",
       "    }\n",
       "\n",
       "    .dataframe tbody tr th {\n",
       "        vertical-align: top;\n",
       "    }\n",
       "\n",
       "    .dataframe thead th {\n",
       "        text-align: right;\n",
       "    }\n",
       "</style>\n",
       "<table border=\"1\" class=\"dataframe\">\n",
       "  <thead>\n",
       "    <tr style=\"text-align: right;\">\n",
       "      <th></th>\n",
       "      <th>attacker_size</th>\n",
       "      <th>defender_size</th>\n",
       "    </tr>\n",
       "  </thead>\n",
       "  <tbody>\n",
       "    <tr>\n",
       "      <th>count</th>\n",
       "      <td>24.000000</td>\n",
       "      <td>19.000000</td>\n",
       "    </tr>\n",
       "    <tr>\n",
       "      <th>mean</th>\n",
       "      <td>9942.541667</td>\n",
       "      <td>6428.157895</td>\n",
       "    </tr>\n",
       "    <tr>\n",
       "      <th>std</th>\n",
       "      <td>20283.092065</td>\n",
       "      <td>6225.182106</td>\n",
       "    </tr>\n",
       "    <tr>\n",
       "      <th>min</th>\n",
       "      <td>20.000000</td>\n",
       "      <td>100.000000</td>\n",
       "    </tr>\n",
       "    <tr>\n",
       "      <th>25%</th>\n",
       "      <td>1375.000000</td>\n",
       "      <td>1070.000000</td>\n",
       "    </tr>\n",
       "    <tr>\n",
       "      <th>50%</th>\n",
       "      <td>4000.000000</td>\n",
       "      <td>6000.000000</td>\n",
       "    </tr>\n",
       "    <tr>\n",
       "      <th>75%</th>\n",
       "      <td>8250.000000</td>\n",
       "      <td>10000.000000</td>\n",
       "    </tr>\n",
       "    <tr>\n",
       "      <th>max</th>\n",
       "      <td>100000.000000</td>\n",
       "      <td>20000.000000</td>\n",
       "    </tr>\n",
       "  </tbody>\n",
       "</table>\n",
       "</div>"
      ],
      "text/plain": [
       "       attacker_size  defender_size\n",
       "count      24.000000      19.000000\n",
       "mean     9942.541667    6428.157895\n",
       "std     20283.092065    6225.182106\n",
       "min        20.000000     100.000000\n",
       "25%      1375.000000    1070.000000\n",
       "50%      4000.000000    6000.000000\n",
       "75%      8250.000000   10000.000000\n",
       "max    100000.000000   20000.000000"
      ]
     },
     "execution_count": 401,
     "metadata": {},
     "output_type": "execute_result"
    }
   ],
   "source": [
    "battles[['attacker_size','defender_size']].describe()"
   ]
  },
  {
   "cell_type": "markdown",
   "id": "norman-mapping",
   "metadata": {},
   "source": [
    "### Temuan 7\n",
    "Imbalanced Data, diperlukan teknik - teknik khusus pada saat membangun model, seperti :\n",
    "- Menggunakan metrik evaluasi yang sesuai\n",
    "- Melakukan resampling data\n",
    "- Menggunakan cross-validation"
   ]
  },
  {
   "cell_type": "code",
   "execution_count": 402,
   "id": "upset-shopping",
   "metadata": {
    "ExecuteTime": {
     "end_time": "2021-04-22T09:25:51.402844Z",
     "start_time": "2021-04-22T09:25:51.139878Z"
    }
   },
   "outputs": [
    {
     "data": {
      "image/png": "[encoded data removed]",
      "text/plain": [
       "<Figure size 432x288 with 1 Axes>"
      ]
     },
     "metadata": {
      "needs_background": "light"
     },
     "output_type": "display_data"
    }
   ],
   "source": [
    "atk_size_plot = sns.countplot(data=battles,x=\"attacker_outcome\")\n",
    "plt.title(\"Attacker Outcome Distribution\") \n",
    "plt.show()"
   ]
  },
  {
   "cell_type": "markdown",
   "id": "returning-match",
   "metadata": {},
   "source": [
    "# Data Cleaning\n",
    "\n",
    "pada tahapan ini dilakukan pembersihan data yang telah didapatkan pada tahapan eksplorasi seperti memperbaiki baris data yang kurang tepat, mengisi baris data yang hilang, melakukan ekstraksi fitur/kolom baru serta melakukan penghapusan kolom yang memiliki nilai null diatas 60%"
   ]
  },
  {
   "cell_type": "code",
   "execution_count": 403,
   "id": "recent-liberia",
   "metadata": {
    "ExecuteTime": {
     "end_time": "2021-04-22T09:25:51.418463Z",
     "start_time": "2021-04-22T09:25:51.402844Z"
    }
   },
   "outputs": [],
   "source": [
    "df = battles.copy()"
   ]
  },
  {
   "cell_type": "markdown",
   "id": "differential-concept",
   "metadata": {
    "ExecuteTime": {
     "end_time": "2021-03-15T02:54:17.530075Z",
     "start_time": "2021-03-15T02:54:17.514454Z"
    }
   },
   "source": [
    "## *battle_type*  dan *attacker_outcome* pada baris ke-37\n",
    "\n",
    "melakukan input missing value pada kolom *battle_type* sesuai dengan battle *name* pada baris ke-37"
   ]
  },
  {
   "cell_type": "code",
   "execution_count": 404,
   "id": "separate-comparison",
   "metadata": {
    "ExecuteTime": {
     "end_time": "2021-04-22T09:25:51.540838Z",
     "start_time": "2021-04-22T09:25:51.418463Z"
    }
   },
   "outputs": [
    {
     "data": {
      "text/plain": [
       "name                Siege of Winterfell\n",
       "battle_type                         NaN\n",
       "attacker_outcome                    NaN\n",
       "Name: 37, dtype: object"
      ]
     },
     "execution_count": 404,
     "metadata": {},
     "output_type": "execute_result"
    }
   ],
   "source": [
    "df.loc[37,['name','battle_type','attacker_outcome']]"
   ]
  },
  {
   "cell_type": "code",
   "execution_count": 405,
   "id": "emerging-sacramento",
   "metadata": {
    "ExecuteTime": {
     "end_time": "2021-04-22T09:25:51.641093Z",
     "start_time": "2021-04-22T09:25:51.540838Z"
    }
   },
   "outputs": [],
   "source": [
    "df.loc[37, 'battle_type'] = 'siege'"
   ]
  },
  {
   "cell_type": "code",
   "execution_count": 406,
   "id": "acoustic-patrol",
   "metadata": {
    "ExecuteTime": {
     "end_time": "2021-04-22T09:25:51.803824Z",
     "start_time": "2021-04-22T09:25:51.641093Z"
    }
   },
   "outputs": [],
   "source": [
    "df.loc[37, 'attacker_outcome'] = 'win'"
   ]
  },
  {
   "cell_type": "code",
   "execution_count": 407,
   "id": "frequent-premises",
   "metadata": {
    "ExecuteTime": {
     "end_time": "2021-04-22T09:25:51.957528Z",
     "start_time": "2021-04-22T09:25:51.803824Z"
    }
   },
   "outputs": [
    {
     "data": {
      "text/plain": [
       "name                Siege of Winterfell\n",
       "battle_type                       siege\n",
       "attacker_outcome                    win\n",
       "Name: 37, dtype: object"
      ]
     },
     "execution_count": 407,
     "metadata": {},
     "output_type": "execute_result"
    }
   ],
   "source": [
    "df.loc[37,['name','battle_type','attacker_outcome']]"
   ]
  },
  {
   "cell_type": "markdown",
   "id": "binary-ecuador",
   "metadata": {},
   "source": [
    "## *attacker_king* dan *defender_king* baris ke-27\n",
    "melakukan penukaran nama *attacker_king* dan *defender_king* karena terjadi kesalahan pada dataset, hasil temuan dari eksplorasi dataset"
   ]
  },
  {
   "cell_type": "code",
   "execution_count": 408,
   "id": "together-characterization",
   "metadata": {
    "ExecuteTime": {
     "end_time": "2021-04-22T09:25:52.057727Z",
     "start_time": "2021-04-22T09:25:51.957528Z"
    }
   },
   "outputs": [
    {
     "data": {
      "text/plain": [
       "attacker_king    Stannis Baratheon\n",
       "defender_king         Mance Rayder\n",
       "Name: 27, dtype: object"
      ]
     },
     "execution_count": 408,
     "metadata": {},
     "output_type": "execute_result"
    }
   ],
   "source": [
    "df[['attacker_king','defender_king']].loc[27]"
   ]
  },
  {
   "cell_type": "code",
   "execution_count": 409,
   "id": "postal-country",
   "metadata": {
    "ExecuteTime": {
     "end_time": "2021-04-22T09:25:52.173589Z",
     "start_time": "2021-04-22T09:25:52.057727Z"
    }
   },
   "outputs": [],
   "source": [
    "df.loc[27, 'attacker_king'] = 'Mance Rayder'\n",
    "df.loc[27, 'defender_king'] = 'Stannis Baratheon'"
   ]
  },
  {
   "cell_type": "code",
   "execution_count": 410,
   "id": "premium-circuit",
   "metadata": {
    "ExecuteTime": {
     "end_time": "2021-04-22T09:25:52.289550Z",
     "start_time": "2021-04-22T09:25:52.173589Z"
    }
   },
   "outputs": [
    {
     "data": {
      "text/plain": [
       "attacker_king         Mance Rayder\n",
       "defender_king    Stannis Baratheon\n",
       "Name: 27, dtype: object"
      ]
     },
     "execution_count": 410,
     "metadata": {},
     "output_type": "execute_result"
    }
   ],
   "source": [
    "df[['attacker_king','defender_king']].loc[27]"
   ]
  },
  {
   "cell_type": "markdown",
   "id": "buried-isolation",
   "metadata": {},
   "source": [
    "## Feature Extraction"
   ]
  },
  {
   "cell_type": "markdown",
   "id": "continuous-miller",
   "metadata": {},
   "source": [
    "### *attacker_count* dan *defender_count*\n",
    "pada kolom *attacker_1* s/d *attacker_4* dan *defender_1* s/d *defender_4* terdapat banyak sekali nilai null (60%-100%), \\\n",
    "maka dari itu bisa dilakukan ekstraksi dengan cara menghitung jumlah attacker house dan defender house"
   ]
  },
  {
   "cell_type": "code",
   "execution_count": 411,
   "id": "hourly-relevance",
   "metadata": {
    "ExecuteTime": {
     "end_time": "2021-04-22T09:25:52.374210Z",
     "start_time": "2021-04-22T09:25:52.289550Z"
    }
   },
   "outputs": [],
   "source": [
    "df['attacker_count'] = np.nan\n",
    "df['defender_count'] = np.nan"
   ]
  },
  {
   "cell_type": "code",
   "execution_count": 412,
   "id": "amateur-youth",
   "metadata": {
    "ExecuteTime": {
     "end_time": "2021-04-22T09:25:52.474493Z",
     "start_time": "2021-04-22T09:25:52.374210Z"
    }
   },
   "outputs": [
    {
     "data": {
      "text/html": [
       "<div>\n",
       "<style scoped>\n",
       "    .dataframe tbody tr th:only-of-type {\n",
       "        vertical-align: middle;\n",
       "    }\n",
       "\n",
       "    .dataframe tbody tr th {\n",
       "        vertical-align: top;\n",
       "    }\n",
       "\n",
       "    .dataframe thead th {\n",
       "        text-align: right;\n",
       "    }\n",
       "</style>\n",
       "<table border=\"1\" class=\"dataframe\">\n",
       "  <thead>\n",
       "    <tr style=\"text-align: right;\">\n",
       "      <th></th>\n",
       "      <th>attacker_count</th>\n",
       "      <th>defender_count</th>\n",
       "    </tr>\n",
       "  </thead>\n",
       "  <tbody>\n",
       "    <tr>\n",
       "      <th>0</th>\n",
       "      <td>NaN</td>\n",
       "      <td>NaN</td>\n",
       "    </tr>\n",
       "    <tr>\n",
       "      <th>1</th>\n",
       "      <td>NaN</td>\n",
       "      <td>NaN</td>\n",
       "    </tr>\n",
       "    <tr>\n",
       "      <th>2</th>\n",
       "      <td>NaN</td>\n",
       "      <td>NaN</td>\n",
       "    </tr>\n",
       "    <tr>\n",
       "      <th>3</th>\n",
       "      <td>NaN</td>\n",
       "      <td>NaN</td>\n",
       "    </tr>\n",
       "    <tr>\n",
       "      <th>4</th>\n",
       "      <td>NaN</td>\n",
       "      <td>NaN</td>\n",
       "    </tr>\n",
       "  </tbody>\n",
       "</table>\n",
       "</div>"
      ],
      "text/plain": [
       "   attacker_count  defender_count\n",
       "0             NaN             NaN\n",
       "1             NaN             NaN\n",
       "2             NaN             NaN\n",
       "3             NaN             NaN\n",
       "4             NaN             NaN"
      ]
     },
     "execution_count": 412,
     "metadata": {},
     "output_type": "execute_result"
    }
   ],
   "source": [
    "df[['attacker_count','defender_count']].head()"
   ]
  },
  {
   "cell_type": "code",
   "execution_count": 413,
   "id": "exciting-circle",
   "metadata": {
    "ExecuteTime": {
     "end_time": "2021-04-22T09:25:52.621604Z",
     "start_time": "2021-04-22T09:25:52.474493Z"
    }
   },
   "outputs": [],
   "source": [
    "atk_count = []\n",
    "def_count = []\n",
    "for idx,row in df.iterrows():\n",
    "    atk_c = row[['attacker_1','attacker_2','attacker_3','attacker_4']].notnull().sum()\n",
    "    def_c = row[['defender_1','defender_2','defender_3','defender_4']].notnull().sum()\n",
    "    atk_count.append(atk_c)\n",
    "    def_count.append(def_c)\n",
    "df['attacker_count'] = atk_count\n",
    "df['defender_count'] = def_count"
   ]
  },
  {
   "cell_type": "code",
   "execution_count": 414,
   "id": "approximate-being",
   "metadata": {
    "ExecuteTime": {
     "end_time": "2021-04-22T09:25:52.744063Z",
     "start_time": "2021-04-22T09:25:52.621604Z"
    }
   },
   "outputs": [
    {
     "data": {
      "text/html": [
       "<div>\n",
       "<style scoped>\n",
       "    .dataframe tbody tr th:only-of-type {\n",
       "        vertical-align: middle;\n",
       "    }\n",
       "\n",
       "    .dataframe tbody tr th {\n",
       "        vertical-align: top;\n",
       "    }\n",
       "\n",
       "    .dataframe thead th {\n",
       "        text-align: right;\n",
       "    }\n",
       "</style>\n",
       "<table border=\"1\" class=\"dataframe\">\n",
       "  <thead>\n",
       "    <tr style=\"text-align: right;\">\n",
       "      <th></th>\n",
       "      <th>attacker_count</th>\n",
       "      <th>defender_count</th>\n",
       "    </tr>\n",
       "  </thead>\n",
       "  <tbody>\n",
       "    <tr>\n",
       "      <th>0</th>\n",
       "      <td>1</td>\n",
       "      <td>1</td>\n",
       "    </tr>\n",
       "    <tr>\n",
       "      <th>1</th>\n",
       "      <td>1</td>\n",
       "      <td>1</td>\n",
       "    </tr>\n",
       "    <tr>\n",
       "      <th>2</th>\n",
       "      <td>1</td>\n",
       "      <td>1</td>\n",
       "    </tr>\n",
       "    <tr>\n",
       "      <th>3</th>\n",
       "      <td>1</td>\n",
       "      <td>1</td>\n",
       "    </tr>\n",
       "    <tr>\n",
       "      <th>4</th>\n",
       "      <td>2</td>\n",
       "      <td>1</td>\n",
       "    </tr>\n",
       "  </tbody>\n",
       "</table>\n",
       "</div>"
      ],
      "text/plain": [
       "   attacker_count  defender_count\n",
       "0               1               1\n",
       "1               1               1\n",
       "2               1               1\n",
       "3               1               1\n",
       "4               2               1"
      ]
     },
     "execution_count": 414,
     "metadata": {},
     "output_type": "execute_result"
    }
   ],
   "source": [
    "df[['attacker_count','defender_count']].head()"
   ]
  },
  {
   "cell_type": "markdown",
   "id": "acknowledged-impression",
   "metadata": {},
   "source": [
    "### attacker_commander_count dan defender_commander_count\n",
    "menghitung jumlah attacker commander dan defender commander dengan melakukan ekstraksi nama - nama commander yang tersedia pada kolom *attacker_commander* dan *defender_commander*\n",
    "\n",
    "terdapat kolom dengan nilai null pada nama commander,sehingga disini bisa diisi dengan nilai 1 dengan anggapan raja yang menjadi commander dalam peperangan"
   ]
  },
  {
   "cell_type": "code",
   "execution_count": 415,
   "id": "radical-overview",
   "metadata": {
    "ExecuteTime": {
     "end_time": "2021-04-22T09:25:52.891169Z",
     "start_time": "2021-04-22T09:25:52.744063Z"
    }
   },
   "outputs": [],
   "source": [
    "df['attacker_commander_count'] = np.nan\n",
    "df['defender_commander_count'] = np.nan"
   ]
  },
  {
   "cell_type": "code",
   "execution_count": 416,
   "id": "italian-wealth",
   "metadata": {
    "ExecuteTime": {
     "end_time": "2021-04-22T09:25:52.991543Z",
     "start_time": "2021-04-22T09:25:52.891169Z"
    }
   },
   "outputs": [
    {
     "data": {
      "text/html": [
       "<div>\n",
       "<style scoped>\n",
       "    .dataframe tbody tr th:only-of-type {\n",
       "        vertical-align: middle;\n",
       "    }\n",
       "\n",
       "    .dataframe tbody tr th {\n",
       "        vertical-align: top;\n",
       "    }\n",
       "\n",
       "    .dataframe thead th {\n",
       "        text-align: right;\n",
       "    }\n",
       "</style>\n",
       "<table border=\"1\" class=\"dataframe\">\n",
       "  <thead>\n",
       "    <tr style=\"text-align: right;\">\n",
       "      <th></th>\n",
       "      <th>attacker_commander_count</th>\n",
       "      <th>defender_commander_count</th>\n",
       "    </tr>\n",
       "  </thead>\n",
       "  <tbody>\n",
       "    <tr>\n",
       "      <th>0</th>\n",
       "      <td>NaN</td>\n",
       "      <td>NaN</td>\n",
       "    </tr>\n",
       "    <tr>\n",
       "      <th>1</th>\n",
       "      <td>NaN</td>\n",
       "      <td>NaN</td>\n",
       "    </tr>\n",
       "    <tr>\n",
       "      <th>2</th>\n",
       "      <td>NaN</td>\n",
       "      <td>NaN</td>\n",
       "    </tr>\n",
       "    <tr>\n",
       "      <th>3</th>\n",
       "      <td>NaN</td>\n",
       "      <td>NaN</td>\n",
       "    </tr>\n",
       "    <tr>\n",
       "      <th>4</th>\n",
       "      <td>NaN</td>\n",
       "      <td>NaN</td>\n",
       "    </tr>\n",
       "  </tbody>\n",
       "</table>\n",
       "</div>"
      ],
      "text/plain": [
       "   attacker_commander_count  defender_commander_count\n",
       "0                       NaN                       NaN\n",
       "1                       NaN                       NaN\n",
       "2                       NaN                       NaN\n",
       "3                       NaN                       NaN\n",
       "4                       NaN                       NaN"
      ]
     },
     "execution_count": 416,
     "metadata": {},
     "output_type": "execute_result"
    }
   ],
   "source": [
    "df[['attacker_commander_count','defender_commander_count']].head()"
   ]
  },
  {
   "cell_type": "code",
   "execution_count": 417,
   "id": "legislative-bedroom",
   "metadata": {
    "ExecuteTime": {
     "end_time": "2021-04-22T09:25:53.123016Z",
     "start_time": "2021-04-22T09:25:52.991543Z"
    }
   },
   "outputs": [],
   "source": [
    "df['attacker_commander_count'] = df['attacker_commander'].str.split(',').str.len()\n",
    "df['defender_commander_count'] = df['defender_commander'].str.split(',').str.len()\n",
    "\n",
    "# mengubah nilai NaN menjadi 1, dengan anggapan raja menjadi commander \n",
    "df['attacker_commander_count'].fillna(value=1,inplace=True)\n",
    "df['defender_commander_count'].fillna(value=1,inplace=True)\n",
    "\n",
    "df['attacker_commander_count'] = df['attacker_commander_count'].astype('int64')\n",
    "df['defender_commander_count'] = df['defender_commander_count'].astype('int64')"
   ]
  },
  {
   "cell_type": "code",
   "execution_count": 418,
   "id": "appreciated-suite",
   "metadata": {
    "ExecuteTime": {
     "end_time": "2021-04-22T09:25:53.276674Z",
     "start_time": "2021-04-22T09:25:53.123016Z"
    }
   },
   "outputs": [
    {
     "data": {
      "text/html": [
       "<div>\n",
       "<style scoped>\n",
       "    .dataframe tbody tr th:only-of-type {\n",
       "        vertical-align: middle;\n",
       "    }\n",
       "\n",
       "    .dataframe tbody tr th {\n",
       "        vertical-align: top;\n",
       "    }\n",
       "\n",
       "    .dataframe thead th {\n",
       "        text-align: right;\n",
       "    }\n",
       "</style>\n",
       "<table border=\"1\" class=\"dataframe\">\n",
       "  <thead>\n",
       "    <tr style=\"text-align: right;\">\n",
       "      <th></th>\n",
       "      <th>attacker_commander_count</th>\n",
       "      <th>defender_commander_count</th>\n",
       "    </tr>\n",
       "  </thead>\n",
       "  <tbody>\n",
       "    <tr>\n",
       "      <th>33</th>\n",
       "      <td>2</td>\n",
       "      <td>1</td>\n",
       "    </tr>\n",
       "    <tr>\n",
       "      <th>34</th>\n",
       "      <td>2</td>\n",
       "      <td>1</td>\n",
       "    </tr>\n",
       "    <tr>\n",
       "      <th>35</th>\n",
       "      <td>3</td>\n",
       "      <td>1</td>\n",
       "    </tr>\n",
       "    <tr>\n",
       "      <th>36</th>\n",
       "      <td>2</td>\n",
       "      <td>1</td>\n",
       "    </tr>\n",
       "    <tr>\n",
       "      <th>37</th>\n",
       "      <td>1</td>\n",
       "      <td>1</td>\n",
       "    </tr>\n",
       "  </tbody>\n",
       "</table>\n",
       "</div>"
      ],
      "text/plain": [
       "    attacker_commander_count  defender_commander_count\n",
       "33                         2                         1\n",
       "34                         2                         1\n",
       "35                         3                         1\n",
       "36                         2                         1\n",
       "37                         1                         1"
      ]
     },
     "execution_count": 418,
     "metadata": {},
     "output_type": "execute_result"
    }
   ],
   "source": [
    "df[['attacker_commander_count','defender_commander_count']].tail()"
   ]
  },
  {
   "cell_type": "markdown",
   "id": "greatest-category",
   "metadata": {},
   "source": [
    "## Drop Column with Null Values\n",
    "pada saat melakukan eksplorasi terdapat kolom dengan persentase nilai null diatas 60% bahkan 100% khususnya pada kolom nama defender house dan attacker house. \\\n",
    "karena sudah dilakukan ekstraksi pada kolom - kolom yang diperlukan, maka kolom dengan nilai null diatas 60% akan dihapus"
   ]
  },
  {
   "cell_type": "code",
   "execution_count": 419,
   "id": "gross-governor",
   "metadata": {
    "ExecuteTime": {
     "end_time": "2021-04-22T09:25:53.361363Z",
     "start_time": "2021-04-22T09:25:53.276674Z"
    }
   },
   "outputs": [
    {
     "data": {
      "text/html": [
       "<div>\n",
       "<style scoped>\n",
       "    .dataframe tbody tr th:only-of-type {\n",
       "        vertical-align: middle;\n",
       "    }\n",
       "\n",
       "    .dataframe tbody tr th {\n",
       "        vertical-align: top;\n",
       "    }\n",
       "\n",
       "    .dataframe thead th {\n",
       "        text-align: right;\n",
       "    }\n",
       "</style>\n",
       "<table border=\"1\" class=\"dataframe\">\n",
       "  <thead>\n",
       "    <tr style=\"text-align: right;\">\n",
       "      <th></th>\n",
       "      <th>Total</th>\n",
       "      <th>Percentage</th>\n",
       "      <th>Dtype</th>\n",
       "    </tr>\n",
       "  </thead>\n",
       "  <tbody>\n",
       "    <tr>\n",
       "      <th>defender_4</th>\n",
       "      <td>38</td>\n",
       "      <td>100.000000</td>\n",
       "      <td>float64</td>\n",
       "    </tr>\n",
       "    <tr>\n",
       "      <th>defender_3</th>\n",
       "      <td>38</td>\n",
       "      <td>100.000000</td>\n",
       "      <td>float64</td>\n",
       "    </tr>\n",
       "    <tr>\n",
       "      <th>defender_2</th>\n",
       "      <td>36</td>\n",
       "      <td>94.736842</td>\n",
       "      <td>object</td>\n",
       "    </tr>\n",
       "    <tr>\n",
       "      <th>attacker_4</th>\n",
       "      <td>36</td>\n",
       "      <td>94.736842</td>\n",
       "      <td>object</td>\n",
       "    </tr>\n",
       "    <tr>\n",
       "      <th>attacker_3</th>\n",
       "      <td>35</td>\n",
       "      <td>92.105263</td>\n",
       "      <td>object</td>\n",
       "    </tr>\n",
       "    <tr>\n",
       "      <th>note</th>\n",
       "      <td>33</td>\n",
       "      <td>86.842105</td>\n",
       "      <td>object</td>\n",
       "    </tr>\n",
       "    <tr>\n",
       "      <th>attacker_2</th>\n",
       "      <td>28</td>\n",
       "      <td>73.684211</td>\n",
       "      <td>object</td>\n",
       "    </tr>\n",
       "    <tr>\n",
       "      <th>defender_size</th>\n",
       "      <td>19</td>\n",
       "      <td>50.000000</td>\n",
       "      <td>float64</td>\n",
       "    </tr>\n",
       "    <tr>\n",
       "      <th>attacker_size</th>\n",
       "      <td>14</td>\n",
       "      <td>36.842105</td>\n",
       "      <td>float64</td>\n",
       "    </tr>\n",
       "    <tr>\n",
       "      <th>defender_commander</th>\n",
       "      <td>10</td>\n",
       "      <td>26.315789</td>\n",
       "      <td>object</td>\n",
       "    </tr>\n",
       "  </tbody>\n",
       "</table>\n",
       "</div>"
      ],
      "text/plain": [
       "                    Total  Percentage    Dtype\n",
       "defender_4             38  100.000000  float64\n",
       "defender_3             38  100.000000  float64\n",
       "defender_2             36   94.736842   object\n",
       "attacker_4             36   94.736842   object\n",
       "attacker_3             35   92.105263   object\n",
       "note                   33   86.842105   object\n",
       "attacker_2             28   73.684211   object\n",
       "defender_size          19   50.000000  float64\n",
       "attacker_size          14   36.842105  float64\n",
       "defender_commander     10   26.315789   object"
      ]
     },
     "execution_count": 419,
     "metadata": {},
     "output_type": "execute_result"
    }
   ],
   "source": [
    "missing_values.head(10)"
   ]
  },
  {
   "cell_type": "code",
   "execution_count": 420,
   "id": "found-continent",
   "metadata": {
    "ExecuteTime": {
     "end_time": "2021-04-22T09:25:53.477228Z",
     "start_time": "2021-04-22T09:25:53.361363Z"
    }
   },
   "outputs": [],
   "source": [
    "df = df.loc[:, df.isnull().mean() <= .6]"
   ]
  },
  {
   "cell_type": "code",
   "execution_count": 421,
   "id": "recreational-regulation",
   "metadata": {
    "ExecuteTime": {
     "end_time": "2021-04-22T09:25:53.608752Z",
     "start_time": "2021-04-22T09:25:53.477228Z"
    }
   },
   "outputs": [
    {
     "name": "stdout",
     "output_type": "stream",
     "text": [
      "<class 'pandas.core.frame.DataFrame'>\n",
      "RangeIndex: 38 entries, 0 to 37\n",
      "Data columns (total 22 columns):\n",
      " #   Column                    Non-Null Count  Dtype  \n",
      "---  ------                    --------------  -----  \n",
      " 0   name                      38 non-null     object \n",
      " 1   year                      38 non-null     int64  \n",
      " 2   battle_number             38 non-null     int64  \n",
      " 3   attacker_king             36 non-null     object \n",
      " 4   defender_king             35 non-null     object \n",
      " 5   attacker_1                38 non-null     object \n",
      " 6   defender_1                37 non-null     object \n",
      " 7   attacker_outcome          38 non-null     object \n",
      " 8   battle_type               38 non-null     object \n",
      " 9   major_death               37 non-null     float64\n",
      " 10  major_capture             37 non-null     float64\n",
      " 11  attacker_size             24 non-null     float64\n",
      " 12  defender_size             19 non-null     float64\n",
      " 13  attacker_commander        37 non-null     object \n",
      " 14  defender_commander        28 non-null     object \n",
      " 15  summer                    37 non-null     float64\n",
      " 16  location                  37 non-null     object \n",
      " 17  region                    38 non-null     object \n",
      " 18  attacker_count            38 non-null     int64  \n",
      " 19  defender_count            38 non-null     int64  \n",
      " 20  attacker_commander_count  38 non-null     int64  \n",
      " 21  defender_commander_count  38 non-null     int64  \n",
      "dtypes: float64(5), int64(6), object(11)\n",
      "memory usage: 6.7+ KB\n"
     ]
    }
   ],
   "source": [
    "df.info()"
   ]
  },
  {
   "cell_type": "markdown",
   "id": "massive-shift",
   "metadata": {},
   "source": [
    "## Save Dataset\n",
    "menyimpan dataset yang sudah dibersihkan"
   ]
  },
  {
   "cell_type": "code",
   "execution_count": 422,
   "id": "configured-college",
   "metadata": {
    "ExecuteTime": {
     "end_time": "2021-04-22T09:25:53.693412Z",
     "start_time": "2021-04-22T09:25:53.608752Z"
    }
   },
   "outputs": [],
   "source": [
    "df.to_csv('dataset/battles_cleaned.csv',index=False)"
   ]
  },
  {
   "cell_type": "markdown",
   "id": "prescription-significance",
   "metadata": {},
   "source": [
    "# Data Visualization\n",
    "\n",
    "Visualisasi data dilakukan untuk menampilkan informasi - informasi yang terdapat dalam dataset agar mendapatkan pemahaman yang lebih jelas.\n",
    "\n",
    "Dilakukan setelah data dibersihkan untuk menampilkan informasi menarik dari data yang telah diolah."
   ]
  },
  {
   "cell_type": "code",
   "execution_count": 423,
   "id": "abandoned-south",
   "metadata": {
    "ExecuteTime": {
     "end_time": "2021-04-22T09:25:53.793622Z",
     "start_time": "2021-04-22T09:25:53.693412Z"
    }
   },
   "outputs": [],
   "source": [
    "df = pd.read_csv('dataset/battles_cleaned.csv')"
   ]
  },
  {
   "cell_type": "markdown",
   "id": "respected-cooler",
   "metadata": {},
   "source": [
    "## Most Aggresive King"
   ]
  },
  {
   "cell_type": "code",
   "execution_count": 424,
   "id": "streaming-piece",
   "metadata": {
    "ExecuteTime": {
     "end_time": "2021-04-22T09:25:54.294934Z",
     "start_time": "2021-04-22T09:25:53.793622Z"
    }
   },
   "outputs": [
    {
     "data": {
      "image/png": "[encoded data removed]",
      "text/plain": [
       "<Figure size 720x360 with 1 Axes>"
      ]
     },
     "metadata": {
      "needs_background": "light"
     },
     "output_type": "display_data"
    }
   ],
   "source": [
    "atk_king = sns.catplot(y='attacker_king',\n",
    "                       data=df,\n",
    "                       kind='count',\n",
    "                       height=5,\n",
    "                       aspect=2)\n",
    "atk_king.ax.set_xticks(range(0,16))\n",
    "plt.title(\"Most Aggressive King\") \n",
    "plt.show()"
   ]
  },
  {
   "cell_type": "markdown",
   "id": "written-westminster",
   "metadata": {},
   "source": [
    "## Most Defensive King"
   ]
  },
  {
   "cell_type": "code",
   "execution_count": 425,
   "id": "molecular-holmes",
   "metadata": {
    "ExecuteTime": {
     "end_time": "2021-04-22T09:25:54.749400Z",
     "start_time": "2021-04-22T09:25:54.294934Z"
    }
   },
   "outputs": [
    {
     "data": {
      "image/png": "[encoded data removed]",
      "text/plain": [
       "<Figure size 720x360 with 1 Axes>"
      ]
     },
     "metadata": {
      "needs_background": "light"
     },
     "output_type": "display_data"
    }
   ],
   "source": [
    "def_king = sns.catplot(y='defender_king',\n",
    "                       data=df,\n",
    "                       kind='count',\n",
    "                       height=5,\n",
    "                       aspect=2)\n",
    "def_king.ax.set_xticks(range(0,16))\n",
    "plt.title(\"Most Defensive King\") \n",
    "plt.show()"
   ]
  },
  {
   "cell_type": "markdown",
   "id": "legislative-proceeding",
   "metadata": {},
   "source": [
    "## Attacker Army Size"
   ]
  },
  {
   "cell_type": "code",
   "execution_count": 426,
   "id": "excessive-steam",
   "metadata": {
    "ExecuteTime": {
     "end_time": "2021-04-22T09:25:54.949882Z",
     "start_time": "2021-04-22T09:25:54.749400Z"
    }
   },
   "outputs": [
    {
     "data": {
      "image/png": "[encoded data removed]",
      "text/plain": [
       "<Figure size 432x288 with 1 Axes>"
      ]
     },
     "metadata": {
      "needs_background": "light"
     },
     "output_type": "display_data"
    }
   ],
   "source": [
    "attacker_army = df['attacker_size'].groupby(df['attacker_king']).sum().reset_index().sort_values(by='attacker_size',ascending=False)\n",
    "atk_size_plot = sns.barplot(y='attacker_king',\n",
    "                      x='attacker_size',\n",
    "                      data=attacker_army)\n",
    "plt.title(\"Attacker Army Size\") \n",
    "plt.show()"
   ]
  },
  {
   "cell_type": "markdown",
   "id": "considered-declaration",
   "metadata": {
    "ExecuteTime": {
     "end_time": "2021-03-29T10:33:38.655170Z",
     "start_time": "2021-03-29T10:33:38.651183Z"
    }
   },
   "source": [
    "## Defender Army Size"
   ]
  },
  {
   "cell_type": "code",
   "execution_count": 427,
   "id": "herbal-strap",
   "metadata": {
    "ExecuteTime": {
     "end_time": "2021-04-22T09:25:55.181716Z",
     "start_time": "2021-04-22T09:25:54.949882Z"
    }
   },
   "outputs": [
    {
     "data": {
      "image/png": "[encoded data removed]",
      "text/plain": [
       "<Figure size 432x288 with 1 Axes>"
      ]
     },
     "metadata": {
      "needs_background": "light"
     },
     "output_type": "display_data"
    }
   ],
   "source": [
    "defender_army = df['defender_size'].groupby(df['defender_king']).sum().reset_index().sort_values(by='defender_size',ascending=False)\n",
    "def_size_plot = sns.barplot(y='defender_king',\n",
    "                      x='defender_size',\n",
    "                      data=defender_army)\n",
    "plt.title(\"Defender Army Size\") \n",
    "plt.show()"
   ]
  },
  {
   "cell_type": "markdown",
   "id": "introductory-radio",
   "metadata": {},
   "source": [
    "## Total of Attacker Commander"
   ]
  },
  {
   "cell_type": "code",
   "execution_count": 428,
   "id": "static-memorabilia",
   "metadata": {
    "ExecuteTime": {
     "end_time": "2021-04-22T09:25:55.397797Z",
     "start_time": "2021-04-22T09:25:55.181716Z"
    }
   },
   "outputs": [
    {
     "data": {
      "image/png": "[encoded data removed]",
      "text/plain": [
       "<Figure size 432x288 with 1 Axes>"
      ]
     },
     "metadata": {
      "needs_background": "light"
     },
     "output_type": "display_data"
    }
   ],
   "source": [
    "data = df['attacker_commander_count'].groupby(df['attacker_king']).sum().reset_index().sort_values(by='attacker_commander_count',ascending=False)\n",
    "atk_cmd = sns.barplot(y='attacker_king',\n",
    "                      x='attacker_commander_count',\n",
    "                      data=data)\n",
    "plt.title(\"Total of Attacker Commander\") \n",
    "plt.show()"
   ]
  },
  {
   "cell_type": "markdown",
   "id": "tamil-dollar",
   "metadata": {},
   "source": [
    "## Battle Outcome"
   ]
  },
  {
   "cell_type": "code",
   "execution_count": 429,
   "id": "short-shell",
   "metadata": {
    "ExecuteTime": {
     "end_time": "2021-04-22T09:25:55.899130Z",
     "start_time": "2021-04-22T09:25:55.397797Z"
    }
   },
   "outputs": [
    {
     "data": {
      "image/png": "[encoded data removed]",
      "text/plain": [
       "<Figure size 824.3x360 with 1 Axes>"
      ]
     },
     "metadata": {
      "needs_background": "light"
     },
     "output_type": "display_data"
    }
   ],
   "source": [
    "battle_outcome = sns.catplot(y='attacker_king',\n",
    "                             hue='attacker_outcome',\n",
    "                             kind='count',\n",
    "                             data=df,\n",
    "                             height=5,\n",
    "                             aspect=2)\n",
    "battle_outcome.ax.set_xticks(range(0,16))\n",
    "plt.title(\"Battle Outcome\") \n",
    "plt.show()"
   ]
  },
  {
   "cell_type": "markdown",
   "id": "attended-locking",
   "metadata": {},
   "source": [
    "## The Type of War that Each King Won The Most"
   ]
  },
  {
   "cell_type": "code",
   "execution_count": 430,
   "id": "colonial-maximum",
   "metadata": {
    "ExecuteTime": {
     "end_time": "2021-04-22T09:25:56.431657Z",
     "start_time": "2021-04-22T09:25:55.899130Z"
    }
   },
   "outputs": [
    {
     "data": {
      "image/png": "[encoded data removed]",
      "text/plain": [
       "<Figure size 825.475x360 with 1 Axes>"
      ]
     },
     "metadata": {
      "needs_background": "light"
     },
     "output_type": "display_data"
    }
   ],
   "source": [
    "win = df[df['attacker_outcome']=='win']\n",
    "xs = sns.catplot(y='attacker_king', \n",
    "            hue='battle_type', \n",
    "            kind='count',\n",
    "            data=win,\n",
    "            height=5,\n",
    "            aspect=2)\n",
    "xs.ax.set_xticks(range(0,7))\n",
    "plt.title(\"Battle Outcome\") \n",
    "plt.show()"
   ]
  },
  {
   "cell_type": "markdown",
   "id": "through-melissa",
   "metadata": {},
   "source": [
    "## Correlation of Army Size"
   ]
  },
  {
   "cell_type": "code",
   "execution_count": 431,
   "id": "foster-photography",
   "metadata": {
    "ExecuteTime": {
     "end_time": "2021-04-22T09:25:56.770180Z",
     "start_time": "2021-04-22T09:25:56.431657Z"
    },
    "scrolled": false
   },
   "outputs": [
    {
     "data": {
      "image/png": "[encoded data removed]",
      "text/plain": [
       "<Figure size 432x288 with 1 Axes>"
      ]
     },
     "metadata": {
      "needs_background": "light"
     },
     "output_type": "display_data"
    }
   ],
   "source": [
    "sns.scatterplot(data=df, x=\"defender_size\", y=\"attacker_size\",hue=\"attacker_outcome\")\n",
    "plt.title(\"Korelasi Antara Pasukan\") \n",
    "plt.show()"
   ]
  },
  {
   "cell_type": "markdown",
   "id": "present-costa",
   "metadata": {},
   "source": [
    "# Data Pre-processing"
   ]
  },
  {
   "cell_type": "code",
   "execution_count": 432,
   "id": "chemical-program",
   "metadata": {
    "ExecuteTime": {
     "end_time": "2021-04-22T09:25:56.785802Z",
     "start_time": "2021-04-22T09:25:56.770180Z"
    }
   },
   "outputs": [],
   "source": [
    "df = pd.read_csv('dataset/battles_cleaned.csv')"
   ]
  },
  {
   "cell_type": "markdown",
   "id": "reverse-spray",
   "metadata": {},
   "source": [
    "## Drop Unused Column\n",
    "\n",
    "\n",
    "`battle_number` hanya nomor baris \\\n",
    "`name` hanya nama pertempuran dan kurang informatif untuk model \\\n",
    "`year` berisi tahun peperangan yang kurang informatif untuk model \\\n",
    "`attacker_commander` dan `defender_commander` kurang informatif karena berisi nama komander dipisah dengan spasi"
   ]
  },
  {
   "cell_type": "code",
   "execution_count": 433,
   "id": "applied-humidity",
   "metadata": {
    "ExecuteTime": {
     "end_time": "2021-04-22T09:25:56.901772Z",
     "start_time": "2021-04-22T09:25:56.785802Z"
    }
   },
   "outputs": [],
   "source": [
    "df.drop(columns=['battle_number','name','year','attacker_commander','defender_commander'],inplace=True)"
   ]
  },
  {
   "cell_type": "code",
   "execution_count": 434,
   "id": "banner-pregnancy",
   "metadata": {
    "ExecuteTime": {
     "end_time": "2021-04-22T09:25:57.155867Z",
     "start_time": "2021-04-22T09:25:56.901772Z"
    }
   },
   "outputs": [
    {
     "name": "stdout",
     "output_type": "stream",
     "text": [
      "<class 'pandas.core.frame.DataFrame'>\n",
      "RangeIndex: 38 entries, 0 to 37\n",
      "Data columns (total 17 columns):\n",
      " #   Column                    Non-Null Count  Dtype  \n",
      "---  ------                    --------------  -----  \n",
      " 0   attacker_king             36 non-null     object \n",
      " 1   defender_king             35 non-null     object \n",
      " 2   attacker_1                38 non-null     object \n",
      " 3   defender_1                37 non-null     object \n",
      " 4   attacker_outcome          38 non-null     object \n",
      " 5   battle_type               38 non-null     object \n",
      " 6   major_death               37 non-null     float64\n",
      " 7   major_capture             37 non-null     float64\n",
      " 8   attacker_size             24 non-null     float64\n",
      " 9   defender_size             19 non-null     float64\n",
      " 10  summer                    37 non-null     float64\n",
      " 11  location                  37 non-null     object \n",
      " 12  region                    38 non-null     object \n",
      " 13  attacker_count            38 non-null     int64  \n",
      " 14  defender_count            38 non-null     int64  \n",
      " 15  attacker_commander_count  38 non-null     int64  \n",
      " 16  defender_commander_count  38 non-null     int64  \n",
      "dtypes: float64(5), int64(4), object(8)\n",
      "memory usage: 5.2+ KB\n"
     ]
    }
   ],
   "source": [
    "df.info()"
   ]
  },
  {
   "cell_type": "markdown",
   "id": "existing-booth",
   "metadata": {},
   "source": [
    "## Data Encoding\n",
    "\\\n",
    "diperlukan Encoding untuk dataset (khususnya data kategori) sebelum dilakukan pengisian nilai yang hilang/missing values. \\\n",
    "menggunakan LabelEncoder untuk encoding karena tidak berpengaruh pada nilai NaN. "
   ]
  },
  {
   "cell_type": "code",
   "execution_count": 435,
   "id": "rubber-throw",
   "metadata": {
    "ExecuteTime": {
     "end_time": "2021-04-22T09:25:57.356395Z",
     "start_time": "2021-04-22T09:25:57.155867Z"
    }
   },
   "outputs": [],
   "source": [
    "from sklearn.preprocessing import LabelEncoder\n",
    "\n",
    "le = LabelEncoder()\n",
    "np.random.seed(1772023)\n",
    "df[df.select_dtypes(['object']).columns] = df.select_dtypes(['object']).apply(lambda x: le.fit_transform(x.astype(str)))"
   ]
  },
  {
   "cell_type": "code",
   "execution_count": 436,
   "id": "nonprofit-suffering",
   "metadata": {
    "ExecuteTime": {
     "end_time": "2021-04-22T09:25:57.456276Z",
     "start_time": "2021-04-22T09:25:57.356395Z"
    }
   },
   "outputs": [
    {
     "data": {
      "text/html": [
       "<div>\n",
       "<style scoped>\n",
       "    .dataframe tbody tr th:only-of-type {\n",
       "        vertical-align: middle;\n",
       "    }\n",
       "\n",
       "    .dataframe tbody tr th {\n",
       "        vertical-align: top;\n",
       "    }\n",
       "\n",
       "    .dataframe thead th {\n",
       "        text-align: right;\n",
       "    }\n",
       "</style>\n",
       "<table border=\"1\" class=\"dataframe\">\n",
       "  <thead>\n",
       "    <tr style=\"text-align: right;\">\n",
       "      <th></th>\n",
       "      <th>attacker_king</th>\n",
       "      <th>defender_king</th>\n",
       "      <th>attacker_1</th>\n",
       "      <th>defender_1</th>\n",
       "      <th>attacker_outcome</th>\n",
       "      <th>battle_type</th>\n",
       "      <th>major_death</th>\n",
       "      <th>major_capture</th>\n",
       "      <th>attacker_size</th>\n",
       "      <th>defender_size</th>\n",
       "      <th>summer</th>\n",
       "      <th>location</th>\n",
       "      <th>region</th>\n",
       "      <th>attacker_count</th>\n",
       "      <th>defender_count</th>\n",
       "      <th>attacker_commander_count</th>\n",
       "      <th>defender_commander_count</th>\n",
       "    </tr>\n",
       "  </thead>\n",
       "  <tbody>\n",
       "    <tr>\n",
       "      <th>0</th>\n",
       "      <td>1</td>\n",
       "      <td>3</td>\n",
       "      <td>9</td>\n",
       "      <td>10</td>\n",
       "      <td>1</td>\n",
       "      <td>1</td>\n",
       "      <td>1.0</td>\n",
       "      <td>0.0</td>\n",
       "      <td>15000.0</td>\n",
       "      <td>4000.0</td>\n",
       "      <td>1.0</td>\n",
       "      <td>6</td>\n",
       "      <td>6</td>\n",
       "      <td>1</td>\n",
       "      <td>1</td>\n",
       "      <td>1</td>\n",
       "      <td>2</td>\n",
       "    </tr>\n",
       "    <tr>\n",
       "      <th>1</th>\n",
       "      <td>1</td>\n",
       "      <td>3</td>\n",
       "      <td>9</td>\n",
       "      <td>0</td>\n",
       "      <td>1</td>\n",
       "      <td>0</td>\n",
       "      <td>1.0</td>\n",
       "      <td>0.0</td>\n",
       "      <td>NaN</td>\n",
       "      <td>120.0</td>\n",
       "      <td>1.0</td>\n",
       "      <td>11</td>\n",
       "      <td>4</td>\n",
       "      <td>1</td>\n",
       "      <td>1</td>\n",
       "      <td>1</td>\n",
       "      <td>1</td>\n",
       "    </tr>\n",
       "    <tr>\n",
       "      <th>2</th>\n",
       "      <td>1</td>\n",
       "      <td>3</td>\n",
       "      <td>9</td>\n",
       "      <td>10</td>\n",
       "      <td>1</td>\n",
       "      <td>1</td>\n",
       "      <td>0.0</td>\n",
       "      <td>1.0</td>\n",
       "      <td>15000.0</td>\n",
       "      <td>10000.0</td>\n",
       "      <td>1.0</td>\n",
       "      <td>15</td>\n",
       "      <td>4</td>\n",
       "      <td>1</td>\n",
       "      <td>1</td>\n",
       "      <td>2</td>\n",
       "      <td>2</td>\n",
       "    </tr>\n",
       "    <tr>\n",
       "      <th>3</th>\n",
       "      <td>3</td>\n",
       "      <td>1</td>\n",
       "      <td>10</td>\n",
       "      <td>6</td>\n",
       "      <td>0</td>\n",
       "      <td>1</td>\n",
       "      <td>1.0</td>\n",
       "      <td>1.0</td>\n",
       "      <td>18000.0</td>\n",
       "      <td>20000.0</td>\n",
       "      <td>1.0</td>\n",
       "      <td>7</td>\n",
       "      <td>4</td>\n",
       "      <td>1</td>\n",
       "      <td>1</td>\n",
       "      <td>5</td>\n",
       "      <td>4</td>\n",
       "    </tr>\n",
       "    <tr>\n",
       "      <th>4</th>\n",
       "      <td>3</td>\n",
       "      <td>1</td>\n",
       "      <td>10</td>\n",
       "      <td>6</td>\n",
       "      <td>1</td>\n",
       "      <td>0</td>\n",
       "      <td>1.0</td>\n",
       "      <td>1.0</td>\n",
       "      <td>1875.0</td>\n",
       "      <td>6000.0</td>\n",
       "      <td>1.0</td>\n",
       "      <td>25</td>\n",
       "      <td>4</td>\n",
       "      <td>2</td>\n",
       "      <td>1</td>\n",
       "      <td>2</td>\n",
       "      <td>1</td>\n",
       "    </tr>\n",
       "  </tbody>\n",
       "</table>\n",
       "</div>"
      ],
      "text/plain": [
       "   attacker_king  defender_king  attacker_1  defender_1  attacker_outcome  \\\n",
       "0              1              3           9          10                 1   \n",
       "1              1              3           9           0                 1   \n",
       "2              1              3           9          10                 1   \n",
       "3              3              1          10           6                 0   \n",
       "4              3              1          10           6                 1   \n",
       "\n",
       "   battle_type  major_death  major_capture  attacker_size  defender_size  \\\n",
       "0            1          1.0            0.0        15000.0         4000.0   \n",
       "1            0          1.0            0.0            NaN          120.0   \n",
       "2            1          0.0            1.0        15000.0        10000.0   \n",
       "3            1          1.0            1.0        18000.0        20000.0   \n",
       "4            0          1.0            1.0         1875.0         6000.0   \n",
       "\n",
       "   summer  location  region  attacker_count  defender_count  \\\n",
       "0     1.0         6       6               1               1   \n",
       "1     1.0        11       4               1               1   \n",
       "2     1.0        15       4               1               1   \n",
       "3     1.0         7       4               1               1   \n",
       "4     1.0        25       4               2               1   \n",
       "\n",
       "   attacker_commander_count  defender_commander_count  \n",
       "0                         1                         2  \n",
       "1                         1                         1  \n",
       "2                         2                         2  \n",
       "3                         5                         4  \n",
       "4                         2                         1  "
      ]
     },
     "execution_count": 436,
     "metadata": {},
     "output_type": "execute_result"
    }
   ],
   "source": [
    "df.head()"
   ]
  },
  {
   "cell_type": "markdown",
   "id": "annoying-gnome",
   "metadata": {},
   "source": [
    "## Set Train Features and Target"
   ]
  },
  {
   "cell_type": "code",
   "execution_count": 437,
   "id": "norman-serbia",
   "metadata": {
    "ExecuteTime": {
     "end_time": "2021-04-22T09:25:57.557108Z",
     "start_time": "2021-04-22T09:25:57.456276Z"
    }
   },
   "outputs": [],
   "source": [
    "y = df['attacker_outcome']\n",
    "X = df.drop(columns='attacker_outcome')"
   ]
  },
  {
   "cell_type": "markdown",
   "id": "abroad-session",
   "metadata": {},
   "source": [
    "\n",
    "## Data Imputation"
   ]
  },
  {
   "cell_type": "markdown",
   "id": "honey-accused",
   "metadata": {},
   "source": [
    "### Finding The Right Method for Imputation\n",
    "\n",
    "menggunakan metode `iterativeImputer` dan `SimpleImputer` untuk mencari metode yang cocok (nilai error terkecil pada saat prediksi) untuk melakukan imputasi data\n",
    "\n",
    "referensi: [imputing missing values with variants of iterativeimputer - scikit-learn](https://scikit-learn.org/stable/auto_examples/impute/plot_iterative_imputer_variants_comparison.html#imputing-missing-values-with-variants-of-iterativeimputer)"
   ]
  },
  {
   "cell_type": "code",
   "execution_count": 438,
   "id": "thirty-elements",
   "metadata": {
    "ExecuteTime": {
     "end_time": "2021-04-22T09:26:03.081283Z",
     "start_time": "2021-04-22T09:25:57.557108Z"
    }
   },
   "outputs": [
    {
     "data": {
      "image/png": "[encoded data removed]",
      "text/plain": [
       "<Figure size 936x432 with 1 Axes>"
      ]
     },
     "metadata": {
      "needs_background": "light"
     },
     "output_type": "display_data"
    }
   ],
   "source": [
    "from sklearn.experimental import enable_iterative_imputer  \n",
    "from sklearn.impute import SimpleImputer, IterativeImputer\n",
    "\n",
    "from sklearn.pipeline import make_pipeline\n",
    "from sklearn.model_selection import cross_val_score\n",
    "from sklearn.preprocessing import StandardScaler\n",
    "\n",
    "from sklearn.linear_model import BayesianRidge\n",
    "from sklearn.tree import DecisionTreeRegressor\n",
    "from sklearn.ensemble import ExtraTreesRegressor\n",
    "from sklearn.neighbors import KNeighborsRegressor\n",
    "\n",
    "\n",
    "df_y = df['attacker_outcome']\n",
    "df_X = df.drop(columns='attacker_outcome')\n",
    "\n",
    "N_SPLITS = 5\n",
    "br_estimator = BayesianRidge()\n",
    "\n",
    "np.random.seed(1772023)\n",
    "\n",
    "# Estimate the score after imputation (mean and median strategies)\n",
    "score_simple_imputer = pd.DataFrame()\n",
    "for strategy in ('mean', 'median'):\n",
    "    estimator = make_pipeline(\n",
    "        StandardScaler(),\n",
    "        SimpleImputer(missing_values=np.nan, strategy=strategy),\n",
    "        br_estimator\n",
    "    )\n",
    "    score_simple_imputer[strategy] = cross_val_score(\n",
    "        estimator, df_X, df_y, scoring='neg_mean_squared_error',\n",
    "        cv=N_SPLITS\n",
    "    )\n",
    "    \n",
    "# Estimate the score after iterative imputation of the missing values\n",
    "# with different estimators\n",
    "estimators = [\n",
    "    BayesianRidge(),\n",
    "    DecisionTreeRegressor(max_features='sqrt', random_state=0),\n",
    "    ExtraTreesRegressor(n_estimators=10, random_state=0),\n",
    "    KNeighborsRegressor(n_neighbors=6)\n",
    "]\n",
    "\n",
    "score_iterative_imputer = pd.DataFrame()\n",
    "for impute_estimator in estimators:\n",
    "    estimator = make_pipeline(\n",
    "        StandardScaler(),\n",
    "        IterativeImputer(random_state=0, estimator=impute_estimator),\n",
    "        br_estimator\n",
    "    )\n",
    "    score_iterative_imputer[impute_estimator.__class__.__name__] = \\\n",
    "        cross_val_score(\n",
    "            estimator, df_X, df_y, scoring='neg_mean_squared_error',\n",
    "            cv=N_SPLITS\n",
    "    )\n",
    "\n",
    "scores = pd.concat(\n",
    "    [score_simple_imputer, score_iterative_imputer],\n",
    "    keys=['SimpleImputer', 'IterativeImputer'], axis=1\n",
    ")\n",
    "\n",
    "# plot results\n",
    "fig, ax = plt.subplots(figsize=(13, 6))\n",
    "means = -scores.mean().sort_values()\n",
    "errors = scores.std().sort_values()\n",
    "means.plot.barh(xerr=errors, ax=ax)\n",
    "ax.set_title('Perbandingan Imputasi Menggunakan berbagai Model')\n",
    "ax.set_xlabel('MSE (smaller is better)')\n",
    "ax.set_yticks(np.arange(means.shape[0]))\n",
    "ax.set_yticklabels([\" w/ \".join(label) for label in means.index.tolist()])\n",
    "plt.tight_layout(pad=1)\n",
    "plt.show()"
   ]
  },
  {
   "cell_type": "code",
   "execution_count": 439,
   "id": "photographic-questionnaire",
   "metadata": {
    "ExecuteTime": {
     "end_time": "2021-04-22T09:26:03.096840Z",
     "start_time": "2021-04-22T09:26:03.081283Z"
    }
   },
   "outputs": [
    {
     "data": {
      "text/plain": [
       "IterativeImputer  DecisionTreeRegressor    0.072222\n",
       "                  ExtraTreesRegressor      0.079369\n",
       "                  BayesianRidge            0.079461\n",
       "SimpleImputer     mean                     0.079595\n",
       "IterativeImputer  KNeighborsRegressor      0.080226\n",
       "SimpleImputer     median                   0.084144\n",
       "dtype: float64"
      ]
     },
     "execution_count": 439,
     "metadata": {},
     "output_type": "execute_result"
    }
   ],
   "source": [
    "-scores.mean().sort_values(ascending=False)"
   ]
  },
  {
   "cell_type": "markdown",
   "id": "accepted-specific",
   "metadata": {},
   "source": [
    "### Imputation"
   ]
  },
  {
   "cell_type": "code",
   "execution_count": 440,
   "id": "occasional-execution",
   "metadata": {
    "ExecuteTime": {
     "end_time": "2021-04-22T09:26:03.397887Z",
     "start_time": "2021-04-22T09:26:03.096840Z"
    }
   },
   "outputs": [],
   "source": [
    "from sklearn.experimental import enable_iterative_imputer  \n",
    "from sklearn.impute import IterativeImputer\n",
    "from sklearn.tree import DecisionTreeRegressor\n",
    "\n",
    "impute_estimator = DecisionTreeRegressor(max_features='sqrt')\n",
    "imputer = IterativeImputer(estimator=impute_estimator)\n",
    "\n",
    "np.random.seed(1772023)\n",
    "X_imp = imputer.fit_transform(X)"
   ]
  },
  {
   "cell_type": "code",
   "execution_count": 441,
   "id": "alert-retrieval",
   "metadata": {
    "ExecuteTime": {
     "end_time": "2021-04-22T09:26:03.413238Z",
     "start_time": "2021-04-22T09:26:03.397887Z"
    }
   },
   "outputs": [
    {
     "data": {
      "text/plain": [
       "array([[4.0e+00, 1.0e+00, 0.0e+00, 2.0e+00, 3.0e+00, 1.0e+00, 0.0e+00,\n",
       "        5.0e+03, 8.0e+03, 0.0e+00, 2.6e+01, 2.0e+00, 4.0e+00, 2.0e+00,\n",
       "        1.0e+00, 1.0e+00]])"
      ]
     },
     "execution_count": 441,
     "metadata": {},
     "output_type": "execute_result"
    }
   ],
   "source": [
    "X_imp[-1:]"
   ]
  },
  {
   "cell_type": "markdown",
   "id": "ambient-anchor",
   "metadata": {},
   "source": [
    "## Standarization\n",
    "dilakukan standarisasi pada dataset agar interval nilai pada dataset lebih ramping/tersebar dengan baik"
   ]
  },
  {
   "cell_type": "code",
   "execution_count": 442,
   "id": "still-scottish",
   "metadata": {
    "ExecuteTime": {
     "end_time": "2021-04-22T09:26:03.582452Z",
     "start_time": "2021-04-22T09:26:03.413238Z"
    }
   },
   "outputs": [],
   "source": [
    "from sklearn.preprocessing import StandardScaler\n",
    "np.random.seed(1772023)\n",
    "scaler = StandardScaler()\n",
    "X_scaled = scaler.fit_transform(X_imp)"
   ]
  },
  {
   "cell_type": "code",
   "execution_count": 443,
   "id": "behind-medline",
   "metadata": {
    "ExecuteTime": {
     "end_time": "2021-04-22T09:26:03.660959Z",
     "start_time": "2021-04-22T09:26:03.582452Z"
    }
   },
   "outputs": [
    {
     "data": {
      "text/plain": [
       "array([[ 1.40286125, -0.83265591, -1.73701782, -1.30480696,  1.33366267,\n",
       "         1.30930734, -0.63828474, -0.12760986,  0.60453676, -1.5666989 ,\n",
       "         1.45893777, -0.97930097,  3.34299247,  3.48066721, -0.79065761,\n",
       "        -0.5318713 ]])"
      ]
     },
     "execution_count": 443,
     "metadata": {},
     "output_type": "execute_result"
    }
   ],
   "source": [
    "X_scaled[-1:]"
   ]
  },
  {
   "cell_type": "markdown",
   "id": "connected-devices",
   "metadata": {},
   "source": [
    "## Oversampling using SMOTE\n",
    "nilai *k_neighbors=2* merupakan nilai paling optimal dari segi akurasi setelah dilakukan pengujian (range 1-5) "
   ]
  },
  {
   "cell_type": "code",
   "execution_count": 444,
   "id": "exact-flavor",
   "metadata": {
    "ExecuteTime": {
     "end_time": "2021-04-22T09:26:03.782832Z",
     "start_time": "2021-04-22T09:26:03.660959Z"
    }
   },
   "outputs": [
    {
     "name": "stdout",
     "output_type": "stream",
     "text": [
      "Ukuran data sebelum SMOTE: (38, 16)\n",
      "Ukuran data sesudah SMOTE: (66, 16)\n",
      "\n",
      "Keseimbangan antar kelas (sebelum SMOTE):\n",
      "1    86.842105\n",
      "0    13.157895\n",
      "Name: attacker_outcome, dtype: float64\n",
      "\n",
      "Keseimbangan antar kelas (sesudah SMOTE):\n"
     ]
    },
    {
     "data": {
      "text/plain": [
       "0    50.0\n",
       "1    50.0\n",
       "Name: attacker_outcome, dtype: float64"
      ]
     },
     "execution_count": 444,
     "metadata": {},
     "output_type": "execute_result"
    }
   ],
   "source": [
    "from imblearn.over_sampling import SMOTE \n",
    "\n",
    "smote = SMOTE(k_neighbors=2)\n",
    "np.random.seed(1772023)\n",
    "X_smote, y_smote = smote.fit_resample(X_scaled, y)\n",
    "\n",
    "print(f'''Ukuran data sebelum SMOTE: {X_scaled.shape}\n",
    "Ukuran data sesudah SMOTE: {X_smote.shape}''')\n",
    "\n",
    "print('\\nKeseimbangan antar kelas (sebelum SMOTE):')\n",
    "print(y.value_counts(normalize=True) * 100)\n",
    "print('\\nKeseimbangan antar kelas (sesudah SMOTE):')\n",
    "y_smote.value_counts(normalize=True) * 100"
   ]
  },
  {
   "cell_type": "markdown",
   "id": "surrounded-proposition",
   "metadata": {},
   "source": [
    "## Split Dataset\n",
    "setelah dilakukan perbandingan skor dari split dataset 70/30, 75/25, dan 80/20.\n",
    "\n",
    "split dataset 75/25 menghasilkan skor yg lebih bervariasi tanpa kehilangan akurasi yang besar dan bisa digunakan untuk menjelaskan perbandingan model dengan lebih baik"
   ]
  },
  {
   "cell_type": "code",
   "execution_count": 445,
   "id": "separated-relevance",
   "metadata": {
    "ExecuteTime": {
     "end_time": "2021-04-22T09:26:03.883336Z",
     "start_time": "2021-04-22T09:26:03.782832Z"
    }
   },
   "outputs": [],
   "source": [
    "from sklearn.model_selection import train_test_split\n",
    "\n",
    "X_train, X_test, y_train, y_test = train_test_split(X_scaled, y, test_size=0.25, random_state=1772023)\n",
    "X_train_sm, X_test_sm, y_train_sm, y_test_sm = train_test_split(X_smote, y_smote, test_size=0.25, random_state=1772023)"
   ]
  },
  {
   "cell_type": "markdown",
   "id": "broadband-going",
   "metadata": {},
   "source": [
    "# Modelling"
   ]
  },
  {
   "cell_type": "code",
   "execution_count": 446,
   "id": "smoking-wealth",
   "metadata": {
    "ExecuteTime": {
     "end_time": "2021-04-22T09:26:03.983579Z",
     "start_time": "2021-04-22T09:26:03.883336Z"
    }
   },
   "outputs": [],
   "source": [
    "from sklearn.model_selection import StratifiedKFold\n",
    "from sklearn.ensemble import RandomForestClassifier\n",
    "from sklearn.model_selection import cross_val_score\n",
    "from sklearn.linear_model import LogisticRegression\n",
    "\n",
    "\n",
    "cv = StratifiedKFold(n_splits=5, random_state=1772023, shuffle=True)\n",
    "rf = RandomForestClassifier()\n",
    "lr = LogisticRegression()"
   ]
  },
  {
   "cell_type": "markdown",
   "id": "incorporate-integral",
   "metadata": {},
   "source": [
    "## Random Forest"
   ]
  },
  {
   "cell_type": "code",
   "execution_count": 447,
   "id": "union-distinction",
   "metadata": {
    "ExecuteTime": {
     "end_time": "2021-04-22T09:26:07.014438Z",
     "start_time": "2021-04-22T09:26:03.983579Z"
    }
   },
   "outputs": [
    {
     "data": {
      "text/plain": [
       "accuracy    0.960000\n",
       "f1          0.959596\n",
       "roc_auc     0.906250\n",
       "dtype: float64"
      ]
     },
     "execution_count": 447,
     "metadata": {},
     "output_type": "execute_result"
    }
   ],
   "source": [
    "scores = pd.DataFrame()\n",
    "np.random.seed(1772023)\n",
    "for scoring in ['accuracy','f1','roc_auc']:\n",
    "    scores[scoring] = cross_val_score(rf,\n",
    "                                      X_train, \n",
    "                                      y_train,\n",
    "                                      scoring=scoring,\n",
    "                                      cv=cv, n_jobs=-1)\n",
    "scores.mean()"
   ]
  },
  {
   "cell_type": "markdown",
   "id": "organizational-cooper",
   "metadata": {},
   "source": [
    "## Logistic Regression"
   ]
  },
  {
   "cell_type": "code",
   "execution_count": 448,
   "id": "israeli-hormone",
   "metadata": {
    "ExecuteTime": {
     "end_time": "2021-04-22T09:26:07.108172Z",
     "start_time": "2021-04-22T09:26:07.014438Z"
    }
   },
   "outputs": [
    {
     "data": {
      "text/plain": [
       "accuracy    0.926667\n",
       "f1          0.959596\n",
       "roc_auc     0.812500\n",
       "dtype: float64"
      ]
     },
     "execution_count": 448,
     "metadata": {},
     "output_type": "execute_result"
    }
   ],
   "source": [
    "scores = pd.DataFrame()\n",
    "np.random.seed(1772023)\n",
    "for scoring in ['accuracy','f1','roc_auc']:\n",
    "    scores[scoring] = cross_val_score(lr,\n",
    "                                      X_train,\n",
    "                                      y_train,\n",
    "                                      scoring=scoring,\n",
    "                                      cv=cv, n_jobs=-1)\n",
    "scores.mean()"
   ]
  },
  {
   "cell_type": "markdown",
   "id": "failing-david",
   "metadata": {},
   "source": [
    "Hasil dari pelatihan RF dan LR diatas terlihat bahwa skor akurasi dan F1 sama persis bisa terjadi dikarenakan ukuran dataset yang kecil. \\\n",
    "terlihat bahwa nilai ROC AUC pada model RF lebih besar daripada model LR, tetapi tidak dapat diandalkan karena pada kasus data imbalance kurang cocok untuk dijadikan sebagai metrik"
   ]
  },
  {
   "cell_type": "markdown",
   "id": "interim-violence",
   "metadata": {},
   "source": [
    "## Random Forest with Oversampling"
   ]
  },
  {
   "cell_type": "code",
   "execution_count": 449,
   "id": "particular-nerve",
   "metadata": {
    "ExecuteTime": {
     "end_time": "2021-04-22T09:26:08.431891Z",
     "start_time": "2021-04-22T09:26:07.108172Z"
    }
   },
   "outputs": [
    {
     "data": {
      "text/plain": [
       "accuracy    0.960000\n",
       "f1          0.959596\n",
       "roc_auc     1.000000\n",
       "dtype: float64"
      ]
     },
     "execution_count": 449,
     "metadata": {},
     "output_type": "execute_result"
    }
   ],
   "source": [
    "scores = pd.DataFrame()\n",
    "np.random.seed(1772023)\n",
    "for scoring in ['accuracy','f1','roc_auc']:\n",
    "    scores[scoring] = cross_val_score(rf, \n",
    "                                      X_train_sm, \n",
    "                                      y_train_sm, \n",
    "                                      scoring=scoring, \n",
    "                                      cv=cv, n_jobs=-1)\n",
    "scores.mean()"
   ]
  },
  {
   "cell_type": "markdown",
   "id": "treated-comparison",
   "metadata": {},
   "source": [
    "## Logistic Regression with Oversampling"
   ]
  },
  {
   "cell_type": "code",
   "execution_count": 450,
   "id": "hundred-classification",
   "metadata": {
    "ExecuteTime": {
     "end_time": "2021-04-22T09:26:08.547769Z",
     "start_time": "2021-04-22T09:26:08.431891Z"
    }
   },
   "outputs": [
    {
     "data": {
      "text/plain": [
       "accuracy    0.980000\n",
       "f1          0.981818\n",
       "roc_auc     1.000000\n",
       "dtype: float64"
      ]
     },
     "execution_count": 450,
     "metadata": {},
     "output_type": "execute_result"
    }
   ],
   "source": [
    "scores = pd.DataFrame()\n",
    "np.random.seed(1772023)\n",
    "for scoring in ['accuracy','f1','roc_auc']:\n",
    "    scores[scoring] = cross_val_score(lr,\n",
    "                                      X_train_sm,\n",
    "                                      y_train_sm, \n",
    "                                      scoring=scoring, \n",
    "                                      cv=cv, n_jobs=-1)\n",
    "scores.mean()"
   ]
  },
  {
   "cell_type": "markdown",
   "id": "norman-young",
   "metadata": {},
   "source": [
    "Pada hasil pemodelan antara Random Forest dan Logistic Regression menggunakan data yang telah diseimbangkan memperlihatkan bahwa secara akurasi dan skor f1 Logistic Regression lebih unggul dibandingkan Random Forest.\n",
    "\n",
    "Skor Akurasi lebih baik digunakan ketika kita ingin memfokuskan pemodelan dengan prediksi nilai True Positive dan True Negative maupun jika target kelas pada dataset seimbang, sedangkan F1-Score lebih baik digunakan untuk mengevaluasi model dengan target kelas dataset yang tidak seimbang"
   ]
  },
  {
   "cell_type": "markdown",
   "id": "comprehensive-trick",
   "metadata": {},
   "source": [
    "## Feature Importances\n",
    "\n",
    "Semakin besar nilai pada suatu fitur pada Feature Importances maka fitur tersebut semakin berpengaruh (penting) terhadap model"
   ]
  },
  {
   "cell_type": "markdown",
   "id": "surgical-masters",
   "metadata": {},
   "source": [
    "### Random Forest Feature Importances"
   ]
  },
  {
   "cell_type": "code",
   "execution_count": 451,
   "id": "mineral-raising",
   "metadata": {
    "ExecuteTime": {
     "end_time": "2021-04-22T09:26:09.027003Z",
     "start_time": "2021-04-22T09:26:08.547769Z"
    }
   },
   "outputs": [
    {
     "data": {
      "text/plain": [
       "Text(0.5, 1.0, 'Random Forest Feature Importances')"
      ]
     },
     "execution_count": 451,
     "metadata": {},
     "output_type": "execute_result"
    },
    {
     "data": {
      "image/png": "[encoded data removed]",
      "text/plain": [
       "<Figure size 432x288 with 1 Axes>"
      ]
     },
     "metadata": {
      "needs_background": "light"
     },
     "output_type": "display_data"
    }
   ],
   "source": [
    "rf.fit(X_train_sm, y_train_sm)\n",
    "rf_fi = pd.DataFrame({\"Feature\":X.columns,\n",
    "                  \"Score\":rf.feature_importances_})\n",
    "\n",
    "sns.barplot(data=rf_fi,\n",
    "            x=\"Score\",\n",
    "            y=\"Feature\",\n",
    "            order=rf_fi.sort_values(by=\"Score\",ascending=False).Feature)\n",
    "plt.title(\"Random Forest Feature Importances\")"
   ]
  },
  {
   "cell_type": "code",
   "execution_count": 452,
   "id": "hidden-insulation",
   "metadata": {
    "ExecuteTime": {
     "end_time": "2021-04-22T09:26:09.049138Z",
     "start_time": "2021-04-22T09:26:09.027003Z"
    }
   },
   "outputs": [
    {
     "data": {
      "text/html": [
       "<div>\n",
       "<style scoped>\n",
       "    .dataframe tbody tr th:only-of-type {\n",
       "        vertical-align: middle;\n",
       "    }\n",
       "\n",
       "    .dataframe tbody tr th {\n",
       "        vertical-align: top;\n",
       "    }\n",
       "\n",
       "    .dataframe thead th {\n",
       "        text-align: right;\n",
       "    }\n",
       "</style>\n",
       "<table border=\"1\" class=\"dataframe\">\n",
       "  <thead>\n",
       "    <tr style=\"text-align: right;\">\n",
       "      <th></th>\n",
       "      <th>Feature</th>\n",
       "      <th>Score</th>\n",
       "    </tr>\n",
       "  </thead>\n",
       "  <tbody>\n",
       "    <tr>\n",
       "      <th>7</th>\n",
       "      <td>attacker_size</td>\n",
       "      <td>0.221837</td>\n",
       "    </tr>\n",
       "    <tr>\n",
       "      <th>14</th>\n",
       "      <td>attacker_commander_count</td>\n",
       "      <td>0.211951</td>\n",
       "    </tr>\n",
       "    <tr>\n",
       "      <th>15</th>\n",
       "      <td>defender_commander_count</td>\n",
       "      <td>0.174623</td>\n",
       "    </tr>\n",
       "    <tr>\n",
       "      <th>5</th>\n",
       "      <td>major_death</td>\n",
       "      <td>0.119852</td>\n",
       "    </tr>\n",
       "    <tr>\n",
       "      <th>10</th>\n",
       "      <td>location</td>\n",
       "      <td>0.081136</td>\n",
       "    </tr>\n",
       "    <tr>\n",
       "      <th>0</th>\n",
       "      <td>attacker_king</td>\n",
       "      <td>0.042444</td>\n",
       "    </tr>\n",
       "    <tr>\n",
       "      <th>4</th>\n",
       "      <td>battle_type</td>\n",
       "      <td>0.034728</td>\n",
       "    </tr>\n",
       "    <tr>\n",
       "      <th>8</th>\n",
       "      <td>defender_size</td>\n",
       "      <td>0.028142</td>\n",
       "    </tr>\n",
       "    <tr>\n",
       "      <th>11</th>\n",
       "      <td>region</td>\n",
       "      <td>0.024071</td>\n",
       "    </tr>\n",
       "    <tr>\n",
       "      <th>2</th>\n",
       "      <td>attacker_1</td>\n",
       "      <td>0.020294</td>\n",
       "    </tr>\n",
       "  </tbody>\n",
       "</table>\n",
       "</div>"
      ],
      "text/plain": [
       "                     Feature     Score\n",
       "7              attacker_size  0.221837\n",
       "14  attacker_commander_count  0.211951\n",
       "15  defender_commander_count  0.174623\n",
       "5                major_death  0.119852\n",
       "10                  location  0.081136\n",
       "0              attacker_king  0.042444\n",
       "4                battle_type  0.034728\n",
       "8              defender_size  0.028142\n",
       "11                    region  0.024071\n",
       "2                 attacker_1  0.020294"
      ]
     },
     "execution_count": 452,
     "metadata": {},
     "output_type": "execute_result"
    }
   ],
   "source": [
    "rf_fi.sort_values(by=\"Score\",ascending=False).head(10)"
   ]
  },
  {
   "cell_type": "markdown",
   "id": "juvenile-incentive",
   "metadata": {},
   "source": [
    "### Logistic Regression Feature Importances"
   ]
  },
  {
   "cell_type": "code",
   "execution_count": 453,
   "id": "mysterious-alcohol",
   "metadata": {
    "ExecuteTime": {
     "end_time": "2021-04-22T09:26:09.598052Z",
     "start_time": "2021-04-22T09:26:09.049138Z"
    }
   },
   "outputs": [
    {
     "data": {
      "text/plain": [
       "Text(0.5, 1.0, 'Logistic Regression Feature Importances')"
      ]
     },
     "execution_count": 453,
     "metadata": {},
     "output_type": "execute_result"
    },
    {
     "data": {
      "image/png": "[encoded data removed]",
      "text/plain": [
       "<Figure size 432x288 with 1 Axes>"
      ]
     },
     "metadata": {
      "needs_background": "light"
     },
     "output_type": "display_data"
    }
   ],
   "source": [
    "lr.fit(X_train_sm, y_train_sm)\n",
    "lr_fi = pd.DataFrame({\"Feature\":X.columns,\n",
    "                  \"Score\":abs(lr.coef_[0])})\n",
    "\n",
    "sns.barplot(data=lr_fi,\n",
    "            x=\"Score\",\n",
    "            y=\"Feature\",\n",
    "            order=lr_fi.sort_values(by=\"Score\",ascending=False).Feature)\n",
    "plt.title(\"Logistic Regression Feature Importances\")"
   ]
  },
  {
   "cell_type": "code",
   "execution_count": 454,
   "id": "vertical-queens",
   "metadata": {
    "ExecuteTime": {
     "end_time": "2021-04-22T09:26:09.613583Z",
     "start_time": "2021-04-22T09:26:09.598052Z"
    },
    "scrolled": true
   },
   "outputs": [
    {
     "data": {
      "text/html": [
       "<div>\n",
       "<style scoped>\n",
       "    .dataframe tbody tr th:only-of-type {\n",
       "        vertical-align: middle;\n",
       "    }\n",
       "\n",
       "    .dataframe tbody tr th {\n",
       "        vertical-align: top;\n",
       "    }\n",
       "\n",
       "    .dataframe thead th {\n",
       "        text-align: right;\n",
       "    }\n",
       "</style>\n",
       "<table border=\"1\" class=\"dataframe\">\n",
       "  <thead>\n",
       "    <tr style=\"text-align: right;\">\n",
       "      <th></th>\n",
       "      <th>Feature</th>\n",
       "      <th>Score</th>\n",
       "    </tr>\n",
       "  </thead>\n",
       "  <tbody>\n",
       "    <tr>\n",
       "      <th>14</th>\n",
       "      <td>attacker_commander_count</td>\n",
       "      <td>1.472369</td>\n",
       "    </tr>\n",
       "    <tr>\n",
       "      <th>15</th>\n",
       "      <td>defender_commander_count</td>\n",
       "      <td>0.719559</td>\n",
       "    </tr>\n",
       "    <tr>\n",
       "      <th>11</th>\n",
       "      <td>region</td>\n",
       "      <td>0.712785</td>\n",
       "    </tr>\n",
       "    <tr>\n",
       "      <th>10</th>\n",
       "      <td>location</td>\n",
       "      <td>0.615409</td>\n",
       "    </tr>\n",
       "    <tr>\n",
       "      <th>12</th>\n",
       "      <td>attacker_count</td>\n",
       "      <td>0.586209</td>\n",
       "    </tr>\n",
       "    <tr>\n",
       "      <th>5</th>\n",
       "      <td>major_death</td>\n",
       "      <td>0.468265</td>\n",
       "    </tr>\n",
       "    <tr>\n",
       "      <th>7</th>\n",
       "      <td>attacker_size</td>\n",
       "      <td>0.462977</td>\n",
       "    </tr>\n",
       "    <tr>\n",
       "      <th>2</th>\n",
       "      <td>attacker_1</td>\n",
       "      <td>0.314401</td>\n",
       "    </tr>\n",
       "    <tr>\n",
       "      <th>8</th>\n",
       "      <td>defender_size</td>\n",
       "      <td>0.312643</td>\n",
       "    </tr>\n",
       "    <tr>\n",
       "      <th>9</th>\n",
       "      <td>summer</td>\n",
       "      <td>0.268198</td>\n",
       "    </tr>\n",
       "  </tbody>\n",
       "</table>\n",
       "</div>"
      ],
      "text/plain": [
       "                     Feature     Score\n",
       "14  attacker_commander_count  1.472369\n",
       "15  defender_commander_count  0.719559\n",
       "11                    region  0.712785\n",
       "10                  location  0.615409\n",
       "12            attacker_count  0.586209\n",
       "5                major_death  0.468265\n",
       "7              attacker_size  0.462977\n",
       "2                 attacker_1  0.314401\n",
       "8              defender_size  0.312643\n",
       "9                     summer  0.268198"
      ]
     },
     "execution_count": 454,
     "metadata": {},
     "output_type": "execute_result"
    }
   ],
   "source": [
    "lr_fi.sort_values(by=\"Score\",ascending=False).head(10)"
   ]
  },
  {
   "cell_type": "markdown",
   "id": "active-greek",
   "metadata": {},
   "source": [
    "# Model Evaluation"
   ]
  },
  {
   "cell_type": "markdown",
   "id": "grave-canal",
   "metadata": {},
   "source": [
    "## Random Forest"
   ]
  },
  {
   "cell_type": "code",
   "execution_count": 455,
   "id": "administrative-syntax",
   "metadata": {
    "ExecuteTime": {
     "end_time": "2021-04-22T09:26:09.899493Z",
     "start_time": "2021-04-22T09:26:09.613583Z"
    }
   },
   "outputs": [
    {
     "name": "stdout",
     "output_type": "stream",
     "text": [
      "              precision    recall  f1-score   support\n",
      "\n",
      "           0       1.00      1.00      1.00         1\n",
      "           1       1.00      1.00      1.00         9\n",
      "\n",
      "    accuracy                           1.00        10\n",
      "   macro avg       1.00      1.00      1.00        10\n",
      "weighted avg       1.00      1.00      1.00        10\n",
      "\n"
     ]
    }
   ],
   "source": [
    "from sklearn.metrics import classification_report\n",
    "np.random.seed(1772023)\n",
    "rf.fit(X_train, y_train)\n",
    "y_preds = rf.predict(X_test)\n",
    "report = classification_report(y_test, y_preds)\n",
    "\n",
    "print(report)"
   ]
  },
  {
   "cell_type": "markdown",
   "id": "blond-cutting",
   "metadata": {},
   "source": [
    "## Logistic Regression"
   ]
  },
  {
   "cell_type": "code",
   "execution_count": 456,
   "id": "hungarian-viking",
   "metadata": {
    "ExecuteTime": {
     "end_time": "2021-04-22T09:26:09.952119Z",
     "start_time": "2021-04-22T09:26:09.899493Z"
    }
   },
   "outputs": [
    {
     "name": "stdout",
     "output_type": "stream",
     "text": [
      "              precision    recall  f1-score   support\n",
      "\n",
      "           0       1.00      1.00      1.00         1\n",
      "           1       1.00      1.00      1.00         9\n",
      "\n",
      "    accuracy                           1.00        10\n",
      "   macro avg       1.00      1.00      1.00        10\n",
      "weighted avg       1.00      1.00      1.00        10\n",
      "\n"
     ]
    }
   ],
   "source": [
    "from sklearn.metrics import classification_report\n",
    "np.random.seed(1772023)\n",
    "lr.fit(X_train, y_train)\n",
    "y_preds = rf.predict(X_test)\n",
    "report = classification_report(y_test, y_preds)\n",
    "\n",
    "print(report)"
   ]
  },
  {
   "cell_type": "markdown",
   "id": "honest-mattress",
   "metadata": {},
   "source": [
    "## Random Forest with Oversampling"
   ]
  },
  {
   "cell_type": "code",
   "execution_count": 457,
   "id": "lesser-puppy",
   "metadata": {
    "ExecuteTime": {
     "end_time": "2021-04-22T09:26:10.168368Z",
     "start_time": "2021-04-22T09:26:09.952119Z"
    }
   },
   "outputs": [
    {
     "name": "stdout",
     "output_type": "stream",
     "text": [
      "              precision    recall  f1-score   support\n",
      "\n",
      "           0       1.00      1.00      1.00         9\n",
      "           1       1.00      1.00      1.00         8\n",
      "\n",
      "    accuracy                           1.00        17\n",
      "   macro avg       1.00      1.00      1.00        17\n",
      "weighted avg       1.00      1.00      1.00        17\n",
      "\n"
     ]
    }
   ],
   "source": [
    "np.random.seed(1772023)\n",
    "rf.fit(X_train_sm, y_train_sm)\n",
    "y_preds = rf.predict(X_test_sm)\n",
    "report = classification_report(y_test_sm, y_preds)\n",
    "\n",
    "print(report)"
   ]
  },
  {
   "cell_type": "markdown",
   "id": "affected-thousand",
   "metadata": {},
   "source": [
    "## Logistic Regression with Oversampling"
   ]
  },
  {
   "cell_type": "code",
   "execution_count": 458,
   "id": "documented-grade",
   "metadata": {
    "ExecuteTime": {
     "end_time": "2021-04-22T09:26:10.199598Z",
     "start_time": "2021-04-22T09:26:10.168368Z"
    }
   },
   "outputs": [
    {
     "name": "stdout",
     "output_type": "stream",
     "text": [
      "              precision    recall  f1-score   support\n",
      "\n",
      "           0       1.00      1.00      1.00         9\n",
      "           1       1.00      1.00      1.00         8\n",
      "\n",
      "    accuracy                           1.00        17\n",
      "   macro avg       1.00      1.00      1.00        17\n",
      "weighted avg       1.00      1.00      1.00        17\n",
      "\n"
     ]
    }
   ],
   "source": [
    "np.random.seed(1772023)\n",
    "lr.fit(X_train_sm, y_train_sm)\n",
    "y_preds = lr.predict(X_test_sm)\n",
    "report = classification_report(y_test_sm, y_preds)\n",
    "\n",
    "print(report)"
   ]
  },
  {
   "cell_type": "code",
   "execution_count": 459,
   "id": "scientific-writing",
   "metadata": {
    "ExecuteTime": {
     "end_time": "2021-04-22T09:26:10.485043Z",
     "start_time": "2021-04-22T09:26:10.199598Z"
    }
   },
   "outputs": [
    {
     "data": {
      "image/png": "[encoded data removed]",
      "text/plain": [
       "<Figure size 432x288 with 2 Axes>"
      ]
     },
     "metadata": {
      "needs_background": "light"
     },
     "output_type": "display_data"
    }
   ],
   "source": [
    "from sklearn.metrics import plot_confusion_matrix,roc_curve\n",
    "plot_confusion_matrix(rf,X_test,y_test) \n",
    "plt.grid(False)"
   ]
  },
  {
   "cell_type": "code",
   "execution_count": 460,
   "id": "surprised-break",
   "metadata": {
    "ExecuteTime": {
     "end_time": "2021-04-22T09:26:10.700893Z",
     "start_time": "2021-04-22T09:26:10.485043Z"
    }
   },
   "outputs": [
    {
     "data": {
      "image/png": "[encoded data removed]",
      "text/plain": [
       "<Figure size 432x288 with 1 Axes>"
      ]
     },
     "metadata": {
      "needs_background": "light"
     },
     "output_type": "display_data"
    }
   ],
   "source": [
    "from sklearn.metrics import plot_roc_curve\n",
    "plot_roc_curve(rf,X_train,y_train)\n",
    "plt.show()"
   ]
  }
 ],
 "metadata": {
  "kernelspec": {
   "display_name": "Python 3",
   "language": "python",
   "name": "python3"
  },
  "language_info": {
   "codemirror_mode": {
    "name": "ipython",
    "version": 3
   },
   "file_extension": ".py",
   "mimetype": "text/x-python",
   "name": "python",
   "nbconvert_exporter": "python",
   "pygments_lexer": "ipython3",
   "version": "3.8.5"
  },
  "toc": {
   "base_numbering": 1,
   "nav_menu": {},
   "number_sections": true,
   "sideBar": true,
   "skip_h1_title": false,
   "title_cell": "Table of Contents",
   "title_sidebar": "Contents",
   "toc_cell": false,
   "toc_position": {
    "height": "calc(100% - 180px)",
    "left": "10px",
    "top": "150px",
    "width": "361.2px"
   },
   "toc_section_display": true,
   "toc_window_display": true
  }
 },
 "nbformat": 4,
 "nbformat_minor": 5
}

{
 "cells": [
  {
   "cell_type": "markdown",
   "id": "great-webmaster",
   "metadata": {},
   "source": [
    "# Data Exploration"
   ]
  },
  {
   "cell_type": "code",
   "execution_count": 1,
   "id": "entitled-matter",
   "metadata": {
    "ExecuteTime": {
     "end_time": "2021-05-25T14:05:37.411516Z",
     "start_time": "2021-05-25T14:05:09.610332Z"
    }
   },
   "outputs": [],
   "source": [
    "import matplotlib.pyplot as plt\n",
    "import seaborn as sns\n",
    "import pandas as pd\n",
    "import numpy as np\n",
    "import warnings\n",
    "%matplotlib inline\n",
    "warnings.filterwarnings(\"ignore\")"
   ]
  },
  {
   "cell_type": "markdown",
   "id": "fallen-arrest",
   "metadata": {},
   "source": [
    "load dataset"
   ]
  },
  {
   "cell_type": "code",
   "execution_count": 2,
   "id": "resident-charles",
   "metadata": {
    "ExecuteTime": {
     "end_time": "2021-05-25T14:05:37.813905Z",
     "start_time": "2021-05-25T14:05:37.411516Z"
    }
   },
   "outputs": [],
   "source": [
    "battles = pd.read_csv('dataset/battles.csv')"
   ]
  },
  {
   "cell_type": "markdown",
   "id": "opened-drive",
   "metadata": {},
   "source": [
    "## Preview Dataset\n",
    "melakukan preview dataset untuk melihat sekilas gambaran kolom dan baris data yang ada"
   ]
  },
  {
   "cell_type": "code",
   "execution_count": 3,
   "id": "enhanced-tractor",
   "metadata": {
    "ExecuteTime": {
     "end_time": "2021-05-25T14:05:38.161497Z",
     "start_time": "2021-05-25T14:05:37.813905Z"
    },
    "scrolled": false
   },
   "outputs": [
    {
     "data": {
      "text/html": [
       "<div>\n",
       "<style scoped>\n",
       "    .dataframe tbody tr th:only-of-type {\n",
       "        vertical-align: middle;\n",
       "    }\n",
       "\n",
       "    .dataframe tbody tr th {\n",
       "        vertical-align: top;\n",
       "    }\n",
       "\n",
       "    .dataframe thead th {\n",
       "        text-align: right;\n",
       "    }\n",
       "</style>\n",
       "<table border=\"1\" class=\"dataframe\">\n",
       "  <thead>\n",
       "    <tr style=\"text-align: right;\">\n",
       "      <th></th>\n",
       "      <th>name</th>\n",
       "      <th>year</th>\n",
       "      <th>battle_number</th>\n",
       "      <th>attacker_king</th>\n",
       "      <th>defender_king</th>\n",
       "      <th>attacker_1</th>\n",
       "      <th>attacker_2</th>\n",
       "      <th>attacker_3</th>\n",
       "      <th>attacker_4</th>\n",
       "      <th>defender_1</th>\n",
       "      <th>defender_2</th>\n",
       "      <th>defender_3</th>\n",
       "      <th>defender_4</th>\n",
       "      <th>attacker_outcome</th>\n",
       "      <th>battle_type</th>\n",
       "      <th>major_death</th>\n",
       "      <th>major_capture</th>\n",
       "      <th>attacker_size</th>\n",
       "      <th>defender_size</th>\n",
       "      <th>attacker_commander</th>\n",
       "      <th>defender_commander</th>\n",
       "      <th>summer</th>\n",
       "      <th>location</th>\n",
       "      <th>region</th>\n",
       "      <th>note</th>\n",
       "    </tr>\n",
       "  </thead>\n",
       "  <tbody>\n",
       "    <tr>\n",
       "      <th>0</th>\n",
       "      <td>Battle of the Golden Tooth</td>\n",
       "      <td>298</td>\n",
       "      <td>1</td>\n",
       "      <td>Joffrey/Tommen Baratheon</td>\n",
       "      <td>Robb Stark</td>\n",
       "      <td>Lannister</td>\n",
       "      <td>NaN</td>\n",
       "      <td>NaN</td>\n",
       "      <td>NaN</td>\n",
       "      <td>Tully</td>\n",
       "      <td>NaN</td>\n",
       "      <td>NaN</td>\n",
       "      <td>NaN</td>\n",
       "      <td>win</td>\n",
       "      <td>pitched battle</td>\n",
       "      <td>1.0</td>\n",
       "      <td>0.0</td>\n",
       "      <td>15000.0</td>\n",
       "      <td>4000.0</td>\n",
       "      <td>Jaime Lannister</td>\n",
       "      <td>Clement Piper, Vance</td>\n",
       "      <td>1.0</td>\n",
       "      <td>Golden Tooth</td>\n",
       "      <td>The Westerlands</td>\n",
       "      <td>NaN</td>\n",
       "    </tr>\n",
       "    <tr>\n",
       "      <th>1</th>\n",
       "      <td>Battle at the Mummer's Ford</td>\n",
       "      <td>298</td>\n",
       "      <td>2</td>\n",
       "      <td>Joffrey/Tommen Baratheon</td>\n",
       "      <td>Robb Stark</td>\n",
       "      <td>Lannister</td>\n",
       "      <td>NaN</td>\n",
       "      <td>NaN</td>\n",
       "      <td>NaN</td>\n",
       "      <td>Baratheon</td>\n",
       "      <td>NaN</td>\n",
       "      <td>NaN</td>\n",
       "      <td>NaN</td>\n",
       "      <td>win</td>\n",
       "      <td>ambush</td>\n",
       "      <td>1.0</td>\n",
       "      <td>0.0</td>\n",
       "      <td>NaN</td>\n",
       "      <td>120.0</td>\n",
       "      <td>Gregor Clegane</td>\n",
       "      <td>Beric Dondarrion</td>\n",
       "      <td>1.0</td>\n",
       "      <td>Mummer's Ford</td>\n",
       "      <td>The Riverlands</td>\n",
       "      <td>NaN</td>\n",
       "    </tr>\n",
       "    <tr>\n",
       "      <th>2</th>\n",
       "      <td>Battle of Riverrun</td>\n",
       "      <td>298</td>\n",
       "      <td>3</td>\n",
       "      <td>Joffrey/Tommen Baratheon</td>\n",
       "      <td>Robb Stark</td>\n",
       "      <td>Lannister</td>\n",
       "      <td>NaN</td>\n",
       "      <td>NaN</td>\n",
       "      <td>NaN</td>\n",
       "      <td>Tully</td>\n",
       "      <td>NaN</td>\n",
       "      <td>NaN</td>\n",
       "      <td>NaN</td>\n",
       "      <td>win</td>\n",
       "      <td>pitched battle</td>\n",
       "      <td>0.0</td>\n",
       "      <td>1.0</td>\n",
       "      <td>15000.0</td>\n",
       "      <td>10000.0</td>\n",
       "      <td>Jaime Lannister, Andros Brax</td>\n",
       "      <td>Edmure Tully, Tytos Blackwood</td>\n",
       "      <td>1.0</td>\n",
       "      <td>Riverrun</td>\n",
       "      <td>The Riverlands</td>\n",
       "      <td>NaN</td>\n",
       "    </tr>\n",
       "    <tr>\n",
       "      <th>3</th>\n",
       "      <td>Battle of the Green Fork</td>\n",
       "      <td>298</td>\n",
       "      <td>4</td>\n",
       "      <td>Robb Stark</td>\n",
       "      <td>Joffrey/Tommen Baratheon</td>\n",
       "      <td>Stark</td>\n",
       "      <td>NaN</td>\n",
       "      <td>NaN</td>\n",
       "      <td>NaN</td>\n",
       "      <td>Lannister</td>\n",
       "      <td>NaN</td>\n",
       "      <td>NaN</td>\n",
       "      <td>NaN</td>\n",
       "      <td>loss</td>\n",
       "      <td>pitched battle</td>\n",
       "      <td>1.0</td>\n",
       "      <td>1.0</td>\n",
       "      <td>18000.0</td>\n",
       "      <td>20000.0</td>\n",
       "      <td>Roose Bolton, Wylis Manderly, Medger Cerwyn, H...</td>\n",
       "      <td>Tywin Lannister, Gregor Clegane, Kevan Lannist...</td>\n",
       "      <td>1.0</td>\n",
       "      <td>Green Fork</td>\n",
       "      <td>The Riverlands</td>\n",
       "      <td>NaN</td>\n",
       "    </tr>\n",
       "    <tr>\n",
       "      <th>4</th>\n",
       "      <td>Battle of the Whispering Wood</td>\n",
       "      <td>298</td>\n",
       "      <td>5</td>\n",
       "      <td>Robb Stark</td>\n",
       "      <td>Joffrey/Tommen Baratheon</td>\n",
       "      <td>Stark</td>\n",
       "      <td>Tully</td>\n",
       "      <td>NaN</td>\n",
       "      <td>NaN</td>\n",
       "      <td>Lannister</td>\n",
       "      <td>NaN</td>\n",
       "      <td>NaN</td>\n",
       "      <td>NaN</td>\n",
       "      <td>win</td>\n",
       "      <td>ambush</td>\n",
       "      <td>1.0</td>\n",
       "      <td>1.0</td>\n",
       "      <td>1875.0</td>\n",
       "      <td>6000.0</td>\n",
       "      <td>Robb Stark, Brynden Tully</td>\n",
       "      <td>Jaime Lannister</td>\n",
       "      <td>1.0</td>\n",
       "      <td>Whispering Wood</td>\n",
       "      <td>The Riverlands</td>\n",
       "      <td>NaN</td>\n",
       "    </tr>\n",
       "  </tbody>\n",
       "</table>\n",
       "</div>"
      ],
      "text/plain": [
       "                            name  year  battle_number  \\\n",
       "0     Battle of the Golden Tooth   298              1   \n",
       "1    Battle at the Mummer's Ford   298              2   \n",
       "2             Battle of Riverrun   298              3   \n",
       "3       Battle of the Green Fork   298              4   \n",
       "4  Battle of the Whispering Wood   298              5   \n",
       "\n",
       "              attacker_king             defender_king attacker_1 attacker_2  \\\n",
       "0  Joffrey/Tommen Baratheon                Robb Stark  Lannister        NaN   \n",
       "1  Joffrey/Tommen Baratheon                Robb Stark  Lannister        NaN   \n",
       "2  Joffrey/Tommen Baratheon                Robb Stark  Lannister        NaN   \n",
       "3                Robb Stark  Joffrey/Tommen Baratheon      Stark        NaN   \n",
       "4                Robb Stark  Joffrey/Tommen Baratheon      Stark      Tully   \n",
       "\n",
       "  attacker_3 attacker_4 defender_1 defender_2  defender_3  defender_4  \\\n",
       "0        NaN        NaN      Tully        NaN         NaN         NaN   \n",
       "1        NaN        NaN  Baratheon        NaN         NaN         NaN   \n",
       "2        NaN        NaN      Tully        NaN         NaN         NaN   \n",
       "3        NaN        NaN  Lannister        NaN         NaN         NaN   \n",
       "4        NaN        NaN  Lannister        NaN         NaN         NaN   \n",
       "\n",
       "  attacker_outcome     battle_type  major_death  major_capture  attacker_size  \\\n",
       "0              win  pitched battle          1.0            0.0        15000.0   \n",
       "1              win          ambush          1.0            0.0            NaN   \n",
       "2              win  pitched battle          0.0            1.0        15000.0   \n",
       "3             loss  pitched battle          1.0            1.0        18000.0   \n",
       "4              win          ambush          1.0            1.0         1875.0   \n",
       "\n",
       "   defender_size                                 attacker_commander  \\\n",
       "0         4000.0                                    Jaime Lannister   \n",
       "1          120.0                                     Gregor Clegane   \n",
       "2        10000.0                       Jaime Lannister, Andros Brax   \n",
       "3        20000.0  Roose Bolton, Wylis Manderly, Medger Cerwyn, H...   \n",
       "4         6000.0                          Robb Stark, Brynden Tully   \n",
       "\n",
       "                                  defender_commander  summer         location  \\\n",
       "0                               Clement Piper, Vance     1.0     Golden Tooth   \n",
       "1                                   Beric Dondarrion     1.0    Mummer's Ford   \n",
       "2                      Edmure Tully, Tytos Blackwood     1.0         Riverrun   \n",
       "3  Tywin Lannister, Gregor Clegane, Kevan Lannist...     1.0       Green Fork   \n",
       "4                                    Jaime Lannister     1.0  Whispering Wood   \n",
       "\n",
       "            region note  \n",
       "0  The Westerlands  NaN  \n",
       "1   The Riverlands  NaN  \n",
       "2   The Riverlands  NaN  \n",
       "3   The Riverlands  NaN  \n",
       "4   The Riverlands  NaN  "
      ]
     },
     "execution_count": 3,
     "metadata": {},
     "output_type": "execute_result"
    }
   ],
   "source": [
    "pd.set_option('display.max_columns', None)\n",
    "battles.head()"
   ]
  },
  {
   "cell_type": "markdown",
   "id": "plastic-coaching",
   "metadata": {
    "slideshow": {
     "slide_type": "slide"
    }
   },
   "source": [
    "## Informasi Dataset\n",
    "\n",
    "terdiri dari **38 baris** dan **25 kolom** \\\n",
    "dengan tipe data _object_(16), _int64_(2), dan _float64_(7) \\\n",
    "beberapa kolom memiliki nilai Null\n",
    "\n"
   ]
  },
  {
   "cell_type": "code",
   "execution_count": 4,
   "id": "equipped-imperial",
   "metadata": {
    "ExecuteTime": {
     "end_time": "2021-05-25T14:05:38.415969Z",
     "start_time": "2021-05-25T14:05:38.161497Z"
    },
    "slideshow": {
     "slide_type": "subslide"
    }
   },
   "outputs": [
    {
     "name": "stdout",
     "output_type": "stream",
     "text": [
      "<class 'pandas.core.frame.DataFrame'>\n",
      "RangeIndex: 38 entries, 0 to 37\n",
      "Data columns (total 25 columns):\n",
      " #   Column              Non-Null Count  Dtype  \n",
      "---  ------              --------------  -----  \n",
      " 0   name                38 non-null     object \n",
      " 1   year                38 non-null     int64  \n",
      " 2   battle_number       38 non-null     int64  \n",
      " 3   attacker_king       36 non-null     object \n",
      " 4   defender_king       35 non-null     object \n",
      " 5   attacker_1          38 non-null     object \n",
      " 6   attacker_2          10 non-null     object \n",
      " 7   attacker_3          3 non-null      object \n",
      " 8   attacker_4          2 non-null      object \n",
      " 9   defender_1          37 non-null     object \n",
      " 10  defender_2          2 non-null      object \n",
      " 11  defender_3          0 non-null      float64\n",
      " 12  defender_4          0 non-null      float64\n",
      " 13  attacker_outcome    37 non-null     object \n",
      " 14  battle_type         37 non-null     object \n",
      " 15  major_death         37 non-null     float64\n",
      " 16  major_capture       37 non-null     float64\n",
      " 17  attacker_size       24 non-null     float64\n",
      " 18  defender_size       19 non-null     float64\n",
      " 19  attacker_commander  37 non-null     object \n",
      " 20  defender_commander  28 non-null     object \n",
      " 21  summer              37 non-null     float64\n",
      " 22  location            37 non-null     object \n",
      " 23  region              38 non-null     object \n",
      " 24  note                5 non-null      object \n",
      "dtypes: float64(7), int64(2), object(16)\n",
      "memory usage: 7.5+ KB\n"
     ]
    }
   ],
   "source": [
    "battles.info()"
   ]
  },
  {
   "cell_type": "markdown",
   "id": "durable-karen",
   "metadata": {},
   "source": [
    "## Persentase Missing Values\n",
    "menghitung jumlah serta persentase nilai null yang terdapat pada setiap kolom"
   ]
  },
  {
   "cell_type": "code",
   "execution_count": 5,
   "id": "harmful-relevance",
   "metadata": {
    "ExecuteTime": {
     "end_time": "2021-05-25T14:05:38.563712Z",
     "start_time": "2021-05-25T14:05:38.415969Z"
    }
   },
   "outputs": [
    {
     "data": {
      "text/html": [
       "<div>\n",
       "<style scoped>\n",
       "    .dataframe tbody tr th:only-of-type {\n",
       "        vertical-align: middle;\n",
       "    }\n",
       "\n",
       "    .dataframe tbody tr th {\n",
       "        vertical-align: top;\n",
       "    }\n",
       "\n",
       "    .dataframe thead th {\n",
       "        text-align: right;\n",
       "    }\n",
       "</style>\n",
       "<table border=\"1\" class=\"dataframe\">\n",
       "  <thead>\n",
       "    <tr style=\"text-align: right;\">\n",
       "      <th></th>\n",
       "      <th>Total</th>\n",
       "      <th>Percentage</th>\n",
       "      <th>Dtype</th>\n",
       "    </tr>\n",
       "  </thead>\n",
       "  <tbody>\n",
       "    <tr>\n",
       "      <th>defender_4</th>\n",
       "      <td>38</td>\n",
       "      <td>100.000000</td>\n",
       "      <td>float64</td>\n",
       "    </tr>\n",
       "    <tr>\n",
       "      <th>defender_3</th>\n",
       "      <td>38</td>\n",
       "      <td>100.000000</td>\n",
       "      <td>float64</td>\n",
       "    </tr>\n",
       "    <tr>\n",
       "      <th>defender_2</th>\n",
       "      <td>36</td>\n",
       "      <td>94.736842</td>\n",
       "      <td>object</td>\n",
       "    </tr>\n",
       "    <tr>\n",
       "      <th>attacker_4</th>\n",
       "      <td>36</td>\n",
       "      <td>94.736842</td>\n",
       "      <td>object</td>\n",
       "    </tr>\n",
       "    <tr>\n",
       "      <th>attacker_3</th>\n",
       "      <td>35</td>\n",
       "      <td>92.105263</td>\n",
       "      <td>object</td>\n",
       "    </tr>\n",
       "    <tr>\n",
       "      <th>note</th>\n",
       "      <td>33</td>\n",
       "      <td>86.842105</td>\n",
       "      <td>object</td>\n",
       "    </tr>\n",
       "    <tr>\n",
       "      <th>attacker_2</th>\n",
       "      <td>28</td>\n",
       "      <td>73.684211</td>\n",
       "      <td>object</td>\n",
       "    </tr>\n",
       "    <tr>\n",
       "      <th>defender_size</th>\n",
       "      <td>19</td>\n",
       "      <td>50.000000</td>\n",
       "      <td>float64</td>\n",
       "    </tr>\n",
       "    <tr>\n",
       "      <th>attacker_size</th>\n",
       "      <td>14</td>\n",
       "      <td>36.842105</td>\n",
       "      <td>float64</td>\n",
       "    </tr>\n",
       "    <tr>\n",
       "      <th>defender_commander</th>\n",
       "      <td>10</td>\n",
       "      <td>26.315789</td>\n",
       "      <td>object</td>\n",
       "    </tr>\n",
       "  </tbody>\n",
       "</table>\n",
       "</div>"
      ],
      "text/plain": [
       "                    Total  Percentage    Dtype\n",
       "defender_4             38  100.000000  float64\n",
       "defender_3             38  100.000000  float64\n",
       "defender_2             36   94.736842   object\n",
       "attacker_4             36   94.736842   object\n",
       "attacker_3             35   92.105263   object\n",
       "note                   33   86.842105   object\n",
       "attacker_2             28   73.684211   object\n",
       "defender_size          19   50.000000  float64\n",
       "attacker_size          14   36.842105  float64\n",
       "defender_commander     10   26.315789   object"
      ]
     },
     "execution_count": 5,
     "metadata": {},
     "output_type": "execute_result"
    }
   ],
   "source": [
    "missing_values_total = battles.isnull().sum().sort_values(ascending=False)\n",
    "missing_values_pct = (battles.isnull().mean()*100).sort_values(ascending=False)\n",
    "\n",
    "missing_values = pd.concat([missing_values_total, missing_values_pct, battles.dtypes],\n",
    "                           keys=['Total','Percentage','Dtype'],\n",
    "                           axis=1)\n",
    "missing_values.head(10)"
   ]
  },
  {
   "cell_type": "markdown",
   "id": "senior-thanksgiving",
   "metadata": {},
   "source": [
    "## Pemeriksaan Dataset\n",
    "\n",
    "setelah melakukan eksplorasi awal berupa preview data dan menghitung jumlah persentase nilai null serta membaca dari berbagai sumber yang ada di website kaggle dan wiki, ditemukan beberapa baris data yang dapat diperbaiki maupun ditambahkan untuk melengkapi dataset"
   ]
  },
  {
   "cell_type": "markdown",
   "id": "floppy-carter",
   "metadata": {},
   "source": [
    "### Temuan 1\n",
    "pada baris 37 terdapat _battle_type_ dengan nilai NaN yang bisa diisi sesuai dengan battle _name_ yaitu **siege**"
   ]
  },
  {
   "cell_type": "code",
   "execution_count": 6,
   "id": "chief-natural",
   "metadata": {
    "ExecuteTime": {
     "end_time": "2021-05-25T14:05:38.594924Z",
     "start_time": "2021-05-25T14:05:38.563712Z"
    }
   },
   "outputs": [
    {
     "data": {
      "text/html": [
       "<div>\n",
       "<style scoped>\n",
       "    .dataframe tbody tr th:only-of-type {\n",
       "        vertical-align: middle;\n",
       "    }\n",
       "\n",
       "    .dataframe tbody tr th {\n",
       "        vertical-align: top;\n",
       "    }\n",
       "\n",
       "    .dataframe thead th {\n",
       "        text-align: right;\n",
       "    }\n",
       "</style>\n",
       "<table border=\"1\" class=\"dataframe\">\n",
       "  <thead>\n",
       "    <tr style=\"text-align: right;\">\n",
       "      <th></th>\n",
       "      <th>name</th>\n",
       "      <th>battle_type</th>\n",
       "    </tr>\n",
       "  </thead>\n",
       "  <tbody>\n",
       "    <tr>\n",
       "      <th>37</th>\n",
       "      <td>Siege of Winterfell</td>\n",
       "      <td>NaN</td>\n",
       "    </tr>\n",
       "  </tbody>\n",
       "</table>\n",
       "</div>"
      ],
      "text/plain": [
       "                   name battle_type\n",
       "37  Siege of Winterfell         NaN"
      ]
     },
     "execution_count": 6,
     "metadata": {},
     "output_type": "execute_result"
    }
   ],
   "source": [
    "battles[['name','battle_type']].loc[battles['battle_type'].isnull()]"
   ]
  },
  {
   "cell_type": "markdown",
   "id": "present-snake",
   "metadata": {},
   "source": [
    "### Temuan 2\n",
    "pada baris 37 terdapat *attacker_outcome* dengan nilai NaN. \n",
    "\n",
    "dikutip dari [wiki March on Winterfell](https://awoiaf.westeros.org/index.php/March_on_Winterfell) (*link Siege_of_Winterfell di-alihkan ke March_on_Winterfell*),\\\n",
    "pada Aftermath, Roose Bolton memulangkan pasukan dan Stannis Baratheon tetap tinggal disana bersama tuan rumah untuk selanjutnya bersiap perang melawan Bolton.\n",
    "\n",
    "dari kutipan Aftermath diatas,bisa disimpulkan *attacker_outcome* dapat di-isi dengan *win* "
   ]
  },
  {
   "cell_type": "code",
   "execution_count": 7,
   "id": "dressed-referral",
   "metadata": {
    "ExecuteTime": {
     "end_time": "2021-05-25T14:05:38.748647Z",
     "start_time": "2021-05-25T14:05:38.594924Z"
    }
   },
   "outputs": [
    {
     "data": {
      "text/html": [
       "<div>\n",
       "<style scoped>\n",
       "    .dataframe tbody tr th:only-of-type {\n",
       "        vertical-align: middle;\n",
       "    }\n",
       "\n",
       "    .dataframe tbody tr th {\n",
       "        vertical-align: top;\n",
       "    }\n",
       "\n",
       "    .dataframe thead th {\n",
       "        text-align: right;\n",
       "    }\n",
       "</style>\n",
       "<table border=\"1\" class=\"dataframe\">\n",
       "  <thead>\n",
       "    <tr style=\"text-align: right;\">\n",
       "      <th></th>\n",
       "      <th>name</th>\n",
       "      <th>attacker_outcome</th>\n",
       "    </tr>\n",
       "  </thead>\n",
       "  <tbody>\n",
       "    <tr>\n",
       "      <th>37</th>\n",
       "      <td>Siege of Winterfell</td>\n",
       "      <td>NaN</td>\n",
       "    </tr>\n",
       "  </tbody>\n",
       "</table>\n",
       "</div>"
      ],
      "text/plain": [
       "                   name attacker_outcome\n",
       "37  Siege of Winterfell              NaN"
      ]
     },
     "execution_count": 7,
     "metadata": {},
     "output_type": "execute_result"
    }
   ],
   "source": [
    "battles[['name','attacker_outcome']].loc[battles['attacker_outcome'].isnull()]"
   ]
  },
  {
   "cell_type": "markdown",
   "id": "personal-diabetes",
   "metadata": {
    "slideshow": {
     "slide_type": "slide"
    }
   },
   "source": [
    "### Temuan 3\n",
    "dikutip dari [notebook dianyuurl](https://www.kaggle.com/dianyuurl/game-of-thrones-battles-analysis), pada [wiki Game of Thrones](https://gameofthrones.fandom.com/wiki/Battle_of_Castle_Black) _attacker_king_ seharusnya Mance Rayder dan _defender_king_ seharusnya Stannis Baratheon"
   ]
  },
  {
   "cell_type": "code",
   "execution_count": 8,
   "id": "signed-briefs",
   "metadata": {
    "ExecuteTime": {
     "end_time": "2021-05-25T14:05:38.933658Z",
     "start_time": "2021-05-25T14:05:38.748647Z"
    }
   },
   "outputs": [
    {
     "data": {
      "text/plain": [
       "attacker_king    Stannis Baratheon\n",
       "defender_king         Mance Rayder\n",
       "attacker_size             100000.0\n",
       "defender_size               1240.0\n",
       "Name: 27, dtype: object"
      ]
     },
     "execution_count": 8,
     "metadata": {},
     "output_type": "execute_result"
    }
   ],
   "source": [
    "battles[['attacker_king','defender_king','attacker_size','defender_size']].loc[27]"
   ]
  },
  {
   "cell_type": "markdown",
   "id": "hourly-depth",
   "metadata": {},
   "source": [
    "### Temuan 4\n",
    "pada variabel *attacker_1* s/d *attacker_4* dan *defender_1* s/d *defender_4* memiliki banyak nilai **NaN**, maka dari itu:\n",
    "- bisa diekstraksi menjadi fitur baru berupa jumlah attacker house dan defender house\n",
    "- setelah itu variabel dengan jumlah NaN >60% bisa di-drop"
   ]
  },
  {
   "cell_type": "code",
   "execution_count": 9,
   "id": "greater-senior",
   "metadata": {
    "ExecuteTime": {
     "end_time": "2021-05-25T14:05:39.065148Z",
     "start_time": "2021-05-25T14:05:38.933658Z"
    }
   },
   "outputs": [
    {
     "data": {
      "text/html": [
       "<div>\n",
       "<style scoped>\n",
       "    .dataframe tbody tr th:only-of-type {\n",
       "        vertical-align: middle;\n",
       "    }\n",
       "\n",
       "    .dataframe tbody tr th {\n",
       "        vertical-align: top;\n",
       "    }\n",
       "\n",
       "    .dataframe thead th {\n",
       "        text-align: right;\n",
       "    }\n",
       "</style>\n",
       "<table border=\"1\" class=\"dataframe\">\n",
       "  <thead>\n",
       "    <tr style=\"text-align: right;\">\n",
       "      <th></th>\n",
       "      <th>attacker_1</th>\n",
       "      <th>attacker_2</th>\n",
       "      <th>attacker_3</th>\n",
       "      <th>attacker_4</th>\n",
       "      <th>defender_1</th>\n",
       "      <th>defender_2</th>\n",
       "      <th>defender_3</th>\n",
       "      <th>defender_4</th>\n",
       "    </tr>\n",
       "  </thead>\n",
       "  <tbody>\n",
       "    <tr>\n",
       "      <th>0</th>\n",
       "      <td>Lannister</td>\n",
       "      <td>NaN</td>\n",
       "      <td>NaN</td>\n",
       "      <td>NaN</td>\n",
       "      <td>Tully</td>\n",
       "      <td>NaN</td>\n",
       "      <td>NaN</td>\n",
       "      <td>NaN</td>\n",
       "    </tr>\n",
       "    <tr>\n",
       "      <th>1</th>\n",
       "      <td>Lannister</td>\n",
       "      <td>NaN</td>\n",
       "      <td>NaN</td>\n",
       "      <td>NaN</td>\n",
       "      <td>Baratheon</td>\n",
       "      <td>NaN</td>\n",
       "      <td>NaN</td>\n",
       "      <td>NaN</td>\n",
       "    </tr>\n",
       "    <tr>\n",
       "      <th>2</th>\n",
       "      <td>Lannister</td>\n",
       "      <td>NaN</td>\n",
       "      <td>NaN</td>\n",
       "      <td>NaN</td>\n",
       "      <td>Tully</td>\n",
       "      <td>NaN</td>\n",
       "      <td>NaN</td>\n",
       "      <td>NaN</td>\n",
       "    </tr>\n",
       "    <tr>\n",
       "      <th>3</th>\n",
       "      <td>Stark</td>\n",
       "      <td>NaN</td>\n",
       "      <td>NaN</td>\n",
       "      <td>NaN</td>\n",
       "      <td>Lannister</td>\n",
       "      <td>NaN</td>\n",
       "      <td>NaN</td>\n",
       "      <td>NaN</td>\n",
       "    </tr>\n",
       "    <tr>\n",
       "      <th>4</th>\n",
       "      <td>Stark</td>\n",
       "      <td>Tully</td>\n",
       "      <td>NaN</td>\n",
       "      <td>NaN</td>\n",
       "      <td>Lannister</td>\n",
       "      <td>NaN</td>\n",
       "      <td>NaN</td>\n",
       "      <td>NaN</td>\n",
       "    </tr>\n",
       "  </tbody>\n",
       "</table>\n",
       "</div>"
      ],
      "text/plain": [
       "  attacker_1 attacker_2 attacker_3 attacker_4 defender_1 defender_2  \\\n",
       "0  Lannister        NaN        NaN        NaN      Tully        NaN   \n",
       "1  Lannister        NaN        NaN        NaN  Baratheon        NaN   \n",
       "2  Lannister        NaN        NaN        NaN      Tully        NaN   \n",
       "3      Stark        NaN        NaN        NaN  Lannister        NaN   \n",
       "4      Stark      Tully        NaN        NaN  Lannister        NaN   \n",
       "\n",
       "   defender_3  defender_4  \n",
       "0         NaN         NaN  \n",
       "1         NaN         NaN  \n",
       "2         NaN         NaN  \n",
       "3         NaN         NaN  \n",
       "4         NaN         NaN  "
      ]
     },
     "execution_count": 9,
     "metadata": {},
     "output_type": "execute_result"
    }
   ],
   "source": [
    "battles[['attacker_1','attacker_2','attacker_3','attacker_4','defender_1','defender_2','defender_3','defender_4']].head()"
   ]
  },
  {
   "cell_type": "markdown",
   "id": "affected-technician",
   "metadata": {},
   "source": [
    "### Temuan 5\n",
    "pada *attacker_commander* dan *defender_commander* berisi nama commander yang dipisahkan oleh koma :\n",
    "- bisa diekstraksi menjadi fitur baru berupa jumlah commander \n",
    "- setelah itu bisa dihapus pada saat pemodelan"
   ]
  },
  {
   "cell_type": "code",
   "execution_count": 10,
   "id": "breeding-congo",
   "metadata": {
    "ExecuteTime": {
     "end_time": "2021-05-25T14:05:39.196676Z",
     "start_time": "2021-05-25T14:05:39.065148Z"
    }
   },
   "outputs": [
    {
     "data": {
      "text/html": [
       "<div>\n",
       "<style scoped>\n",
       "    .dataframe tbody tr th:only-of-type {\n",
       "        vertical-align: middle;\n",
       "    }\n",
       "\n",
       "    .dataframe tbody tr th {\n",
       "        vertical-align: top;\n",
       "    }\n",
       "\n",
       "    .dataframe thead th {\n",
       "        text-align: right;\n",
       "    }\n",
       "</style>\n",
       "<table border=\"1\" class=\"dataframe\">\n",
       "  <thead>\n",
       "    <tr style=\"text-align: right;\">\n",
       "      <th></th>\n",
       "      <th>attacker_commander</th>\n",
       "      <th>defender_commander</th>\n",
       "    </tr>\n",
       "  </thead>\n",
       "  <tbody>\n",
       "    <tr>\n",
       "      <th>0</th>\n",
       "      <td>Jaime Lannister</td>\n",
       "      <td>Clement Piper, Vance</td>\n",
       "    </tr>\n",
       "    <tr>\n",
       "      <th>1</th>\n",
       "      <td>Gregor Clegane</td>\n",
       "      <td>Beric Dondarrion</td>\n",
       "    </tr>\n",
       "    <tr>\n",
       "      <th>2</th>\n",
       "      <td>Jaime Lannister, Andros Brax</td>\n",
       "      <td>Edmure Tully, Tytos Blackwood</td>\n",
       "    </tr>\n",
       "    <tr>\n",
       "      <th>3</th>\n",
       "      <td>Roose Bolton, Wylis Manderly, Medger Cerwyn, H...</td>\n",
       "      <td>Tywin Lannister, Gregor Clegane, Kevan Lannist...</td>\n",
       "    </tr>\n",
       "    <tr>\n",
       "      <th>4</th>\n",
       "      <td>Robb Stark, Brynden Tully</td>\n",
       "      <td>Jaime Lannister</td>\n",
       "    </tr>\n",
       "  </tbody>\n",
       "</table>\n",
       "</div>"
      ],
      "text/plain": [
       "                                  attacker_commander  \\\n",
       "0                                    Jaime Lannister   \n",
       "1                                     Gregor Clegane   \n",
       "2                       Jaime Lannister, Andros Brax   \n",
       "3  Roose Bolton, Wylis Manderly, Medger Cerwyn, H...   \n",
       "4                          Robb Stark, Brynden Tully   \n",
       "\n",
       "                                  defender_commander  \n",
       "0                               Clement Piper, Vance  \n",
       "1                                   Beric Dondarrion  \n",
       "2                      Edmure Tully, Tytos Blackwood  \n",
       "3  Tywin Lannister, Gregor Clegane, Kevan Lannist...  \n",
       "4                                    Jaime Lannister  "
      ]
     },
     "execution_count": 10,
     "metadata": {},
     "output_type": "execute_result"
    }
   ],
   "source": [
    "battles[['attacker_commander','defender_commander']].head()"
   ]
  },
  {
   "cell_type": "markdown",
   "id": "brutal-paste",
   "metadata": {},
   "source": [
    "### Temuan 6\n",
    "interval nilai dari jumlah pasukan sangat bervariasi, diperlukan scaling nilai agar interval nilai lebih ramping"
   ]
  },
  {
   "cell_type": "code",
   "execution_count": 11,
   "id": "numeric-option",
   "metadata": {
    "ExecuteTime": {
     "end_time": "2021-05-25T14:05:39.366016Z",
     "start_time": "2021-05-25T14:05:39.196676Z"
    },
    "scrolled": true
   },
   "outputs": [
    {
     "data": {
      "text/html": [
       "<div>\n",
       "<style scoped>\n",
       "    .dataframe tbody tr th:only-of-type {\n",
       "        vertical-align: middle;\n",
       "    }\n",
       "\n",
       "    .dataframe tbody tr th {\n",
       "        vertical-align: top;\n",
       "    }\n",
       "\n",
       "    .dataframe thead th {\n",
       "        text-align: right;\n",
       "    }\n",
       "</style>\n",
       "<table border=\"1\" class=\"dataframe\">\n",
       "  <thead>\n",
       "    <tr style=\"text-align: right;\">\n",
       "      <th></th>\n",
       "      <th>attacker_size</th>\n",
       "      <th>defender_size</th>\n",
       "    </tr>\n",
       "  </thead>\n",
       "  <tbody>\n",
       "    <tr>\n",
       "      <th>count</th>\n",
       "      <td>24.000000</td>\n",
       "      <td>19.000000</td>\n",
       "    </tr>\n",
       "    <tr>\n",
       "      <th>mean</th>\n",
       "      <td>9942.541667</td>\n",
       "      <td>6428.157895</td>\n",
       "    </tr>\n",
       "    <tr>\n",
       "      <th>std</th>\n",
       "      <td>20283.092065</td>\n",
       "      <td>6225.182106</td>\n",
       "    </tr>\n",
       "    <tr>\n",
       "      <th>min</th>\n",
       "      <td>20.000000</td>\n",
       "      <td>100.000000</td>\n",
       "    </tr>\n",
       "    <tr>\n",
       "      <th>25%</th>\n",
       "      <td>1375.000000</td>\n",
       "      <td>1070.000000</td>\n",
       "    </tr>\n",
       "    <tr>\n",
       "      <th>50%</th>\n",
       "      <td>4000.000000</td>\n",
       "      <td>6000.000000</td>\n",
       "    </tr>\n",
       "    <tr>\n",
       "      <th>75%</th>\n",
       "      <td>8250.000000</td>\n",
       "      <td>10000.000000</td>\n",
       "    </tr>\n",
       "    <tr>\n",
       "      <th>max</th>\n",
       "      <td>100000.000000</td>\n",
       "      <td>20000.000000</td>\n",
       "    </tr>\n",
       "  </tbody>\n",
       "</table>\n",
       "</div>"
      ],
      "text/plain": [
       "       attacker_size  defender_size\n",
       "count      24.000000      19.000000\n",
       "mean     9942.541667    6428.157895\n",
       "std     20283.092065    6225.182106\n",
       "min        20.000000     100.000000\n",
       "25%      1375.000000    1070.000000\n",
       "50%      4000.000000    6000.000000\n",
       "75%      8250.000000   10000.000000\n",
       "max    100000.000000   20000.000000"
      ]
     },
     "execution_count": 11,
     "metadata": {},
     "output_type": "execute_result"
    }
   ],
   "source": [
    "battles[['attacker_size','defender_size']].describe()"
   ]
  },
  {
   "cell_type": "markdown",
   "id": "norman-mapping",
   "metadata": {},
   "source": [
    "### Temuan 7\n",
    "Imbalanced Data, diperlukan teknik - teknik khusus pada saat membangun model, seperti :\n",
    "- Menggunakan metrik evaluasi yang sesuai\n",
    "- Melakukan resampling data\n",
    "- Menggunakan cross-validation"
   ]
  },
  {
   "cell_type": "code",
   "execution_count": 12,
   "id": "upset-shopping",
   "metadata": {
    "ExecuteTime": {
     "end_time": "2021-05-25T14:05:40.743112Z",
     "start_time": "2021-05-25T14:05:39.366016Z"
    }
   },
   "outputs": [
    {
     "data": {
      "image/png": "[encoded data removed]",
      "text/plain": [
       "<Figure size 432x288 with 1 Axes>"
      ]
     },
     "metadata": {
      "needs_background": "light"
     },
     "output_type": "display_data"
    }
   ],
   "source": [
    "sns.countplot(data=battles,x=\"attacker_outcome\")\n",
    "plt.title(\"Attacker Outcome Distribution\") \n",
    "plt.show()"
   ]
  },
  {
   "cell_type": "markdown",
   "id": "returning-match",
   "metadata": {},
   "source": [
    "# Data Cleaning\n",
    "\n",
    "pada tahapan ini dilakukan pembersihan data yang telah didapatkan pada tahapan eksplorasi seperti memperbaiki baris data yang kurang tepat, mengisi baris data yang hilang, melakukan ekstraksi fitur/kolom baru serta melakukan penghapusan kolom yang memiliki nilai null diatas 60%"
   ]
  },
  {
   "cell_type": "code",
   "execution_count": 13,
   "id": "recent-liberia",
   "metadata": {
    "ExecuteTime": {
     "end_time": "2021-05-25T14:05:40.773915Z",
     "start_time": "2021-05-25T14:05:40.743112Z"
    }
   },
   "outputs": [],
   "source": [
    "df = battles.copy()"
   ]
  },
  {
   "cell_type": "markdown",
   "id": "differential-concept",
   "metadata": {
    "ExecuteTime": {
     "end_time": "2021-03-15T02:54:17.530075Z",
     "start_time": "2021-03-15T02:54:17.514454Z"
    }
   },
   "source": [
    "## *battle_type*  dan *attacker_outcome* pada baris ke-37\n",
    "\n",
    "melakukan input missing value pada kolom *battle_type* sesuai dengan battle *name* pada baris ke-37"
   ]
  },
  {
   "cell_type": "code",
   "execution_count": 14,
   "id": "separate-comparison",
   "metadata": {
    "ExecuteTime": {
     "end_time": "2021-05-25T14:05:40.958481Z",
     "start_time": "2021-05-25T14:05:40.773915Z"
    }
   },
   "outputs": [
    {
     "data": {
      "text/plain": [
       "name                Siege of Winterfell\n",
       "battle_type                         NaN\n",
       "attacker_outcome                    NaN\n",
       "Name: 37, dtype: object"
      ]
     },
     "execution_count": 14,
     "metadata": {},
     "output_type": "execute_result"
    }
   ],
   "source": [
    "df.loc[37,['name','battle_type','attacker_outcome']]"
   ]
  },
  {
   "cell_type": "code",
   "execution_count": 15,
   "id": "emerging-sacramento",
   "metadata": {
    "ExecuteTime": {
     "end_time": "2021-05-25T14:05:41.174781Z",
     "start_time": "2021-05-25T14:05:40.958481Z"
    }
   },
   "outputs": [],
   "source": [
    "df.loc[37, 'battle_type'] = 'siege'"
   ]
  },
  {
   "cell_type": "code",
   "execution_count": 16,
   "id": "acoustic-patrol",
   "metadata": {
    "ExecuteTime": {
     "end_time": "2021-05-25T14:05:41.306289Z",
     "start_time": "2021-05-25T14:05:41.174781Z"
    }
   },
   "outputs": [],
   "source": [
    "df.loc[37, 'attacker_outcome'] = 'win'"
   ]
  },
  {
   "cell_type": "code",
   "execution_count": 17,
   "id": "frequent-premises",
   "metadata": {
    "ExecuteTime": {
     "end_time": "2021-05-25T14:05:41.490385Z",
     "start_time": "2021-05-25T14:05:41.306289Z"
    }
   },
   "outputs": [
    {
     "data": {
      "text/plain": [
       "name                Siege of Winterfell\n",
       "battle_type                       siege\n",
       "attacker_outcome                    win\n",
       "Name: 37, dtype: object"
      ]
     },
     "execution_count": 17,
     "metadata": {},
     "output_type": "execute_result"
    }
   ],
   "source": [
    "df.loc[37,['name','battle_type','attacker_outcome']]"
   ]
  },
  {
   "cell_type": "markdown",
   "id": "binary-ecuador",
   "metadata": {},
   "source": [
    "## *attacker_king* dan *defender_king* baris ke-27\n",
    "melakukan penukaran nama *attacker_king* dan *defender_king* karena terjadi kesalahan pada dataset, hasil temuan dari eksplorasi dataset"
   ]
  },
  {
   "cell_type": "code",
   "execution_count": 18,
   "id": "together-characterization",
   "metadata": {
    "ExecuteTime": {
     "end_time": "2021-05-25T14:05:41.613355Z",
     "start_time": "2021-05-25T14:05:41.490385Z"
    }
   },
   "outputs": [
    {
     "data": {
      "text/plain": [
       "attacker_king    Stannis Baratheon\n",
       "defender_king         Mance Rayder\n",
       "Name: 27, dtype: object"
      ]
     },
     "execution_count": 18,
     "metadata": {},
     "output_type": "execute_result"
    }
   ],
   "source": [
    "df[['attacker_king','defender_king']].loc[27]"
   ]
  },
  {
   "cell_type": "code",
   "execution_count": 19,
   "id": "postal-country",
   "metadata": {
    "ExecuteTime": {
     "end_time": "2021-05-25T14:05:41.744667Z",
     "start_time": "2021-05-25T14:05:41.613355Z"
    }
   },
   "outputs": [],
   "source": [
    "df.loc[27, 'attacker_king'] = 'Mance Rayder'\n",
    "df.loc[27, 'defender_king'] = 'Stannis Baratheon'"
   ]
  },
  {
   "cell_type": "code",
   "execution_count": 20,
   "id": "premium-circuit",
   "metadata": {
    "ExecuteTime": {
     "end_time": "2021-05-25T14:05:41.876272Z",
     "start_time": "2021-05-25T14:05:41.744667Z"
    }
   },
   "outputs": [
    {
     "data": {
      "text/plain": [
       "attacker_king         Mance Rayder\n",
       "defender_king    Stannis Baratheon\n",
       "Name: 27, dtype: object"
      ]
     },
     "execution_count": 20,
     "metadata": {},
     "output_type": "execute_result"
    }
   ],
   "source": [
    "df[['attacker_king','defender_king']].loc[27]"
   ]
  },
  {
   "cell_type": "markdown",
   "id": "buried-isolation",
   "metadata": {},
   "source": [
    "## Feature Extraction"
   ]
  },
  {
   "cell_type": "markdown",
   "id": "continuous-miller",
   "metadata": {},
   "source": [
    "### *attacker_count* dan *defender_count*\n",
    "pada kolom *attacker_1* s/d *attacker_4* dan *defender_1* s/d *defender_4* terdapat banyak sekali nilai null (60%-100%), \\\n",
    "maka dari itu bisa dilakukan ekstraksi dengan cara menghitung jumlah attacker house dan defender house"
   ]
  },
  {
   "cell_type": "code",
   "execution_count": 21,
   "id": "hourly-relevance",
   "metadata": {
    "ExecuteTime": {
     "end_time": "2021-05-25T14:05:42.029594Z",
     "start_time": "2021-05-25T14:05:41.876272Z"
    }
   },
   "outputs": [],
   "source": [
    "df['attacker_count'] = np.nan\n",
    "df['defender_count'] = np.nan"
   ]
  },
  {
   "cell_type": "code",
   "execution_count": 22,
   "id": "amateur-youth",
   "metadata": {
    "ExecuteTime": {
     "end_time": "2021-05-25T14:05:42.145500Z",
     "start_time": "2021-05-25T14:05:42.029594Z"
    }
   },
   "outputs": [
    {
     "data": {
      "text/html": [
       "<div>\n",
       "<style scoped>\n",
       "    .dataframe tbody tr th:only-of-type {\n",
       "        vertical-align: middle;\n",
       "    }\n",
       "\n",
       "    .dataframe tbody tr th {\n",
       "        vertical-align: top;\n",
       "    }\n",
       "\n",
       "    .dataframe thead th {\n",
       "        text-align: right;\n",
       "    }\n",
       "</style>\n",
       "<table border=\"1\" class=\"dataframe\">\n",
       "  <thead>\n",
       "    <tr style=\"text-align: right;\">\n",
       "      <th></th>\n",
       "      <th>attacker_count</th>\n",
       "      <th>defender_count</th>\n",
       "    </tr>\n",
       "  </thead>\n",
       "  <tbody>\n",
       "    <tr>\n",
       "      <th>0</th>\n",
       "      <td>NaN</td>\n",
       "      <td>NaN</td>\n",
       "    </tr>\n",
       "    <tr>\n",
       "      <th>1</th>\n",
       "      <td>NaN</td>\n",
       "      <td>NaN</td>\n",
       "    </tr>\n",
       "    <tr>\n",
       "      <th>2</th>\n",
       "      <td>NaN</td>\n",
       "      <td>NaN</td>\n",
       "    </tr>\n",
       "    <tr>\n",
       "      <th>3</th>\n",
       "      <td>NaN</td>\n",
       "      <td>NaN</td>\n",
       "    </tr>\n",
       "    <tr>\n",
       "      <th>4</th>\n",
       "      <td>NaN</td>\n",
       "      <td>NaN</td>\n",
       "    </tr>\n",
       "  </tbody>\n",
       "</table>\n",
       "</div>"
      ],
      "text/plain": [
       "   attacker_count  defender_count\n",
       "0             NaN             NaN\n",
       "1             NaN             NaN\n",
       "2             NaN             NaN\n",
       "3             NaN             NaN\n",
       "4             NaN             NaN"
      ]
     },
     "execution_count": 22,
     "metadata": {},
     "output_type": "execute_result"
    }
   ],
   "source": [
    "df[['attacker_count','defender_count']].head()"
   ]
  },
  {
   "cell_type": "code",
   "execution_count": 23,
   "id": "exciting-circle",
   "metadata": {
    "ExecuteTime": {
     "end_time": "2021-05-25T14:05:42.377371Z",
     "start_time": "2021-05-25T14:05:42.145500Z"
    }
   },
   "outputs": [],
   "source": [
    "atk_count = []\n",
    "def_count = []\n",
    "for idx,row in df.iterrows():\n",
    "    atk_c = row[['attacker_1','attacker_2','attacker_3','attacker_4']].notnull().sum()\n",
    "    def_c = row[['defender_1','defender_2','defender_3','defender_4']].notnull().sum()\n",
    "    atk_count.append(atk_c)\n",
    "    def_count.append(def_c)\n",
    "df['attacker_count'] = atk_count\n",
    "df['defender_count'] = def_count"
   ]
  },
  {
   "cell_type": "code",
   "execution_count": 24,
   "id": "approximate-being",
   "metadata": {
    "ExecuteTime": {
     "end_time": "2021-05-25T14:05:42.509198Z",
     "start_time": "2021-05-25T14:05:42.377371Z"
    }
   },
   "outputs": [
    {
     "data": {
      "text/html": [
       "<div>\n",
       "<style scoped>\n",
       "    .dataframe tbody tr th:only-of-type {\n",
       "        vertical-align: middle;\n",
       "    }\n",
       "\n",
       "    .dataframe tbody tr th {\n",
       "        vertical-align: top;\n",
       "    }\n",
       "\n",
       "    .dataframe thead th {\n",
       "        text-align: right;\n",
       "    }\n",
       "</style>\n",
       "<table border=\"1\" class=\"dataframe\">\n",
       "  <thead>\n",
       "    <tr style=\"text-align: right;\">\n",
       "      <th></th>\n",
       "      <th>attacker_count</th>\n",
       "      <th>defender_count</th>\n",
       "    </tr>\n",
       "  </thead>\n",
       "  <tbody>\n",
       "    <tr>\n",
       "      <th>0</th>\n",
       "      <td>1</td>\n",
       "      <td>1</td>\n",
       "    </tr>\n",
       "    <tr>\n",
       "      <th>1</th>\n",
       "      <td>1</td>\n",
       "      <td>1</td>\n",
       "    </tr>\n",
       "    <tr>\n",
       "      <th>2</th>\n",
       "      <td>1</td>\n",
       "      <td>1</td>\n",
       "    </tr>\n",
       "    <tr>\n",
       "      <th>3</th>\n",
       "      <td>1</td>\n",
       "      <td>1</td>\n",
       "    </tr>\n",
       "    <tr>\n",
       "      <th>4</th>\n",
       "      <td>2</td>\n",
       "      <td>1</td>\n",
       "    </tr>\n",
       "  </tbody>\n",
       "</table>\n",
       "</div>"
      ],
      "text/plain": [
       "   attacker_count  defender_count\n",
       "0               1               1\n",
       "1               1               1\n",
       "2               1               1\n",
       "3               1               1\n",
       "4               2               1"
      ]
     },
     "execution_count": 24,
     "metadata": {},
     "output_type": "execute_result"
    }
   ],
   "source": [
    "df[['attacker_count','defender_count']].head()"
   ]
  },
  {
   "cell_type": "markdown",
   "id": "acknowledged-impression",
   "metadata": {},
   "source": [
    "### attacker_commander_count dan defender_commander_count\n",
    "menghitung jumlah attacker commander dan defender commander dengan melakukan ekstraksi nama - nama commander yang tersedia pada kolom *attacker_commander* dan *defender_commander*\n",
    "\n",
    "terdapat kolom dengan nilai null pada nama commander,sehingga disini bisa diisi dengan nilai 1 dengan anggapan raja yang menjadi commander dalam peperangan"
   ]
  },
  {
   "cell_type": "code",
   "execution_count": 25,
   "id": "radical-overview",
   "metadata": {
    "ExecuteTime": {
     "end_time": "2021-05-25T14:05:42.678335Z",
     "start_time": "2021-05-25T14:05:42.509198Z"
    }
   },
   "outputs": [],
   "source": [
    "df['attacker_commander_count'] = np.nan\n",
    "df['defender_commander_count'] = np.nan"
   ]
  },
  {
   "cell_type": "code",
   "execution_count": 26,
   "id": "italian-wealth",
   "metadata": {
    "ExecuteTime": {
     "end_time": "2021-05-25T14:05:42.794282Z",
     "start_time": "2021-05-25T14:05:42.678335Z"
    }
   },
   "outputs": [
    {
     "data": {
      "text/html": [
       "<div>\n",
       "<style scoped>\n",
       "    .dataframe tbody tr th:only-of-type {\n",
       "        vertical-align: middle;\n",
       "    }\n",
       "\n",
       "    .dataframe tbody tr th {\n",
       "        vertical-align: top;\n",
       "    }\n",
       "\n",
       "    .dataframe thead th {\n",
       "        text-align: right;\n",
       "    }\n",
       "</style>\n",
       "<table border=\"1\" class=\"dataframe\">\n",
       "  <thead>\n",
       "    <tr style=\"text-align: right;\">\n",
       "      <th></th>\n",
       "      <th>attacker_commander_count</th>\n",
       "      <th>defender_commander_count</th>\n",
       "    </tr>\n",
       "  </thead>\n",
       "  <tbody>\n",
       "    <tr>\n",
       "      <th>0</th>\n",
       "      <td>NaN</td>\n",
       "      <td>NaN</td>\n",
       "    </tr>\n",
       "    <tr>\n",
       "      <th>1</th>\n",
       "      <td>NaN</td>\n",
       "      <td>NaN</td>\n",
       "    </tr>\n",
       "    <tr>\n",
       "      <th>2</th>\n",
       "      <td>NaN</td>\n",
       "      <td>NaN</td>\n",
       "    </tr>\n",
       "    <tr>\n",
       "      <th>3</th>\n",
       "      <td>NaN</td>\n",
       "      <td>NaN</td>\n",
       "    </tr>\n",
       "    <tr>\n",
       "      <th>4</th>\n",
       "      <td>NaN</td>\n",
       "      <td>NaN</td>\n",
       "    </tr>\n",
       "  </tbody>\n",
       "</table>\n",
       "</div>"
      ],
      "text/plain": [
       "   attacker_commander_count  defender_commander_count\n",
       "0                       NaN                       NaN\n",
       "1                       NaN                       NaN\n",
       "2                       NaN                       NaN\n",
       "3                       NaN                       NaN\n",
       "4                       NaN                       NaN"
      ]
     },
     "execution_count": 26,
     "metadata": {},
     "output_type": "execute_result"
    }
   ],
   "source": [
    "df[['attacker_commander_count','defender_commander_count']].head()"
   ]
  },
  {
   "cell_type": "code",
   "execution_count": 27,
   "id": "legislative-bedroom",
   "metadata": {
    "ExecuteTime": {
     "end_time": "2021-05-25T14:05:42.910178Z",
     "start_time": "2021-05-25T14:05:42.794282Z"
    }
   },
   "outputs": [],
   "source": [
    "df['attacker_commander_count'] = df['attacker_commander'].str.split(',').str.len()\n",
    "df['defender_commander_count'] = df['defender_commander'].str.split(',').str.len()\n",
    "\n",
    "# mengubah nilai NaN menjadi 1, dengan anggapan raja menjadi commander \n",
    "df['attacker_commander_count'].fillna(value=1,inplace=True)\n",
    "df['defender_commander_count'].fillna(value=1,inplace=True)\n",
    "\n",
    "df['attacker_commander_count'] = df['attacker_commander_count'].astype('int64')\n",
    "df['defender_commander_count'] = df['defender_commander_count'].astype('int64')"
   ]
  },
  {
   "cell_type": "code",
   "execution_count": 28,
   "id": "appreciated-suite",
   "metadata": {
    "ExecuteTime": {
     "end_time": "2021-05-25T14:05:43.081183Z",
     "start_time": "2021-05-25T14:05:42.910178Z"
    }
   },
   "outputs": [
    {
     "data": {
      "text/html": [
       "<div>\n",
       "<style scoped>\n",
       "    .dataframe tbody tr th:only-of-type {\n",
       "        vertical-align: middle;\n",
       "    }\n",
       "\n",
       "    .dataframe tbody tr th {\n",
       "        vertical-align: top;\n",
       "    }\n",
       "\n",
       "    .dataframe thead th {\n",
       "        text-align: right;\n",
       "    }\n",
       "</style>\n",
       "<table border=\"1\" class=\"dataframe\">\n",
       "  <thead>\n",
       "    <tr style=\"text-align: right;\">\n",
       "      <th></th>\n",
       "      <th>attacker_commander_count</th>\n",
       "      <th>defender_commander_count</th>\n",
       "    </tr>\n",
       "  </thead>\n",
       "  <tbody>\n",
       "    <tr>\n",
       "      <th>33</th>\n",
       "      <td>2</td>\n",
       "      <td>1</td>\n",
       "    </tr>\n",
       "    <tr>\n",
       "      <th>34</th>\n",
       "      <td>2</td>\n",
       "      <td>1</td>\n",
       "    </tr>\n",
       "    <tr>\n",
       "      <th>35</th>\n",
       "      <td>3</td>\n",
       "      <td>1</td>\n",
       "    </tr>\n",
       "    <tr>\n",
       "      <th>36</th>\n",
       "      <td>2</td>\n",
       "      <td>1</td>\n",
       "    </tr>\n",
       "    <tr>\n",
       "      <th>37</th>\n",
       "      <td>1</td>\n",
       "      <td>1</td>\n",
       "    </tr>\n",
       "  </tbody>\n",
       "</table>\n",
       "</div>"
      ],
      "text/plain": [
       "    attacker_commander_count  defender_commander_count\n",
       "33                         2                         1\n",
       "34                         2                         1\n",
       "35                         3                         1\n",
       "36                         2                         1\n",
       "37                         1                         1"
      ]
     },
     "execution_count": 28,
     "metadata": {},
     "output_type": "execute_result"
    }
   ],
   "source": [
    "df[['attacker_commander_count','defender_commander_count']].tail()"
   ]
  },
  {
   "cell_type": "markdown",
   "id": "greatest-category",
   "metadata": {},
   "source": [
    "## Drop Column with Null Values\n",
    "pada saat melakukan eksplorasi terdapat kolom dengan persentase nilai null diatas 60% bahkan 100% khususnya pada kolom nama defender house dan attacker house. \\\n",
    "karena sudah dilakukan ekstraksi pada kolom - kolom yang diperlukan, maka kolom dengan nilai null diatas 60% akan dihapus"
   ]
  },
  {
   "cell_type": "code",
   "execution_count": 29,
   "id": "found-continent",
   "metadata": {
    "ExecuteTime": {
     "end_time": "2021-05-25T14:05:43.196788Z",
     "start_time": "2021-05-25T14:05:43.084243Z"
    }
   },
   "outputs": [],
   "source": [
    "df = df.loc[:, df.isnull().mean() <= .6]"
   ]
  },
  {
   "cell_type": "code",
   "execution_count": 30,
   "id": "recreational-regulation",
   "metadata": {
    "ExecuteTime": {
     "end_time": "2021-05-25T14:05:43.332836Z",
     "start_time": "2021-05-25T14:05:43.196788Z"
    }
   },
   "outputs": [
    {
     "name": "stdout",
     "output_type": "stream",
     "text": [
      "<class 'pandas.core.frame.DataFrame'>\n",
      "RangeIndex: 38 entries, 0 to 37\n",
      "Data columns (total 22 columns):\n",
      " #   Column                    Non-Null Count  Dtype  \n",
      "---  ------                    --------------  -----  \n",
      " 0   name                      38 non-null     object \n",
      " 1   year                      38 non-null     int64  \n",
      " 2   battle_number             38 non-null     int64  \n",
      " 3   attacker_king             36 non-null     object \n",
      " 4   defender_king             35 non-null     object \n",
      " 5   attacker_1                38 non-null     object \n",
      " 6   defender_1                37 non-null     object \n",
      " 7   attacker_outcome          38 non-null     object \n",
      " 8   battle_type               38 non-null     object \n",
      " 9   major_death               37 non-null     float64\n",
      " 10  major_capture             37 non-null     float64\n",
      " 11  attacker_size             24 non-null     float64\n",
      " 12  defender_size             19 non-null     float64\n",
      " 13  attacker_commander        37 non-null     object \n",
      " 14  defender_commander        28 non-null     object \n",
      " 15  summer                    37 non-null     float64\n",
      " 16  location                  37 non-null     object \n",
      " 17  region                    38 non-null     object \n",
      " 18  attacker_count            38 non-null     int64  \n",
      " 19  defender_count            38 non-null     int64  \n",
      " 20  attacker_commander_count  38 non-null     int64  \n",
      " 21  defender_commander_count  38 non-null     int64  \n",
      "dtypes: float64(5), int64(6), object(11)\n",
      "memory usage: 6.7+ KB\n"
     ]
    }
   ],
   "source": [
    "df.info()"
   ]
  },
  {
   "cell_type": "markdown",
   "id": "massive-shift",
   "metadata": {},
   "source": [
    "## Save Dataset\n",
    "menyimpan dataset yang sudah dibersihkan"
   ]
  },
  {
   "cell_type": "code",
   "execution_count": 31,
   "id": "configured-college",
   "metadata": {
    "ExecuteTime": {
     "end_time": "2021-05-25T14:05:43.595895Z",
     "start_time": "2021-05-25T14:05:43.332836Z"
    }
   },
   "outputs": [],
   "source": [
    "df.to_csv('dataset/battles_cleaned.csv',index=False)"
   ]
  },
  {
   "cell_type": "markdown",
   "id": "present-costa",
   "metadata": {},
   "source": [
    "# Data Pre-processing"
   ]
  },
  {
   "cell_type": "code",
   "execution_count": 32,
   "id": "chemical-program",
   "metadata": {
    "ExecuteTime": {
     "end_time": "2021-05-25T14:05:43.633678Z",
     "start_time": "2021-05-25T14:05:43.595895Z"
    }
   },
   "outputs": [],
   "source": [
    "df = pd.read_csv('dataset/battles_cleaned.csv')"
   ]
  },
  {
   "cell_type": "markdown",
   "id": "reverse-spray",
   "metadata": {},
   "source": [
    "## Drop Unused Column\n",
    "\n",
    "\n",
    "`battle_number` hanya nomor baris \\\n",
    "`name` hanya nama pertempuran dan kurang informatif untuk model \\\n",
    "`year` berisi tahun peperangan yang kurang informatif untuk model \\\n",
    "`attacker_commander` dan `defender_commander` kurang informatif karena berisi nama komander dipisah dengan koma"
   ]
  },
  {
   "cell_type": "code",
   "execution_count": 33,
   "id": "applied-humidity",
   "metadata": {
    "ExecuteTime": {
     "end_time": "2021-05-25T14:05:43.849683Z",
     "start_time": "2021-05-25T14:05:43.633678Z"
    }
   },
   "outputs": [],
   "source": [
    "df.drop(columns=['battle_number',\n",
    "                 'name',\n",
    "                 'year',\n",
    "                 'attacker_commander',\n",
    "                 'defender_commander'],inplace=True)"
   ]
  },
  {
   "cell_type": "markdown",
   "id": "existing-booth",
   "metadata": {},
   "source": [
    "## Data Encoding\n",
    "\\\n",
    "diperlukan Encoding untuk dataset (khususnya data kategori) sebelum dilakukan pengisian nilai yang hilang/missing values. \\\n",
    "menggunakan LabelEncoder untuk encoding karena tidak berpengaruh pada nilai NaN. "
   ]
  },
  {
   "cell_type": "code",
   "execution_count": 34,
   "id": "rubber-throw",
   "metadata": {
    "ExecuteTime": {
     "end_time": "2021-05-25T14:05:47.783295Z",
     "start_time": "2021-05-25T14:05:43.849683Z"
    }
   },
   "outputs": [],
   "source": [
    "from sklearn.preprocessing import LabelEncoder\n",
    "\n",
    "le = LabelEncoder()\n",
    "np.random.seed(1772023)\n",
    "df[df.select_dtypes(['object']).columns] = df.select_dtypes(['object']).apply(lambda x: le.fit_transform(x.astype(str)))"
   ]
  },
  {
   "cell_type": "code",
   "execution_count": 35,
   "id": "nonprofit-suffering",
   "metadata": {
    "ExecuteTime": {
     "end_time": "2021-05-25T14:05:47.813877Z",
     "start_time": "2021-05-25T14:05:47.783295Z"
    }
   },
   "outputs": [
    {
     "data": {
      "text/html": [
       "<div>\n",
       "<style scoped>\n",
       "    .dataframe tbody tr th:only-of-type {\n",
       "        vertical-align: middle;\n",
       "    }\n",
       "\n",
       "    .dataframe tbody tr th {\n",
       "        vertical-align: top;\n",
       "    }\n",
       "\n",
       "    .dataframe thead th {\n",
       "        text-align: right;\n",
       "    }\n",
       "</style>\n",
       "<table border=\"1\" class=\"dataframe\">\n",
       "  <thead>\n",
       "    <tr style=\"text-align: right;\">\n",
       "      <th></th>\n",
       "      <th>attacker_king</th>\n",
       "      <th>defender_king</th>\n",
       "      <th>attacker_1</th>\n",
       "      <th>defender_1</th>\n",
       "      <th>attacker_outcome</th>\n",
       "      <th>battle_type</th>\n",
       "      <th>major_death</th>\n",
       "      <th>major_capture</th>\n",
       "      <th>attacker_size</th>\n",
       "      <th>defender_size</th>\n",
       "      <th>summer</th>\n",
       "      <th>location</th>\n",
       "      <th>region</th>\n",
       "      <th>attacker_count</th>\n",
       "      <th>defender_count</th>\n",
       "      <th>attacker_commander_count</th>\n",
       "      <th>defender_commander_count</th>\n",
       "    </tr>\n",
       "  </thead>\n",
       "  <tbody>\n",
       "    <tr>\n",
       "      <th>0</th>\n",
       "      <td>1</td>\n",
       "      <td>3</td>\n",
       "      <td>9</td>\n",
       "      <td>10</td>\n",
       "      <td>1</td>\n",
       "      <td>1</td>\n",
       "      <td>1.0</td>\n",
       "      <td>0.0</td>\n",
       "      <td>15000.0</td>\n",
       "      <td>4000.0</td>\n",
       "      <td>1.0</td>\n",
       "      <td>6</td>\n",
       "      <td>6</td>\n",
       "      <td>1</td>\n",
       "      <td>1</td>\n",
       "      <td>1</td>\n",
       "      <td>2</td>\n",
       "    </tr>\n",
       "    <tr>\n",
       "      <th>1</th>\n",
       "      <td>1</td>\n",
       "      <td>3</td>\n",
       "      <td>9</td>\n",
       "      <td>0</td>\n",
       "      <td>1</td>\n",
       "      <td>0</td>\n",
       "      <td>1.0</td>\n",
       "      <td>0.0</td>\n",
       "      <td>NaN</td>\n",
       "      <td>120.0</td>\n",
       "      <td>1.0</td>\n",
       "      <td>11</td>\n",
       "      <td>4</td>\n",
       "      <td>1</td>\n",
       "      <td>1</td>\n",
       "      <td>1</td>\n",
       "      <td>1</td>\n",
       "    </tr>\n",
       "    <tr>\n",
       "      <th>2</th>\n",
       "      <td>1</td>\n",
       "      <td>3</td>\n",
       "      <td>9</td>\n",
       "      <td>10</td>\n",
       "      <td>1</td>\n",
       "      <td>1</td>\n",
       "      <td>0.0</td>\n",
       "      <td>1.0</td>\n",
       "      <td>15000.0</td>\n",
       "      <td>10000.0</td>\n",
       "      <td>1.0</td>\n",
       "      <td>15</td>\n",
       "      <td>4</td>\n",
       "      <td>1</td>\n",
       "      <td>1</td>\n",
       "      <td>2</td>\n",
       "      <td>2</td>\n",
       "    </tr>\n",
       "    <tr>\n",
       "      <th>3</th>\n",
       "      <td>3</td>\n",
       "      <td>1</td>\n",
       "      <td>10</td>\n",
       "      <td>6</td>\n",
       "      <td>0</td>\n",
       "      <td>1</td>\n",
       "      <td>1.0</td>\n",
       "      <td>1.0</td>\n",
       "      <td>18000.0</td>\n",
       "      <td>20000.0</td>\n",
       "      <td>1.0</td>\n",
       "      <td>7</td>\n",
       "      <td>4</td>\n",
       "      <td>1</td>\n",
       "      <td>1</td>\n",
       "      <td>5</td>\n",
       "      <td>4</td>\n",
       "    </tr>\n",
       "    <tr>\n",
       "      <th>4</th>\n",
       "      <td>3</td>\n",
       "      <td>1</td>\n",
       "      <td>10</td>\n",
       "      <td>6</td>\n",
       "      <td>1</td>\n",
       "      <td>0</td>\n",
       "      <td>1.0</td>\n",
       "      <td>1.0</td>\n",
       "      <td>1875.0</td>\n",
       "      <td>6000.0</td>\n",
       "      <td>1.0</td>\n",
       "      <td>25</td>\n",
       "      <td>4</td>\n",
       "      <td>2</td>\n",
       "      <td>1</td>\n",
       "      <td>2</td>\n",
       "      <td>1</td>\n",
       "    </tr>\n",
       "  </tbody>\n",
       "</table>\n",
       "</div>"
      ],
      "text/plain": [
       "   attacker_king  defender_king  attacker_1  defender_1  attacker_outcome  \\\n",
       "0              1              3           9          10                 1   \n",
       "1              1              3           9           0                 1   \n",
       "2              1              3           9          10                 1   \n",
       "3              3              1          10           6                 0   \n",
       "4              3              1          10           6                 1   \n",
       "\n",
       "   battle_type  major_death  major_capture  attacker_size  defender_size  \\\n",
       "0            1          1.0            0.0        15000.0         4000.0   \n",
       "1            0          1.0            0.0            NaN          120.0   \n",
       "2            1          0.0            1.0        15000.0        10000.0   \n",
       "3            1          1.0            1.0        18000.0        20000.0   \n",
       "4            0          1.0            1.0         1875.0         6000.0   \n",
       "\n",
       "   summer  location  region  attacker_count  defender_count  \\\n",
       "0     1.0         6       6               1               1   \n",
       "1     1.0        11       4               1               1   \n",
       "2     1.0        15       4               1               1   \n",
       "3     1.0         7       4               1               1   \n",
       "4     1.0        25       4               2               1   \n",
       "\n",
       "   attacker_commander_count  defender_commander_count  \n",
       "0                         1                         2  \n",
       "1                         1                         1  \n",
       "2                         2                         2  \n",
       "3                         5                         4  \n",
       "4                         2                         1  "
      ]
     },
     "execution_count": 35,
     "metadata": {},
     "output_type": "execute_result"
    }
   ],
   "source": [
    "df.head()"
   ]
  },
  {
   "cell_type": "markdown",
   "id": "annoying-gnome",
   "metadata": {},
   "source": [
    "## Set Train Features and Target"
   ]
  },
  {
   "cell_type": "code",
   "execution_count": 36,
   "id": "norman-serbia",
   "metadata": {
    "ExecuteTime": {
     "end_time": "2021-05-25T14:05:47.998907Z",
     "start_time": "2021-05-25T14:05:47.813877Z"
    }
   },
   "outputs": [],
   "source": [
    "y = df['attacker_outcome']\n",
    "X = df.drop(columns='attacker_outcome')"
   ]
  },
  {
   "cell_type": "markdown",
   "id": "abroad-session",
   "metadata": {},
   "source": [
    "\n",
    "## Data Imputation"
   ]
  },
  {
   "cell_type": "markdown",
   "id": "honey-accused",
   "metadata": {},
   "source": [
    "### Finding The Right Method for Imputation\n",
    "\n",
    "menggunakan metode `iterativeImputer` dan `SimpleImputer` untuk mencari metode yang cocok (nilai error terkecil pada saat prediksi) untuk melakukan imputasi data\n",
    "\n",
    "referensi: [imputing missing values with variants of iterativeimputer - scikit-learn](https://scikit-learn.org/stable/auto_examples/impute/plot_iterative_imputer_variants_comparison.html#imputing-missing-values-with-variants-of-iterativeimputer)"
   ]
  },
  {
   "cell_type": "code",
   "execution_count": 37,
   "id": "thirty-elements",
   "metadata": {
    "ExecuteTime": {
     "end_time": "2021-05-25T14:05:58.554660Z",
     "start_time": "2021-05-25T14:05:47.998907Z"
    }
   },
   "outputs": [
    {
     "data": {
      "image/png": "[encoded data removed]",
      "text/plain": [
       "<Figure size 936x432 with 1 Axes>"
      ]
     },
     "metadata": {
      "needs_background": "light"
     },
     "output_type": "display_data"
    }
   ],
   "source": [
    "from sklearn.experimental import enable_iterative_imputer  \n",
    "from sklearn.impute import SimpleImputer, IterativeImputer\n",
    "\n",
    "from sklearn.pipeline import make_pipeline\n",
    "from sklearn.model_selection import cross_val_score\n",
    "from sklearn.preprocessing import StandardScaler\n",
    "\n",
    "from sklearn.linear_model import BayesianRidge\n",
    "from sklearn.tree import DecisionTreeRegressor\n",
    "from sklearn.ensemble import ExtraTreesRegressor\n",
    "from sklearn.neighbors import KNeighborsRegressor\n",
    "\n",
    "\n",
    "df_y = df['attacker_outcome']\n",
    "df_X = df.drop(columns='attacker_outcome')\n",
    "\n",
    "N_SPLITS = 5\n",
    "br_estimator = BayesianRidge()\n",
    "\n",
    "np.random.seed(1772023)\n",
    "\n",
    "# Estimate the score after imputation (mean and median strategies)\n",
    "score_simple_imputer = pd.DataFrame()\n",
    "for strategy in ('mean', 'median'):\n",
    "    estimator = make_pipeline(\n",
    "        StandardScaler(),\n",
    "        SimpleImputer(missing_values=np.nan, strategy=strategy),\n",
    "        br_estimator\n",
    "    )\n",
    "    score_simple_imputer[strategy] = cross_val_score(\n",
    "        estimator, df_X, df_y, scoring='neg_mean_squared_error',\n",
    "        cv=N_SPLITS\n",
    "    )\n",
    "    \n",
    "# Estimate the score after iterative imputation of the missing values\n",
    "# with different estimators\n",
    "estimators = [\n",
    "    BayesianRidge(),\n",
    "    DecisionTreeRegressor(max_features='sqrt', random_state=0),\n",
    "    ExtraTreesRegressor(n_estimators=10, random_state=0),\n",
    "    KNeighborsRegressor(n_neighbors=6)\n",
    "]\n",
    "\n",
    "score_iterative_imputer = pd.DataFrame()\n",
    "for impute_estimator in estimators:\n",
    "    estimator = make_pipeline(\n",
    "        StandardScaler(),\n",
    "        IterativeImputer(random_state=0, estimator=impute_estimator),\n",
    "        br_estimator\n",
    "    )\n",
    "    score_iterative_imputer[impute_estimator.__class__.__name__] = \\\n",
    "        cross_val_score(\n",
    "            estimator, df_X, df_y, scoring='neg_mean_squared_error',\n",
    "            cv=N_SPLITS\n",
    "    )\n",
    "\n",
    "scores = pd.concat(\n",
    "    [score_simple_imputer, score_iterative_imputer],\n",
    "    keys=['SimpleImputer', 'IterativeImputer'], axis=1\n",
    ")\n",
    "\n",
    "# plot results\n",
    "fig, ax = plt.subplots(figsize=(13, 6))\n",
    "means = -scores.mean().sort_values()\n",
    "errors = scores.std().sort_values()\n",
    "means.plot.barh(xerr=errors, ax=ax)\n",
    "ax.set_title('Imputation Method Comparison using Various Models')\n",
    "ax.set_xlabel('MSE (smaller is better)')\n",
    "ax.set_yticks(np.arange(means.shape[0]))\n",
    "ax.set_yticklabels([\" - \".join(label) for label in means.index.tolist()])\n",
    "plt.tight_layout(pad=1)\n",
    "plt.show()"
   ]
  },
  {
   "cell_type": "code",
   "execution_count": 38,
   "id": "photographic-questionnaire",
   "metadata": {
    "ExecuteTime": {
     "end_time": "2021-05-25T14:05:58.570245Z",
     "start_time": "2021-05-25T14:05:58.554660Z"
    }
   },
   "outputs": [
    {
     "data": {
      "text/plain": [
       "IterativeImputer  DecisionTreeRegressor    0.072222\n",
       "                  ExtraTreesRegressor      0.079369\n",
       "                  BayesianRidge            0.079461\n",
       "SimpleImputer     mean                     0.079595\n",
       "IterativeImputer  KNeighborsRegressor      0.080226\n",
       "SimpleImputer     median                   0.084144\n",
       "dtype: float64"
      ]
     },
     "execution_count": 38,
     "metadata": {},
     "output_type": "execute_result"
    }
   ],
   "source": [
    "-scores.mean().sort_values(ascending=False)"
   ]
  },
  {
   "cell_type": "markdown",
   "id": "accepted-specific",
   "metadata": {},
   "source": [
    "### Imputation\n",
    "pengisian missing values"
   ]
  },
  {
   "cell_type": "code",
   "execution_count": 39,
   "id": "occasional-execution",
   "metadata": {
    "ExecuteTime": {
     "end_time": "2021-05-25T14:05:58.808867Z",
     "start_time": "2021-05-25T14:05:58.570245Z"
    }
   },
   "outputs": [],
   "source": [
    "from sklearn.experimental import enable_iterative_imputer  \n",
    "from sklearn.impute import IterativeImputer\n",
    "from sklearn.tree import DecisionTreeRegressor\n",
    "\n",
    "# y = df['attacker_outcome']\n",
    "# X = df.drop(columns='attacker_outcome')\n",
    "\n",
    "impute_estimator = DecisionTreeRegressor(max_features='sqrt')\n",
    "imputer = IterativeImputer(estimator=impute_estimator)\n",
    "\n",
    "np.random.seed(1772023)\n",
    "X_imp = imputer.fit_transform(X)"
   ]
  },
  {
   "cell_type": "code",
   "execution_count": 40,
   "id": "alert-retrieval",
   "metadata": {
    "ExecuteTime": {
     "end_time": "2021-05-25T14:05:58.824494Z",
     "start_time": "2021-05-25T14:05:58.808867Z"
    }
   },
   "outputs": [
    {
     "data": {
      "text/plain": [
       "array([[4.0e+00, 1.0e+00, 0.0e+00, 2.0e+00, 3.0e+00, 1.0e+00, 0.0e+00,\n",
       "        5.0e+03, 8.0e+03, 0.0e+00, 2.6e+01, 2.0e+00, 4.0e+00, 2.0e+00,\n",
       "        1.0e+00, 1.0e+00]])"
      ]
     },
     "execution_count": 40,
     "metadata": {},
     "output_type": "execute_result"
    }
   ],
   "source": [
    "X_imp[-1:]"
   ]
  },
  {
   "cell_type": "markdown",
   "id": "ambient-anchor",
   "metadata": {},
   "source": [
    "## Data Scaling\n",
    "dilakukan scaling pada dataset agar interval nilai pada dataset lebih ramping/tersebar dengan baik"
   ]
  },
  {
   "cell_type": "code",
   "execution_count": 41,
   "id": "still-scottish",
   "metadata": {
    "ExecuteTime": {
     "end_time": "2021-05-25T14:05:58.971683Z",
     "start_time": "2021-05-25T14:05:58.824494Z"
    }
   },
   "outputs": [],
   "source": [
    "from sklearn.preprocessing import StandardScaler\n",
    "np.random.seed(1772023)\n",
    "scaler = StandardScaler()\n",
    "X_scaled = scaler.fit_transform(X_imp)"
   ]
  },
  {
   "cell_type": "code",
   "execution_count": 42,
   "id": "behind-medline",
   "metadata": {
    "ExecuteTime": {
     "end_time": "2021-05-25T14:05:59.094609Z",
     "start_time": "2021-05-25T14:05:58.971683Z"
    }
   },
   "outputs": [
    {
     "data": {
      "text/plain": [
       "array([[ 1.40286125, -0.83265591, -1.73701782, -1.30480696,  1.33366267,\n",
       "         1.30930734, -0.63828474, -0.12760986,  0.60453676, -1.5666989 ,\n",
       "         1.45893777, -0.97930097,  3.34299247,  3.48066721, -0.79065761,\n",
       "        -0.5318713 ]])"
      ]
     },
     "execution_count": 42,
     "metadata": {},
     "output_type": "execute_result"
    }
   ],
   "source": [
    "X_scaled[-1:]"
   ]
  },
  {
   "cell_type": "markdown",
   "id": "connected-devices",
   "metadata": {},
   "source": [
    "## Oversampling using SMOTE\n",
    "nilai *k_neighbors=2* merupakan nilai paling optimal dari segi akurasi setelah dilakukan pengujian (range 1-5) "
   ]
  },
  {
   "cell_type": "code",
   "execution_count": 43,
   "id": "exact-flavor",
   "metadata": {
    "ExecuteTime": {
     "end_time": "2021-05-25T14:06:01.383293Z",
     "start_time": "2021-05-25T14:05:59.094609Z"
    }
   },
   "outputs": [
    {
     "name": "stdout",
     "output_type": "stream",
     "text": [
      "Ukuran data sebelum SMOTE: (38, 16)\n",
      "Ukuran data sesudah SMOTE: (66, 16)\n",
      "\n",
      "Keseimbangan antar kelas (sebelum SMOTE):\n",
      "1    86.842105\n",
      "0    13.157895\n",
      "Name: attacker_outcome, dtype: float64\n",
      "\n",
      "Keseimbangan antar kelas (sesudah SMOTE):\n"
     ]
    },
    {
     "data": {
      "text/plain": [
       "0    50.0\n",
       "1    50.0\n",
       "Name: attacker_outcome, dtype: float64"
      ]
     },
     "execution_count": 43,
     "metadata": {},
     "output_type": "execute_result"
    }
   ],
   "source": [
    "from imblearn.over_sampling import SMOTE \n",
    "\n",
    "smote = SMOTE(k_neighbors=2)\n",
    "np.random.seed(1772023)\n",
    "X_smote, y_smote = smote.fit_resample(X_scaled, y)\n",
    "\n",
    "print(f'''Ukuran data sebelum SMOTE: {X_scaled.shape}\n",
    "Ukuran data sesudah SMOTE: {X_smote.shape}''')\n",
    "\n",
    "print('\\nKeseimbangan antar kelas (sebelum SMOTE):')\n",
    "print(y.value_counts(normalize=True) * 100)\n",
    "print('\\nKeseimbangan antar kelas (sesudah SMOTE):')\n",
    "y_smote.value_counts(normalize=True) * 100"
   ]
  },
  {
   "cell_type": "markdown",
   "id": "surrounded-proposition",
   "metadata": {},
   "source": [
    "## Split Dataset\n",
    "setelah dilakukan perbandingan skor dari split dataset 70/30, 75/25, dan 80/20.\n",
    "\n",
    "split dataset 75/25 menghasilkan skor yg lebih bervariasi tanpa kehilangan akurasi yang besar dan bisa digunakan untuk menjelaskan perbandingan model dengan lebih baik"
   ]
  },
  {
   "cell_type": "code",
   "execution_count": 44,
   "id": "separated-relevance",
   "metadata": {
    "ExecuteTime": {
     "end_time": "2021-05-25T14:06:01.405452Z",
     "start_time": "2021-05-25T14:06:01.383293Z"
    }
   },
   "outputs": [],
   "source": [
    "from sklearn.model_selection import train_test_split\n",
    "\n",
    "X_train, X_test, y_train, y_test = train_test_split(X_scaled, \n",
    "                                                    y, \n",
    "                                                    test_size=0.25, \n",
    "                                                    random_state=1772023)\n",
    "\n",
    "X_train_sm, X_test_sm, y_train_sm, y_test_sm = train_test_split(X_smote, \n",
    "                                                                y_smote, \n",
    "                                                                test_size=0.25, \n",
    "                                                                random_state=1772023)"
   ]
  },
  {
   "cell_type": "markdown",
   "id": "broadband-going",
   "metadata": {},
   "source": [
    "# Modelling"
   ]
  },
  {
   "cell_type": "code",
   "execution_count": 45,
   "id": "smoking-wealth",
   "metadata": {
    "ExecuteTime": {
     "end_time": "2021-05-25T14:06:01.607259Z",
     "start_time": "2021-05-25T14:06:01.405452Z"
    }
   },
   "outputs": [],
   "source": [
    "from sklearn.model_selection import StratifiedKFold\n",
    "from sklearn.ensemble import RandomForestClassifier\n",
    "from sklearn.model_selection import cross_val_score\n",
    "from sklearn.linear_model import LogisticRegression\n",
    "\n",
    "\n",
    "cv = StratifiedKFold(n_splits=5, random_state=1772023, shuffle=True)\n",
    "rf = RandomForestClassifier()\n",
    "lr = LogisticRegression()"
   ]
  },
  {
   "cell_type": "markdown",
   "id": "incorporate-integral",
   "metadata": {},
   "source": [
    "## Random Forest"
   ]
  },
  {
   "cell_type": "code",
   "execution_count": 46,
   "id": "union-distinction",
   "metadata": {
    "ExecuteTime": {
     "end_time": "2021-05-25T14:06:05.678651Z",
     "start_time": "2021-05-25T14:06:01.607259Z"
    }
   },
   "outputs": [
    {
     "data": {
      "text/plain": [
       "accuracy    0.926667\n",
       "f1          0.977778\n",
       "roc_auc     0.937500\n",
       "dtype: float64"
      ]
     },
     "execution_count": 46,
     "metadata": {},
     "output_type": "execute_result"
    }
   ],
   "source": [
    "scores = pd.DataFrame()\n",
    "np.random.seed(1772023)\n",
    "for scoring in ['accuracy','f1','roc_auc']:\n",
    "    scores[scoring] = cross_val_score(rf,\n",
    "                                      X_train, \n",
    "                                      y_train,\n",
    "                                      scoring=scoring,\n",
    "                                      cv=cv, n_jobs=-1)\n",
    "scores.mean()"
   ]
  },
  {
   "cell_type": "markdown",
   "id": "organizational-cooper",
   "metadata": {},
   "source": [
    "## Logistic Regression"
   ]
  },
  {
   "cell_type": "code",
   "execution_count": 47,
   "id": "israeli-hormone",
   "metadata": {
    "ExecuteTime": {
     "end_time": "2021-05-25T14:06:06.079667Z",
     "start_time": "2021-05-25T14:06:05.678651Z"
    }
   },
   "outputs": [
    {
     "data": {
      "text/plain": [
       "accuracy    0.926667\n",
       "f1          0.959596\n",
       "roc_auc     0.812500\n",
       "dtype: float64"
      ]
     },
     "execution_count": 47,
     "metadata": {},
     "output_type": "execute_result"
    }
   ],
   "source": [
    "scores = pd.DataFrame()\n",
    "np.random.seed(1772023)\n",
    "for scoring in ['accuracy','f1','roc_auc']:\n",
    "    scores[scoring] = cross_val_score(lr,\n",
    "                                      X_train,\n",
    "                                      y_train,\n",
    "                                      scoring=scoring,\n",
    "                                      cv=cv, n_jobs=-1)\n",
    "scores.mean()"
   ]
  },
  {
   "cell_type": "markdown",
   "id": "failing-david",
   "metadata": {},
   "source": [
    "Hasil dari pelatihan RF dan LR diatas terlihat bahwa skor akurasi dan F1 sama persis bisa terjadi dikarenakan ukuran dataset yang kecil. \\\n",
    "terlihat bahwa nilai ROC AUC pada model RF lebih besar daripada model LR, tetapi tidak dapat diandalkan karena pada kasus data imbalance kurang cocok untuk dijadikan sebagai metrik"
   ]
  },
  {
   "cell_type": "markdown",
   "id": "interim-violence",
   "metadata": {},
   "source": [
    "## Random Forest with Oversampling"
   ]
  },
  {
   "cell_type": "code",
   "execution_count": 48,
   "id": "particular-nerve",
   "metadata": {
    "ExecuteTime": {
     "end_time": "2021-05-25T14:06:07.335372Z",
     "start_time": "2021-05-25T14:06:06.079667Z"
    }
   },
   "outputs": [
    {
     "data": {
      "text/plain": [
       "accuracy    0.960000\n",
       "f1          0.959596\n",
       "roc_auc     1.000000\n",
       "dtype: float64"
      ]
     },
     "execution_count": 48,
     "metadata": {},
     "output_type": "execute_result"
    }
   ],
   "source": [
    "scores = pd.DataFrame()\n",
    "np.random.seed(1772023)\n",
    "for scoring in ['accuracy','f1','roc_auc']:\n",
    "    scores[scoring] = cross_val_score(rf, \n",
    "                                      X_train_sm, \n",
    "                                      y_train_sm, \n",
    "                                      scoring=scoring, \n",
    "                                      cv=cv, n_jobs=-1)\n",
    "scores.mean()"
   ]
  },
  {
   "cell_type": "markdown",
   "id": "treated-comparison",
   "metadata": {},
   "source": [
    "## Logistic Regression with Oversampling"
   ]
  },
  {
   "cell_type": "code",
   "execution_count": 49,
   "id": "hundred-classification",
   "metadata": {
    "ExecuteTime": {
     "end_time": "2021-05-25T14:06:07.435694Z",
     "start_time": "2021-05-25T14:06:07.335372Z"
    }
   },
   "outputs": [
    {
     "data": {
      "text/plain": [
       "accuracy    0.980000\n",
       "f1          0.981818\n",
       "roc_auc     1.000000\n",
       "dtype: float64"
      ]
     },
     "execution_count": 49,
     "metadata": {},
     "output_type": "execute_result"
    }
   ],
   "source": [
    "scores = pd.DataFrame()\n",
    "np.random.seed(1772023)\n",
    "for scoring in ['accuracy','f1','roc_auc']:\n",
    "    scores[scoring] = cross_val_score(lr,\n",
    "                                      X_train_sm,\n",
    "                                      y_train_sm, \n",
    "                                      scoring=scoring, \n",
    "                                      cv=cv, n_jobs=-1)\n",
    "scores.mean()"
   ]
  },
  {
   "cell_type": "markdown",
   "id": "norman-young",
   "metadata": {},
   "source": [
    "Pada hasil pemodelan antara Random Forest dan Logistic Regression menggunakan data yang telah dilakukan oversampling memperlihatkan bahwa secara akurasi dan skor f1 Logistic Regression lebih unggul dibandingkan Random Forest.\n",
    "\n",
    "Skor Akurasi lebih baik digunakan ketika kita ingin memfokuskan pemodelan dengan prediksi nilai True Positive dan True Negative maupun jika target kelas pada dataset seimbang, sedangkan F1-Score lebih baik digunakan untuk mengevaluasi model dengan target kelas dataset yang tidak seimbang"
   ]
  },
  {
   "cell_type": "markdown",
   "id": "suited-upset",
   "metadata": {},
   "source": [
    "## Feature Importances & Coefficients "
   ]
  },
  {
   "cell_type": "code",
   "execution_count": 50,
   "id": "stable-oriental",
   "metadata": {
    "ExecuteTime": {
     "end_time": "2021-05-25T14:06:07.836747Z",
     "start_time": "2021-05-25T14:06:07.435694Z"
    }
   },
   "outputs": [],
   "source": [
    "np.random.seed(1772023)\n",
    "rf_model = rf.fit(X_train, y_train)\n",
    "lr_model = lr.fit(X_train,y_train)\n",
    "\n",
    "# model with oversampled dataset\n",
    "rf_sm_model = rf.fit(X_train_sm, y_train_sm)\n",
    "lr_sm_model = lr.fit(X_train_sm, y_train_sm)"
   ]
  },
  {
   "cell_type": "markdown",
   "id": "refined-investigator",
   "metadata": {},
   "source": [
    "### Random Forest Feature Importances\n",
    "\n",
    "Semakin besar nilai pada suatu fitur maka fitur tersebut semakin mempunyai pengaruh penting terhadap prediksi yang dilakukan model"
   ]
  },
  {
   "cell_type": "code",
   "execution_count": 51,
   "id": "touched-animal",
   "metadata": {
    "ExecuteTime": {
     "end_time": "2021-05-25T14:06:08.200097Z",
     "start_time": "2021-05-25T14:06:07.836747Z"
    }
   },
   "outputs": [
    {
     "data": {
      "text/plain": [
       "Text(0.5, 1.0, 'Random Forest Feature Importances')"
      ]
     },
     "execution_count": 51,
     "metadata": {},
     "output_type": "execute_result"
    },
    {
     "data": {
      "image/png": "[encoded data removed]",
      "text/plain": [
       "<Figure size 432x288 with 1 Axes>"
      ]
     },
     "metadata": {
      "needs_background": "light"
     },
     "output_type": "display_data"
    }
   ],
   "source": [
    "rf_fi = pd.DataFrame({\"Feature\":X.columns,\n",
    "                  \"Score\":rf_sm_model.feature_importances_})\n",
    "\n",
    "sns.barplot(data=rf_fi,\n",
    "            x=\"Score\",\n",
    "            y=\"Feature\",\n",
    "            order=rf_fi.sort_values(by=\"Score\",ascending=False).Feature)\n",
    "plt.title(\"Random Forest Feature Importances\")"
   ]
  },
  {
   "cell_type": "code",
   "execution_count": 52,
   "id": "fitted-mechanics",
   "metadata": {
    "ExecuteTime": {
     "end_time": "2021-05-25T14:06:08.215731Z",
     "start_time": "2021-05-25T14:06:08.200097Z"
    }
   },
   "outputs": [
    {
     "data": {
      "text/html": [
       "<div>\n",
       "<style scoped>\n",
       "    .dataframe tbody tr th:only-of-type {\n",
       "        vertical-align: middle;\n",
       "    }\n",
       "\n",
       "    .dataframe tbody tr th {\n",
       "        vertical-align: top;\n",
       "    }\n",
       "\n",
       "    .dataframe thead th {\n",
       "        text-align: right;\n",
       "    }\n",
       "</style>\n",
       "<table border=\"1\" class=\"dataframe\">\n",
       "  <thead>\n",
       "    <tr style=\"text-align: right;\">\n",
       "      <th></th>\n",
       "      <th>Feature</th>\n",
       "      <th>Score</th>\n",
       "    </tr>\n",
       "  </thead>\n",
       "  <tbody>\n",
       "    <tr>\n",
       "      <th>14</th>\n",
       "      <td>attacker_commander_count</td>\n",
       "      <td>0.389246</td>\n",
       "    </tr>\n",
       "    <tr>\n",
       "      <th>7</th>\n",
       "      <td>attacker_size</td>\n",
       "      <td>0.202693</td>\n",
       "    </tr>\n",
       "    <tr>\n",
       "      <th>15</th>\n",
       "      <td>defender_commander_count</td>\n",
       "      <td>0.132379</td>\n",
       "    </tr>\n",
       "    <tr>\n",
       "      <th>5</th>\n",
       "      <td>major_death</td>\n",
       "      <td>0.073968</td>\n",
       "    </tr>\n",
       "    <tr>\n",
       "      <th>10</th>\n",
       "      <td>location</td>\n",
       "      <td>0.065466</td>\n",
       "    </tr>\n",
       "    <tr>\n",
       "      <th>11</th>\n",
       "      <td>region</td>\n",
       "      <td>0.044452</td>\n",
       "    </tr>\n",
       "    <tr>\n",
       "      <th>8</th>\n",
       "      <td>defender_size</td>\n",
       "      <td>0.028504</td>\n",
       "    </tr>\n",
       "    <tr>\n",
       "      <th>0</th>\n",
       "      <td>attacker_king</td>\n",
       "      <td>0.017949</td>\n",
       "    </tr>\n",
       "    <tr>\n",
       "      <th>12</th>\n",
       "      <td>attacker_count</td>\n",
       "      <td>0.009969</td>\n",
       "    </tr>\n",
       "    <tr>\n",
       "      <th>4</th>\n",
       "      <td>battle_type</td>\n",
       "      <td>0.008906</td>\n",
       "    </tr>\n",
       "  </tbody>\n",
       "</table>\n",
       "</div>"
      ],
      "text/plain": [
       "                     Feature     Score\n",
       "14  attacker_commander_count  0.389246\n",
       "7              attacker_size  0.202693\n",
       "15  defender_commander_count  0.132379\n",
       "5                major_death  0.073968\n",
       "10                  location  0.065466\n",
       "11                    region  0.044452\n",
       "8              defender_size  0.028504\n",
       "0              attacker_king  0.017949\n",
       "12            attacker_count  0.009969\n",
       "4                battle_type  0.008906"
      ]
     },
     "execution_count": 52,
     "metadata": {},
     "output_type": "execute_result"
    }
   ],
   "source": [
    "rf_fi.sort_values(by=\"Score\",ascending=False).head(10)"
   ]
  },
  {
   "cell_type": "markdown",
   "id": "composite-piano",
   "metadata": {},
   "source": [
    "### Logistic Regression Coefficients \n"
   ]
  },
  {
   "cell_type": "code",
   "execution_count": 53,
   "id": "focal-scientist",
   "metadata": {
    "ExecuteTime": {
     "end_time": "2021-05-25T14:06:08.770323Z",
     "start_time": "2021-05-25T14:06:08.215731Z"
    }
   },
   "outputs": [
    {
     "data": {
      "text/plain": [
       "Text(0.5, 1.0, 'Logistic Regression Coefficients')"
      ]
     },
     "execution_count": 53,
     "metadata": {},
     "output_type": "execute_result"
    },
    {
     "data": {
      "image/png": "[encoded data removed]",
      "text/plain": [
       "<Figure size 432x288 with 1 Axes>"
      ]
     },
     "metadata": {
      "needs_background": "light"
     },
     "output_type": "display_data"
    }
   ],
   "source": [
    "lr_fi = pd.DataFrame({\"Feature\":X.columns,\n",
    "                  \"Score\":(lr_sm_model.coef_[0])})\n",
    "\n",
    "sns.barplot(data=lr_fi,\n",
    "            x=\"Score\",\n",
    "            y=\"Feature\",\n",
    "            order=lr_fi.sort_values(by=\"Score\",ascending=False).Feature)\n",
    "plt.title(\"Logistic Regression Coefficients\")"
   ]
  },
  {
   "cell_type": "code",
   "execution_count": 63,
   "id": "searching-angola",
   "metadata": {
    "ExecuteTime": {
     "end_time": "2021-05-25T14:06:54.983832Z",
     "start_time": "2021-05-25T14:06:54.952573Z"
    },
    "scrolled": true
   },
   "outputs": [
    {
     "data": {
      "text/html": [
       "<div>\n",
       "<style scoped>\n",
       "    .dataframe tbody tr th:only-of-type {\n",
       "        vertical-align: middle;\n",
       "    }\n",
       "\n",
       "    .dataframe tbody tr th {\n",
       "        vertical-align: top;\n",
       "    }\n",
       "\n",
       "    .dataframe thead th {\n",
       "        text-align: right;\n",
       "    }\n",
       "</style>\n",
       "<table border=\"1\" class=\"dataframe\">\n",
       "  <thead>\n",
       "    <tr style=\"text-align: right;\">\n",
       "      <th></th>\n",
       "      <th>Feature</th>\n",
       "      <th>Score</th>\n",
       "    </tr>\n",
       "  </thead>\n",
       "  <tbody>\n",
       "    <tr>\n",
       "      <th>11</th>\n",
       "      <td>region</td>\n",
       "      <td>0.712785</td>\n",
       "    </tr>\n",
       "    <tr>\n",
       "      <th>10</th>\n",
       "      <td>location</td>\n",
       "      <td>0.615409</td>\n",
       "    </tr>\n",
       "    <tr>\n",
       "      <th>12</th>\n",
       "      <td>attacker_count</td>\n",
       "      <td>0.586209</td>\n",
       "    </tr>\n",
       "    <tr>\n",
       "      <th>6</th>\n",
       "      <td>major_capture</td>\n",
       "      <td>0.236514</td>\n",
       "    </tr>\n",
       "    <tr>\n",
       "      <th>1</th>\n",
       "      <td>defender_king</td>\n",
       "      <td>0.062163</td>\n",
       "    </tr>\n",
       "    <tr>\n",
       "      <th>4</th>\n",
       "      <td>battle_type</td>\n",
       "      <td>-0.050068</td>\n",
       "    </tr>\n",
       "    <tr>\n",
       "      <th>13</th>\n",
       "      <td>defender_count</td>\n",
       "      <td>-0.052609</td>\n",
       "    </tr>\n",
       "    <tr>\n",
       "      <th>3</th>\n",
       "      <td>defender_1</td>\n",
       "      <td>-0.056703</td>\n",
       "    </tr>\n",
       "    <tr>\n",
       "      <th>0</th>\n",
       "      <td>attacker_king</td>\n",
       "      <td>-0.221464</td>\n",
       "    </tr>\n",
       "    <tr>\n",
       "      <th>9</th>\n",
       "      <td>summer</td>\n",
       "      <td>-0.268198</td>\n",
       "    </tr>\n",
       "    <tr>\n",
       "      <th>8</th>\n",
       "      <td>defender_size</td>\n",
       "      <td>-0.312643</td>\n",
       "    </tr>\n",
       "    <tr>\n",
       "      <th>2</th>\n",
       "      <td>attacker_1</td>\n",
       "      <td>-0.314401</td>\n",
       "    </tr>\n",
       "    <tr>\n",
       "      <th>7</th>\n",
       "      <td>attacker_size</td>\n",
       "      <td>-0.462977</td>\n",
       "    </tr>\n",
       "    <tr>\n",
       "      <th>5</th>\n",
       "      <td>major_death</td>\n",
       "      <td>-0.468265</td>\n",
       "    </tr>\n",
       "    <tr>\n",
       "      <th>15</th>\n",
       "      <td>defender_commander_count</td>\n",
       "      <td>-0.719559</td>\n",
       "    </tr>\n",
       "    <tr>\n",
       "      <th>14</th>\n",
       "      <td>attacker_commander_count</td>\n",
       "      <td>-1.472369</td>\n",
       "    </tr>\n",
       "  </tbody>\n",
       "</table>\n",
       "</div>"
      ],
      "text/plain": [
       "                     Feature     Score\n",
       "11                    region  0.712785\n",
       "10                  location  0.615409\n",
       "12            attacker_count  0.586209\n",
       "6              major_capture  0.236514\n",
       "1              defender_king  0.062163\n",
       "4                battle_type -0.050068\n",
       "13            defender_count -0.052609\n",
       "3                 defender_1 -0.056703\n",
       "0              attacker_king -0.221464\n",
       "9                     summer -0.268198\n",
       "8              defender_size -0.312643\n",
       "2                 attacker_1 -0.314401\n",
       "7              attacker_size -0.462977\n",
       "5                major_death -0.468265\n",
       "15  defender_commander_count -0.719559\n",
       "14  attacker_commander_count -1.472369"
      ]
     },
     "execution_count": 63,
     "metadata": {},
     "output_type": "execute_result"
    }
   ],
   "source": [
    "lr_fi.sort_values(by=\"Score\",ascending=False)"
   ]
  },
  {
   "cell_type": "markdown",
   "id": "active-greek",
   "metadata": {},
   "source": [
    "# Model Evaluation"
   ]
  },
  {
   "cell_type": "markdown",
   "id": "grave-canal",
   "metadata": {},
   "source": [
    "## Random Forest"
   ]
  },
  {
   "cell_type": "code",
   "execution_count": 55,
   "id": "administrative-syntax",
   "metadata": {
    "ExecuteTime": {
     "end_time": "2021-05-25T14:06:08.917709Z",
     "start_time": "2021-05-25T14:06:08.785902Z"
    }
   },
   "outputs": [
    {
     "name": "stdout",
     "output_type": "stream",
     "text": [
      "              precision    recall  f1-score   support\n",
      "\n",
      "           0       1.00      1.00      1.00         1\n",
      "           1       1.00      1.00      1.00         9\n",
      "\n",
      "    accuracy                           1.00        10\n",
      "   macro avg       1.00      1.00      1.00        10\n",
      "weighted avg       1.00      1.00      1.00        10\n",
      "\n"
     ]
    }
   ],
   "source": [
    "from sklearn.metrics import classification_report\n",
    "np.random.seed(1772023)\n",
    "y_preds = rf_model.predict(X_test)\n",
    "report = classification_report(y_test, y_preds)\n",
    "\n",
    "print(report)"
   ]
  },
  {
   "cell_type": "code",
   "execution_count": 56,
   "id": "simple-imaging",
   "metadata": {
    "ExecuteTime": {
     "end_time": "2021-05-25T14:06:09.340198Z",
     "start_time": "2021-05-25T14:06:08.917709Z"
    }
   },
   "outputs": [
    {
     "data": {
      "text/plain": [
       "<sklearn.metrics._plot.confusion_matrix.ConfusionMatrixDisplay at 0x16ffbd78940>"
      ]
     },
     "execution_count": 56,
     "metadata": {},
     "output_type": "execute_result"
    },
    {
     "data": {
      "image/png": "[encoded data removed]",
      "text/plain": [
       "<Figure size 432x288 with 2 Axes>"
      ]
     },
     "metadata": {
      "needs_background": "light"
     },
     "output_type": "display_data"
    }
   ],
   "source": [
    "from sklearn.metrics import plot_confusion_matrix,roc_curve\n",
    "plot_confusion_matrix(rf_model,X_test,y_test) "
   ]
  },
  {
   "cell_type": "markdown",
   "id": "moderate-lithuania",
   "metadata": {},
   "source": [
    "## Logistic Regression"
   ]
  },
  {
   "cell_type": "code",
   "execution_count": 57,
   "id": "guided-dancing",
   "metadata": {
    "ExecuteTime": {
     "end_time": "2021-05-25T14:06:09.371452Z",
     "start_time": "2021-05-25T14:06:09.340198Z"
    }
   },
   "outputs": [
    {
     "name": "stdout",
     "output_type": "stream",
     "text": [
      "              precision    recall  f1-score   support\n",
      "\n",
      "           0       1.00      1.00      1.00         1\n",
      "           1       1.00      1.00      1.00         9\n",
      "\n",
      "    accuracy                           1.00        10\n",
      "   macro avg       1.00      1.00      1.00        10\n",
      "weighted avg       1.00      1.00      1.00        10\n",
      "\n"
     ]
    }
   ],
   "source": [
    "from sklearn.metrics import classification_report\n",
    "np.random.seed(1772023)\n",
    "y_preds = lr_model.predict(X_test)\n",
    "report = classification_report(y_test, y_preds)\n",
    "\n",
    "print(report)"
   ]
  },
  {
   "cell_type": "code",
   "execution_count": 58,
   "id": "apparent-community",
   "metadata": {
    "ExecuteTime": {
     "end_time": "2021-05-25T14:06:09.703595Z",
     "start_time": "2021-05-25T14:06:09.371452Z"
    }
   },
   "outputs": [
    {
     "data": {
      "text/plain": [
       "<sklearn.metrics._plot.confusion_matrix.ConfusionMatrixDisplay at 0x16ffbd839d0>"
      ]
     },
     "execution_count": 58,
     "metadata": {},
     "output_type": "execute_result"
    },
    {
     "data": {
      "image/png": "[encoded data removed]",
      "text/plain": [
       "<Figure size 432x288 with 2 Axes>"
      ]
     },
     "metadata": {
      "needs_background": "light"
     },
     "output_type": "display_data"
    }
   ],
   "source": [
    "from sklearn.metrics import plot_confusion_matrix,roc_curve\n",
    "plot_confusion_matrix(lr_model,X_test,y_test) "
   ]
  },
  {
   "cell_type": "markdown",
   "id": "honest-mattress",
   "metadata": {},
   "source": [
    "## Random Forest with Oversampling"
   ]
  },
  {
   "cell_type": "code",
   "execution_count": 59,
   "id": "lesser-puppy",
   "metadata": {
    "ExecuteTime": {
     "end_time": "2021-05-25T14:06:09.741229Z",
     "start_time": "2021-05-25T14:06:09.703595Z"
    }
   },
   "outputs": [
    {
     "name": "stdout",
     "output_type": "stream",
     "text": [
      "              precision    recall  f1-score   support\n",
      "\n",
      "           0       1.00      1.00      1.00         9\n",
      "           1       1.00      1.00      1.00         8\n",
      "\n",
      "    accuracy                           1.00        17\n",
      "   macro avg       1.00      1.00      1.00        17\n",
      "weighted avg       1.00      1.00      1.00        17\n",
      "\n"
     ]
    }
   ],
   "source": [
    "np.random.seed(1772023)\n",
    "y_preds = rf_sm_model.predict(X_test_sm)\n",
    "report = classification_report(y_test_sm, y_preds)\n",
    "\n",
    "print(report)"
   ]
  },
  {
   "cell_type": "code",
   "execution_count": 60,
   "id": "sustained-curve",
   "metadata": {
    "ExecuteTime": {
     "end_time": "2021-05-25T14:06:10.088527Z",
     "start_time": "2021-05-25T14:06:09.741229Z"
    }
   },
   "outputs": [
    {
     "data": {
      "text/plain": [
       "<sklearn.metrics._plot.confusion_matrix.ConfusionMatrixDisplay at 0x16ffbc41e20>"
      ]
     },
     "execution_count": 60,
     "metadata": {},
     "output_type": "execute_result"
    },
    {
     "data": {
      "image/png": "[encoded data removed]",
      "text/plain": [
       "<Figure size 432x288 with 2 Axes>"
      ]
     },
     "metadata": {
      "needs_background": "light"
     },
     "output_type": "display_data"
    }
   ],
   "source": [
    "from sklearn.metrics import plot_confusion_matrix,roc_curve\n",
    "plot_confusion_matrix(rf_sm_model,X_test_sm,y_test_sm) "
   ]
  },
  {
   "cell_type": "markdown",
   "id": "affected-thousand",
   "metadata": {},
   "source": [
    "## Logistic Regression with Oversampling"
   ]
  },
  {
   "cell_type": "code",
   "execution_count": 61,
   "id": "documented-grade",
   "metadata": {
    "ExecuteTime": {
     "end_time": "2021-05-25T14:06:10.119776Z",
     "start_time": "2021-05-25T14:06:10.088527Z"
    }
   },
   "outputs": [
    {
     "name": "stdout",
     "output_type": "stream",
     "text": [
      "              precision    recall  f1-score   support\n",
      "\n",
      "           0       1.00      1.00      1.00         9\n",
      "           1       1.00      1.00      1.00         8\n",
      "\n",
      "    accuracy                           1.00        17\n",
      "   macro avg       1.00      1.00      1.00        17\n",
      "weighted avg       1.00      1.00      1.00        17\n",
      "\n"
     ]
    }
   ],
   "source": [
    "np.random.seed(1772023)\n",
    "y_preds = lr_sm_model.predict(X_test_sm)\n",
    "report = classification_report(y_test_sm, y_preds)\n",
    "\n",
    "print(report)"
   ]
  },
  {
   "cell_type": "code",
   "execution_count": 62,
   "id": "scientific-writing",
   "metadata": {
    "ExecuteTime": {
     "end_time": "2021-05-25T14:06:10.420191Z",
     "start_time": "2021-05-25T14:06:10.126289Z"
    }
   },
   "outputs": [
    {
     "data": {
      "text/plain": [
       "<sklearn.metrics._plot.confusion_matrix.ConfusionMatrixDisplay at 0x16ffbf1ed60>"
      ]
     },
     "execution_count": 62,
     "metadata": {},
     "output_type": "execute_result"
    },
    {
     "data": {
      "image/png": "[encoded data removed]",
      "text/plain": [
       "<Figure size 432x288 with 2 Axes>"
      ]
     },
     "metadata": {
      "needs_background": "light"
     },
     "output_type": "display_data"
    }
   ],
   "source": [
    "from sklearn.metrics import plot_confusion_matrix,roc_curve\n",
    "plot_confusion_matrix(lr_sm_model,X_test_sm,y_test_sm) "
   ]
  }
 ],
 "metadata": {
  "kernelspec": {
   "display_name": "Python 3",
   "language": "python",
   "name": "python3"
  },
  "language_info": {
   "codemirror_mode": {
    "name": "ipython",
    "version": 3
   },
   "file_extension": ".py",
   "mimetype": "text/x-python",
   "name": "python",
   "nbconvert_exporter": "python",
   "pygments_lexer": "ipython3",
   "version": "3.8.5"
  },
  "toc": {
   "base_numbering": 1,
   "nav_menu": {},
   "number_sections": true,
   "sideBar": true,
   "skip_h1_title": false,
   "title_cell": "Table of Contents",
   "title_sidebar": "Contents",
   "toc_cell": false,
   "toc_position": {
    "height": "calc(100% - 180px)",
    "left": "10px",
    "top": "150px",
    "width": "269px"
   },
   "toc_section_display": true,
   "toc_window_display": true
  }
 },
 "nbformat": 4,
 "nbformat_minor": 5
}
